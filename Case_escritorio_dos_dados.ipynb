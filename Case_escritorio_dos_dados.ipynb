{
 "cells": [
  {
   "cell_type": "code",
   "execution_count": 3,
   "metadata": {},
   "outputs": [],
   "source": [
    "# IMPORTAÇÃO DA LIBS PARA ETL \n",
    "import basedosdados as bd\n",
    "import pandas as pd \n",
    "import numpy as np "
   ]
  },
  {
   "cell_type": "code",
   "execution_count": 12,
   "metadata": {},
   "outputs": [
    {
     "data": {
      "text/html": [
       "        <script type=\"text/javascript\">\n",
       "        window.PlotlyConfig = {MathJaxConfig: 'local'};\n",
       "        if (window.MathJax && window.MathJax.Hub && window.MathJax.Hub.Config) {window.MathJax.Hub.Config({SVG: {font: \"STIX-Web\"}});}\n",
       "        if (typeof require !== 'undefined') {\n",
       "        require.undef(\"plotly\");\n",
       "        requirejs.config({\n",
       "            paths: {\n",
       "                'plotly': ['https://cdn.plot.ly/plotly-2.12.1.min']\n",
       "            }\n",
       "        });\n",
       "        require(['plotly'], function(Plotly) {\n",
       "            window._Plotly = Plotly;\n",
       "        });\n",
       "        }\n",
       "        </script>\n",
       "        "
      ]
     },
     "metadata": {},
     "output_type": "display_data"
    }
   ],
   "source": [
    "## IMPORTAÇÃO PARA A ANALISE GRAFICA DOS DADOS\n",
    "import matplotlib.pyplot as plt\n",
    "import plotly.graph_objects as go\n",
    "import plotly.express as px\n",
    "import plotly.offline as py\n",
    "py.init_notebook_mode(connected=True)\n",
    "import seaborn as sns\n",
    "from pandas_profiling import ProfileReport\n",
    "import folium \n",
    "import seaborn as sbn\n",
    "from folium.plugins import HeatMap\n",
    "from folium import plugins"
   ]
  },
  {
   "cell_type": "code",
   "execution_count": 5,
   "metadata": {},
   "outputs": [
    {
     "name": "stderr",
     "output_type": "stream",
     "text": [
      "Downloading: 100%|██████████| 72/72 [00:00<00:00, 171.08rows/s]\n"
     ]
    }
   ],
   "source": [
    "df = bd.read_sql(\n",
    "    '''\n",
    "    SELECT chmd.data_inicio, chmd.nome_unidade_organizacional, chmd.categoria, chmd.tipo, chmd.situacao,chmd.id_bairro, chmd.subtipo, br.nome as bairro, br.subprefeitura, chmd.latitude,chmd.longitude\n",
    "    FROM datario.administracao_servicos_publicos.chamado_1746 chmd \n",
    "    INNER JOIN datario.dados_mestres.bairro br ON br.id_bairro = chmd.id_bairro\n",
    "    WHERE DATE(data_inicio) = DATE('2023-04-01');\n",
    "    ''',\n",
    "    billing_project_id='case-escritorio-de-dados'\n",
    ")"
   ]
  },
  {
   "cell_type": "code",
   "execution_count": 6,
   "metadata": {},
   "outputs": [
    {
     "data": {
      "text/html": [
       "<div>\n",
       "<style scoped>\n",
       "    .dataframe tbody tr th:only-of-type {\n",
       "        vertical-align: middle;\n",
       "    }\n",
       "\n",
       "    .dataframe tbody tr th {\n",
       "        vertical-align: top;\n",
       "    }\n",
       "\n",
       "    .dataframe thead th {\n",
       "        text-align: right;\n",
       "    }\n",
       "</style>\n",
       "<table border=\"1\" class=\"dataframe\">\n",
       "  <thead>\n",
       "    <tr style=\"text-align: right;\">\n",
       "      <th></th>\n",
       "      <th>data_inicio</th>\n",
       "      <th>nome_unidade_organizacional</th>\n",
       "      <th>categoria</th>\n",
       "      <th>tipo</th>\n",
       "      <th>situacao</th>\n",
       "      <th>id_bairro</th>\n",
       "      <th>subtipo</th>\n",
       "      <th>bairro</th>\n",
       "      <th>subprefeitura</th>\n",
       "      <th>latitude</th>\n",
       "      <th>longitude</th>\n",
       "    </tr>\n",
       "  </thead>\n",
       "  <tbody>\n",
       "    <tr>\n",
       "      <th>0</th>\n",
       "      <td>2023-04-01 01:08:04</td>\n",
       "      <td>GM-RIO - Guarda Municipal do Rio de Janeiro</td>\n",
       "      <td>Serviço</td>\n",
       "      <td>Estacionamento Irregular</td>\n",
       "      <td>Encerrado</td>\n",
       "      <td>1</td>\n",
       "      <td>Fiscalização de estacionamento irregular de ve...</td>\n",
       "      <td>Saúde</td>\n",
       "      <td>Centro</td>\n",
       "      <td>NaN</td>\n",
       "      <td>NaN</td>\n",
       "    </tr>\n",
       "    <tr>\n",
       "      <th>1</th>\n",
       "      <td>2023-04-01 00:04:59</td>\n",
       "      <td>CCU - 1º Serviço de Fiscalização</td>\n",
       "      <td>Serviço</td>\n",
       "      <td>Comércio ambulante</td>\n",
       "      <td>Não Encerrado</td>\n",
       "      <td>14</td>\n",
       "      <td>Fiscalização de comércio ambulante</td>\n",
       "      <td>Santa Teresa</td>\n",
       "      <td>Centro</td>\n",
       "      <td>-22.921335</td>\n",
       "      <td>-43.186679</td>\n",
       "    </tr>\n",
       "    <tr>\n",
       "      <th>2</th>\n",
       "      <td>2023-04-01 00:38:22</td>\n",
       "      <td>CFE - Coordenação de Feiras</td>\n",
       "      <td>Serviço</td>\n",
       "      <td>Feiras</td>\n",
       "      <td>Não Encerrado</td>\n",
       "      <td>5</td>\n",
       "      <td>Fiscalização/Inspeção de feira livre, feira de...</td>\n",
       "      <td>Centro</td>\n",
       "      <td>Centro</td>\n",
       "      <td>-22.912229</td>\n",
       "      <td>-43.188253</td>\n",
       "    </tr>\n",
       "    <tr>\n",
       "      <th>3</th>\n",
       "      <td>2023-04-01 00:14:00</td>\n",
       "      <td>CLF - Coordenadoria de Licenciamento e Fiscali...</td>\n",
       "      <td>Serviço</td>\n",
       "      <td>Ocupação de área pública</td>\n",
       "      <td>Não Encerrado</td>\n",
       "      <td>14</td>\n",
       "      <td>Fiscalização da ocupação de área pública por m...</td>\n",
       "      <td>Santa Teresa</td>\n",
       "      <td>Centro</td>\n",
       "      <td>-22.921123</td>\n",
       "      <td>-43.187288</td>\n",
       "    </tr>\n",
       "    <tr>\n",
       "      <th>4</th>\n",
       "      <td>2023-04-01 00:08:57</td>\n",
       "      <td>GM-RIO - Guarda Municipal do Rio de Janeiro</td>\n",
       "      <td>Serviço</td>\n",
       "      <td>Poluição sonora</td>\n",
       "      <td>Não Encerrado</td>\n",
       "      <td>14</td>\n",
       "      <td>Perturbação do sossego</td>\n",
       "      <td>Santa Teresa</td>\n",
       "      <td>Centro</td>\n",
       "      <td>-22.921276</td>\n",
       "      <td>-43.186388</td>\n",
       "    </tr>\n",
       "    <tr>\n",
       "      <th>...</th>\n",
       "      <td>...</td>\n",
       "      <td>...</td>\n",
       "      <td>...</td>\n",
       "      <td>...</td>\n",
       "      <td>...</td>\n",
       "      <td>...</td>\n",
       "      <td>...</td>\n",
       "      <td>...</td>\n",
       "      <td>...</td>\n",
       "      <td>...</td>\n",
       "      <td>...</td>\n",
       "    </tr>\n",
       "    <tr>\n",
       "      <th>67</th>\n",
       "      <td>2023-04-01 00:59:40</td>\n",
       "      <td>GM-RIO - Guarda Municipal do Rio de Janeiro</td>\n",
       "      <td>Serviço</td>\n",
       "      <td>Poluição sonora</td>\n",
       "      <td>Não Encerrado</td>\n",
       "      <td>144</td>\n",
       "      <td>Perturbação do sossego</td>\n",
       "      <td>Campo Grande</td>\n",
       "      <td>Zona Oeste</td>\n",
       "      <td>-22.879665</td>\n",
       "      <td>-43.563247</td>\n",
       "    </tr>\n",
       "    <tr>\n",
       "      <th>68</th>\n",
       "      <td>2023-04-01 00:07:07</td>\n",
       "      <td>GM-RIO - Guarda Municipal do Rio de Janeiro</td>\n",
       "      <td>Serviço</td>\n",
       "      <td>Poluição sonora</td>\n",
       "      <td>Não Encerrado</td>\n",
       "      <td>145</td>\n",
       "      <td>Perturbação do sossego</td>\n",
       "      <td>Senador Vasconcelos</td>\n",
       "      <td>Zona Oeste</td>\n",
       "      <td>-22.891154</td>\n",
       "      <td>-43.537462</td>\n",
       "    </tr>\n",
       "    <tr>\n",
       "      <th>69</th>\n",
       "      <td>2023-04-01 00:13:28</td>\n",
       "      <td>COMLURB - Companhia Municipal de Limpeza Urbana</td>\n",
       "      <td>Serviço</td>\n",
       "      <td>Manejo Arbóreo</td>\n",
       "      <td>Não Encerrado</td>\n",
       "      <td>144</td>\n",
       "      <td>Poda de árvore em logradouro</td>\n",
       "      <td>Campo Grande</td>\n",
       "      <td>Zona Oeste</td>\n",
       "      <td>NaN</td>\n",
       "      <td>NaN</td>\n",
       "    </tr>\n",
       "    <tr>\n",
       "      <th>70</th>\n",
       "      <td>2023-04-01 00:14:51</td>\n",
       "      <td>GM-RIO - Guarda Municipal do Rio de Janeiro</td>\n",
       "      <td>Serviço</td>\n",
       "      <td>Poluição sonora</td>\n",
       "      <td>Não Encerrado</td>\n",
       "      <td>148</td>\n",
       "      <td>Perturbação do sossego</td>\n",
       "      <td>Paciência</td>\n",
       "      <td>Zona Oeste</td>\n",
       "      <td>NaN</td>\n",
       "      <td>NaN</td>\n",
       "    </tr>\n",
       "    <tr>\n",
       "      <th>71</th>\n",
       "      <td>2023-04-01 00:16:42</td>\n",
       "      <td>RIOLUZ - Companhia Municipal de Energia e Ilum...</td>\n",
       "      <td>Serviço</td>\n",
       "      <td>Iluminação Pública</td>\n",
       "      <td>Não Encerrado</td>\n",
       "      <td>148</td>\n",
       "      <td>Reparo de Luminária</td>\n",
       "      <td>Paciência</td>\n",
       "      <td>Zona Oeste</td>\n",
       "      <td>NaN</td>\n",
       "      <td>NaN</td>\n",
       "    </tr>\n",
       "  </tbody>\n",
       "</table>\n",
       "<p>72 rows × 11 columns</p>\n",
       "</div>"
      ],
      "text/plain": [
       "           data_inicio                        nome_unidade_organizacional  \\\n",
       "0  2023-04-01 01:08:04        GM-RIO - Guarda Municipal do Rio de Janeiro   \n",
       "1  2023-04-01 00:04:59                   CCU - 1º Serviço de Fiscalização   \n",
       "2  2023-04-01 00:38:22                        CFE - Coordenação de Feiras   \n",
       "3  2023-04-01 00:14:00  CLF - Coordenadoria de Licenciamento e Fiscali...   \n",
       "4  2023-04-01 00:08:57        GM-RIO - Guarda Municipal do Rio de Janeiro   \n",
       "..                 ...                                                ...   \n",
       "67 2023-04-01 00:59:40        GM-RIO - Guarda Municipal do Rio de Janeiro   \n",
       "68 2023-04-01 00:07:07        GM-RIO - Guarda Municipal do Rio de Janeiro   \n",
       "69 2023-04-01 00:13:28    COMLURB - Companhia Municipal de Limpeza Urbana   \n",
       "70 2023-04-01 00:14:51        GM-RIO - Guarda Municipal do Rio de Janeiro   \n",
       "71 2023-04-01 00:16:42  RIOLUZ - Companhia Municipal de Energia e Ilum...   \n",
       "\n",
       "   categoria                      tipo       situacao id_bairro  \\\n",
       "0    Serviço  Estacionamento Irregular      Encerrado         1   \n",
       "1    Serviço        Comércio ambulante  Não Encerrado        14   \n",
       "2    Serviço                    Feiras  Não Encerrado         5   \n",
       "3    Serviço  Ocupação de área pública  Não Encerrado        14   \n",
       "4    Serviço           Poluição sonora  Não Encerrado        14   \n",
       "..       ...                       ...            ...       ...   \n",
       "67   Serviço           Poluição sonora  Não Encerrado       144   \n",
       "68   Serviço           Poluição sonora  Não Encerrado       145   \n",
       "69   Serviço            Manejo Arbóreo  Não Encerrado       144   \n",
       "70   Serviço           Poluição sonora  Não Encerrado       148   \n",
       "71   Serviço        Iluminação Pública  Não Encerrado       148   \n",
       "\n",
       "                                              subtipo               bairro  \\\n",
       "0   Fiscalização de estacionamento irregular de ve...                Saúde   \n",
       "1                  Fiscalização de comércio ambulante         Santa Teresa   \n",
       "2   Fiscalização/Inspeção de feira livre, feira de...               Centro   \n",
       "3   Fiscalização da ocupação de área pública por m...         Santa Teresa   \n",
       "4                              Perturbação do sossego         Santa Teresa   \n",
       "..                                                ...                  ...   \n",
       "67                             Perturbação do sossego         Campo Grande   \n",
       "68                             Perturbação do sossego  Senador Vasconcelos   \n",
       "69                       Poda de árvore em logradouro         Campo Grande   \n",
       "70                             Perturbação do sossego            Paciência   \n",
       "71                                Reparo de Luminária            Paciência   \n",
       "\n",
       "   subprefeitura   latitude  longitude  \n",
       "0         Centro        NaN        NaN  \n",
       "1         Centro -22.921335 -43.186679  \n",
       "2         Centro -22.912229 -43.188253  \n",
       "3         Centro -22.921123 -43.187288  \n",
       "4         Centro -22.921276 -43.186388  \n",
       "..           ...        ...        ...  \n",
       "67    Zona Oeste -22.879665 -43.563247  \n",
       "68    Zona Oeste -22.891154 -43.537462  \n",
       "69    Zona Oeste        NaN        NaN  \n",
       "70    Zona Oeste        NaN        NaN  \n",
       "71    Zona Oeste        NaN        NaN  \n",
       "\n",
       "[72 rows x 11 columns]"
      ]
     },
     "metadata": {},
     "output_type": "display_data"
    }
   ],
   "source": [
    "display(df)"
   ]
  },
  {
   "cell_type": "markdown",
   "metadata": {},
   "source": [
    "### 1) Quantos chamados foram abertos no dia 01/04/2023?"
   ]
  },
  {
   "cell_type": "code",
   "execution_count": 10,
   "metadata": {},
   "outputs": [
    {
     "name": "stdout",
     "output_type": "stream",
     "text": [
      "Os numeros de chamados abertos no dia 01-04-2023 foram 72 casos\n"
     ]
    }
   ],
   "source": [
    "print('Os numeros de chamados abertos no dia 01-04-2023 foram {} casos'.format(df['id_bairro'].count()))"
   ]
  },
  {
   "cell_type": "markdown",
   "metadata": {},
   "source": [
    "### 2) Qual o tipo de chamado que teve mais teve chamados abertos no dia 01/04/2023?"
   ]
  },
  {
   "cell_type": "code",
   "execution_count": 13,
   "metadata": {},
   "outputs": [
    {
     "data": {
      "application/vnd.plotly.v1+json": {
       "config": {
        "plotlyServerURL": "https://plot.ly"
       },
       "data": [
        {
         "alignmentgroup": "True",
         "bingroup": "x",
         "hovertemplate": "tipo=%{x}<br>count=%{y}<extra></extra>",
         "legendgroup": "",
         "marker": {
          "color": "#636efa",
          "pattern": {
           "shape": ""
          }
         },
         "name": "",
         "offsetgroup": "",
         "orientation": "v",
         "showlegend": false,
         "texttemplate": "%{value}",
         "type": "histogram",
         "x": [
          "Estacionamento Irregular",
          "Comércio ambulante",
          "Feiras",
          "Ocupação de área pública",
          "Poluição sonora",
          "Poluição sonora",
          "Poluição sonora",
          "Iluminação Pública",
          "Limpeza",
          "Remoção Gratuita",
          "Estacionamento Irregular",
          "Poluição sonora",
          "Poluição sonora",
          "Poluição sonora",
          "Poluição sonora",
          "Poluição sonora",
          "Poluição sonora",
          "Poluição sonora",
          "Poluição sonora",
          "Poluição sonora",
          "Poluição sonora",
          "Pavimentação",
          "Remoção Gratuita",
          "Postura Municipal",
          "Postura Municipal",
          "Iluminação Pública",
          "Pavimentação",
          "Limpeza",
          "Manejo Arbóreo",
          "Remoção Gratuita",
          "Remoção Gratuita",
          "Remoção Gratuita",
          "Estacionamento Irregular",
          "Estacionamento Irregular",
          "Poluição sonora",
          "Poluição sonora",
          "Poluição sonora",
          "Poluição sonora",
          "Poluição sonora",
          "Postura Municipal",
          "Postura Municipal",
          "Drenagem e Saneamento",
          "Comlurb - Vetores",
          "Comlurb - Vetores",
          "Fiscalização de obras",
          "Fiscalização de obras",
          "Poluição sonora",
          "Iluminação Pública",
          "Estacionamento Irregular",
          "Estacionamento Irregular",
          "Estacionamento Irregular",
          "Iluminação Pública",
          "Iluminação Pública",
          "Pavimentação",
          "Limpeza",
          "Programa Cegonha Carioca",
          "Poluição sonora",
          "Poluição sonora",
          "Iluminação Pública",
          "Estacionamento Irregular",
          "Estacionamento Irregular",
          "Iluminação Pública",
          "Semáforo",
          "Ocupação de área pública",
          "Ocupação de área pública",
          "Limpeza",
          "Limpeza",
          "Poluição sonora",
          "Poluição sonora",
          "Manejo Arbóreo",
          "Poluição sonora",
          "Iluminação Pública"
         ],
         "xaxis": "x",
         "yaxis": "y"
        }
       ],
       "layout": {
        "bargap": 0.2,
        "barmode": "group",
        "legend": {
         "tracegroupgap": 0
        },
        "margin": {
         "t": 60
        },
        "template": {
         "data": {
          "bar": [
           {
            "error_x": {
             "color": "#2a3f5f"
            },
            "error_y": {
             "color": "#2a3f5f"
            },
            "marker": {
             "line": {
              "color": "#E5ECF6",
              "width": 0.5
             },
             "pattern": {
              "fillmode": "overlay",
              "size": 10,
              "solidity": 0.2
             }
            },
            "type": "bar"
           }
          ],
          "barpolar": [
           {
            "marker": {
             "line": {
              "color": "#E5ECF6",
              "width": 0.5
             },
             "pattern": {
              "fillmode": "overlay",
              "size": 10,
              "solidity": 0.2
             }
            },
            "type": "barpolar"
           }
          ],
          "carpet": [
           {
            "aaxis": {
             "endlinecolor": "#2a3f5f",
             "gridcolor": "white",
             "linecolor": "white",
             "minorgridcolor": "white",
             "startlinecolor": "#2a3f5f"
            },
            "baxis": {
             "endlinecolor": "#2a3f5f",
             "gridcolor": "white",
             "linecolor": "white",
             "minorgridcolor": "white",
             "startlinecolor": "#2a3f5f"
            },
            "type": "carpet"
           }
          ],
          "choropleth": [
           {
            "colorbar": {
             "outlinewidth": 0,
             "ticks": ""
            },
            "type": "choropleth"
           }
          ],
          "contour": [
           {
            "colorbar": {
             "outlinewidth": 0,
             "ticks": ""
            },
            "colorscale": [
             [
              0,
              "#0d0887"
             ],
             [
              0.1111111111111111,
              "#46039f"
             ],
             [
              0.2222222222222222,
              "#7201a8"
             ],
             [
              0.3333333333333333,
              "#9c179e"
             ],
             [
              0.4444444444444444,
              "#bd3786"
             ],
             [
              0.5555555555555556,
              "#d8576b"
             ],
             [
              0.6666666666666666,
              "#ed7953"
             ],
             [
              0.7777777777777778,
              "#fb9f3a"
             ],
             [
              0.8888888888888888,
              "#fdca26"
             ],
             [
              1,
              "#f0f921"
             ]
            ],
            "type": "contour"
           }
          ],
          "contourcarpet": [
           {
            "colorbar": {
             "outlinewidth": 0,
             "ticks": ""
            },
            "type": "contourcarpet"
           }
          ],
          "heatmap": [
           {
            "colorbar": {
             "outlinewidth": 0,
             "ticks": ""
            },
            "colorscale": [
             [
              0,
              "#0d0887"
             ],
             [
              0.1111111111111111,
              "#46039f"
             ],
             [
              0.2222222222222222,
              "#7201a8"
             ],
             [
              0.3333333333333333,
              "#9c179e"
             ],
             [
              0.4444444444444444,
              "#bd3786"
             ],
             [
              0.5555555555555556,
              "#d8576b"
             ],
             [
              0.6666666666666666,
              "#ed7953"
             ],
             [
              0.7777777777777778,
              "#fb9f3a"
             ],
             [
              0.8888888888888888,
              "#fdca26"
             ],
             [
              1,
              "#f0f921"
             ]
            ],
            "type": "heatmap"
           }
          ],
          "heatmapgl": [
           {
            "colorbar": {
             "outlinewidth": 0,
             "ticks": ""
            },
            "colorscale": [
             [
              0,
              "#0d0887"
             ],
             [
              0.1111111111111111,
              "#46039f"
             ],
             [
              0.2222222222222222,
              "#7201a8"
             ],
             [
              0.3333333333333333,
              "#9c179e"
             ],
             [
              0.4444444444444444,
              "#bd3786"
             ],
             [
              0.5555555555555556,
              "#d8576b"
             ],
             [
              0.6666666666666666,
              "#ed7953"
             ],
             [
              0.7777777777777778,
              "#fb9f3a"
             ],
             [
              0.8888888888888888,
              "#fdca26"
             ],
             [
              1,
              "#f0f921"
             ]
            ],
            "type": "heatmapgl"
           }
          ],
          "histogram": [
           {
            "marker": {
             "pattern": {
              "fillmode": "overlay",
              "size": 10,
              "solidity": 0.2
             }
            },
            "type": "histogram"
           }
          ],
          "histogram2d": [
           {
            "colorbar": {
             "outlinewidth": 0,
             "ticks": ""
            },
            "colorscale": [
             [
              0,
              "#0d0887"
             ],
             [
              0.1111111111111111,
              "#46039f"
             ],
             [
              0.2222222222222222,
              "#7201a8"
             ],
             [
              0.3333333333333333,
              "#9c179e"
             ],
             [
              0.4444444444444444,
              "#bd3786"
             ],
             [
              0.5555555555555556,
              "#d8576b"
             ],
             [
              0.6666666666666666,
              "#ed7953"
             ],
             [
              0.7777777777777778,
              "#fb9f3a"
             ],
             [
              0.8888888888888888,
              "#fdca26"
             ],
             [
              1,
              "#f0f921"
             ]
            ],
            "type": "histogram2d"
           }
          ],
          "histogram2dcontour": [
           {
            "colorbar": {
             "outlinewidth": 0,
             "ticks": ""
            },
            "colorscale": [
             [
              0,
              "#0d0887"
             ],
             [
              0.1111111111111111,
              "#46039f"
             ],
             [
              0.2222222222222222,
              "#7201a8"
             ],
             [
              0.3333333333333333,
              "#9c179e"
             ],
             [
              0.4444444444444444,
              "#bd3786"
             ],
             [
              0.5555555555555556,
              "#d8576b"
             ],
             [
              0.6666666666666666,
              "#ed7953"
             ],
             [
              0.7777777777777778,
              "#fb9f3a"
             ],
             [
              0.8888888888888888,
              "#fdca26"
             ],
             [
              1,
              "#f0f921"
             ]
            ],
            "type": "histogram2dcontour"
           }
          ],
          "mesh3d": [
           {
            "colorbar": {
             "outlinewidth": 0,
             "ticks": ""
            },
            "type": "mesh3d"
           }
          ],
          "parcoords": [
           {
            "line": {
             "colorbar": {
              "outlinewidth": 0,
              "ticks": ""
             }
            },
            "type": "parcoords"
           }
          ],
          "pie": [
           {
            "automargin": true,
            "type": "pie"
           }
          ],
          "scatter": [
           {
            "fillpattern": {
             "fillmode": "overlay",
             "size": 10,
             "solidity": 0.2
            },
            "type": "scatter"
           }
          ],
          "scatter3d": [
           {
            "line": {
             "colorbar": {
              "outlinewidth": 0,
              "ticks": ""
             }
            },
            "marker": {
             "colorbar": {
              "outlinewidth": 0,
              "ticks": ""
             }
            },
            "type": "scatter3d"
           }
          ],
          "scattercarpet": [
           {
            "marker": {
             "colorbar": {
              "outlinewidth": 0,
              "ticks": ""
             }
            },
            "type": "scattercarpet"
           }
          ],
          "scattergeo": [
           {
            "marker": {
             "colorbar": {
              "outlinewidth": 0,
              "ticks": ""
             }
            },
            "type": "scattergeo"
           }
          ],
          "scattergl": [
           {
            "marker": {
             "colorbar": {
              "outlinewidth": 0,
              "ticks": ""
             }
            },
            "type": "scattergl"
           }
          ],
          "scattermapbox": [
           {
            "marker": {
             "colorbar": {
              "outlinewidth": 0,
              "ticks": ""
             }
            },
            "type": "scattermapbox"
           }
          ],
          "scatterpolar": [
           {
            "marker": {
             "colorbar": {
              "outlinewidth": 0,
              "ticks": ""
             }
            },
            "type": "scatterpolar"
           }
          ],
          "scatterpolargl": [
           {
            "marker": {
             "colorbar": {
              "outlinewidth": 0,
              "ticks": ""
             }
            },
            "type": "scatterpolargl"
           }
          ],
          "scatterternary": [
           {
            "marker": {
             "colorbar": {
              "outlinewidth": 0,
              "ticks": ""
             }
            },
            "type": "scatterternary"
           }
          ],
          "surface": [
           {
            "colorbar": {
             "outlinewidth": 0,
             "ticks": ""
            },
            "colorscale": [
             [
              0,
              "#0d0887"
             ],
             [
              0.1111111111111111,
              "#46039f"
             ],
             [
              0.2222222222222222,
              "#7201a8"
             ],
             [
              0.3333333333333333,
              "#9c179e"
             ],
             [
              0.4444444444444444,
              "#bd3786"
             ],
             [
              0.5555555555555556,
              "#d8576b"
             ],
             [
              0.6666666666666666,
              "#ed7953"
             ],
             [
              0.7777777777777778,
              "#fb9f3a"
             ],
             [
              0.8888888888888888,
              "#fdca26"
             ],
             [
              1,
              "#f0f921"
             ]
            ],
            "type": "surface"
           }
          ],
          "table": [
           {
            "cells": {
             "fill": {
              "color": "#EBF0F8"
             },
             "line": {
              "color": "white"
             }
            },
            "header": {
             "fill": {
              "color": "#C8D4E3"
             },
             "line": {
              "color": "white"
             }
            },
            "type": "table"
           }
          ]
         },
         "layout": {
          "annotationdefaults": {
           "arrowcolor": "#2a3f5f",
           "arrowhead": 0,
           "arrowwidth": 1
          },
          "autotypenumbers": "strict",
          "coloraxis": {
           "colorbar": {
            "outlinewidth": 0,
            "ticks": ""
           }
          },
          "colorscale": {
           "diverging": [
            [
             0,
             "#8e0152"
            ],
            [
             0.1,
             "#c51b7d"
            ],
            [
             0.2,
             "#de77ae"
            ],
            [
             0.3,
             "#f1b6da"
            ],
            [
             0.4,
             "#fde0ef"
            ],
            [
             0.5,
             "#f7f7f7"
            ],
            [
             0.6,
             "#e6f5d0"
            ],
            [
             0.7,
             "#b8e186"
            ],
            [
             0.8,
             "#7fbc41"
            ],
            [
             0.9,
             "#4d9221"
            ],
            [
             1,
             "#276419"
            ]
           ],
           "sequential": [
            [
             0,
             "#0d0887"
            ],
            [
             0.1111111111111111,
             "#46039f"
            ],
            [
             0.2222222222222222,
             "#7201a8"
            ],
            [
             0.3333333333333333,
             "#9c179e"
            ],
            [
             0.4444444444444444,
             "#bd3786"
            ],
            [
             0.5555555555555556,
             "#d8576b"
            ],
            [
             0.6666666666666666,
             "#ed7953"
            ],
            [
             0.7777777777777778,
             "#fb9f3a"
            ],
            [
             0.8888888888888888,
             "#fdca26"
            ],
            [
             1,
             "#f0f921"
            ]
           ],
           "sequentialminus": [
            [
             0,
             "#0d0887"
            ],
            [
             0.1111111111111111,
             "#46039f"
            ],
            [
             0.2222222222222222,
             "#7201a8"
            ],
            [
             0.3333333333333333,
             "#9c179e"
            ],
            [
             0.4444444444444444,
             "#bd3786"
            ],
            [
             0.5555555555555556,
             "#d8576b"
            ],
            [
             0.6666666666666666,
             "#ed7953"
            ],
            [
             0.7777777777777778,
             "#fb9f3a"
            ],
            [
             0.8888888888888888,
             "#fdca26"
            ],
            [
             1,
             "#f0f921"
            ]
           ]
          },
          "colorway": [
           "#636efa",
           "#EF553B",
           "#00cc96",
           "#ab63fa",
           "#FFA15A",
           "#19d3f3",
           "#FF6692",
           "#B6E880",
           "#FF97FF",
           "#FECB52"
          ],
          "font": {
           "color": "#2a3f5f"
          },
          "geo": {
           "bgcolor": "white",
           "lakecolor": "white",
           "landcolor": "#E5ECF6",
           "showlakes": true,
           "showland": true,
           "subunitcolor": "white"
          },
          "hoverlabel": {
           "align": "left"
          },
          "hovermode": "closest",
          "mapbox": {
           "style": "light"
          },
          "paper_bgcolor": "white",
          "plot_bgcolor": "#E5ECF6",
          "polar": {
           "angularaxis": {
            "gridcolor": "white",
            "linecolor": "white",
            "ticks": ""
           },
           "bgcolor": "#E5ECF6",
           "radialaxis": {
            "gridcolor": "white",
            "linecolor": "white",
            "ticks": ""
           }
          },
          "scene": {
           "xaxis": {
            "backgroundcolor": "#E5ECF6",
            "gridcolor": "white",
            "gridwidth": 2,
            "linecolor": "white",
            "showbackground": true,
            "ticks": "",
            "zerolinecolor": "white"
           },
           "yaxis": {
            "backgroundcolor": "#E5ECF6",
            "gridcolor": "white",
            "gridwidth": 2,
            "linecolor": "white",
            "showbackground": true,
            "ticks": "",
            "zerolinecolor": "white"
           },
           "zaxis": {
            "backgroundcolor": "#E5ECF6",
            "gridcolor": "white",
            "gridwidth": 2,
            "linecolor": "white",
            "showbackground": true,
            "ticks": "",
            "zerolinecolor": "white"
           }
          },
          "shapedefaults": {
           "line": {
            "color": "#2a3f5f"
           }
          },
          "ternary": {
           "aaxis": {
            "gridcolor": "white",
            "linecolor": "white",
            "ticks": ""
           },
           "baxis": {
            "gridcolor": "white",
            "linecolor": "white",
            "ticks": ""
           },
           "bgcolor": "#E5ECF6",
           "caxis": {
            "gridcolor": "white",
            "linecolor": "white",
            "ticks": ""
           }
          },
          "title": {
           "x": 0.05
          },
          "xaxis": {
           "automargin": true,
           "gridcolor": "white",
           "linecolor": "white",
           "ticks": "",
           "title": {
            "standoff": 15
           },
           "zerolinecolor": "white",
           "zerolinewidth": 2
          },
          "yaxis": {
           "automargin": true,
           "gridcolor": "white",
           "linecolor": "white",
           "ticks": "",
           "title": {
            "standoff": 15
           },
           "zerolinecolor": "white",
           "zerolinewidth": 2
          }
         }
        },
        "xaxis": {
         "anchor": "y",
         "domain": [
          0,
          1
         ],
         "title": {
          "text": "tipo"
         }
        },
        "yaxis": {
         "anchor": "x",
         "domain": [
          0,
          1
         ],
         "title": {
          "text": "count"
         }
        }
       }
      },
      "text/html": [
       "<div>                            <div id=\"4f404cbe-1275-4b9a-be44-0e4831e11f0d\" class=\"plotly-graph-div\" style=\"height:525px; width:100%;\"></div>            <script type=\"text/javascript\">                require([\"plotly\"], function(Plotly) {                    window.PLOTLYENV=window.PLOTLYENV || {};                                    if (document.getElementById(\"4f404cbe-1275-4b9a-be44-0e4831e11f0d\")) {                    Plotly.newPlot(                        \"4f404cbe-1275-4b9a-be44-0e4831e11f0d\",                        [{\"alignmentgroup\":\"True\",\"bingroup\":\"x\",\"hovertemplate\":\"tipo=%{x}<br>count=%{y}<extra></extra>\",\"legendgroup\":\"\",\"marker\":{\"color\":\"#636efa\",\"pattern\":{\"shape\":\"\"}},\"name\":\"\",\"offsetgroup\":\"\",\"orientation\":\"v\",\"showlegend\":false,\"texttemplate\":\"%{value}\",\"x\":[\"Estacionamento Irregular\",\"Com\\u00e9rcio ambulante\",\"Feiras\",\"Ocupa\\u00e7\\u00e3o de \\u00e1rea p\\u00fablica\",\"Polui\\u00e7\\u00e3o sonora\",\"Polui\\u00e7\\u00e3o sonora\",\"Polui\\u00e7\\u00e3o sonora\",\"Ilumina\\u00e7\\u00e3o P\\u00fablica\",\"Limpeza\",\"Remo\\u00e7\\u00e3o Gratuita\",\"Estacionamento Irregular\",\"Polui\\u00e7\\u00e3o sonora\",\"Polui\\u00e7\\u00e3o sonora\",\"Polui\\u00e7\\u00e3o sonora\",\"Polui\\u00e7\\u00e3o sonora\",\"Polui\\u00e7\\u00e3o sonora\",\"Polui\\u00e7\\u00e3o sonora\",\"Polui\\u00e7\\u00e3o sonora\",\"Polui\\u00e7\\u00e3o sonora\",\"Polui\\u00e7\\u00e3o sonora\",\"Polui\\u00e7\\u00e3o sonora\",\"Pavimenta\\u00e7\\u00e3o\",\"Remo\\u00e7\\u00e3o Gratuita\",\"Postura Municipal\",\"Postura Municipal\",\"Ilumina\\u00e7\\u00e3o P\\u00fablica\",\"Pavimenta\\u00e7\\u00e3o\",\"Limpeza\",\"Manejo Arb\\u00f3reo\",\"Remo\\u00e7\\u00e3o Gratuita\",\"Remo\\u00e7\\u00e3o Gratuita\",\"Remo\\u00e7\\u00e3o Gratuita\",\"Estacionamento Irregular\",\"Estacionamento Irregular\",\"Polui\\u00e7\\u00e3o sonora\",\"Polui\\u00e7\\u00e3o sonora\",\"Polui\\u00e7\\u00e3o sonora\",\"Polui\\u00e7\\u00e3o sonora\",\"Polui\\u00e7\\u00e3o sonora\",\"Postura Municipal\",\"Postura Municipal\",\"Drenagem e Saneamento\",\"Comlurb - Vetores\",\"Comlurb - Vetores\",\"Fiscaliza\\u00e7\\u00e3o de obras\",\"Fiscaliza\\u00e7\\u00e3o de obras\",\"Polui\\u00e7\\u00e3o sonora\",\"Ilumina\\u00e7\\u00e3o P\\u00fablica\",\"Estacionamento Irregular\",\"Estacionamento Irregular\",\"Estacionamento Irregular\",\"Ilumina\\u00e7\\u00e3o P\\u00fablica\",\"Ilumina\\u00e7\\u00e3o P\\u00fablica\",\"Pavimenta\\u00e7\\u00e3o\",\"Limpeza\",\"Programa Cegonha Carioca\",\"Polui\\u00e7\\u00e3o sonora\",\"Polui\\u00e7\\u00e3o sonora\",\"Ilumina\\u00e7\\u00e3o P\\u00fablica\",\"Estacionamento Irregular\",\"Estacionamento Irregular\",\"Ilumina\\u00e7\\u00e3o P\\u00fablica\",\"Sem\\u00e1foro\",\"Ocupa\\u00e7\\u00e3o de \\u00e1rea p\\u00fablica\",\"Ocupa\\u00e7\\u00e3o de \\u00e1rea p\\u00fablica\",\"Limpeza\",\"Limpeza\",\"Polui\\u00e7\\u00e3o sonora\",\"Polui\\u00e7\\u00e3o sonora\",\"Manejo Arb\\u00f3reo\",\"Polui\\u00e7\\u00e3o sonora\",\"Ilumina\\u00e7\\u00e3o P\\u00fablica\"],\"xaxis\":\"x\",\"yaxis\":\"y\",\"type\":\"histogram\"}],                        {\"template\":{\"data\":{\"histogram2dcontour\":[{\"type\":\"histogram2dcontour\",\"colorbar\":{\"outlinewidth\":0,\"ticks\":\"\"},\"colorscale\":[[0.0,\"#0d0887\"],[0.1111111111111111,\"#46039f\"],[0.2222222222222222,\"#7201a8\"],[0.3333333333333333,\"#9c179e\"],[0.4444444444444444,\"#bd3786\"],[0.5555555555555556,\"#d8576b\"],[0.6666666666666666,\"#ed7953\"],[0.7777777777777778,\"#fb9f3a\"],[0.8888888888888888,\"#fdca26\"],[1.0,\"#f0f921\"]]}],\"choropleth\":[{\"type\":\"choropleth\",\"colorbar\":{\"outlinewidth\":0,\"ticks\":\"\"}}],\"histogram2d\":[{\"type\":\"histogram2d\",\"colorbar\":{\"outlinewidth\":0,\"ticks\":\"\"},\"colorscale\":[[0.0,\"#0d0887\"],[0.1111111111111111,\"#46039f\"],[0.2222222222222222,\"#7201a8\"],[0.3333333333333333,\"#9c179e\"],[0.4444444444444444,\"#bd3786\"],[0.5555555555555556,\"#d8576b\"],[0.6666666666666666,\"#ed7953\"],[0.7777777777777778,\"#fb9f3a\"],[0.8888888888888888,\"#fdca26\"],[1.0,\"#f0f921\"]]}],\"heatmap\":[{\"type\":\"heatmap\",\"colorbar\":{\"outlinewidth\":0,\"ticks\":\"\"},\"colorscale\":[[0.0,\"#0d0887\"],[0.1111111111111111,\"#46039f\"],[0.2222222222222222,\"#7201a8\"],[0.3333333333333333,\"#9c179e\"],[0.4444444444444444,\"#bd3786\"],[0.5555555555555556,\"#d8576b\"],[0.6666666666666666,\"#ed7953\"],[0.7777777777777778,\"#fb9f3a\"],[0.8888888888888888,\"#fdca26\"],[1.0,\"#f0f921\"]]}],\"heatmapgl\":[{\"type\":\"heatmapgl\",\"colorbar\":{\"outlinewidth\":0,\"ticks\":\"\"},\"colorscale\":[[0.0,\"#0d0887\"],[0.1111111111111111,\"#46039f\"],[0.2222222222222222,\"#7201a8\"],[0.3333333333333333,\"#9c179e\"],[0.4444444444444444,\"#bd3786\"],[0.5555555555555556,\"#d8576b\"],[0.6666666666666666,\"#ed7953\"],[0.7777777777777778,\"#fb9f3a\"],[0.8888888888888888,\"#fdca26\"],[1.0,\"#f0f921\"]]}],\"contourcarpet\":[{\"type\":\"contourcarpet\",\"colorbar\":{\"outlinewidth\":0,\"ticks\":\"\"}}],\"contour\":[{\"type\":\"contour\",\"colorbar\":{\"outlinewidth\":0,\"ticks\":\"\"},\"colorscale\":[[0.0,\"#0d0887\"],[0.1111111111111111,\"#46039f\"],[0.2222222222222222,\"#7201a8\"],[0.3333333333333333,\"#9c179e\"],[0.4444444444444444,\"#bd3786\"],[0.5555555555555556,\"#d8576b\"],[0.6666666666666666,\"#ed7953\"],[0.7777777777777778,\"#fb9f3a\"],[0.8888888888888888,\"#fdca26\"],[1.0,\"#f0f921\"]]}],\"surface\":[{\"type\":\"surface\",\"colorbar\":{\"outlinewidth\":0,\"ticks\":\"\"},\"colorscale\":[[0.0,\"#0d0887\"],[0.1111111111111111,\"#46039f\"],[0.2222222222222222,\"#7201a8\"],[0.3333333333333333,\"#9c179e\"],[0.4444444444444444,\"#bd3786\"],[0.5555555555555556,\"#d8576b\"],[0.6666666666666666,\"#ed7953\"],[0.7777777777777778,\"#fb9f3a\"],[0.8888888888888888,\"#fdca26\"],[1.0,\"#f0f921\"]]}],\"mesh3d\":[{\"type\":\"mesh3d\",\"colorbar\":{\"outlinewidth\":0,\"ticks\":\"\"}}],\"scatter\":[{\"fillpattern\":{\"fillmode\":\"overlay\",\"size\":10,\"solidity\":0.2},\"type\":\"scatter\"}],\"parcoords\":[{\"type\":\"parcoords\",\"line\":{\"colorbar\":{\"outlinewidth\":0,\"ticks\":\"\"}}}],\"scatterpolargl\":[{\"type\":\"scatterpolargl\",\"marker\":{\"colorbar\":{\"outlinewidth\":0,\"ticks\":\"\"}}}],\"bar\":[{\"error_x\":{\"color\":\"#2a3f5f\"},\"error_y\":{\"color\":\"#2a3f5f\"},\"marker\":{\"line\":{\"color\":\"#E5ECF6\",\"width\":0.5},\"pattern\":{\"fillmode\":\"overlay\",\"size\":10,\"solidity\":0.2}},\"type\":\"bar\"}],\"scattergeo\":[{\"type\":\"scattergeo\",\"marker\":{\"colorbar\":{\"outlinewidth\":0,\"ticks\":\"\"}}}],\"scatterpolar\":[{\"type\":\"scatterpolar\",\"marker\":{\"colorbar\":{\"outlinewidth\":0,\"ticks\":\"\"}}}],\"histogram\":[{\"marker\":{\"pattern\":{\"fillmode\":\"overlay\",\"size\":10,\"solidity\":0.2}},\"type\":\"histogram\"}],\"scattergl\":[{\"type\":\"scattergl\",\"marker\":{\"colorbar\":{\"outlinewidth\":0,\"ticks\":\"\"}}}],\"scatter3d\":[{\"type\":\"scatter3d\",\"line\":{\"colorbar\":{\"outlinewidth\":0,\"ticks\":\"\"}},\"marker\":{\"colorbar\":{\"outlinewidth\":0,\"ticks\":\"\"}}}],\"scattermapbox\":[{\"type\":\"scattermapbox\",\"marker\":{\"colorbar\":{\"outlinewidth\":0,\"ticks\":\"\"}}}],\"scatterternary\":[{\"type\":\"scatterternary\",\"marker\":{\"colorbar\":{\"outlinewidth\":0,\"ticks\":\"\"}}}],\"scattercarpet\":[{\"type\":\"scattercarpet\",\"marker\":{\"colorbar\":{\"outlinewidth\":0,\"ticks\":\"\"}}}],\"carpet\":[{\"aaxis\":{\"endlinecolor\":\"#2a3f5f\",\"gridcolor\":\"white\",\"linecolor\":\"white\",\"minorgridcolor\":\"white\",\"startlinecolor\":\"#2a3f5f\"},\"baxis\":{\"endlinecolor\":\"#2a3f5f\",\"gridcolor\":\"white\",\"linecolor\":\"white\",\"minorgridcolor\":\"white\",\"startlinecolor\":\"#2a3f5f\"},\"type\":\"carpet\"}],\"table\":[{\"cells\":{\"fill\":{\"color\":\"#EBF0F8\"},\"line\":{\"color\":\"white\"}},\"header\":{\"fill\":{\"color\":\"#C8D4E3\"},\"line\":{\"color\":\"white\"}},\"type\":\"table\"}],\"barpolar\":[{\"marker\":{\"line\":{\"color\":\"#E5ECF6\",\"width\":0.5},\"pattern\":{\"fillmode\":\"overlay\",\"size\":10,\"solidity\":0.2}},\"type\":\"barpolar\"}],\"pie\":[{\"automargin\":true,\"type\":\"pie\"}]},\"layout\":{\"autotypenumbers\":\"strict\",\"colorway\":[\"#636efa\",\"#EF553B\",\"#00cc96\",\"#ab63fa\",\"#FFA15A\",\"#19d3f3\",\"#FF6692\",\"#B6E880\",\"#FF97FF\",\"#FECB52\"],\"font\":{\"color\":\"#2a3f5f\"},\"hovermode\":\"closest\",\"hoverlabel\":{\"align\":\"left\"},\"paper_bgcolor\":\"white\",\"plot_bgcolor\":\"#E5ECF6\",\"polar\":{\"bgcolor\":\"#E5ECF6\",\"angularaxis\":{\"gridcolor\":\"white\",\"linecolor\":\"white\",\"ticks\":\"\"},\"radialaxis\":{\"gridcolor\":\"white\",\"linecolor\":\"white\",\"ticks\":\"\"}},\"ternary\":{\"bgcolor\":\"#E5ECF6\",\"aaxis\":{\"gridcolor\":\"white\",\"linecolor\":\"white\",\"ticks\":\"\"},\"baxis\":{\"gridcolor\":\"white\",\"linecolor\":\"white\",\"ticks\":\"\"},\"caxis\":{\"gridcolor\":\"white\",\"linecolor\":\"white\",\"ticks\":\"\"}},\"coloraxis\":{\"colorbar\":{\"outlinewidth\":0,\"ticks\":\"\"}},\"colorscale\":{\"sequential\":[[0.0,\"#0d0887\"],[0.1111111111111111,\"#46039f\"],[0.2222222222222222,\"#7201a8\"],[0.3333333333333333,\"#9c179e\"],[0.4444444444444444,\"#bd3786\"],[0.5555555555555556,\"#d8576b\"],[0.6666666666666666,\"#ed7953\"],[0.7777777777777778,\"#fb9f3a\"],[0.8888888888888888,\"#fdca26\"],[1.0,\"#f0f921\"]],\"sequentialminus\":[[0.0,\"#0d0887\"],[0.1111111111111111,\"#46039f\"],[0.2222222222222222,\"#7201a8\"],[0.3333333333333333,\"#9c179e\"],[0.4444444444444444,\"#bd3786\"],[0.5555555555555556,\"#d8576b\"],[0.6666666666666666,\"#ed7953\"],[0.7777777777777778,\"#fb9f3a\"],[0.8888888888888888,\"#fdca26\"],[1.0,\"#f0f921\"]],\"diverging\":[[0,\"#8e0152\"],[0.1,\"#c51b7d\"],[0.2,\"#de77ae\"],[0.3,\"#f1b6da\"],[0.4,\"#fde0ef\"],[0.5,\"#f7f7f7\"],[0.6,\"#e6f5d0\"],[0.7,\"#b8e186\"],[0.8,\"#7fbc41\"],[0.9,\"#4d9221\"],[1,\"#276419\"]]},\"xaxis\":{\"gridcolor\":\"white\",\"linecolor\":\"white\",\"ticks\":\"\",\"title\":{\"standoff\":15},\"zerolinecolor\":\"white\",\"automargin\":true,\"zerolinewidth\":2},\"yaxis\":{\"gridcolor\":\"white\",\"linecolor\":\"white\",\"ticks\":\"\",\"title\":{\"standoff\":15},\"zerolinecolor\":\"white\",\"automargin\":true,\"zerolinewidth\":2},\"scene\":{\"xaxis\":{\"backgroundcolor\":\"#E5ECF6\",\"gridcolor\":\"white\",\"linecolor\":\"white\",\"showbackground\":true,\"ticks\":\"\",\"zerolinecolor\":\"white\",\"gridwidth\":2},\"yaxis\":{\"backgroundcolor\":\"#E5ECF6\",\"gridcolor\":\"white\",\"linecolor\":\"white\",\"showbackground\":true,\"ticks\":\"\",\"zerolinecolor\":\"white\",\"gridwidth\":2},\"zaxis\":{\"backgroundcolor\":\"#E5ECF6\",\"gridcolor\":\"white\",\"linecolor\":\"white\",\"showbackground\":true,\"ticks\":\"\",\"zerolinecolor\":\"white\",\"gridwidth\":2}},\"shapedefaults\":{\"line\":{\"color\":\"#2a3f5f\"}},\"annotationdefaults\":{\"arrowcolor\":\"#2a3f5f\",\"arrowhead\":0,\"arrowwidth\":1},\"geo\":{\"bgcolor\":\"white\",\"landcolor\":\"#E5ECF6\",\"subunitcolor\":\"white\",\"showland\":true,\"showlakes\":true,\"lakecolor\":\"white\"},\"title\":{\"x\":0.05},\"mapbox\":{\"style\":\"light\"}}},\"xaxis\":{\"anchor\":\"y\",\"domain\":[0.0,1.0],\"title\":{\"text\":\"tipo\"}},\"yaxis\":{\"anchor\":\"x\",\"domain\":[0.0,1.0],\"title\":{\"text\":\"count\"}},\"legend\":{\"tracegroupgap\":0},\"margin\":{\"t\":60},\"barmode\":\"group\",\"bargap\":0.2},                        {\"responsive\": true}                    ).then(function(){\n",
       "                            \n",
       "var gd = document.getElementById('4f404cbe-1275-4b9a-be44-0e4831e11f0d');\n",
       "var x = new MutationObserver(function (mutations, observer) {{\n",
       "        var display = window.getComputedStyle(gd).display;\n",
       "        if (!display || display === 'none') {{\n",
       "            console.log([gd, 'removed!']);\n",
       "            Plotly.purge(gd);\n",
       "            observer.disconnect();\n",
       "        }}\n",
       "}});\n",
       "\n",
       "// Listen for the removal of the full notebook cells\n",
       "var notebookContainer = gd.closest('#notebook-container');\n",
       "if (notebookContainer) {{\n",
       "    x.observe(notebookContainer, {childList: true});\n",
       "}}\n",
       "\n",
       "// Listen for the clearing of the current output cell\n",
       "var outputEl = gd.closest('.output');\n",
       "if (outputEl) {{\n",
       "    x.observe(outputEl, {childList: true});\n",
       "}}\n",
       "\n",
       "                        })                };                });            </script>        </div>"
      ]
     },
     "metadata": {},
     "output_type": "display_data"
    }
   ],
   "source": [
    "fig = px.histogram(df, x=\"tipo\", barmode='group', text_auto= True)\n",
    "fig.update_layout(bargap=0.2)\n",
    "fig.show()"
   ]
  },
  {
   "cell_type": "markdown",
   "metadata": {},
   "source": [
    "### 3) Quais os nomes dos 3 bairros que mais tiveram chamados abertos nesse dia?"
   ]
  },
  {
   "cell_type": "code",
   "execution_count": 75,
   "metadata": {},
   "outputs": [],
   "source": [
    "maioresBairros = df.groupby(['bairro']).agg({\n",
    "    'bairro': 'first',\n",
    "    'longitude' :'first', \n",
    "    'latitude' :'first',\n",
    "    'tipo':'count'\n",
    "    }).sort_values(by='tipo',ascending=False)"
   ]
  },
  {
   "cell_type": "code",
   "execution_count": 76,
   "metadata": {},
   "outputs": [],
   "source": [
    "bairro_com_mais_chamados = maioresBairros[maioresBairros['tipo'] >= 6 ]"
   ]
  },
  {
   "cell_type": "code",
   "execution_count": 59,
   "metadata": {},
   "outputs": [
    {
     "data": {
      "application/vnd.plotly.v1+json": {
       "config": {
        "plotlyServerURL": "https://plot.ly"
       },
       "data": [
        {
         "alignmentgroup": "True",
         "bingroup": "x",
         "histfunc": "sum",
         "hovertemplate": "bairro=%{x}<br>sum of tipo=%{y}<extra></extra>",
         "legendgroup": "",
         "marker": {
          "color": "#636efa",
          "pattern": {
           "shape": ""
          }
         },
         "name": "",
         "offsetgroup": "",
         "orientation": "v",
         "showlegend": false,
         "texttemplate": "%{value}",
         "type": "histogram",
         "x": [
          "Engenho de Dentro",
          "Campo Grande",
          "Leblon"
         ],
         "xaxis": "x",
         "y": [
          8,
          6,
          6
         ],
         "yaxis": "y"
        }
       ],
       "layout": {
        "bargap": 0.2,
        "barmode": "group",
        "legend": {
         "tracegroupgap": 0
        },
        "margin": {
         "t": 60
        },
        "template": {
         "data": {
          "bar": [
           {
            "error_x": {
             "color": "#2a3f5f"
            },
            "error_y": {
             "color": "#2a3f5f"
            },
            "marker": {
             "line": {
              "color": "#E5ECF6",
              "width": 0.5
             },
             "pattern": {
              "fillmode": "overlay",
              "size": 10,
              "solidity": 0.2
             }
            },
            "type": "bar"
           }
          ],
          "barpolar": [
           {
            "marker": {
             "line": {
              "color": "#E5ECF6",
              "width": 0.5
             },
             "pattern": {
              "fillmode": "overlay",
              "size": 10,
              "solidity": 0.2
             }
            },
            "type": "barpolar"
           }
          ],
          "carpet": [
           {
            "aaxis": {
             "endlinecolor": "#2a3f5f",
             "gridcolor": "white",
             "linecolor": "white",
             "minorgridcolor": "white",
             "startlinecolor": "#2a3f5f"
            },
            "baxis": {
             "endlinecolor": "#2a3f5f",
             "gridcolor": "white",
             "linecolor": "white",
             "minorgridcolor": "white",
             "startlinecolor": "#2a3f5f"
            },
            "type": "carpet"
           }
          ],
          "choropleth": [
           {
            "colorbar": {
             "outlinewidth": 0,
             "ticks": ""
            },
            "type": "choropleth"
           }
          ],
          "contour": [
           {
            "colorbar": {
             "outlinewidth": 0,
             "ticks": ""
            },
            "colorscale": [
             [
              0,
              "#0d0887"
             ],
             [
              0.1111111111111111,
              "#46039f"
             ],
             [
              0.2222222222222222,
              "#7201a8"
             ],
             [
              0.3333333333333333,
              "#9c179e"
             ],
             [
              0.4444444444444444,
              "#bd3786"
             ],
             [
              0.5555555555555556,
              "#d8576b"
             ],
             [
              0.6666666666666666,
              "#ed7953"
             ],
             [
              0.7777777777777778,
              "#fb9f3a"
             ],
             [
              0.8888888888888888,
              "#fdca26"
             ],
             [
              1,
              "#f0f921"
             ]
            ],
            "type": "contour"
           }
          ],
          "contourcarpet": [
           {
            "colorbar": {
             "outlinewidth": 0,
             "ticks": ""
            },
            "type": "contourcarpet"
           }
          ],
          "heatmap": [
           {
            "colorbar": {
             "outlinewidth": 0,
             "ticks": ""
            },
            "colorscale": [
             [
              0,
              "#0d0887"
             ],
             [
              0.1111111111111111,
              "#46039f"
             ],
             [
              0.2222222222222222,
              "#7201a8"
             ],
             [
              0.3333333333333333,
              "#9c179e"
             ],
             [
              0.4444444444444444,
              "#bd3786"
             ],
             [
              0.5555555555555556,
              "#d8576b"
             ],
             [
              0.6666666666666666,
              "#ed7953"
             ],
             [
              0.7777777777777778,
              "#fb9f3a"
             ],
             [
              0.8888888888888888,
              "#fdca26"
             ],
             [
              1,
              "#f0f921"
             ]
            ],
            "type": "heatmap"
           }
          ],
          "heatmapgl": [
           {
            "colorbar": {
             "outlinewidth": 0,
             "ticks": ""
            },
            "colorscale": [
             [
              0,
              "#0d0887"
             ],
             [
              0.1111111111111111,
              "#46039f"
             ],
             [
              0.2222222222222222,
              "#7201a8"
             ],
             [
              0.3333333333333333,
              "#9c179e"
             ],
             [
              0.4444444444444444,
              "#bd3786"
             ],
             [
              0.5555555555555556,
              "#d8576b"
             ],
             [
              0.6666666666666666,
              "#ed7953"
             ],
             [
              0.7777777777777778,
              "#fb9f3a"
             ],
             [
              0.8888888888888888,
              "#fdca26"
             ],
             [
              1,
              "#f0f921"
             ]
            ],
            "type": "heatmapgl"
           }
          ],
          "histogram": [
           {
            "marker": {
             "pattern": {
              "fillmode": "overlay",
              "size": 10,
              "solidity": 0.2
             }
            },
            "type": "histogram"
           }
          ],
          "histogram2d": [
           {
            "colorbar": {
             "outlinewidth": 0,
             "ticks": ""
            },
            "colorscale": [
             [
              0,
              "#0d0887"
             ],
             [
              0.1111111111111111,
              "#46039f"
             ],
             [
              0.2222222222222222,
              "#7201a8"
             ],
             [
              0.3333333333333333,
              "#9c179e"
             ],
             [
              0.4444444444444444,
              "#bd3786"
             ],
             [
              0.5555555555555556,
              "#d8576b"
             ],
             [
              0.6666666666666666,
              "#ed7953"
             ],
             [
              0.7777777777777778,
              "#fb9f3a"
             ],
             [
              0.8888888888888888,
              "#fdca26"
             ],
             [
              1,
              "#f0f921"
             ]
            ],
            "type": "histogram2d"
           }
          ],
          "histogram2dcontour": [
           {
            "colorbar": {
             "outlinewidth": 0,
             "ticks": ""
            },
            "colorscale": [
             [
              0,
              "#0d0887"
             ],
             [
              0.1111111111111111,
              "#46039f"
             ],
             [
              0.2222222222222222,
              "#7201a8"
             ],
             [
              0.3333333333333333,
              "#9c179e"
             ],
             [
              0.4444444444444444,
              "#bd3786"
             ],
             [
              0.5555555555555556,
              "#d8576b"
             ],
             [
              0.6666666666666666,
              "#ed7953"
             ],
             [
              0.7777777777777778,
              "#fb9f3a"
             ],
             [
              0.8888888888888888,
              "#fdca26"
             ],
             [
              1,
              "#f0f921"
             ]
            ],
            "type": "histogram2dcontour"
           }
          ],
          "mesh3d": [
           {
            "colorbar": {
             "outlinewidth": 0,
             "ticks": ""
            },
            "type": "mesh3d"
           }
          ],
          "parcoords": [
           {
            "line": {
             "colorbar": {
              "outlinewidth": 0,
              "ticks": ""
             }
            },
            "type": "parcoords"
           }
          ],
          "pie": [
           {
            "automargin": true,
            "type": "pie"
           }
          ],
          "scatter": [
           {
            "fillpattern": {
             "fillmode": "overlay",
             "size": 10,
             "solidity": 0.2
            },
            "type": "scatter"
           }
          ],
          "scatter3d": [
           {
            "line": {
             "colorbar": {
              "outlinewidth": 0,
              "ticks": ""
             }
            },
            "marker": {
             "colorbar": {
              "outlinewidth": 0,
              "ticks": ""
             }
            },
            "type": "scatter3d"
           }
          ],
          "scattercarpet": [
           {
            "marker": {
             "colorbar": {
              "outlinewidth": 0,
              "ticks": ""
             }
            },
            "type": "scattercarpet"
           }
          ],
          "scattergeo": [
           {
            "marker": {
             "colorbar": {
              "outlinewidth": 0,
              "ticks": ""
             }
            },
            "type": "scattergeo"
           }
          ],
          "scattergl": [
           {
            "marker": {
             "colorbar": {
              "outlinewidth": 0,
              "ticks": ""
             }
            },
            "type": "scattergl"
           }
          ],
          "scattermapbox": [
           {
            "marker": {
             "colorbar": {
              "outlinewidth": 0,
              "ticks": ""
             }
            },
            "type": "scattermapbox"
           }
          ],
          "scatterpolar": [
           {
            "marker": {
             "colorbar": {
              "outlinewidth": 0,
              "ticks": ""
             }
            },
            "type": "scatterpolar"
           }
          ],
          "scatterpolargl": [
           {
            "marker": {
             "colorbar": {
              "outlinewidth": 0,
              "ticks": ""
             }
            },
            "type": "scatterpolargl"
           }
          ],
          "scatterternary": [
           {
            "marker": {
             "colorbar": {
              "outlinewidth": 0,
              "ticks": ""
             }
            },
            "type": "scatterternary"
           }
          ],
          "surface": [
           {
            "colorbar": {
             "outlinewidth": 0,
             "ticks": ""
            },
            "colorscale": [
             [
              0,
              "#0d0887"
             ],
             [
              0.1111111111111111,
              "#46039f"
             ],
             [
              0.2222222222222222,
              "#7201a8"
             ],
             [
              0.3333333333333333,
              "#9c179e"
             ],
             [
              0.4444444444444444,
              "#bd3786"
             ],
             [
              0.5555555555555556,
              "#d8576b"
             ],
             [
              0.6666666666666666,
              "#ed7953"
             ],
             [
              0.7777777777777778,
              "#fb9f3a"
             ],
             [
              0.8888888888888888,
              "#fdca26"
             ],
             [
              1,
              "#f0f921"
             ]
            ],
            "type": "surface"
           }
          ],
          "table": [
           {
            "cells": {
             "fill": {
              "color": "#EBF0F8"
             },
             "line": {
              "color": "white"
             }
            },
            "header": {
             "fill": {
              "color": "#C8D4E3"
             },
             "line": {
              "color": "white"
             }
            },
            "type": "table"
           }
          ]
         },
         "layout": {
          "annotationdefaults": {
           "arrowcolor": "#2a3f5f",
           "arrowhead": 0,
           "arrowwidth": 1
          },
          "autotypenumbers": "strict",
          "coloraxis": {
           "colorbar": {
            "outlinewidth": 0,
            "ticks": ""
           }
          },
          "colorscale": {
           "diverging": [
            [
             0,
             "#8e0152"
            ],
            [
             0.1,
             "#c51b7d"
            ],
            [
             0.2,
             "#de77ae"
            ],
            [
             0.3,
             "#f1b6da"
            ],
            [
             0.4,
             "#fde0ef"
            ],
            [
             0.5,
             "#f7f7f7"
            ],
            [
             0.6,
             "#e6f5d0"
            ],
            [
             0.7,
             "#b8e186"
            ],
            [
             0.8,
             "#7fbc41"
            ],
            [
             0.9,
             "#4d9221"
            ],
            [
             1,
             "#276419"
            ]
           ],
           "sequential": [
            [
             0,
             "#0d0887"
            ],
            [
             0.1111111111111111,
             "#46039f"
            ],
            [
             0.2222222222222222,
             "#7201a8"
            ],
            [
             0.3333333333333333,
             "#9c179e"
            ],
            [
             0.4444444444444444,
             "#bd3786"
            ],
            [
             0.5555555555555556,
             "#d8576b"
            ],
            [
             0.6666666666666666,
             "#ed7953"
            ],
            [
             0.7777777777777778,
             "#fb9f3a"
            ],
            [
             0.8888888888888888,
             "#fdca26"
            ],
            [
             1,
             "#f0f921"
            ]
           ],
           "sequentialminus": [
            [
             0,
             "#0d0887"
            ],
            [
             0.1111111111111111,
             "#46039f"
            ],
            [
             0.2222222222222222,
             "#7201a8"
            ],
            [
             0.3333333333333333,
             "#9c179e"
            ],
            [
             0.4444444444444444,
             "#bd3786"
            ],
            [
             0.5555555555555556,
             "#d8576b"
            ],
            [
             0.6666666666666666,
             "#ed7953"
            ],
            [
             0.7777777777777778,
             "#fb9f3a"
            ],
            [
             0.8888888888888888,
             "#fdca26"
            ],
            [
             1,
             "#f0f921"
            ]
           ]
          },
          "colorway": [
           "#636efa",
           "#EF553B",
           "#00cc96",
           "#ab63fa",
           "#FFA15A",
           "#19d3f3",
           "#FF6692",
           "#B6E880",
           "#FF97FF",
           "#FECB52"
          ],
          "font": {
           "color": "#2a3f5f"
          },
          "geo": {
           "bgcolor": "white",
           "lakecolor": "white",
           "landcolor": "#E5ECF6",
           "showlakes": true,
           "showland": true,
           "subunitcolor": "white"
          },
          "hoverlabel": {
           "align": "left"
          },
          "hovermode": "closest",
          "mapbox": {
           "style": "light"
          },
          "paper_bgcolor": "white",
          "plot_bgcolor": "#E5ECF6",
          "polar": {
           "angularaxis": {
            "gridcolor": "white",
            "linecolor": "white",
            "ticks": ""
           },
           "bgcolor": "#E5ECF6",
           "radialaxis": {
            "gridcolor": "white",
            "linecolor": "white",
            "ticks": ""
           }
          },
          "scene": {
           "xaxis": {
            "backgroundcolor": "#E5ECF6",
            "gridcolor": "white",
            "gridwidth": 2,
            "linecolor": "white",
            "showbackground": true,
            "ticks": "",
            "zerolinecolor": "white"
           },
           "yaxis": {
            "backgroundcolor": "#E5ECF6",
            "gridcolor": "white",
            "gridwidth": 2,
            "linecolor": "white",
            "showbackground": true,
            "ticks": "",
            "zerolinecolor": "white"
           },
           "zaxis": {
            "backgroundcolor": "#E5ECF6",
            "gridcolor": "white",
            "gridwidth": 2,
            "linecolor": "white",
            "showbackground": true,
            "ticks": "",
            "zerolinecolor": "white"
           }
          },
          "shapedefaults": {
           "line": {
            "color": "#2a3f5f"
           }
          },
          "ternary": {
           "aaxis": {
            "gridcolor": "white",
            "linecolor": "white",
            "ticks": ""
           },
           "baxis": {
            "gridcolor": "white",
            "linecolor": "white",
            "ticks": ""
           },
           "bgcolor": "#E5ECF6",
           "caxis": {
            "gridcolor": "white",
            "linecolor": "white",
            "ticks": ""
           }
          },
          "title": {
           "x": 0.05
          },
          "xaxis": {
           "automargin": true,
           "gridcolor": "white",
           "linecolor": "white",
           "ticks": "",
           "title": {
            "standoff": 15
           },
           "zerolinecolor": "white",
           "zerolinewidth": 2
          },
          "yaxis": {
           "automargin": true,
           "gridcolor": "white",
           "linecolor": "white",
           "ticks": "",
           "title": {
            "standoff": 15
           },
           "zerolinecolor": "white",
           "zerolinewidth": 2
          }
         }
        },
        "xaxis": {
         "anchor": "y",
         "domain": [
          0,
          1
         ],
         "title": {
          "text": "bairro"
         }
        },
        "yaxis": {
         "anchor": "x",
         "domain": [
          0,
          1
         ],
         "title": {
          "text": "sum of tipo"
         }
        }
       }
      },
      "text/html": [
       "<div>                            <div id=\"bdc81360-f626-4775-8a5c-89e372179481\" class=\"plotly-graph-div\" style=\"height:525px; width:100%;\"></div>            <script type=\"text/javascript\">                require([\"plotly\"], function(Plotly) {                    window.PLOTLYENV=window.PLOTLYENV || {};                                    if (document.getElementById(\"bdc81360-f626-4775-8a5c-89e372179481\")) {                    Plotly.newPlot(                        \"bdc81360-f626-4775-8a5c-89e372179481\",                        [{\"alignmentgroup\":\"True\",\"bingroup\":\"x\",\"histfunc\":\"sum\",\"hovertemplate\":\"bairro=%{x}<br>sum of tipo=%{y}<extra></extra>\",\"legendgroup\":\"\",\"marker\":{\"color\":\"#636efa\",\"pattern\":{\"shape\":\"\"}},\"name\":\"\",\"offsetgroup\":\"\",\"orientation\":\"v\",\"showlegend\":false,\"texttemplate\":\"%{value}\",\"x\":[\"Engenho de Dentro\",\"Campo Grande\",\"Leblon\"],\"xaxis\":\"x\",\"y\":[8,6,6],\"yaxis\":\"y\",\"type\":\"histogram\"}],                        {\"template\":{\"data\":{\"histogram2dcontour\":[{\"type\":\"histogram2dcontour\",\"colorbar\":{\"outlinewidth\":0,\"ticks\":\"\"},\"colorscale\":[[0.0,\"#0d0887\"],[0.1111111111111111,\"#46039f\"],[0.2222222222222222,\"#7201a8\"],[0.3333333333333333,\"#9c179e\"],[0.4444444444444444,\"#bd3786\"],[0.5555555555555556,\"#d8576b\"],[0.6666666666666666,\"#ed7953\"],[0.7777777777777778,\"#fb9f3a\"],[0.8888888888888888,\"#fdca26\"],[1.0,\"#f0f921\"]]}],\"choropleth\":[{\"type\":\"choropleth\",\"colorbar\":{\"outlinewidth\":0,\"ticks\":\"\"}}],\"histogram2d\":[{\"type\":\"histogram2d\",\"colorbar\":{\"outlinewidth\":0,\"ticks\":\"\"},\"colorscale\":[[0.0,\"#0d0887\"],[0.1111111111111111,\"#46039f\"],[0.2222222222222222,\"#7201a8\"],[0.3333333333333333,\"#9c179e\"],[0.4444444444444444,\"#bd3786\"],[0.5555555555555556,\"#d8576b\"],[0.6666666666666666,\"#ed7953\"],[0.7777777777777778,\"#fb9f3a\"],[0.8888888888888888,\"#fdca26\"],[1.0,\"#f0f921\"]]}],\"heatmap\":[{\"type\":\"heatmap\",\"colorbar\":{\"outlinewidth\":0,\"ticks\":\"\"},\"colorscale\":[[0.0,\"#0d0887\"],[0.1111111111111111,\"#46039f\"],[0.2222222222222222,\"#7201a8\"],[0.3333333333333333,\"#9c179e\"],[0.4444444444444444,\"#bd3786\"],[0.5555555555555556,\"#d8576b\"],[0.6666666666666666,\"#ed7953\"],[0.7777777777777778,\"#fb9f3a\"],[0.8888888888888888,\"#fdca26\"],[1.0,\"#f0f921\"]]}],\"heatmapgl\":[{\"type\":\"heatmapgl\",\"colorbar\":{\"outlinewidth\":0,\"ticks\":\"\"},\"colorscale\":[[0.0,\"#0d0887\"],[0.1111111111111111,\"#46039f\"],[0.2222222222222222,\"#7201a8\"],[0.3333333333333333,\"#9c179e\"],[0.4444444444444444,\"#bd3786\"],[0.5555555555555556,\"#d8576b\"],[0.6666666666666666,\"#ed7953\"],[0.7777777777777778,\"#fb9f3a\"],[0.8888888888888888,\"#fdca26\"],[1.0,\"#f0f921\"]]}],\"contourcarpet\":[{\"type\":\"contourcarpet\",\"colorbar\":{\"outlinewidth\":0,\"ticks\":\"\"}}],\"contour\":[{\"type\":\"contour\",\"colorbar\":{\"outlinewidth\":0,\"ticks\":\"\"},\"colorscale\":[[0.0,\"#0d0887\"],[0.1111111111111111,\"#46039f\"],[0.2222222222222222,\"#7201a8\"],[0.3333333333333333,\"#9c179e\"],[0.4444444444444444,\"#bd3786\"],[0.5555555555555556,\"#d8576b\"],[0.6666666666666666,\"#ed7953\"],[0.7777777777777778,\"#fb9f3a\"],[0.8888888888888888,\"#fdca26\"],[1.0,\"#f0f921\"]]}],\"surface\":[{\"type\":\"surface\",\"colorbar\":{\"outlinewidth\":0,\"ticks\":\"\"},\"colorscale\":[[0.0,\"#0d0887\"],[0.1111111111111111,\"#46039f\"],[0.2222222222222222,\"#7201a8\"],[0.3333333333333333,\"#9c179e\"],[0.4444444444444444,\"#bd3786\"],[0.5555555555555556,\"#d8576b\"],[0.6666666666666666,\"#ed7953\"],[0.7777777777777778,\"#fb9f3a\"],[0.8888888888888888,\"#fdca26\"],[1.0,\"#f0f921\"]]}],\"mesh3d\":[{\"type\":\"mesh3d\",\"colorbar\":{\"outlinewidth\":0,\"ticks\":\"\"}}],\"scatter\":[{\"fillpattern\":{\"fillmode\":\"overlay\",\"size\":10,\"solidity\":0.2},\"type\":\"scatter\"}],\"parcoords\":[{\"type\":\"parcoords\",\"line\":{\"colorbar\":{\"outlinewidth\":0,\"ticks\":\"\"}}}],\"scatterpolargl\":[{\"type\":\"scatterpolargl\",\"marker\":{\"colorbar\":{\"outlinewidth\":0,\"ticks\":\"\"}}}],\"bar\":[{\"error_x\":{\"color\":\"#2a3f5f\"},\"error_y\":{\"color\":\"#2a3f5f\"},\"marker\":{\"line\":{\"color\":\"#E5ECF6\",\"width\":0.5},\"pattern\":{\"fillmode\":\"overlay\",\"size\":10,\"solidity\":0.2}},\"type\":\"bar\"}],\"scattergeo\":[{\"type\":\"scattergeo\",\"marker\":{\"colorbar\":{\"outlinewidth\":0,\"ticks\":\"\"}}}],\"scatterpolar\":[{\"type\":\"scatterpolar\",\"marker\":{\"colorbar\":{\"outlinewidth\":0,\"ticks\":\"\"}}}],\"histogram\":[{\"marker\":{\"pattern\":{\"fillmode\":\"overlay\",\"size\":10,\"solidity\":0.2}},\"type\":\"histogram\"}],\"scattergl\":[{\"type\":\"scattergl\",\"marker\":{\"colorbar\":{\"outlinewidth\":0,\"ticks\":\"\"}}}],\"scatter3d\":[{\"type\":\"scatter3d\",\"line\":{\"colorbar\":{\"outlinewidth\":0,\"ticks\":\"\"}},\"marker\":{\"colorbar\":{\"outlinewidth\":0,\"ticks\":\"\"}}}],\"scattermapbox\":[{\"type\":\"scattermapbox\",\"marker\":{\"colorbar\":{\"outlinewidth\":0,\"ticks\":\"\"}}}],\"scatterternary\":[{\"type\":\"scatterternary\",\"marker\":{\"colorbar\":{\"outlinewidth\":0,\"ticks\":\"\"}}}],\"scattercarpet\":[{\"type\":\"scattercarpet\",\"marker\":{\"colorbar\":{\"outlinewidth\":0,\"ticks\":\"\"}}}],\"carpet\":[{\"aaxis\":{\"endlinecolor\":\"#2a3f5f\",\"gridcolor\":\"white\",\"linecolor\":\"white\",\"minorgridcolor\":\"white\",\"startlinecolor\":\"#2a3f5f\"},\"baxis\":{\"endlinecolor\":\"#2a3f5f\",\"gridcolor\":\"white\",\"linecolor\":\"white\",\"minorgridcolor\":\"white\",\"startlinecolor\":\"#2a3f5f\"},\"type\":\"carpet\"}],\"table\":[{\"cells\":{\"fill\":{\"color\":\"#EBF0F8\"},\"line\":{\"color\":\"white\"}},\"header\":{\"fill\":{\"color\":\"#C8D4E3\"},\"line\":{\"color\":\"white\"}},\"type\":\"table\"}],\"barpolar\":[{\"marker\":{\"line\":{\"color\":\"#E5ECF6\",\"width\":0.5},\"pattern\":{\"fillmode\":\"overlay\",\"size\":10,\"solidity\":0.2}},\"type\":\"barpolar\"}],\"pie\":[{\"automargin\":true,\"type\":\"pie\"}]},\"layout\":{\"autotypenumbers\":\"strict\",\"colorway\":[\"#636efa\",\"#EF553B\",\"#00cc96\",\"#ab63fa\",\"#FFA15A\",\"#19d3f3\",\"#FF6692\",\"#B6E880\",\"#FF97FF\",\"#FECB52\"],\"font\":{\"color\":\"#2a3f5f\"},\"hovermode\":\"closest\",\"hoverlabel\":{\"align\":\"left\"},\"paper_bgcolor\":\"white\",\"plot_bgcolor\":\"#E5ECF6\",\"polar\":{\"bgcolor\":\"#E5ECF6\",\"angularaxis\":{\"gridcolor\":\"white\",\"linecolor\":\"white\",\"ticks\":\"\"},\"radialaxis\":{\"gridcolor\":\"white\",\"linecolor\":\"white\",\"ticks\":\"\"}},\"ternary\":{\"bgcolor\":\"#E5ECF6\",\"aaxis\":{\"gridcolor\":\"white\",\"linecolor\":\"white\",\"ticks\":\"\"},\"baxis\":{\"gridcolor\":\"white\",\"linecolor\":\"white\",\"ticks\":\"\"},\"caxis\":{\"gridcolor\":\"white\",\"linecolor\":\"white\",\"ticks\":\"\"}},\"coloraxis\":{\"colorbar\":{\"outlinewidth\":0,\"ticks\":\"\"}},\"colorscale\":{\"sequential\":[[0.0,\"#0d0887\"],[0.1111111111111111,\"#46039f\"],[0.2222222222222222,\"#7201a8\"],[0.3333333333333333,\"#9c179e\"],[0.4444444444444444,\"#bd3786\"],[0.5555555555555556,\"#d8576b\"],[0.6666666666666666,\"#ed7953\"],[0.7777777777777778,\"#fb9f3a\"],[0.8888888888888888,\"#fdca26\"],[1.0,\"#f0f921\"]],\"sequentialminus\":[[0.0,\"#0d0887\"],[0.1111111111111111,\"#46039f\"],[0.2222222222222222,\"#7201a8\"],[0.3333333333333333,\"#9c179e\"],[0.4444444444444444,\"#bd3786\"],[0.5555555555555556,\"#d8576b\"],[0.6666666666666666,\"#ed7953\"],[0.7777777777777778,\"#fb9f3a\"],[0.8888888888888888,\"#fdca26\"],[1.0,\"#f0f921\"]],\"diverging\":[[0,\"#8e0152\"],[0.1,\"#c51b7d\"],[0.2,\"#de77ae\"],[0.3,\"#f1b6da\"],[0.4,\"#fde0ef\"],[0.5,\"#f7f7f7\"],[0.6,\"#e6f5d0\"],[0.7,\"#b8e186\"],[0.8,\"#7fbc41\"],[0.9,\"#4d9221\"],[1,\"#276419\"]]},\"xaxis\":{\"gridcolor\":\"white\",\"linecolor\":\"white\",\"ticks\":\"\",\"title\":{\"standoff\":15},\"zerolinecolor\":\"white\",\"automargin\":true,\"zerolinewidth\":2},\"yaxis\":{\"gridcolor\":\"white\",\"linecolor\":\"white\",\"ticks\":\"\",\"title\":{\"standoff\":15},\"zerolinecolor\":\"white\",\"automargin\":true,\"zerolinewidth\":2},\"scene\":{\"xaxis\":{\"backgroundcolor\":\"#E5ECF6\",\"gridcolor\":\"white\",\"linecolor\":\"white\",\"showbackground\":true,\"ticks\":\"\",\"zerolinecolor\":\"white\",\"gridwidth\":2},\"yaxis\":{\"backgroundcolor\":\"#E5ECF6\",\"gridcolor\":\"white\",\"linecolor\":\"white\",\"showbackground\":true,\"ticks\":\"\",\"zerolinecolor\":\"white\",\"gridwidth\":2},\"zaxis\":{\"backgroundcolor\":\"#E5ECF6\",\"gridcolor\":\"white\",\"linecolor\":\"white\",\"showbackground\":true,\"ticks\":\"\",\"zerolinecolor\":\"white\",\"gridwidth\":2}},\"shapedefaults\":{\"line\":{\"color\":\"#2a3f5f\"}},\"annotationdefaults\":{\"arrowcolor\":\"#2a3f5f\",\"arrowhead\":0,\"arrowwidth\":1},\"geo\":{\"bgcolor\":\"white\",\"landcolor\":\"#E5ECF6\",\"subunitcolor\":\"white\",\"showland\":true,\"showlakes\":true,\"lakecolor\":\"white\"},\"title\":{\"x\":0.05},\"mapbox\":{\"style\":\"light\"}}},\"xaxis\":{\"anchor\":\"y\",\"domain\":[0.0,1.0],\"title\":{\"text\":\"bairro\"}},\"yaxis\":{\"anchor\":\"x\",\"domain\":[0.0,1.0],\"title\":{\"text\":\"sum of tipo\"}},\"legend\":{\"tracegroupgap\":0},\"margin\":{\"t\":60},\"barmode\":\"group\",\"bargap\":0.2},                        {\"responsive\": true}                    ).then(function(){\n",
       "                            \n",
       "var gd = document.getElementById('bdc81360-f626-4775-8a5c-89e372179481');\n",
       "var x = new MutationObserver(function (mutations, observer) {{\n",
       "        var display = window.getComputedStyle(gd).display;\n",
       "        if (!display || display === 'none') {{\n",
       "            console.log([gd, 'removed!']);\n",
       "            Plotly.purge(gd);\n",
       "            observer.disconnect();\n",
       "        }}\n",
       "}});\n",
       "\n",
       "// Listen for the removal of the full notebook cells\n",
       "var notebookContainer = gd.closest('#notebook-container');\n",
       "if (notebookContainer) {{\n",
       "    x.observe(notebookContainer, {childList: true});\n",
       "}}\n",
       "\n",
       "// Listen for the clearing of the current output cell\n",
       "var outputEl = gd.closest('.output');\n",
       "if (outputEl) {{\n",
       "    x.observe(outputEl, {childList: true});\n",
       "}}\n",
       "\n",
       "                        })                };                });            </script>        </div>"
      ]
     },
     "metadata": {},
     "output_type": "display_data"
    }
   ],
   "source": [
    "fig = px.histogram(bairro_com_mais_chamados, x=\"bairro\", y='tipo', barmode='group', text_auto= True)\n",
    "fig.update_layout(bargap=0.2)\n",
    "fig.show()"
   ]
  },
  {
   "cell_type": "markdown",
   "metadata": {},
   "source": [
    "### 4) Qual o nome da subprefeitura com mais chamados abertos nesse dia?"
   ]
  },
  {
   "cell_type": "code",
   "execution_count": 14,
   "metadata": {},
   "outputs": [
    {
     "data": {
      "application/vnd.plotly.v1+json": {
       "config": {
        "plotlyServerURL": "https://plot.ly"
       },
       "data": [
        {
         "alignmentgroup": "True",
         "bingroup": "x",
         "hovertemplate": "subprefeitura=%{x}<br>count=%{y}<extra></extra>",
         "legendgroup": "",
         "marker": {
          "color": "#636efa",
          "pattern": {
           "shape": ""
          }
         },
         "name": "",
         "offsetgroup": "",
         "orientation": "v",
         "showlegend": false,
         "texttemplate": "%{value}",
         "type": "histogram",
         "x": [
          "Centro",
          "Centro",
          "Centro",
          "Centro",
          "Centro",
          "Centro",
          "Centro",
          "Grande Tijuca",
          "Grande Tijuca",
          "Zona Sul",
          "Zona Sul",
          "Zona Sul",
          "Zona Sul",
          "Zona Sul",
          "Zona Sul",
          "Zona Sul",
          "Zona Sul",
          "Zona Sul",
          "Zona Sul",
          "Zona Sul",
          "Zona Sul",
          "Grande Tijuca",
          "Grande Tijuca",
          "Zona Norte",
          "Zona Norte",
          "Zona Norte",
          "Zona Norte",
          "Zona Norte",
          "Zona Norte",
          "Zona Norte",
          "Zona Norte",
          "Zona Norte",
          "Zona Norte",
          "Zona Norte",
          "Zona Norte",
          "Zona Norte",
          "Zona Norte",
          "Zona Norte",
          "Zona Norte",
          "Zona Norte",
          "Zona Norte",
          "Zona Norte",
          "Zona Norte",
          "Zona Norte",
          "Zona Norte",
          "Zona Norte",
          "Zona Norte",
          "Zona Norte",
          "Barra da Tijuca",
          "Barra da Tijuca",
          "Barra da Tijuca",
          "Jacarepaguá",
          "Jacarepaguá",
          "Jacarepaguá",
          "Jacarepaguá",
          "Barra da Tijuca",
          "Barra da Tijuca",
          "Barra da Tijuca",
          "Jacarepaguá",
          "Zona Oeste",
          "Zona Oeste",
          "Zona Oeste",
          "Grande Bangu",
          "Zona Oeste",
          "Grande Bangu",
          "Zona Oeste",
          "Grande Bangu",
          "Zona Oeste",
          "Zona Oeste",
          "Zona Oeste",
          "Zona Oeste",
          "Zona Oeste"
         ],
         "xaxis": "x",
         "yaxis": "y"
        }
       ],
       "layout": {
        "bargap": 0.2,
        "barmode": "group",
        "legend": {
         "tracegroupgap": 0
        },
        "margin": {
         "t": 60
        },
        "template": {
         "data": {
          "bar": [
           {
            "error_x": {
             "color": "#2a3f5f"
            },
            "error_y": {
             "color": "#2a3f5f"
            },
            "marker": {
             "line": {
              "color": "#E5ECF6",
              "width": 0.5
             },
             "pattern": {
              "fillmode": "overlay",
              "size": 10,
              "solidity": 0.2
             }
            },
            "type": "bar"
           }
          ],
          "barpolar": [
           {
            "marker": {
             "line": {
              "color": "#E5ECF6",
              "width": 0.5
             },
             "pattern": {
              "fillmode": "overlay",
              "size": 10,
              "solidity": 0.2
             }
            },
            "type": "barpolar"
           }
          ],
          "carpet": [
           {
            "aaxis": {
             "endlinecolor": "#2a3f5f",
             "gridcolor": "white",
             "linecolor": "white",
             "minorgridcolor": "white",
             "startlinecolor": "#2a3f5f"
            },
            "baxis": {
             "endlinecolor": "#2a3f5f",
             "gridcolor": "white",
             "linecolor": "white",
             "minorgridcolor": "white",
             "startlinecolor": "#2a3f5f"
            },
            "type": "carpet"
           }
          ],
          "choropleth": [
           {
            "colorbar": {
             "outlinewidth": 0,
             "ticks": ""
            },
            "type": "choropleth"
           }
          ],
          "contour": [
           {
            "colorbar": {
             "outlinewidth": 0,
             "ticks": ""
            },
            "colorscale": [
             [
              0,
              "#0d0887"
             ],
             [
              0.1111111111111111,
              "#46039f"
             ],
             [
              0.2222222222222222,
              "#7201a8"
             ],
             [
              0.3333333333333333,
              "#9c179e"
             ],
             [
              0.4444444444444444,
              "#bd3786"
             ],
             [
              0.5555555555555556,
              "#d8576b"
             ],
             [
              0.6666666666666666,
              "#ed7953"
             ],
             [
              0.7777777777777778,
              "#fb9f3a"
             ],
             [
              0.8888888888888888,
              "#fdca26"
             ],
             [
              1,
              "#f0f921"
             ]
            ],
            "type": "contour"
           }
          ],
          "contourcarpet": [
           {
            "colorbar": {
             "outlinewidth": 0,
             "ticks": ""
            },
            "type": "contourcarpet"
           }
          ],
          "heatmap": [
           {
            "colorbar": {
             "outlinewidth": 0,
             "ticks": ""
            },
            "colorscale": [
             [
              0,
              "#0d0887"
             ],
             [
              0.1111111111111111,
              "#46039f"
             ],
             [
              0.2222222222222222,
              "#7201a8"
             ],
             [
              0.3333333333333333,
              "#9c179e"
             ],
             [
              0.4444444444444444,
              "#bd3786"
             ],
             [
              0.5555555555555556,
              "#d8576b"
             ],
             [
              0.6666666666666666,
              "#ed7953"
             ],
             [
              0.7777777777777778,
              "#fb9f3a"
             ],
             [
              0.8888888888888888,
              "#fdca26"
             ],
             [
              1,
              "#f0f921"
             ]
            ],
            "type": "heatmap"
           }
          ],
          "heatmapgl": [
           {
            "colorbar": {
             "outlinewidth": 0,
             "ticks": ""
            },
            "colorscale": [
             [
              0,
              "#0d0887"
             ],
             [
              0.1111111111111111,
              "#46039f"
             ],
             [
              0.2222222222222222,
              "#7201a8"
             ],
             [
              0.3333333333333333,
              "#9c179e"
             ],
             [
              0.4444444444444444,
              "#bd3786"
             ],
             [
              0.5555555555555556,
              "#d8576b"
             ],
             [
              0.6666666666666666,
              "#ed7953"
             ],
             [
              0.7777777777777778,
              "#fb9f3a"
             ],
             [
              0.8888888888888888,
              "#fdca26"
             ],
             [
              1,
              "#f0f921"
             ]
            ],
            "type": "heatmapgl"
           }
          ],
          "histogram": [
           {
            "marker": {
             "pattern": {
              "fillmode": "overlay",
              "size": 10,
              "solidity": 0.2
             }
            },
            "type": "histogram"
           }
          ],
          "histogram2d": [
           {
            "colorbar": {
             "outlinewidth": 0,
             "ticks": ""
            },
            "colorscale": [
             [
              0,
              "#0d0887"
             ],
             [
              0.1111111111111111,
              "#46039f"
             ],
             [
              0.2222222222222222,
              "#7201a8"
             ],
             [
              0.3333333333333333,
              "#9c179e"
             ],
             [
              0.4444444444444444,
              "#bd3786"
             ],
             [
              0.5555555555555556,
              "#d8576b"
             ],
             [
              0.6666666666666666,
              "#ed7953"
             ],
             [
              0.7777777777777778,
              "#fb9f3a"
             ],
             [
              0.8888888888888888,
              "#fdca26"
             ],
             [
              1,
              "#f0f921"
             ]
            ],
            "type": "histogram2d"
           }
          ],
          "histogram2dcontour": [
           {
            "colorbar": {
             "outlinewidth": 0,
             "ticks": ""
            },
            "colorscale": [
             [
              0,
              "#0d0887"
             ],
             [
              0.1111111111111111,
              "#46039f"
             ],
             [
              0.2222222222222222,
              "#7201a8"
             ],
             [
              0.3333333333333333,
              "#9c179e"
             ],
             [
              0.4444444444444444,
              "#bd3786"
             ],
             [
              0.5555555555555556,
              "#d8576b"
             ],
             [
              0.6666666666666666,
              "#ed7953"
             ],
             [
              0.7777777777777778,
              "#fb9f3a"
             ],
             [
              0.8888888888888888,
              "#fdca26"
             ],
             [
              1,
              "#f0f921"
             ]
            ],
            "type": "histogram2dcontour"
           }
          ],
          "mesh3d": [
           {
            "colorbar": {
             "outlinewidth": 0,
             "ticks": ""
            },
            "type": "mesh3d"
           }
          ],
          "parcoords": [
           {
            "line": {
             "colorbar": {
              "outlinewidth": 0,
              "ticks": ""
             }
            },
            "type": "parcoords"
           }
          ],
          "pie": [
           {
            "automargin": true,
            "type": "pie"
           }
          ],
          "scatter": [
           {
            "fillpattern": {
             "fillmode": "overlay",
             "size": 10,
             "solidity": 0.2
            },
            "type": "scatter"
           }
          ],
          "scatter3d": [
           {
            "line": {
             "colorbar": {
              "outlinewidth": 0,
              "ticks": ""
             }
            },
            "marker": {
             "colorbar": {
              "outlinewidth": 0,
              "ticks": ""
             }
            },
            "type": "scatter3d"
           }
          ],
          "scattercarpet": [
           {
            "marker": {
             "colorbar": {
              "outlinewidth": 0,
              "ticks": ""
             }
            },
            "type": "scattercarpet"
           }
          ],
          "scattergeo": [
           {
            "marker": {
             "colorbar": {
              "outlinewidth": 0,
              "ticks": ""
             }
            },
            "type": "scattergeo"
           }
          ],
          "scattergl": [
           {
            "marker": {
             "colorbar": {
              "outlinewidth": 0,
              "ticks": ""
             }
            },
            "type": "scattergl"
           }
          ],
          "scattermapbox": [
           {
            "marker": {
             "colorbar": {
              "outlinewidth": 0,
              "ticks": ""
             }
            },
            "type": "scattermapbox"
           }
          ],
          "scatterpolar": [
           {
            "marker": {
             "colorbar": {
              "outlinewidth": 0,
              "ticks": ""
             }
            },
            "type": "scatterpolar"
           }
          ],
          "scatterpolargl": [
           {
            "marker": {
             "colorbar": {
              "outlinewidth": 0,
              "ticks": ""
             }
            },
            "type": "scatterpolargl"
           }
          ],
          "scatterternary": [
           {
            "marker": {
             "colorbar": {
              "outlinewidth": 0,
              "ticks": ""
             }
            },
            "type": "scatterternary"
           }
          ],
          "surface": [
           {
            "colorbar": {
             "outlinewidth": 0,
             "ticks": ""
            },
            "colorscale": [
             [
              0,
              "#0d0887"
             ],
             [
              0.1111111111111111,
              "#46039f"
             ],
             [
              0.2222222222222222,
              "#7201a8"
             ],
             [
              0.3333333333333333,
              "#9c179e"
             ],
             [
              0.4444444444444444,
              "#bd3786"
             ],
             [
              0.5555555555555556,
              "#d8576b"
             ],
             [
              0.6666666666666666,
              "#ed7953"
             ],
             [
              0.7777777777777778,
              "#fb9f3a"
             ],
             [
              0.8888888888888888,
              "#fdca26"
             ],
             [
              1,
              "#f0f921"
             ]
            ],
            "type": "surface"
           }
          ],
          "table": [
           {
            "cells": {
             "fill": {
              "color": "#EBF0F8"
             },
             "line": {
              "color": "white"
             }
            },
            "header": {
             "fill": {
              "color": "#C8D4E3"
             },
             "line": {
              "color": "white"
             }
            },
            "type": "table"
           }
          ]
         },
         "layout": {
          "annotationdefaults": {
           "arrowcolor": "#2a3f5f",
           "arrowhead": 0,
           "arrowwidth": 1
          },
          "autotypenumbers": "strict",
          "coloraxis": {
           "colorbar": {
            "outlinewidth": 0,
            "ticks": ""
           }
          },
          "colorscale": {
           "diverging": [
            [
             0,
             "#8e0152"
            ],
            [
             0.1,
             "#c51b7d"
            ],
            [
             0.2,
             "#de77ae"
            ],
            [
             0.3,
             "#f1b6da"
            ],
            [
             0.4,
             "#fde0ef"
            ],
            [
             0.5,
             "#f7f7f7"
            ],
            [
             0.6,
             "#e6f5d0"
            ],
            [
             0.7,
             "#b8e186"
            ],
            [
             0.8,
             "#7fbc41"
            ],
            [
             0.9,
             "#4d9221"
            ],
            [
             1,
             "#276419"
            ]
           ],
           "sequential": [
            [
             0,
             "#0d0887"
            ],
            [
             0.1111111111111111,
             "#46039f"
            ],
            [
             0.2222222222222222,
             "#7201a8"
            ],
            [
             0.3333333333333333,
             "#9c179e"
            ],
            [
             0.4444444444444444,
             "#bd3786"
            ],
            [
             0.5555555555555556,
             "#d8576b"
            ],
            [
             0.6666666666666666,
             "#ed7953"
            ],
            [
             0.7777777777777778,
             "#fb9f3a"
            ],
            [
             0.8888888888888888,
             "#fdca26"
            ],
            [
             1,
             "#f0f921"
            ]
           ],
           "sequentialminus": [
            [
             0,
             "#0d0887"
            ],
            [
             0.1111111111111111,
             "#46039f"
            ],
            [
             0.2222222222222222,
             "#7201a8"
            ],
            [
             0.3333333333333333,
             "#9c179e"
            ],
            [
             0.4444444444444444,
             "#bd3786"
            ],
            [
             0.5555555555555556,
             "#d8576b"
            ],
            [
             0.6666666666666666,
             "#ed7953"
            ],
            [
             0.7777777777777778,
             "#fb9f3a"
            ],
            [
             0.8888888888888888,
             "#fdca26"
            ],
            [
             1,
             "#f0f921"
            ]
           ]
          },
          "colorway": [
           "#636efa",
           "#EF553B",
           "#00cc96",
           "#ab63fa",
           "#FFA15A",
           "#19d3f3",
           "#FF6692",
           "#B6E880",
           "#FF97FF",
           "#FECB52"
          ],
          "font": {
           "color": "#2a3f5f"
          },
          "geo": {
           "bgcolor": "white",
           "lakecolor": "white",
           "landcolor": "#E5ECF6",
           "showlakes": true,
           "showland": true,
           "subunitcolor": "white"
          },
          "hoverlabel": {
           "align": "left"
          },
          "hovermode": "closest",
          "mapbox": {
           "style": "light"
          },
          "paper_bgcolor": "white",
          "plot_bgcolor": "#E5ECF6",
          "polar": {
           "angularaxis": {
            "gridcolor": "white",
            "linecolor": "white",
            "ticks": ""
           },
           "bgcolor": "#E5ECF6",
           "radialaxis": {
            "gridcolor": "white",
            "linecolor": "white",
            "ticks": ""
           }
          },
          "scene": {
           "xaxis": {
            "backgroundcolor": "#E5ECF6",
            "gridcolor": "white",
            "gridwidth": 2,
            "linecolor": "white",
            "showbackground": true,
            "ticks": "",
            "zerolinecolor": "white"
           },
           "yaxis": {
            "backgroundcolor": "#E5ECF6",
            "gridcolor": "white",
            "gridwidth": 2,
            "linecolor": "white",
            "showbackground": true,
            "ticks": "",
            "zerolinecolor": "white"
           },
           "zaxis": {
            "backgroundcolor": "#E5ECF6",
            "gridcolor": "white",
            "gridwidth": 2,
            "linecolor": "white",
            "showbackground": true,
            "ticks": "",
            "zerolinecolor": "white"
           }
          },
          "shapedefaults": {
           "line": {
            "color": "#2a3f5f"
           }
          },
          "ternary": {
           "aaxis": {
            "gridcolor": "white",
            "linecolor": "white",
            "ticks": ""
           },
           "baxis": {
            "gridcolor": "white",
            "linecolor": "white",
            "ticks": ""
           },
           "bgcolor": "#E5ECF6",
           "caxis": {
            "gridcolor": "white",
            "linecolor": "white",
            "ticks": ""
           }
          },
          "title": {
           "x": 0.05
          },
          "xaxis": {
           "automargin": true,
           "gridcolor": "white",
           "linecolor": "white",
           "ticks": "",
           "title": {
            "standoff": 15
           },
           "zerolinecolor": "white",
           "zerolinewidth": 2
          },
          "yaxis": {
           "automargin": true,
           "gridcolor": "white",
           "linecolor": "white",
           "ticks": "",
           "title": {
            "standoff": 15
           },
           "zerolinecolor": "white",
           "zerolinewidth": 2
          }
         }
        },
        "xaxis": {
         "anchor": "y",
         "domain": [
          0,
          1
         ],
         "title": {
          "text": "subprefeitura"
         }
        },
        "yaxis": {
         "anchor": "x",
         "domain": [
          0,
          1
         ],
         "title": {
          "text": "count"
         }
        }
       }
      },
      "text/html": [
       "<div>                            <div id=\"c1d30500-3429-4806-bc1e-ae7cfbedfcf5\" class=\"plotly-graph-div\" style=\"height:525px; width:100%;\"></div>            <script type=\"text/javascript\">                require([\"plotly\"], function(Plotly) {                    window.PLOTLYENV=window.PLOTLYENV || {};                                    if (document.getElementById(\"c1d30500-3429-4806-bc1e-ae7cfbedfcf5\")) {                    Plotly.newPlot(                        \"c1d30500-3429-4806-bc1e-ae7cfbedfcf5\",                        [{\"alignmentgroup\":\"True\",\"bingroup\":\"x\",\"hovertemplate\":\"subprefeitura=%{x}<br>count=%{y}<extra></extra>\",\"legendgroup\":\"\",\"marker\":{\"color\":\"#636efa\",\"pattern\":{\"shape\":\"\"}},\"name\":\"\",\"offsetgroup\":\"\",\"orientation\":\"v\",\"showlegend\":false,\"texttemplate\":\"%{value}\",\"x\":[\"Centro\",\"Centro\",\"Centro\",\"Centro\",\"Centro\",\"Centro\",\"Centro\",\"Grande Tijuca\",\"Grande Tijuca\",\"Zona Sul\",\"Zona Sul\",\"Zona Sul\",\"Zona Sul\",\"Zona Sul\",\"Zona Sul\",\"Zona Sul\",\"Zona Sul\",\"Zona Sul\",\"Zona Sul\",\"Zona Sul\",\"Zona Sul\",\"Grande Tijuca\",\"Grande Tijuca\",\"Zona Norte\",\"Zona Norte\",\"Zona Norte\",\"Zona Norte\",\"Zona Norte\",\"Zona Norte\",\"Zona Norte\",\"Zona Norte\",\"Zona Norte\",\"Zona Norte\",\"Zona Norte\",\"Zona Norte\",\"Zona Norte\",\"Zona Norte\",\"Zona Norte\",\"Zona Norte\",\"Zona Norte\",\"Zona Norte\",\"Zona Norte\",\"Zona Norte\",\"Zona Norte\",\"Zona Norte\",\"Zona Norte\",\"Zona Norte\",\"Zona Norte\",\"Barra da Tijuca\",\"Barra da Tijuca\",\"Barra da Tijuca\",\"Jacarepagu\\u00e1\",\"Jacarepagu\\u00e1\",\"Jacarepagu\\u00e1\",\"Jacarepagu\\u00e1\",\"Barra da Tijuca\",\"Barra da Tijuca\",\"Barra da Tijuca\",\"Jacarepagu\\u00e1\",\"Zona Oeste\",\"Zona Oeste\",\"Zona Oeste\",\"Grande Bangu\",\"Zona Oeste\",\"Grande Bangu\",\"Zona Oeste\",\"Grande Bangu\",\"Zona Oeste\",\"Zona Oeste\",\"Zona Oeste\",\"Zona Oeste\",\"Zona Oeste\"],\"xaxis\":\"x\",\"yaxis\":\"y\",\"type\":\"histogram\"}],                        {\"template\":{\"data\":{\"histogram2dcontour\":[{\"type\":\"histogram2dcontour\",\"colorbar\":{\"outlinewidth\":0,\"ticks\":\"\"},\"colorscale\":[[0.0,\"#0d0887\"],[0.1111111111111111,\"#46039f\"],[0.2222222222222222,\"#7201a8\"],[0.3333333333333333,\"#9c179e\"],[0.4444444444444444,\"#bd3786\"],[0.5555555555555556,\"#d8576b\"],[0.6666666666666666,\"#ed7953\"],[0.7777777777777778,\"#fb9f3a\"],[0.8888888888888888,\"#fdca26\"],[1.0,\"#f0f921\"]]}],\"choropleth\":[{\"type\":\"choropleth\",\"colorbar\":{\"outlinewidth\":0,\"ticks\":\"\"}}],\"histogram2d\":[{\"type\":\"histogram2d\",\"colorbar\":{\"outlinewidth\":0,\"ticks\":\"\"},\"colorscale\":[[0.0,\"#0d0887\"],[0.1111111111111111,\"#46039f\"],[0.2222222222222222,\"#7201a8\"],[0.3333333333333333,\"#9c179e\"],[0.4444444444444444,\"#bd3786\"],[0.5555555555555556,\"#d8576b\"],[0.6666666666666666,\"#ed7953\"],[0.7777777777777778,\"#fb9f3a\"],[0.8888888888888888,\"#fdca26\"],[1.0,\"#f0f921\"]]}],\"heatmap\":[{\"type\":\"heatmap\",\"colorbar\":{\"outlinewidth\":0,\"ticks\":\"\"},\"colorscale\":[[0.0,\"#0d0887\"],[0.1111111111111111,\"#46039f\"],[0.2222222222222222,\"#7201a8\"],[0.3333333333333333,\"#9c179e\"],[0.4444444444444444,\"#bd3786\"],[0.5555555555555556,\"#d8576b\"],[0.6666666666666666,\"#ed7953\"],[0.7777777777777778,\"#fb9f3a\"],[0.8888888888888888,\"#fdca26\"],[1.0,\"#f0f921\"]]}],\"heatmapgl\":[{\"type\":\"heatmapgl\",\"colorbar\":{\"outlinewidth\":0,\"ticks\":\"\"},\"colorscale\":[[0.0,\"#0d0887\"],[0.1111111111111111,\"#46039f\"],[0.2222222222222222,\"#7201a8\"],[0.3333333333333333,\"#9c179e\"],[0.4444444444444444,\"#bd3786\"],[0.5555555555555556,\"#d8576b\"],[0.6666666666666666,\"#ed7953\"],[0.7777777777777778,\"#fb9f3a\"],[0.8888888888888888,\"#fdca26\"],[1.0,\"#f0f921\"]]}],\"contourcarpet\":[{\"type\":\"contourcarpet\",\"colorbar\":{\"outlinewidth\":0,\"ticks\":\"\"}}],\"contour\":[{\"type\":\"contour\",\"colorbar\":{\"outlinewidth\":0,\"ticks\":\"\"},\"colorscale\":[[0.0,\"#0d0887\"],[0.1111111111111111,\"#46039f\"],[0.2222222222222222,\"#7201a8\"],[0.3333333333333333,\"#9c179e\"],[0.4444444444444444,\"#bd3786\"],[0.5555555555555556,\"#d8576b\"],[0.6666666666666666,\"#ed7953\"],[0.7777777777777778,\"#fb9f3a\"],[0.8888888888888888,\"#fdca26\"],[1.0,\"#f0f921\"]]}],\"surface\":[{\"type\":\"surface\",\"colorbar\":{\"outlinewidth\":0,\"ticks\":\"\"},\"colorscale\":[[0.0,\"#0d0887\"],[0.1111111111111111,\"#46039f\"],[0.2222222222222222,\"#7201a8\"],[0.3333333333333333,\"#9c179e\"],[0.4444444444444444,\"#bd3786\"],[0.5555555555555556,\"#d8576b\"],[0.6666666666666666,\"#ed7953\"],[0.7777777777777778,\"#fb9f3a\"],[0.8888888888888888,\"#fdca26\"],[1.0,\"#f0f921\"]]}],\"mesh3d\":[{\"type\":\"mesh3d\",\"colorbar\":{\"outlinewidth\":0,\"ticks\":\"\"}}],\"scatter\":[{\"fillpattern\":{\"fillmode\":\"overlay\",\"size\":10,\"solidity\":0.2},\"type\":\"scatter\"}],\"parcoords\":[{\"type\":\"parcoords\",\"line\":{\"colorbar\":{\"outlinewidth\":0,\"ticks\":\"\"}}}],\"scatterpolargl\":[{\"type\":\"scatterpolargl\",\"marker\":{\"colorbar\":{\"outlinewidth\":0,\"ticks\":\"\"}}}],\"bar\":[{\"error_x\":{\"color\":\"#2a3f5f\"},\"error_y\":{\"color\":\"#2a3f5f\"},\"marker\":{\"line\":{\"color\":\"#E5ECF6\",\"width\":0.5},\"pattern\":{\"fillmode\":\"overlay\",\"size\":10,\"solidity\":0.2}},\"type\":\"bar\"}],\"scattergeo\":[{\"type\":\"scattergeo\",\"marker\":{\"colorbar\":{\"outlinewidth\":0,\"ticks\":\"\"}}}],\"scatterpolar\":[{\"type\":\"scatterpolar\",\"marker\":{\"colorbar\":{\"outlinewidth\":0,\"ticks\":\"\"}}}],\"histogram\":[{\"marker\":{\"pattern\":{\"fillmode\":\"overlay\",\"size\":10,\"solidity\":0.2}},\"type\":\"histogram\"}],\"scattergl\":[{\"type\":\"scattergl\",\"marker\":{\"colorbar\":{\"outlinewidth\":0,\"ticks\":\"\"}}}],\"scatter3d\":[{\"type\":\"scatter3d\",\"line\":{\"colorbar\":{\"outlinewidth\":0,\"ticks\":\"\"}},\"marker\":{\"colorbar\":{\"outlinewidth\":0,\"ticks\":\"\"}}}],\"scattermapbox\":[{\"type\":\"scattermapbox\",\"marker\":{\"colorbar\":{\"outlinewidth\":0,\"ticks\":\"\"}}}],\"scatterternary\":[{\"type\":\"scatterternary\",\"marker\":{\"colorbar\":{\"outlinewidth\":0,\"ticks\":\"\"}}}],\"scattercarpet\":[{\"type\":\"scattercarpet\",\"marker\":{\"colorbar\":{\"outlinewidth\":0,\"ticks\":\"\"}}}],\"carpet\":[{\"aaxis\":{\"endlinecolor\":\"#2a3f5f\",\"gridcolor\":\"white\",\"linecolor\":\"white\",\"minorgridcolor\":\"white\",\"startlinecolor\":\"#2a3f5f\"},\"baxis\":{\"endlinecolor\":\"#2a3f5f\",\"gridcolor\":\"white\",\"linecolor\":\"white\",\"minorgridcolor\":\"white\",\"startlinecolor\":\"#2a3f5f\"},\"type\":\"carpet\"}],\"table\":[{\"cells\":{\"fill\":{\"color\":\"#EBF0F8\"},\"line\":{\"color\":\"white\"}},\"header\":{\"fill\":{\"color\":\"#C8D4E3\"},\"line\":{\"color\":\"white\"}},\"type\":\"table\"}],\"barpolar\":[{\"marker\":{\"line\":{\"color\":\"#E5ECF6\",\"width\":0.5},\"pattern\":{\"fillmode\":\"overlay\",\"size\":10,\"solidity\":0.2}},\"type\":\"barpolar\"}],\"pie\":[{\"automargin\":true,\"type\":\"pie\"}]},\"layout\":{\"autotypenumbers\":\"strict\",\"colorway\":[\"#636efa\",\"#EF553B\",\"#00cc96\",\"#ab63fa\",\"#FFA15A\",\"#19d3f3\",\"#FF6692\",\"#B6E880\",\"#FF97FF\",\"#FECB52\"],\"font\":{\"color\":\"#2a3f5f\"},\"hovermode\":\"closest\",\"hoverlabel\":{\"align\":\"left\"},\"paper_bgcolor\":\"white\",\"plot_bgcolor\":\"#E5ECF6\",\"polar\":{\"bgcolor\":\"#E5ECF6\",\"angularaxis\":{\"gridcolor\":\"white\",\"linecolor\":\"white\",\"ticks\":\"\"},\"radialaxis\":{\"gridcolor\":\"white\",\"linecolor\":\"white\",\"ticks\":\"\"}},\"ternary\":{\"bgcolor\":\"#E5ECF6\",\"aaxis\":{\"gridcolor\":\"white\",\"linecolor\":\"white\",\"ticks\":\"\"},\"baxis\":{\"gridcolor\":\"white\",\"linecolor\":\"white\",\"ticks\":\"\"},\"caxis\":{\"gridcolor\":\"white\",\"linecolor\":\"white\",\"ticks\":\"\"}},\"coloraxis\":{\"colorbar\":{\"outlinewidth\":0,\"ticks\":\"\"}},\"colorscale\":{\"sequential\":[[0.0,\"#0d0887\"],[0.1111111111111111,\"#46039f\"],[0.2222222222222222,\"#7201a8\"],[0.3333333333333333,\"#9c179e\"],[0.4444444444444444,\"#bd3786\"],[0.5555555555555556,\"#d8576b\"],[0.6666666666666666,\"#ed7953\"],[0.7777777777777778,\"#fb9f3a\"],[0.8888888888888888,\"#fdca26\"],[1.0,\"#f0f921\"]],\"sequentialminus\":[[0.0,\"#0d0887\"],[0.1111111111111111,\"#46039f\"],[0.2222222222222222,\"#7201a8\"],[0.3333333333333333,\"#9c179e\"],[0.4444444444444444,\"#bd3786\"],[0.5555555555555556,\"#d8576b\"],[0.6666666666666666,\"#ed7953\"],[0.7777777777777778,\"#fb9f3a\"],[0.8888888888888888,\"#fdca26\"],[1.0,\"#f0f921\"]],\"diverging\":[[0,\"#8e0152\"],[0.1,\"#c51b7d\"],[0.2,\"#de77ae\"],[0.3,\"#f1b6da\"],[0.4,\"#fde0ef\"],[0.5,\"#f7f7f7\"],[0.6,\"#e6f5d0\"],[0.7,\"#b8e186\"],[0.8,\"#7fbc41\"],[0.9,\"#4d9221\"],[1,\"#276419\"]]},\"xaxis\":{\"gridcolor\":\"white\",\"linecolor\":\"white\",\"ticks\":\"\",\"title\":{\"standoff\":15},\"zerolinecolor\":\"white\",\"automargin\":true,\"zerolinewidth\":2},\"yaxis\":{\"gridcolor\":\"white\",\"linecolor\":\"white\",\"ticks\":\"\",\"title\":{\"standoff\":15},\"zerolinecolor\":\"white\",\"automargin\":true,\"zerolinewidth\":2},\"scene\":{\"xaxis\":{\"backgroundcolor\":\"#E5ECF6\",\"gridcolor\":\"white\",\"linecolor\":\"white\",\"showbackground\":true,\"ticks\":\"\",\"zerolinecolor\":\"white\",\"gridwidth\":2},\"yaxis\":{\"backgroundcolor\":\"#E5ECF6\",\"gridcolor\":\"white\",\"linecolor\":\"white\",\"showbackground\":true,\"ticks\":\"\",\"zerolinecolor\":\"white\",\"gridwidth\":2},\"zaxis\":{\"backgroundcolor\":\"#E5ECF6\",\"gridcolor\":\"white\",\"linecolor\":\"white\",\"showbackground\":true,\"ticks\":\"\",\"zerolinecolor\":\"white\",\"gridwidth\":2}},\"shapedefaults\":{\"line\":{\"color\":\"#2a3f5f\"}},\"annotationdefaults\":{\"arrowcolor\":\"#2a3f5f\",\"arrowhead\":0,\"arrowwidth\":1},\"geo\":{\"bgcolor\":\"white\",\"landcolor\":\"#E5ECF6\",\"subunitcolor\":\"white\",\"showland\":true,\"showlakes\":true,\"lakecolor\":\"white\"},\"title\":{\"x\":0.05},\"mapbox\":{\"style\":\"light\"}}},\"xaxis\":{\"anchor\":\"y\",\"domain\":[0.0,1.0],\"title\":{\"text\":\"subprefeitura\"}},\"yaxis\":{\"anchor\":\"x\",\"domain\":[0.0,1.0],\"title\":{\"text\":\"count\"}},\"legend\":{\"tracegroupgap\":0},\"margin\":{\"t\":60},\"barmode\":\"group\",\"bargap\":0.2},                        {\"responsive\": true}                    ).then(function(){\n",
       "                            \n",
       "var gd = document.getElementById('c1d30500-3429-4806-bc1e-ae7cfbedfcf5');\n",
       "var x = new MutationObserver(function (mutations, observer) {{\n",
       "        var display = window.getComputedStyle(gd).display;\n",
       "        if (!display || display === 'none') {{\n",
       "            console.log([gd, 'removed!']);\n",
       "            Plotly.purge(gd);\n",
       "            observer.disconnect();\n",
       "        }}\n",
       "}});\n",
       "\n",
       "// Listen for the removal of the full notebook cells\n",
       "var notebookContainer = gd.closest('#notebook-container');\n",
       "if (notebookContainer) {{\n",
       "    x.observe(notebookContainer, {childList: true});\n",
       "}}\n",
       "\n",
       "// Listen for the clearing of the current output cell\n",
       "var outputEl = gd.closest('.output');\n",
       "if (outputEl) {{\n",
       "    x.observe(outputEl, {childList: true});\n",
       "}}\n",
       "\n",
       "                        })                };                });            </script>        </div>"
      ]
     },
     "metadata": {},
     "output_type": "display_data"
    }
   ],
   "source": [
    "fig = px.histogram(df, x=\"subprefeitura\", barmode='group', text_auto= True)\n",
    "fig.update_layout(bargap=0.2)\n",
    "fig.show()"
   ]
  },
  {
   "cell_type": "markdown",
   "metadata": {},
   "source": [
    "### 5) Existe algum chamado aberto nesse dia que não foi associado a um bairro ou subprefeitura na tabela de bairros? Se sim, por que isso acontece?\n",
    "    /*como era um onibus e se tratava de um problema de ar condicionadoa a localização exata em si não ficou registrada"
   ]
  },
  {
   "cell_type": "markdown",
   "metadata": {},
   "source": [
    "### Distribuição dos pontos de Chamada no dia 01/04/2023"
   ]
  },
  {
   "cell_type": "code",
   "execution_count": 60,
   "metadata": {},
   "outputs": [],
   "source": [
    "mapa = folium.Map(location=[-22.9028, -43.2078],zoom_start=12.4)"
   ]
  },
  {
   "cell_type": "code",
   "execution_count": 65,
   "metadata": {},
   "outputs": [],
   "source": [
    "# Estações iniciais \n",
    "\n",
    "df_lat_long_start = df[['latitude', 'longitude']].dropna()\n",
    "\n",
    "dataStart = df_lat_long_start.values.tolist()\n",
    " \n",
    "hmStart = HeatMap(dataStart,gradient={0.1: 'blue', 0.3: 'lime', 0.5: 'yellow', 0.7: 'orange', 1: 'red'}, \n",
    "                min_opacity=0.05, \n",
    "                max_opacity=0.9, \n",
    "                radius=25,\n",
    "                use_local_extrema=False).add_to(mapa)"
   ]
  },
  {
   "cell_type": "code",
   "execution_count": 68,
   "metadata": {},
   "outputs": [
    {
     "data": {
      "text/html": [
       "<div style=\"width:100%;\"><div style=\"position:relative;width:100%;height:0;padding-bottom:60%;\"><span style=\"color:#565656\">Make this Notebook Trusted to load map: File -> Trust Notebook</span><iframe srcdoc=\"&lt;!DOCTYPE html&gt;\n",
       "&lt;html&gt;\n",
       "&lt;head&gt;\n",
       "    \n",
       "    &lt;meta http-equiv=&quot;content-type&quot; content=&quot;text/html; charset=UTF-8&quot; /&gt;\n",
       "    \n",
       "        &lt;script&gt;\n",
       "            L_NO_TOUCH = false;\n",
       "            L_DISABLE_3D = false;\n",
       "        &lt;/script&gt;\n",
       "    \n",
       "    &lt;style&gt;html, body {width: 100%;height: 100%;margin: 0;padding: 0;}&lt;/style&gt;\n",
       "    &lt;style&gt;#map {position:absolute;top:0;bottom:0;right:0;left:0;}&lt;/style&gt;\n",
       "    &lt;script src=&quot;https://cdn.jsdelivr.net/npm/leaflet@1.9.3/dist/leaflet.js&quot;&gt;&lt;/script&gt;\n",
       "    &lt;script src=&quot;https://code.jquery.com/jquery-1.12.4.min.js&quot;&gt;&lt;/script&gt;\n",
       "    &lt;script src=&quot;https://cdn.jsdelivr.net/npm/bootstrap@5.2.2/dist/js/bootstrap.bundle.min.js&quot;&gt;&lt;/script&gt;\n",
       "    &lt;script src=&quot;https://cdnjs.cloudflare.com/ajax/libs/Leaflet.awesome-markers/2.0.2/leaflet.awesome-markers.js&quot;&gt;&lt;/script&gt;\n",
       "    &lt;link rel=&quot;stylesheet&quot; href=&quot;https://cdn.jsdelivr.net/npm/leaflet@1.9.3/dist/leaflet.css&quot;/&gt;\n",
       "    &lt;link rel=&quot;stylesheet&quot; href=&quot;https://cdn.jsdelivr.net/npm/bootstrap@5.2.2/dist/css/bootstrap.min.css&quot;/&gt;\n",
       "    &lt;link rel=&quot;stylesheet&quot; href=&quot;https://netdna.bootstrapcdn.com/bootstrap/3.0.0/css/bootstrap.min.css&quot;/&gt;\n",
       "    &lt;link rel=&quot;stylesheet&quot; href=&quot;https://cdn.jsdelivr.net/npm/@fortawesome/fontawesome-free@6.2.0/css/all.min.css&quot;/&gt;\n",
       "    &lt;link rel=&quot;stylesheet&quot; href=&quot;https://cdnjs.cloudflare.com/ajax/libs/Leaflet.awesome-markers/2.0.2/leaflet.awesome-markers.css&quot;/&gt;\n",
       "    &lt;link rel=&quot;stylesheet&quot; href=&quot;https://cdn.jsdelivr.net/gh/python-visualization/folium/folium/templates/leaflet.awesome.rotate.min.css&quot;/&gt;\n",
       "    \n",
       "            &lt;meta name=&quot;viewport&quot; content=&quot;width=device-width,\n",
       "                initial-scale=1.0, maximum-scale=1.0, user-scalable=no&quot; /&gt;\n",
       "            &lt;style&gt;\n",
       "                #map_900dda01fa72939e606b7416647eceb0 {\n",
       "                    position: relative;\n",
       "                    width: 100.0%;\n",
       "                    height: 100.0%;\n",
       "                    left: 0.0%;\n",
       "                    top: 0.0%;\n",
       "                }\n",
       "                .leaflet-container { font-size: 1rem; }\n",
       "            &lt;/style&gt;\n",
       "        \n",
       "    &lt;script src=&quot;https://cdn.jsdelivr.net/gh/python-visualization/folium@main/folium/templates/leaflet_heat.min.js&quot;&gt;&lt;/script&gt;\n",
       "&lt;/head&gt;\n",
       "&lt;body&gt;\n",
       "    \n",
       "    \n",
       "            &lt;div class=&quot;folium-map&quot; id=&quot;map_900dda01fa72939e606b7416647eceb0&quot; &gt;&lt;/div&gt;\n",
       "        \n",
       "&lt;/body&gt;\n",
       "&lt;script&gt;\n",
       "    \n",
       "    \n",
       "            var map_900dda01fa72939e606b7416647eceb0 = L.map(\n",
       "                &quot;map_900dda01fa72939e606b7416647eceb0&quot;,\n",
       "                {\n",
       "                    center: [-22.9028, -43.2078],\n",
       "                    crs: L.CRS.EPSG3857,\n",
       "                    zoom: 12.4,\n",
       "                    zoomControl: true,\n",
       "                    preferCanvas: false,\n",
       "                }\n",
       "            );\n",
       "\n",
       "            \n",
       "\n",
       "        \n",
       "    \n",
       "            var tile_layer_ec11cef6daa1a4c8c6a8c0f70b98ecbf = L.tileLayer(\n",
       "                &quot;https://{s}.tile.openstreetmap.org/{z}/{x}/{y}.png&quot;,\n",
       "                {&quot;attribution&quot;: &quot;Data by \\u0026copy; \\u003ca target=\\&quot;_blank\\&quot; href=\\&quot;http://openstreetmap.org\\&quot;\\u003eOpenStreetMap\\u003c/a\\u003e, under \\u003ca target=\\&quot;_blank\\&quot; href=\\&quot;http://www.openstreetmap.org/copyright\\&quot;\\u003eODbL\\u003c/a\\u003e.&quot;, &quot;detectRetina&quot;: false, &quot;maxNativeZoom&quot;: 18, &quot;maxZoom&quot;: 18, &quot;minZoom&quot;: 0, &quot;noWrap&quot;: false, &quot;opacity&quot;: 1, &quot;subdomains&quot;: &quot;abc&quot;, &quot;tms&quot;: false}\n",
       "            ).addTo(map_900dda01fa72939e606b7416647eceb0);\n",
       "        \n",
       "    \n",
       "            var heat_map_5c564adba7cb946ea1a655ac5fd04f4f = L.heatLayer(\n",
       "                [[-22.921335, -43.186679], [-22.9122295, -43.1882526], [-22.9211226, -43.1872883], [-22.921276, -43.1863882], [-22.916378, -43.177797], [-22.9360903, -43.2370889], [-22.9360785, -43.2382077], [-22.9312377, -43.1759738], [-22.9839446, -43.2273731], [-22.9829683, -43.2223353], [-22.9820428, -43.2227213], [-22.9337607, -43.1799996], [-22.9824076, -43.2254738], [-22.9829683, -43.2223353], [-22.9250817, -43.1781994], [-22.9820428, -43.2227213], [-22.9563607, -43.1817727], [-22.9851666, -43.1988138], [-22.9844968, -43.1946673], [-22.9045871, -43.2882233], [-22.9045871, -43.2882233], [-22.8231775, -43.3196572], [-22.8735091, -43.3178639], [-22.8461518, -43.376672], [-22.848378600000004, -43.3347992], [-22.8432948, -43.3157977], [-22.881842, -43.321864], [-22.9088656, -43.2963876], [-22.9027989, -43.2982032], [-22.9028866, -43.2986105], [-22.8459998, -43.3103707], [-22.838978, -43.400704000000005], [-22.8339043, -43.2759555], [-22.8289747, -43.31917], [-22.8446599, -43.2637481], [-22.9045871, -43.2882233], [-22.9045871, -43.2882233], [-23.0091735, -43.3374538], [-23.0100851, -43.3376669], [-23.0101685, -43.3219], [-22.9746326, -43.3730297], [-22.9243085, -43.3714843], [-22.9173627, -43.3614333], [-22.9311496, -43.3487962], [-22.9786046, -43.3336748], [-23.0118117, -43.30504440000001], [-23.0114735, -43.3039235], [-22.916721400000004, -43.5625661], [-22.862619, -43.455509000000006], [-22.906498300000003, -43.5611465], [-22.8714502, -43.455952], [-22.9167715, -43.56262830000001], [-22.887766199999998, -43.417526699999996], [-22.8796648, -43.563247], [-22.891154, -43.537462]],\n",
       "                {&quot;blur&quot;: 15, &quot;gradient&quot;: {&quot;0.1&quot;: &quot;blue&quot;, &quot;0.3&quot;: &quot;lime&quot;, &quot;0.5&quot;: &quot;yellow&quot;, &quot;0.7&quot;: &quot;orange&quot;, &quot;1&quot;: &quot;red&quot;}, &quot;maxOpacity&quot;: 0.9, &quot;maxZoom&quot;: 18, &quot;minOpacity&quot;: 0.05, &quot;radius&quot;: 25, &quot;useLocalExtrema&quot;: false}\n",
       "            ).addTo(map_900dda01fa72939e606b7416647eceb0);\n",
       "        \n",
       "    \n",
       "            var marker_2bb82b6273fbf878d564bee33075fbda = L.marker(\n",
       "                [-22.9045871, -43.2882233],\n",
       "                {}\n",
       "            ).addTo(map_900dda01fa72939e606b7416647eceb0);\n",
       "        \n",
       "    \n",
       "        var popup_5975811215f654e33932b3c359993c41 = L.popup({&quot;maxWidth&quot;: &quot;100%&quot;});\n",
       "\n",
       "        \n",
       "            \n",
       "                var html_040e30c18ac5c15a7db5bfe8dea6d299 = $(`&lt;div id=&quot;html_040e30c18ac5c15a7db5bfe8dea6d299&quot; style=&quot;width: 100.0%; height: 100.0%;&quot;&gt;[&#x27;Engenho de Dentro &lt;br&gt; &#x27;, &#x27;8 &lt;br&gt;&#x27;]&lt;/div&gt;`)[0];\n",
       "                popup_5975811215f654e33932b3c359993c41.setContent(html_040e30c18ac5c15a7db5bfe8dea6d299);\n",
       "            \n",
       "        \n",
       "\n",
       "        marker_2bb82b6273fbf878d564bee33075fbda.bindPopup(popup_5975811215f654e33932b3c359993c41)\n",
       "        ;\n",
       "\n",
       "        \n",
       "    \n",
       "    \n",
       "            var marker_83144cb9766a010071a2bbb6389832d0 = L.marker(\n",
       "                [-22.916721400000004, -43.5625661],\n",
       "                {}\n",
       "            ).addTo(map_900dda01fa72939e606b7416647eceb0);\n",
       "        \n",
       "    \n",
       "        var popup_ddc3b845a6ac222b19d732e169533d60 = L.popup({&quot;maxWidth&quot;: &quot;100%&quot;});\n",
       "\n",
       "        \n",
       "            \n",
       "                var html_8a560536d656fe15cfc562851ad239eb = $(`&lt;div id=&quot;html_8a560536d656fe15cfc562851ad239eb&quot; style=&quot;width: 100.0%; height: 100.0%;&quot;&gt;[&#x27;Campo Grande &lt;br&gt; &#x27;, &#x27;6 &lt;br&gt;&#x27;]&lt;/div&gt;`)[0];\n",
       "                popup_ddc3b845a6ac222b19d732e169533d60.setContent(html_8a560536d656fe15cfc562851ad239eb);\n",
       "            \n",
       "        \n",
       "\n",
       "        marker_83144cb9766a010071a2bbb6389832d0.bindPopup(popup_ddc3b845a6ac222b19d732e169533d60)\n",
       "        ;\n",
       "\n",
       "        \n",
       "    \n",
       "    \n",
       "            var marker_c7cdb82b4b5ecd819caf74fc7d0e739b = L.marker(\n",
       "                [-22.9839446, -43.2273731],\n",
       "                {}\n",
       "            ).addTo(map_900dda01fa72939e606b7416647eceb0);\n",
       "        \n",
       "    \n",
       "        var popup_c3712eeae14ea051fbeef2d879a81be6 = L.popup({&quot;maxWidth&quot;: &quot;100%&quot;});\n",
       "\n",
       "        \n",
       "            \n",
       "                var html_4ec218141e5745ab2af84989607ab47f = $(`&lt;div id=&quot;html_4ec218141e5745ab2af84989607ab47f&quot; style=&quot;width: 100.0%; height: 100.0%;&quot;&gt;[&#x27;Leblon &lt;br&gt; &#x27;, &#x27;6 &lt;br&gt;&#x27;]&lt;/div&gt;`)[0];\n",
       "                popup_c3712eeae14ea051fbeef2d879a81be6.setContent(html_4ec218141e5745ab2af84989607ab47f);\n",
       "            \n",
       "        \n",
       "\n",
       "        marker_c7cdb82b4b5ecd819caf74fc7d0e739b.bindPopup(popup_c3712eeae14ea051fbeef2d879a81be6)\n",
       "        ;\n",
       "\n",
       "        \n",
       "    \n",
       "    \n",
       "            var marker_072d65f6c35e5e40bc593935295a7d75 = L.marker(\n",
       "                [-22.9045871, -43.2882233],\n",
       "                {}\n",
       "            ).addTo(map_900dda01fa72939e606b7416647eceb0);\n",
       "        \n",
       "    \n",
       "        var popup_c72ec7ff5fc37f62a29fc4b28e3b6902 = L.popup({&quot;maxWidth&quot;: &quot;100%&quot;});\n",
       "\n",
       "        \n",
       "            \n",
       "                var html_bf96fc9d36d95e247a4acff787eff99b = $(`&lt;div id=&quot;html_bf96fc9d36d95e247a4acff787eff99b&quot; style=&quot;width: 100.0%; height: 100.0%;&quot;&gt;[&#x27;Engenho de Dentro &lt;br&gt; &#x27;, &#x27;8 &lt;br&gt;&#x27;]&lt;/div&gt;`)[0];\n",
       "                popup_c72ec7ff5fc37f62a29fc4b28e3b6902.setContent(html_bf96fc9d36d95e247a4acff787eff99b);\n",
       "            \n",
       "        \n",
       "\n",
       "        marker_072d65f6c35e5e40bc593935295a7d75.bindPopup(popup_c72ec7ff5fc37f62a29fc4b28e3b6902)\n",
       "        ;\n",
       "\n",
       "        \n",
       "    \n",
       "    \n",
       "            var marker_f06ed121330fc46761f30791e3fce72c = L.marker(\n",
       "                [-22.916721400000004, -43.5625661],\n",
       "                {}\n",
       "            ).addTo(map_900dda01fa72939e606b7416647eceb0);\n",
       "        \n",
       "    \n",
       "        var popup_b63226257408e9fab0894a719cbca028 = L.popup({&quot;maxWidth&quot;: &quot;100%&quot;});\n",
       "\n",
       "        \n",
       "            \n",
       "                var html_4e46fc9a7e93231faf30e36eca555282 = $(`&lt;div id=&quot;html_4e46fc9a7e93231faf30e36eca555282&quot; style=&quot;width: 100.0%; height: 100.0%;&quot;&gt;[&#x27;Campo Grande &lt;br&gt; &#x27;, &#x27;6 &lt;br&gt;&#x27;]&lt;/div&gt;`)[0];\n",
       "                popup_b63226257408e9fab0894a719cbca028.setContent(html_4e46fc9a7e93231faf30e36eca555282);\n",
       "            \n",
       "        \n",
       "\n",
       "        marker_f06ed121330fc46761f30791e3fce72c.bindPopup(popup_b63226257408e9fab0894a719cbca028)\n",
       "        ;\n",
       "\n",
       "        \n",
       "    \n",
       "    \n",
       "            var marker_3817111f74ebf82e398e8c7e4990884b = L.marker(\n",
       "                [-22.9839446, -43.2273731],\n",
       "                {}\n",
       "            ).addTo(map_900dda01fa72939e606b7416647eceb0);\n",
       "        \n",
       "    \n",
       "        var popup_12cc7598a808c0ad0363aab534d02327 = L.popup({&quot;maxWidth&quot;: &quot;100%&quot;});\n",
       "\n",
       "        \n",
       "            \n",
       "                var html_9a26720488236e8f3cb0ec5a9bae3112 = $(`&lt;div id=&quot;html_9a26720488236e8f3cb0ec5a9bae3112&quot; style=&quot;width: 100.0%; height: 100.0%;&quot;&gt;[&#x27;Leblon &lt;br&gt; &#x27;, &#x27;6 &lt;br&gt;&#x27;]&lt;/div&gt;`)[0];\n",
       "                popup_12cc7598a808c0ad0363aab534d02327.setContent(html_9a26720488236e8f3cb0ec5a9bae3112);\n",
       "            \n",
       "        \n",
       "\n",
       "        marker_3817111f74ebf82e398e8c7e4990884b.bindPopup(popup_12cc7598a808c0ad0363aab534d02327)\n",
       "        ;\n",
       "\n",
       "        \n",
       "    \n",
       "    \n",
       "            var marker_570b64c914a901ba7db05185aa072a95 = L.marker(\n",
       "                [-23.0091735, -43.3374538],\n",
       "                {}\n",
       "            ).addTo(map_900dda01fa72939e606b7416647eceb0);\n",
       "        \n",
       "    \n",
       "        var popup_a79117e9c42ea776d5077fbfd9b42933 = L.popup({&quot;maxWidth&quot;: &quot;100%&quot;});\n",
       "\n",
       "        \n",
       "            \n",
       "                var html_8eaae33d8c05f9d34369d423d9ef2324 = $(`&lt;div id=&quot;html_8eaae33d8c05f9d34369d423d9ef2324&quot; style=&quot;width: 100.0%; height: 100.0%;&quot;&gt;[&#x27;Barra da Tijuca &lt;br&gt; &#x27;, &#x27;5 &lt;br&gt;&#x27;]&lt;/div&gt;`)[0];\n",
       "                popup_a79117e9c42ea776d5077fbfd9b42933.setContent(html_8eaae33d8c05f9d34369d423d9ef2324);\n",
       "            \n",
       "        \n",
       "\n",
       "        marker_570b64c914a901ba7db05185aa072a95.bindPopup(popup_a79117e9c42ea776d5077fbfd9b42933)\n",
       "        ;\n",
       "\n",
       "        \n",
       "    \n",
       "    \n",
       "            var heat_map_8c5fef555ab43521df8153400627aa42 = L.heatLayer(\n",
       "                [[-22.921335, -43.186679], [-22.9122295, -43.1882526], [-22.9211226, -43.1872883], [-22.921276, -43.1863882], [-22.916378, -43.177797], [-22.9360903, -43.2370889], [-22.9360785, -43.2382077], [-22.9312377, -43.1759738], [-22.9839446, -43.2273731], [-22.9829683, -43.2223353], [-22.9820428, -43.2227213], [-22.9337607, -43.1799996], [-22.9824076, -43.2254738], [-22.9829683, -43.2223353], [-22.9250817, -43.1781994], [-22.9820428, -43.2227213], [-22.9563607, -43.1817727], [-22.9851666, -43.1988138], [-22.9844968, -43.1946673], [-22.9045871, -43.2882233], [-22.9045871, -43.2882233], [-22.8231775, -43.3196572], [-22.8735091, -43.3178639], [-22.8461518, -43.376672], [-22.848378600000004, -43.3347992], [-22.8432948, -43.3157977], [-22.881842, -43.321864], [-22.9088656, -43.2963876], [-22.9027989, -43.2982032], [-22.9028866, -43.2986105], [-22.8459998, -43.3103707], [-22.838978, -43.400704000000005], [-22.8339043, -43.2759555], [-22.8289747, -43.31917], [-22.8446599, -43.2637481], [-22.9045871, -43.2882233], [-22.9045871, -43.2882233], [-23.0091735, -43.3374538], [-23.0100851, -43.3376669], [-23.0101685, -43.3219], [-22.9746326, -43.3730297], [-22.9243085, -43.3714843], [-22.9173627, -43.3614333], [-22.9311496, -43.3487962], [-22.9786046, -43.3336748], [-23.0118117, -43.30504440000001], [-23.0114735, -43.3039235], [-22.916721400000004, -43.5625661], [-22.862619, -43.455509000000006], [-22.906498300000003, -43.5611465], [-22.8714502, -43.455952], [-22.9167715, -43.56262830000001], [-22.887766199999998, -43.417526699999996], [-22.8796648, -43.563247], [-22.891154, -43.537462]],\n",
       "                {&quot;blur&quot;: 15, &quot;gradient&quot;: {&quot;0.1&quot;: &quot;blue&quot;, &quot;0.3&quot;: &quot;lime&quot;, &quot;0.5&quot;: &quot;yellow&quot;, &quot;0.7&quot;: &quot;orange&quot;, &quot;1&quot;: &quot;red&quot;}, &quot;maxOpacity&quot;: 0.9, &quot;maxZoom&quot;: 18, &quot;minOpacity&quot;: 0.05, &quot;radius&quot;: 25, &quot;useLocalExtrema&quot;: false}\n",
       "            ).addTo(map_900dda01fa72939e606b7416647eceb0);\n",
       "        \n",
       "    \n",
       "            var marker_5d82e4b4e9989940599e732160cca807 = L.marker(\n",
       "                [-22.9045871, -43.2882233],\n",
       "                {}\n",
       "            ).addTo(map_900dda01fa72939e606b7416647eceb0);\n",
       "        \n",
       "    \n",
       "        var popup_c96150073e2701ae7ce986f630f33522 = L.popup({&quot;maxWidth&quot;: &quot;100%&quot;});\n",
       "\n",
       "        \n",
       "            \n",
       "                var html_194f15ca4247c519666fb3619c49817a = $(`&lt;div id=&quot;html_194f15ca4247c519666fb3619c49817a&quot; style=&quot;width: 100.0%; height: 100.0%;&quot;&gt;[&#x27;Engenho de Dentro &lt;br&gt; &#x27;, &#x27;8 &lt;br&gt;&#x27;]&lt;/div&gt;`)[0];\n",
       "                popup_c96150073e2701ae7ce986f630f33522.setContent(html_194f15ca4247c519666fb3619c49817a);\n",
       "            \n",
       "        \n",
       "\n",
       "        marker_5d82e4b4e9989940599e732160cca807.bindPopup(popup_c96150073e2701ae7ce986f630f33522)\n",
       "        ;\n",
       "\n",
       "        \n",
       "    \n",
       "    \n",
       "            var marker_caed714c5ad9e1f28ed4cc47cdab373f = L.marker(\n",
       "                [-22.916721400000004, -43.5625661],\n",
       "                {}\n",
       "            ).addTo(map_900dda01fa72939e606b7416647eceb0);\n",
       "        \n",
       "    \n",
       "        var popup_cb6a13f96aa65e042b47b1025fea33de = L.popup({&quot;maxWidth&quot;: &quot;100%&quot;});\n",
       "\n",
       "        \n",
       "            \n",
       "                var html_c9ab1783f90fed9cf081938283c7f0ac = $(`&lt;div id=&quot;html_c9ab1783f90fed9cf081938283c7f0ac&quot; style=&quot;width: 100.0%; height: 100.0%;&quot;&gt;[&#x27;Campo Grande &lt;br&gt; &#x27;, &#x27;6 &lt;br&gt;&#x27;]&lt;/div&gt;`)[0];\n",
       "                popup_cb6a13f96aa65e042b47b1025fea33de.setContent(html_c9ab1783f90fed9cf081938283c7f0ac);\n",
       "            \n",
       "        \n",
       "\n",
       "        marker_caed714c5ad9e1f28ed4cc47cdab373f.bindPopup(popup_cb6a13f96aa65e042b47b1025fea33de)\n",
       "        ;\n",
       "\n",
       "        \n",
       "    \n",
       "    \n",
       "            var marker_673dd20cca6f22fb0866e38a2f1d0b12 = L.marker(\n",
       "                [-22.9839446, -43.2273731],\n",
       "                {}\n",
       "            ).addTo(map_900dda01fa72939e606b7416647eceb0);\n",
       "        \n",
       "    \n",
       "        var popup_b6ae2502b4bdeb53310797a5bddba74d = L.popup({&quot;maxWidth&quot;: &quot;100%&quot;});\n",
       "\n",
       "        \n",
       "            \n",
       "                var html_37df8a73409d9e2daac0d0e8d6badd76 = $(`&lt;div id=&quot;html_37df8a73409d9e2daac0d0e8d6badd76&quot; style=&quot;width: 100.0%; height: 100.0%;&quot;&gt;[&#x27;Leblon &lt;br&gt; &#x27;, &#x27;6 &lt;br&gt;&#x27;]&lt;/div&gt;`)[0];\n",
       "                popup_b6ae2502b4bdeb53310797a5bddba74d.setContent(html_37df8a73409d9e2daac0d0e8d6badd76);\n",
       "            \n",
       "        \n",
       "\n",
       "        marker_673dd20cca6f22fb0866e38a2f1d0b12.bindPopup(popup_b6ae2502b4bdeb53310797a5bddba74d)\n",
       "        ;\n",
       "\n",
       "        \n",
       "    \n",
       "    \n",
       "            var marker_a936e6f038803c6f5b0a92f48e0e8f80 = L.marker(\n",
       "                [-23.0091735, -43.3374538],\n",
       "                {}\n",
       "            ).addTo(map_900dda01fa72939e606b7416647eceb0);\n",
       "        \n",
       "    \n",
       "        var popup_bc3662e424b1087383c203bcf7c3ac74 = L.popup({&quot;maxWidth&quot;: &quot;100%&quot;});\n",
       "\n",
       "        \n",
       "            \n",
       "                var html_a57d3e170a82ade503dcfce91dd7c50c = $(`&lt;div id=&quot;html_a57d3e170a82ade503dcfce91dd7c50c&quot; style=&quot;width: 100.0%; height: 100.0%;&quot;&gt;[&#x27;Barra da Tijuca &lt;br&gt; &#x27;, &#x27;5 &lt;br&gt;&#x27;]&lt;/div&gt;`)[0];\n",
       "                popup_bc3662e424b1087383c203bcf7c3ac74.setContent(html_a57d3e170a82ade503dcfce91dd7c50c);\n",
       "            \n",
       "        \n",
       "\n",
       "        marker_a936e6f038803c6f5b0a92f48e0e8f80.bindPopup(popup_bc3662e424b1087383c203bcf7c3ac74)\n",
       "        ;\n",
       "\n",
       "        \n",
       "    \n",
       "    \n",
       "            var marker_ec09f214be92355435afc87053488251 = L.marker(\n",
       "                [-22.9360903, -43.2370889],\n",
       "                {}\n",
       "            ).addTo(map_900dda01fa72939e606b7416647eceb0);\n",
       "        \n",
       "    \n",
       "        var popup_4ae2a024afa73332e8597f9903d09304 = L.popup({&quot;maxWidth&quot;: &quot;100%&quot;});\n",
       "\n",
       "        \n",
       "            \n",
       "                var html_f8659909c7fe9cf0b57e8df5c3b6e102 = $(`&lt;div id=&quot;html_f8659909c7fe9cf0b57e8df5c3b6e102&quot; style=&quot;width: 100.0%; height: 100.0%;&quot;&gt;[&#x27;Tijuca &lt;br&gt; &#x27;, &#x27;3 &lt;br&gt;&#x27;]&lt;/div&gt;`)[0];\n",
       "                popup_4ae2a024afa73332e8597f9903d09304.setContent(html_f8659909c7fe9cf0b57e8df5c3b6e102);\n",
       "            \n",
       "        \n",
       "\n",
       "        marker_ec09f214be92355435afc87053488251.bindPopup(popup_4ae2a024afa73332e8597f9903d09304)\n",
       "        ;\n",
       "\n",
       "        \n",
       "    \n",
       "    \n",
       "            var marker_57dd27fbf1a3a33eff7094b5f310fc1a = L.marker(\n",
       "                [-22.921335, -43.186679],\n",
       "                {}\n",
       "            ).addTo(map_900dda01fa72939e606b7416647eceb0);\n",
       "        \n",
       "    \n",
       "        var popup_c6d1bfcf30c922d4d23f5bd6a039c840 = L.popup({&quot;maxWidth&quot;: &quot;100%&quot;});\n",
       "\n",
       "        \n",
       "            \n",
       "                var html_b9e3d2a5c4f516335babf721e2cb9105 = $(`&lt;div id=&quot;html_b9e3d2a5c4f516335babf721e2cb9105&quot; style=&quot;width: 100.0%; height: 100.0%;&quot;&gt;[&#x27;Santa Teresa &lt;br&gt; &#x27;, &#x27;3 &lt;br&gt;&#x27;]&lt;/div&gt;`)[0];\n",
       "                popup_c6d1bfcf30c922d4d23f5bd6a039c840.setContent(html_b9e3d2a5c4f516335babf721e2cb9105);\n",
       "            \n",
       "        \n",
       "\n",
       "        marker_57dd27fbf1a3a33eff7094b5f310fc1a.bindPopup(popup_c6d1bfcf30c922d4d23f5bd6a039c840)\n",
       "        ;\n",
       "\n",
       "        \n",
       "    \n",
       "    \n",
       "            var marker_5e6c4df88fb61fc756c29cacd73f2ea7 = L.marker(\n",
       "                [-22.862619, -43.455509000000006],\n",
       "                {}\n",
       "            ).addTo(map_900dda01fa72939e606b7416647eceb0);\n",
       "        \n",
       "    \n",
       "        var popup_f41a6a86ea1eadb76b422f742ca2b814 = L.popup({&quot;maxWidth&quot;: &quot;100%&quot;});\n",
       "\n",
       "        \n",
       "            \n",
       "                var html_3d0e450e678839211260a03fae2ddc9d = $(`&lt;div id=&quot;html_3d0e450e678839211260a03fae2ddc9d&quot; style=&quot;width: 100.0%; height: 100.0%;&quot;&gt;[&#x27;Bangu &lt;br&gt; &#x27;, &#x27;2 &lt;br&gt;&#x27;]&lt;/div&gt;`)[0];\n",
       "                popup_f41a6a86ea1eadb76b422f742ca2b814.setContent(html_3d0e450e678839211260a03fae2ddc9d);\n",
       "            \n",
       "        \n",
       "\n",
       "        marker_5e6c4df88fb61fc756c29cacd73f2ea7.bindPopup(popup_f41a6a86ea1eadb76b422f742ca2b814)\n",
       "        ;\n",
       "\n",
       "        \n",
       "    \n",
       "    \n",
       "            var marker_baf08eccdabbb8d6215ca5ded8c25799 = L.marker(\n",
       "                [-22.9851666, -43.1988138],\n",
       "                {}\n",
       "            ).addTo(map_900dda01fa72939e606b7416647eceb0);\n",
       "        \n",
       "    \n",
       "        var popup_88b361cf7d0adfd3e401e2a7fdcdd0f8 = L.popup({&quot;maxWidth&quot;: &quot;100%&quot;});\n",
       "\n",
       "        \n",
       "            \n",
       "                var html_9a8037e58cc786d0f252c9fa8c269904 = $(`&lt;div id=&quot;html_9a8037e58cc786d0f252c9fa8c269904&quot; style=&quot;width: 100.0%; height: 100.0%;&quot;&gt;[&#x27;Ipanema &lt;br&gt; &#x27;, &#x27;2 &lt;br&gt;&#x27;]&lt;/div&gt;`)[0];\n",
       "                popup_88b361cf7d0adfd3e401e2a7fdcdd0f8.setContent(html_9a8037e58cc786d0f252c9fa8c269904);\n",
       "            \n",
       "        \n",
       "\n",
       "        marker_baf08eccdabbb8d6215ca5ded8c25799.bindPopup(popup_88b361cf7d0adfd3e401e2a7fdcdd0f8)\n",
       "        ;\n",
       "\n",
       "        \n",
       "    \n",
       "    \n",
       "            var marker_790429aabcb61d3393ae15b4929c811e = L.marker(\n",
       "                [-22.8432948, -43.3157977],\n",
       "                {}\n",
       "            ).addTo(map_900dda01fa72939e606b7416647eceb0);\n",
       "        \n",
       "    \n",
       "        var popup_29ea7670c6bdc20a6db16bf5a3764a4b = L.popup({&quot;maxWidth&quot;: &quot;100%&quot;});\n",
       "\n",
       "        \n",
       "            \n",
       "                var html_f9c91de8aecf6ed967578cd719f2c202 = $(`&lt;div id=&quot;html_f9c91de8aecf6ed967578cd719f2c202&quot; style=&quot;width: 100.0%; height: 100.0%;&quot;&gt;[&#x27;Vila da Penha &lt;br&gt; &#x27;, &#x27;2 &lt;br&gt;&#x27;]&lt;/div&gt;`)[0];\n",
       "                popup_29ea7670c6bdc20a6db16bf5a3764a4b.setContent(html_f9c91de8aecf6ed967578cd719f2c202);\n",
       "            \n",
       "        \n",
       "\n",
       "        marker_790429aabcb61d3393ae15b4929c811e.bindPopup(popup_29ea7670c6bdc20a6db16bf5a3764a4b)\n",
       "        ;\n",
       "\n",
       "        \n",
       "    \n",
       "    \n",
       "            var marker_22bb0f06d1d0f78d23c8c046d68fbce5 = L.marker(\n",
       "                [-22.9746326, -43.3730297],\n",
       "                {}\n",
       "            ).addTo(map_900dda01fa72939e606b7416647eceb0);\n",
       "        \n",
       "    \n",
       "        var popup_8639c912bee031ecec2e612c63f88e94 = L.popup({&quot;maxWidth&quot;: &quot;100%&quot;});\n",
       "\n",
       "        \n",
       "            \n",
       "                var html_d437c186ebb23b27c3fc0911397f68e6 = $(`&lt;div id=&quot;html_d437c186ebb23b27c3fc0911397f68e6&quot; style=&quot;width: 100.0%; height: 100.0%;&quot;&gt;[&#x27;Jacarepaguá &lt;br&gt; &#x27;, &#x27;2 &lt;br&gt;&#x27;]&lt;/div&gt;`)[0];\n",
       "                popup_8639c912bee031ecec2e612c63f88e94.setContent(html_d437c186ebb23b27c3fc0911397f68e6);\n",
       "            \n",
       "        \n",
       "\n",
       "        marker_22bb0f06d1d0f78d23c8c046d68fbce5.bindPopup(popup_8639c912bee031ecec2e612c63f88e94)\n",
       "        ;\n",
       "\n",
       "        \n",
       "    \n",
       "    \n",
       "            var marker_9501dd9ca3e8e79883b2cf82e3d902b9 = L.marker(\n",
       "                [-22.8231775, -43.3196572],\n",
       "                {}\n",
       "            ).addTo(map_900dda01fa72939e606b7416647eceb0);\n",
       "        \n",
       "    \n",
       "        var popup_4f5fc3ef2aa9330a0b691697c49beea5 = L.popup({&quot;maxWidth&quot;: &quot;100%&quot;});\n",
       "\n",
       "        \n",
       "            \n",
       "                var html_2a7765027b051b1e360fdc62bf381e47 = $(`&lt;div id=&quot;html_2a7765027b051b1e360fdc62bf381e47&quot; style=&quot;width: 100.0%; height: 100.0%;&quot;&gt;[&#x27;Irajá &lt;br&gt; &#x27;, &#x27;2 &lt;br&gt;&#x27;]&lt;/div&gt;`)[0];\n",
       "                popup_4f5fc3ef2aa9330a0b691697c49beea5.setContent(html_2a7765027b051b1e360fdc62bf381e47);\n",
       "            \n",
       "        \n",
       "\n",
       "        marker_9501dd9ca3e8e79883b2cf82e3d902b9.bindPopup(popup_4f5fc3ef2aa9330a0b691697c49beea5)\n",
       "        ;\n",
       "\n",
       "        \n",
       "    \n",
       "    \n",
       "            var marker_b15c3dc2eda38b2eeb957f56b67fc5a6 = L.marker(\n",
       "                [-22.916378, -43.177797],\n",
       "                {}\n",
       "            ).addTo(map_900dda01fa72939e606b7416647eceb0);\n",
       "        \n",
       "    \n",
       "        var popup_66b2c724633ac70827494876532dced5 = L.popup({&quot;maxWidth&quot;: &quot;100%&quot;});\n",
       "\n",
       "        \n",
       "            \n",
       "                var html_8db454a1eb0f0c4ab4c557dad57dfb27 = $(`&lt;div id=&quot;html_8db454a1eb0f0c4ab4c557dad57dfb27&quot; style=&quot;width: 100.0%; height: 100.0%;&quot;&gt;[&#x27;Lapa &lt;br&gt; &#x27;, &#x27;2 &lt;br&gt;&#x27;]&lt;/div&gt;`)[0];\n",
       "                popup_66b2c724633ac70827494876532dced5.setContent(html_8db454a1eb0f0c4ab4c557dad57dfb27);\n",
       "            \n",
       "        \n",
       "\n",
       "        marker_b15c3dc2eda38b2eeb957f56b67fc5a6.bindPopup(popup_66b2c724633ac70827494876532dced5)\n",
       "        ;\n",
       "\n",
       "        \n",
       "    \n",
       "    \n",
       "            var marker_062815928997dcae818c8c1b331365c4 = L.marker(\n",
       "                [-22.8461518, -43.376672],\n",
       "                {}\n",
       "            ).addTo(map_900dda01fa72939e606b7416647eceb0);\n",
       "        \n",
       "    \n",
       "        var popup_cb1f2711cd54b605f50e5892be28c0a8 = L.popup({&quot;maxWidth&quot;: &quot;100%&quot;});\n",
       "\n",
       "        \n",
       "            \n",
       "                var html_8f51ec58b320e4b24a19852c6e439b64 = $(`&lt;div id=&quot;html_8f51ec58b320e4b24a19852c6e439b64&quot; style=&quot;width: 100.0%; height: 100.0%;&quot;&gt;[&#x27;Guadalupe &lt;br&gt; &#x27;, &#x27;1 &lt;br&gt;&#x27;]&lt;/div&gt;`)[0];\n",
       "                popup_cb1f2711cd54b605f50e5892be28c0a8.setContent(html_8f51ec58b320e4b24a19852c6e439b64);\n",
       "            \n",
       "        \n",
       "\n",
       "        marker_062815928997dcae818c8c1b331365c4.bindPopup(popup_cb1f2711cd54b605f50e5892be28c0a8)\n",
       "        ;\n",
       "\n",
       "        \n",
       "    \n",
       "    \n",
       "            var marker_c0235b35cedea09a3e364e28929ddda9 = L.marker(\n",
       "                [-22.9563607, -43.1817727],\n",
       "                {}\n",
       "            ).addTo(map_900dda01fa72939e606b7416647eceb0);\n",
       "        \n",
       "    \n",
       "        var popup_5c0ff066349ff1ea47689d97685bddf2 = L.popup({&quot;maxWidth&quot;: &quot;100%&quot;});\n",
       "\n",
       "        \n",
       "            \n",
       "                var html_865d73c68b95b121c461087c1ee0660f = $(`&lt;div id=&quot;html_865d73c68b95b121c461087c1ee0660f&quot; style=&quot;width: 100.0%; height: 100.0%;&quot;&gt;[&#x27;Botafogo &lt;br&gt; &#x27;, &#x27;1 &lt;br&gt;&#x27;]&lt;/div&gt;`)[0];\n",
       "                popup_5c0ff066349ff1ea47689d97685bddf2.setContent(html_865d73c68b95b121c461087c1ee0660f);\n",
       "            \n",
       "        \n",
       "\n",
       "        marker_c0235b35cedea09a3e364e28929ddda9.bindPopup(popup_5c0ff066349ff1ea47689d97685bddf2)\n",
       "        ;\n",
       "\n",
       "        \n",
       "    \n",
       "    \n",
       "            var marker_c13d056382a7e1102f0d1ca14c21cc2d = L.marker(\n",
       "                [-22.881842, -43.321864],\n",
       "                {}\n",
       "            ).addTo(map_900dda01fa72939e606b7416647eceb0);\n",
       "        \n",
       "    \n",
       "        var popup_bed8265d77e9ef8cd309c015cb8af038 = L.popup({&quot;maxWidth&quot;: &quot;100%&quot;});\n",
       "\n",
       "        \n",
       "            \n",
       "                var html_afada2bbf12e1ae901194002aade4937 = $(`&lt;div id=&quot;html_afada2bbf12e1ae901194002aade4937&quot; style=&quot;width: 100.0%; height: 100.0%;&quot;&gt;[&#x27;Cascadura &lt;br&gt; &#x27;, &#x27;1 &lt;br&gt;&#x27;]&lt;/div&gt;`)[0];\n",
       "                popup_bed8265d77e9ef8cd309c015cb8af038.setContent(html_afada2bbf12e1ae901194002aade4937);\n",
       "            \n",
       "        \n",
       "\n",
       "        marker_c13d056382a7e1102f0d1ca14c21cc2d.bindPopup(popup_bed8265d77e9ef8cd309c015cb8af038)\n",
       "        ;\n",
       "\n",
       "        \n",
       "    \n",
       "    \n",
       "            var marker_8d4e32e62baa320384a74073c277936f = L.marker(\n",
       "                [-22.9243085, -43.3714843],\n",
       "                {}\n",
       "            ).addTo(map_900dda01fa72939e606b7416647eceb0);\n",
       "        \n",
       "    \n",
       "        var popup_d465380b17c44a1efa9cbaba82559e9d = L.popup({&quot;maxWidth&quot;: &quot;100%&quot;});\n",
       "\n",
       "        \n",
       "            \n",
       "                var html_97f28062c9098b7aaa27fa96e0f19e15 = $(`&lt;div id=&quot;html_97f28062c9098b7aaa27fa96e0f19e15&quot; style=&quot;width: 100.0%; height: 100.0%;&quot;&gt;[&#x27;Taquara &lt;br&gt; &#x27;, &#x27;1 &lt;br&gt;&#x27;]&lt;/div&gt;`)[0];\n",
       "                popup_d465380b17c44a1efa9cbaba82559e9d.setContent(html_97f28062c9098b7aaa27fa96e0f19e15);\n",
       "            \n",
       "        \n",
       "\n",
       "        marker_8d4e32e62baa320384a74073c277936f.bindPopup(popup_d465380b17c44a1efa9cbaba82559e9d)\n",
       "        ;\n",
       "\n",
       "        \n",
       "    \n",
       "    \n",
       "            var marker_98bb8cfb3fabd894d20a9bd043907bd0 = L.marker(\n",
       "                [-22.9173627, -43.3614333],\n",
       "                {}\n",
       "            ).addTo(map_900dda01fa72939e606b7416647eceb0);\n",
       "        \n",
       "    \n",
       "        var popup_47fc789d841b917900dcaac8878571c9 = L.popup({&quot;maxWidth&quot;: &quot;100%&quot;});\n",
       "\n",
       "        \n",
       "            \n",
       "                var html_9a27c812d20e8252f614adb8dc2fb24f = $(`&lt;div id=&quot;html_9a27c812d20e8252f614adb8dc2fb24f&quot; style=&quot;width: 100.0%; height: 100.0%;&quot;&gt;[&#x27;Tanque &lt;br&gt; &#x27;, &#x27;1 &lt;br&gt;&#x27;]&lt;/div&gt;`)[0];\n",
       "                popup_47fc789d841b917900dcaac8878571c9.setContent(html_9a27c812d20e8252f614adb8dc2fb24f);\n",
       "            \n",
       "        \n",
       "\n",
       "        marker_98bb8cfb3fabd894d20a9bd043907bd0.bindPopup(popup_47fc789d841b917900dcaac8878571c9)\n",
       "        ;\n",
       "\n",
       "        \n",
       "    \n",
       "    \n",
       "            var marker_4ea8135ca9f1e91c92bce31227ee990d = L.marker(\n",
       "                [-22.891154, -43.537462],\n",
       "                {}\n",
       "            ).addTo(map_900dda01fa72939e606b7416647eceb0);\n",
       "        \n",
       "    \n",
       "        var popup_11c1ac40e810df6be76a272372047b21 = L.popup({&quot;maxWidth&quot;: &quot;100%&quot;});\n",
       "\n",
       "        \n",
       "            \n",
       "                var html_eeed53fd61373596a1de87d9665dd255 = $(`&lt;div id=&quot;html_eeed53fd61373596a1de87d9665dd255&quot; style=&quot;width: 100.0%; height: 100.0%;&quot;&gt;[&#x27;Senador Vasconcelos &lt;br&gt; &#x27;, &#x27;1 &lt;br&gt;&#x27;]&lt;/div&gt;`)[0];\n",
       "                popup_11c1ac40e810df6be76a272372047b21.setContent(html_eeed53fd61373596a1de87d9665dd255);\n",
       "            \n",
       "        \n",
       "\n",
       "        marker_4ea8135ca9f1e91c92bce31227ee990d.bindPopup(popup_11c1ac40e810df6be76a272372047b21)\n",
       "        ;\n",
       "\n",
       "        \n",
       "    \n",
       "    \n",
       "            var marker_32e07edd4e8de89c4a5beeb52dbfe7fc = L.marker(\n",
       "                [-22.9250817, -43.1781994],\n",
       "                {}\n",
       "            ).addTo(map_900dda01fa72939e606b7416647eceb0);\n",
       "        \n",
       "    \n",
       "        var popup_879a4489f5d599a096aaf46e184d7459 = L.popup({&quot;maxWidth&quot;: &quot;100%&quot;});\n",
       "\n",
       "        \n",
       "            \n",
       "                var html_3f8133ce61090fc24dc9cc44658e0b98 = $(`&lt;div id=&quot;html_3f8133ce61090fc24dc9cc44658e0b98&quot; style=&quot;width: 100.0%; height: 100.0%;&quot;&gt;[&#x27;Catete &lt;br&gt; &#x27;, &#x27;1 &lt;br&gt;&#x27;]&lt;/div&gt;`)[0];\n",
       "                popup_879a4489f5d599a096aaf46e184d7459.setContent(html_3f8133ce61090fc24dc9cc44658e0b98);\n",
       "            \n",
       "        \n",
       "\n",
       "        marker_32e07edd4e8de89c4a5beeb52dbfe7fc.bindPopup(popup_879a4489f5d599a096aaf46e184d7459)\n",
       "        ;\n",
       "\n",
       "        \n",
       "    \n",
       "    \n",
       "            var marker_c01d4162851294202b821ce3cabb7798 = L.marker(\n",
       "                [-22.838978, -43.400704000000005],\n",
       "                {}\n",
       "            ).addTo(map_900dda01fa72939e606b7416647eceb0);\n",
       "        \n",
       "    \n",
       "        var popup_24d15a5d6927d3bb9256dcb40ffd600e = L.popup({&quot;maxWidth&quot;: &quot;100%&quot;});\n",
       "\n",
       "        \n",
       "            \n",
       "                var html_9ac8069fdd61fcef522cc72f1db5e812 = $(`&lt;div id=&quot;html_9ac8069fdd61fcef522cc72f1db5e812&quot; style=&quot;width: 100.0%; height: 100.0%;&quot;&gt;[&#x27;Ricardo de Albuquerque &lt;br&gt; &#x27;, &#x27;1 &lt;br&gt;&#x27;]&lt;/div&gt;`)[0];\n",
       "                popup_24d15a5d6927d3bb9256dcb40ffd600e.setContent(html_9ac8069fdd61fcef522cc72f1db5e812);\n",
       "            \n",
       "        \n",
       "\n",
       "        marker_c01d4162851294202b821ce3cabb7798.bindPopup(popup_24d15a5d6927d3bb9256dcb40ffd600e)\n",
       "        ;\n",
       "\n",
       "        \n",
       "    \n",
       "    \n",
       "            var marker_ff16bf59e8755511e6cc45af98586dd2 = L.marker(\n",
       "                [-22.887766199999998, -43.417526699999996],\n",
       "                {}\n",
       "            ).addTo(map_900dda01fa72939e606b7416647eceb0);\n",
       "        \n",
       "    \n",
       "        var popup_33b8d104d84b695f279e486570b6f5b0 = L.popup({&quot;maxWidth&quot;: &quot;100%&quot;});\n",
       "\n",
       "        \n",
       "            \n",
       "                var html_887983d0de14072d5ad8057ff557957e = $(`&lt;div id=&quot;html_887983d0de14072d5ad8057ff557957e&quot; style=&quot;width: 100.0%; height: 100.0%;&quot;&gt;[&#x27;Realengo &lt;br&gt; &#x27;, &#x27;1 &lt;br&gt;&#x27;]&lt;/div&gt;`)[0];\n",
       "                popup_33b8d104d84b695f279e486570b6f5b0.setContent(html_887983d0de14072d5ad8057ff557957e);\n",
       "            \n",
       "        \n",
       "\n",
       "        marker_ff16bf59e8755511e6cc45af98586dd2.bindPopup(popup_33b8d104d84b695f279e486570b6f5b0)\n",
       "        ;\n",
       "\n",
       "        \n",
       "    \n",
       "    \n",
       "            var marker_eca946081a57a0317b7a8e3bfd432c76 = L.marker(\n",
       "                [-22.8339043, -43.2759555],\n",
       "                {}\n",
       "            ).addTo(map_900dda01fa72939e606b7416647eceb0);\n",
       "        \n",
       "    \n",
       "        var popup_6c70697ab5d9b3306b6f023b962d7a53 = L.popup({&quot;maxWidth&quot;: &quot;100%&quot;});\n",
       "\n",
       "        \n",
       "            \n",
       "                var html_62d9ef5fd3bed796947ddefe452ff44f = $(`&lt;div id=&quot;html_62d9ef5fd3bed796947ddefe452ff44f&quot; style=&quot;width: 100.0%; height: 100.0%;&quot;&gt;[&#x27;Penha &lt;br&gt; &#x27;, &#x27;1 &lt;br&gt;&#x27;]&lt;/div&gt;`)[0];\n",
       "                popup_6c70697ab5d9b3306b6f023b962d7a53.setContent(html_62d9ef5fd3bed796947ddefe452ff44f);\n",
       "            \n",
       "        \n",
       "\n",
       "        marker_eca946081a57a0317b7a8e3bfd432c76.bindPopup(popup_6c70697ab5d9b3306b6f023b962d7a53)\n",
       "        ;\n",
       "\n",
       "        \n",
       "    \n",
       "    \n",
       "            var marker_8a059fc2df540e6da067a69fff88eb5f = L.marker(\n",
       "                [-22.9311496, -43.3487962],\n",
       "                {}\n",
       "            ).addTo(map_900dda01fa72939e606b7416647eceb0);\n",
       "        \n",
       "    \n",
       "        var popup_dee08e7f913a287a53466ffc64b88ac3 = L.popup({&quot;maxWidth&quot;: &quot;100%&quot;});\n",
       "\n",
       "        \n",
       "            \n",
       "                var html_a3d61ce346b746008f3b0193a78cb5b3 = $(`&lt;div id=&quot;html_a3d61ce346b746008f3b0193a78cb5b3&quot; style=&quot;width: 100.0%; height: 100.0%;&quot;&gt;[&#x27;Pechincha &lt;br&gt; &#x27;, &#x27;1 &lt;br&gt;&#x27;]&lt;/div&gt;`)[0];\n",
       "                popup_dee08e7f913a287a53466ffc64b88ac3.setContent(html_a3d61ce346b746008f3b0193a78cb5b3);\n",
       "            \n",
       "        \n",
       "\n",
       "        marker_8a059fc2df540e6da067a69fff88eb5f.bindPopup(popup_dee08e7f913a287a53466ffc64b88ac3)\n",
       "        ;\n",
       "\n",
       "        \n",
       "    \n",
       "    \n",
       "            var marker_480388651d8cd8da4f255614f52bba51 = L.marker(\n",
       "                [-22.8735091, -43.3178639],\n",
       "                {}\n",
       "            ).addTo(map_900dda01fa72939e606b7416647eceb0);\n",
       "        \n",
       "    \n",
       "        var popup_0ec05d07a5ae0bc545e62c91d31b9408 = L.popup({&quot;maxWidth&quot;: &quot;100%&quot;});\n",
       "\n",
       "        \n",
       "            \n",
       "                var html_6dfbe8bef7f12fd6a402ecdaf38e4479 = $(`&lt;div id=&quot;html_6dfbe8bef7f12fd6a402ecdaf38e4479&quot; style=&quot;width: 100.0%; height: 100.0%;&quot;&gt;[&#x27;Cavalcanti &lt;br&gt; &#x27;, &#x27;1 &lt;br&gt;&#x27;]&lt;/div&gt;`)[0];\n",
       "                popup_0ec05d07a5ae0bc545e62c91d31b9408.setContent(html_6dfbe8bef7f12fd6a402ecdaf38e4479);\n",
       "            \n",
       "        \n",
       "\n",
       "        marker_480388651d8cd8da4f255614f52bba51.bindPopup(popup_0ec05d07a5ae0bc545e62c91d31b9408)\n",
       "        ;\n",
       "\n",
       "        \n",
       "    \n",
       "    \n",
       "            var marker_3c9ef9a2a7e81c38caa0b37ba46317f6 = L.marker(\n",
       "                [-22.8446599, -43.2637481],\n",
       "                {}\n",
       "            ).addTo(map_900dda01fa72939e606b7416647eceb0);\n",
       "        \n",
       "    \n",
       "        var popup_0cdd64d9d290a0c6f21e64624b799f77 = L.popup({&quot;maxWidth&quot;: &quot;100%&quot;});\n",
       "\n",
       "        \n",
       "            \n",
       "                var html_e5ac3deb90adf8c46a68b6d45e95702b = $(`&lt;div id=&quot;html_e5ac3deb90adf8c46a68b6d45e95702b&quot; style=&quot;width: 100.0%; height: 100.0%;&quot;&gt;[&#x27;Olaria &lt;br&gt; &#x27;, &#x27;1 &lt;br&gt;&#x27;]&lt;/div&gt;`)[0];\n",
       "                popup_0cdd64d9d290a0c6f21e64624b799f77.setContent(html_e5ac3deb90adf8c46a68b6d45e95702b);\n",
       "            \n",
       "        \n",
       "\n",
       "        marker_3c9ef9a2a7e81c38caa0b37ba46317f6.bindPopup(popup_0cdd64d9d290a0c6f21e64624b799f77)\n",
       "        ;\n",
       "\n",
       "        \n",
       "    \n",
       "    \n",
       "            var marker_ad0a2e49527d984880d4ceed58e72612 = L.marker(\n",
       "                [-22.9122295, -43.1882526],\n",
       "                {}\n",
       "            ).addTo(map_900dda01fa72939e606b7416647eceb0);\n",
       "        \n",
       "    \n",
       "        var popup_f5cc17f1141de128c66e8954104af200 = L.popup({&quot;maxWidth&quot;: &quot;100%&quot;});\n",
       "\n",
       "        \n",
       "            \n",
       "                var html_f6249429ec4045ea0a41ff73765e700f = $(`&lt;div id=&quot;html_f6249429ec4045ea0a41ff73765e700f&quot; style=&quot;width: 100.0%; height: 100.0%;&quot;&gt;[&#x27;Centro &lt;br&gt; &#x27;, &#x27;1 &lt;br&gt;&#x27;]&lt;/div&gt;`)[0];\n",
       "                popup_f5cc17f1141de128c66e8954104af200.setContent(html_f6249429ec4045ea0a41ff73765e700f);\n",
       "            \n",
       "        \n",
       "\n",
       "        marker_ad0a2e49527d984880d4ceed58e72612.bindPopup(popup_f5cc17f1141de128c66e8954104af200)\n",
       "        ;\n",
       "\n",
       "        \n",
       "    \n",
       "    \n",
       "            var marker_4f9c898cbabe5269df79c8c315987bba = L.marker(\n",
       "                [-22.9337607, -43.1799996],\n",
       "                {}\n",
       "            ).addTo(map_900dda01fa72939e606b7416647eceb0);\n",
       "        \n",
       "    \n",
       "        var popup_bf4aa98c6b7ae833ef4011f2fed86b9b = L.popup({&quot;maxWidth&quot;: &quot;100%&quot;});\n",
       "\n",
       "        \n",
       "            \n",
       "                var html_18d8b1e63d22534d07db4c3e8686be36 = $(`&lt;div id=&quot;html_18d8b1e63d22534d07db4c3e8686be36&quot; style=&quot;width: 100.0%; height: 100.0%;&quot;&gt;[&#x27;Laranjeiras &lt;br&gt; &#x27;, &#x27;1 &lt;br&gt;&#x27;]&lt;/div&gt;`)[0];\n",
       "                popup_bf4aa98c6b7ae833ef4011f2fed86b9b.setContent(html_18d8b1e63d22534d07db4c3e8686be36);\n",
       "            \n",
       "        \n",
       "\n",
       "        marker_4f9c898cbabe5269df79c8c315987bba.bindPopup(popup_bf4aa98c6b7ae833ef4011f2fed86b9b)\n",
       "        ;\n",
       "\n",
       "        \n",
       "    \n",
       "    \n",
       "            var marker_3fca40866fd4f3aa20ede61985a7b555 = L.marker(\n",
       "                [-22.9312377, -43.1759738],\n",
       "                {}\n",
       "            ).addTo(map_900dda01fa72939e606b7416647eceb0);\n",
       "        \n",
       "    \n",
       "        var popup_eb26d1b4149c2914aa5a4454ca6c8d7c = L.popup({&quot;maxWidth&quot;: &quot;100%&quot;});\n",
       "\n",
       "        \n",
       "            \n",
       "                var html_7629fb5b61fc1f6db16b30caaa274a4d = $(`&lt;div id=&quot;html_7629fb5b61fc1f6db16b30caaa274a4d&quot; style=&quot;width: 100.0%; height: 100.0%;&quot;&gt;[&#x27;Flamengo &lt;br&gt; &#x27;, &#x27;1 &lt;br&gt;&#x27;]&lt;/div&gt;`)[0];\n",
       "                popup_eb26d1b4149c2914aa5a4454ca6c8d7c.setContent(html_7629fb5b61fc1f6db16b30caaa274a4d);\n",
       "            \n",
       "        \n",
       "\n",
       "        marker_3fca40866fd4f3aa20ede61985a7b555.bindPopup(popup_eb26d1b4149c2914aa5a4454ca6c8d7c)\n",
       "        ;\n",
       "\n",
       "        \n",
       "    \n",
       "    \n",
       "            var marker_9a314b3fdcaa2cee675620b6db54ae22 = L.marker(\n",
       "                [-22.9786046, -43.3336748],\n",
       "                {}\n",
       "            ).addTo(map_900dda01fa72939e606b7416647eceb0);\n",
       "        \n",
       "    \n",
       "        var popup_9b049c5520b42eaea498e063a5f7ffa6 = L.popup({&quot;maxWidth&quot;: &quot;100%&quot;});\n",
       "\n",
       "        \n",
       "            \n",
       "                var html_11fe6447911736cf02c877a32e5ac882 = $(`&lt;div id=&quot;html_11fe6447911736cf02c877a32e5ac882&quot; style=&quot;width: 100.0%; height: 100.0%;&quot;&gt;[&#x27;Itanhangá &lt;br&gt; &#x27;, &#x27;1 &lt;br&gt;&#x27;]&lt;/div&gt;`)[0];\n",
       "                popup_9b049c5520b42eaea498e063a5f7ffa6.setContent(html_11fe6447911736cf02c877a32e5ac882);\n",
       "            \n",
       "        \n",
       "\n",
       "        marker_9a314b3fdcaa2cee675620b6db54ae22.bindPopup(popup_9b049c5520b42eaea498e063a5f7ffa6)\n",
       "        ;\n",
       "\n",
       "        \n",
       "    \n",
       "    \n",
       "            var marker_6bd83ddab2076335677afce242e010e6 = L.marker(\n",
       "                [-22.8289747, -43.31917],\n",
       "                {}\n",
       "            ).addTo(map_900dda01fa72939e606b7416647eceb0);\n",
       "        \n",
       "    \n",
       "        var popup_fc58493b8306ae2bbe719452a5f5ef37 = L.popup({&quot;maxWidth&quot;: &quot;100%&quot;});\n",
       "\n",
       "        \n",
       "            \n",
       "                var html_33fc2b9f056b5807c7cd305d42dc94dd = $(`&lt;div id=&quot;html_33fc2b9f056b5807c7cd305d42dc94dd&quot; style=&quot;width: 100.0%; height: 100.0%;&quot;&gt;[&#x27;Vista Alegre &lt;br&gt; &#x27;, &#x27;1 &lt;br&gt;&#x27;]&lt;/div&gt;`)[0];\n",
       "                popup_fc58493b8306ae2bbe719452a5f5ef37.setContent(html_33fc2b9f056b5807c7cd305d42dc94dd);\n",
       "            \n",
       "        \n",
       "\n",
       "        marker_6bd83ddab2076335677afce242e010e6.bindPopup(popup_fc58493b8306ae2bbe719452a5f5ef37)\n",
       "        ;\n",
       "\n",
       "        \n",
       "    \n",
       "    \n",
       "            var marker_87b5e7c6baf6c0651b91d35781195cc5 = L.marker(\n",
       "                [-22.9045871, -43.2882233],\n",
       "                {}\n",
       "            ).addTo(map_900dda01fa72939e606b7416647eceb0);\n",
       "        \n",
       "    \n",
       "        var popup_2012c0bb9699f35e8f9f51c82052a4f2 = L.popup({&quot;maxWidth&quot;: &quot;100%&quot;});\n",
       "\n",
       "        \n",
       "            \n",
       "                var html_b751450d2bc64f21ac874ad88afd6915 = $(`&lt;div id=&quot;html_b751450d2bc64f21ac874ad88afd6915&quot; style=&quot;width: 100.0%; height: 100.0%;&quot;&gt;[&#x27;Engenho de Dentro &lt;br&gt; &#x27;, &#x27;8 &lt;br&gt;&#x27;]&lt;/div&gt;`)[0];\n",
       "                popup_2012c0bb9699f35e8f9f51c82052a4f2.setContent(html_b751450d2bc64f21ac874ad88afd6915);\n",
       "            \n",
       "        \n",
       "\n",
       "        marker_87b5e7c6baf6c0651b91d35781195cc5.bindPopup(popup_2012c0bb9699f35e8f9f51c82052a4f2)\n",
       "        ;\n",
       "\n",
       "        \n",
       "    \n",
       "    \n",
       "            var marker_0d7526058ddacca3df21c820de74c298 = L.marker(\n",
       "                [-22.916721400000004, -43.5625661],\n",
       "                {}\n",
       "            ).addTo(map_900dda01fa72939e606b7416647eceb0);\n",
       "        \n",
       "    \n",
       "        var popup_bb73d424cd2c838f56fe77123ccc5260 = L.popup({&quot;maxWidth&quot;: &quot;100%&quot;});\n",
       "\n",
       "        \n",
       "            \n",
       "                var html_b867bb79e849c494ff97d44fb117dc7a = $(`&lt;div id=&quot;html_b867bb79e849c494ff97d44fb117dc7a&quot; style=&quot;width: 100.0%; height: 100.0%;&quot;&gt;[&#x27;Campo Grande &lt;br&gt; &#x27;, &#x27;6 &lt;br&gt;&#x27;]&lt;/div&gt;`)[0];\n",
       "                popup_bb73d424cd2c838f56fe77123ccc5260.setContent(html_b867bb79e849c494ff97d44fb117dc7a);\n",
       "            \n",
       "        \n",
       "\n",
       "        marker_0d7526058ddacca3df21c820de74c298.bindPopup(popup_bb73d424cd2c838f56fe77123ccc5260)\n",
       "        ;\n",
       "\n",
       "        \n",
       "    \n",
       "    \n",
       "            var marker_b59f1a5924b18bb288444f8913e42294 = L.marker(\n",
       "                [-22.9839446, -43.2273731],\n",
       "                {}\n",
       "            ).addTo(map_900dda01fa72939e606b7416647eceb0);\n",
       "        \n",
       "    \n",
       "        var popup_332126b6b76ac981f600579b1ca579f2 = L.popup({&quot;maxWidth&quot;: &quot;100%&quot;});\n",
       "\n",
       "        \n",
       "            \n",
       "                var html_6f88f1e85be45b461572a79792c76077 = $(`&lt;div id=&quot;html_6f88f1e85be45b461572a79792c76077&quot; style=&quot;width: 100.0%; height: 100.0%;&quot;&gt;[&#x27;Leblon &lt;br&gt; &#x27;, &#x27;6 &lt;br&gt;&#x27;]&lt;/div&gt;`)[0];\n",
       "                popup_332126b6b76ac981f600579b1ca579f2.setContent(html_6f88f1e85be45b461572a79792c76077);\n",
       "            \n",
       "        \n",
       "\n",
       "        marker_b59f1a5924b18bb288444f8913e42294.bindPopup(popup_332126b6b76ac981f600579b1ca579f2)\n",
       "        ;\n",
       "\n",
       "        \n",
       "    \n",
       "    \n",
       "            var marker_cdb85d5d34f9ee3e0a62def51b796c61 = L.marker(\n",
       "                [-23.0091735, -43.3374538],\n",
       "                {}\n",
       "            ).addTo(map_900dda01fa72939e606b7416647eceb0);\n",
       "        \n",
       "    \n",
       "        var popup_a2802152d724350c21af7a6d6e07b368 = L.popup({&quot;maxWidth&quot;: &quot;100%&quot;});\n",
       "\n",
       "        \n",
       "            \n",
       "                var html_22b1e78006b2749ccebbe5d827abc7dc = $(`&lt;div id=&quot;html_22b1e78006b2749ccebbe5d827abc7dc&quot; style=&quot;width: 100.0%; height: 100.0%;&quot;&gt;[&#x27;Barra da Tijuca &lt;br&gt; &#x27;, &#x27;5 &lt;br&gt;&#x27;]&lt;/div&gt;`)[0];\n",
       "                popup_a2802152d724350c21af7a6d6e07b368.setContent(html_22b1e78006b2749ccebbe5d827abc7dc);\n",
       "            \n",
       "        \n",
       "\n",
       "        marker_cdb85d5d34f9ee3e0a62def51b796c61.bindPopup(popup_a2802152d724350c21af7a6d6e07b368)\n",
       "        ;\n",
       "\n",
       "        \n",
       "    \n",
       "    \n",
       "            var marker_d7584365d0f8961d2d006955b675d297 = L.marker(\n",
       "                [-22.9360903, -43.2370889],\n",
       "                {}\n",
       "            ).addTo(map_900dda01fa72939e606b7416647eceb0);\n",
       "        \n",
       "    \n",
       "        var popup_1b6553c11ad76f37d49e39ed655020af = L.popup({&quot;maxWidth&quot;: &quot;100%&quot;});\n",
       "\n",
       "        \n",
       "            \n",
       "                var html_3ac8092ddc0ae37d1a71d9935a22b7d7 = $(`&lt;div id=&quot;html_3ac8092ddc0ae37d1a71d9935a22b7d7&quot; style=&quot;width: 100.0%; height: 100.0%;&quot;&gt;[&#x27;Tijuca &lt;br&gt; &#x27;, &#x27;3 &lt;br&gt;&#x27;]&lt;/div&gt;`)[0];\n",
       "                popup_1b6553c11ad76f37d49e39ed655020af.setContent(html_3ac8092ddc0ae37d1a71d9935a22b7d7);\n",
       "            \n",
       "        \n",
       "\n",
       "        marker_d7584365d0f8961d2d006955b675d297.bindPopup(popup_1b6553c11ad76f37d49e39ed655020af)\n",
       "        ;\n",
       "\n",
       "        \n",
       "    \n",
       "    \n",
       "            var marker_d04805b7f32e5aa468316c1d8568cdfa = L.marker(\n",
       "                [-22.921335, -43.186679],\n",
       "                {}\n",
       "            ).addTo(map_900dda01fa72939e606b7416647eceb0);\n",
       "        \n",
       "    \n",
       "        var popup_d33e98ab6f26a81aee0a9fd13f240e9e = L.popup({&quot;maxWidth&quot;: &quot;100%&quot;});\n",
       "\n",
       "        \n",
       "            \n",
       "                var html_bc081bad132b9aa75e3372c3703a617e = $(`&lt;div id=&quot;html_bc081bad132b9aa75e3372c3703a617e&quot; style=&quot;width: 100.0%; height: 100.0%;&quot;&gt;[&#x27;Santa Teresa &lt;br&gt; &#x27;, &#x27;3 &lt;br&gt;&#x27;]&lt;/div&gt;`)[0];\n",
       "                popup_d33e98ab6f26a81aee0a9fd13f240e9e.setContent(html_bc081bad132b9aa75e3372c3703a617e);\n",
       "            \n",
       "        \n",
       "\n",
       "        marker_d04805b7f32e5aa468316c1d8568cdfa.bindPopup(popup_d33e98ab6f26a81aee0a9fd13f240e9e)\n",
       "        ;\n",
       "\n",
       "        \n",
       "    \n",
       "    \n",
       "            var marker_033a690021fd415fd12a6ad793d8b57b = L.marker(\n",
       "                [-22.862619, -43.455509000000006],\n",
       "                {}\n",
       "            ).addTo(map_900dda01fa72939e606b7416647eceb0);\n",
       "        \n",
       "    \n",
       "        var popup_663db6fa447d0a46ba9eec375005c320 = L.popup({&quot;maxWidth&quot;: &quot;100%&quot;});\n",
       "\n",
       "        \n",
       "            \n",
       "                var html_b0560701eaad60aedf2777a03d887022 = $(`&lt;div id=&quot;html_b0560701eaad60aedf2777a03d887022&quot; style=&quot;width: 100.0%; height: 100.0%;&quot;&gt;[&#x27;Bangu &lt;br&gt; &#x27;, &#x27;2 &lt;br&gt;&#x27;]&lt;/div&gt;`)[0];\n",
       "                popup_663db6fa447d0a46ba9eec375005c320.setContent(html_b0560701eaad60aedf2777a03d887022);\n",
       "            \n",
       "        \n",
       "\n",
       "        marker_033a690021fd415fd12a6ad793d8b57b.bindPopup(popup_663db6fa447d0a46ba9eec375005c320)\n",
       "        ;\n",
       "\n",
       "        \n",
       "    \n",
       "    \n",
       "            var marker_4a28ae0e0b85707d8c663db3cfda8319 = L.marker(\n",
       "                [-22.9851666, -43.1988138],\n",
       "                {}\n",
       "            ).addTo(map_900dda01fa72939e606b7416647eceb0);\n",
       "        \n",
       "    \n",
       "        var popup_d63df66c0a47d84cb8165c523b7671ca = L.popup({&quot;maxWidth&quot;: &quot;100%&quot;});\n",
       "\n",
       "        \n",
       "            \n",
       "                var html_99c74176501ed1db22a810d40c638583 = $(`&lt;div id=&quot;html_99c74176501ed1db22a810d40c638583&quot; style=&quot;width: 100.0%; height: 100.0%;&quot;&gt;[&#x27;Ipanema &lt;br&gt; &#x27;, &#x27;2 &lt;br&gt;&#x27;]&lt;/div&gt;`)[0];\n",
       "                popup_d63df66c0a47d84cb8165c523b7671ca.setContent(html_99c74176501ed1db22a810d40c638583);\n",
       "            \n",
       "        \n",
       "\n",
       "        marker_4a28ae0e0b85707d8c663db3cfda8319.bindPopup(popup_d63df66c0a47d84cb8165c523b7671ca)\n",
       "        ;\n",
       "\n",
       "        \n",
       "    \n",
       "    \n",
       "            var marker_fddf07792216b6d3cc5880afa84e6bcc = L.marker(\n",
       "                [-22.8432948, -43.3157977],\n",
       "                {}\n",
       "            ).addTo(map_900dda01fa72939e606b7416647eceb0);\n",
       "        \n",
       "    \n",
       "        var popup_569b00af2e8d2a0163ecc9b84c3c4929 = L.popup({&quot;maxWidth&quot;: &quot;100%&quot;});\n",
       "\n",
       "        \n",
       "            \n",
       "                var html_9a232c12f310856e7665b3a4db4ef07b = $(`&lt;div id=&quot;html_9a232c12f310856e7665b3a4db4ef07b&quot; style=&quot;width: 100.0%; height: 100.0%;&quot;&gt;[&#x27;Vila da Penha &lt;br&gt; &#x27;, &#x27;2 &lt;br&gt;&#x27;]&lt;/div&gt;`)[0];\n",
       "                popup_569b00af2e8d2a0163ecc9b84c3c4929.setContent(html_9a232c12f310856e7665b3a4db4ef07b);\n",
       "            \n",
       "        \n",
       "\n",
       "        marker_fddf07792216b6d3cc5880afa84e6bcc.bindPopup(popup_569b00af2e8d2a0163ecc9b84c3c4929)\n",
       "        ;\n",
       "\n",
       "        \n",
       "    \n",
       "    \n",
       "            var marker_9122c75e42ac11b9bd6a21ebad799787 = L.marker(\n",
       "                [-22.9746326, -43.3730297],\n",
       "                {}\n",
       "            ).addTo(map_900dda01fa72939e606b7416647eceb0);\n",
       "        \n",
       "    \n",
       "        var popup_1daf25517614fe2c85f2d288a9155e89 = L.popup({&quot;maxWidth&quot;: &quot;100%&quot;});\n",
       "\n",
       "        \n",
       "            \n",
       "                var html_81d7f6731582e30d071e17fc17781e32 = $(`&lt;div id=&quot;html_81d7f6731582e30d071e17fc17781e32&quot; style=&quot;width: 100.0%; height: 100.0%;&quot;&gt;[&#x27;Jacarepaguá &lt;br&gt; &#x27;, &#x27;2 &lt;br&gt;&#x27;]&lt;/div&gt;`)[0];\n",
       "                popup_1daf25517614fe2c85f2d288a9155e89.setContent(html_81d7f6731582e30d071e17fc17781e32);\n",
       "            \n",
       "        \n",
       "\n",
       "        marker_9122c75e42ac11b9bd6a21ebad799787.bindPopup(popup_1daf25517614fe2c85f2d288a9155e89)\n",
       "        ;\n",
       "\n",
       "        \n",
       "    \n",
       "    \n",
       "            var marker_2f299475d90f84ba1e424aa570b77ccf = L.marker(\n",
       "                [-22.8231775, -43.3196572],\n",
       "                {}\n",
       "            ).addTo(map_900dda01fa72939e606b7416647eceb0);\n",
       "        \n",
       "    \n",
       "        var popup_25092f5f1877f028c6f4359b28887f92 = L.popup({&quot;maxWidth&quot;: &quot;100%&quot;});\n",
       "\n",
       "        \n",
       "            \n",
       "                var html_b136411b0841a5a20332f9d872b6efa2 = $(`&lt;div id=&quot;html_b136411b0841a5a20332f9d872b6efa2&quot; style=&quot;width: 100.0%; height: 100.0%;&quot;&gt;[&#x27;Irajá &lt;br&gt; &#x27;, &#x27;2 &lt;br&gt;&#x27;]&lt;/div&gt;`)[0];\n",
       "                popup_25092f5f1877f028c6f4359b28887f92.setContent(html_b136411b0841a5a20332f9d872b6efa2);\n",
       "            \n",
       "        \n",
       "\n",
       "        marker_2f299475d90f84ba1e424aa570b77ccf.bindPopup(popup_25092f5f1877f028c6f4359b28887f92)\n",
       "        ;\n",
       "\n",
       "        \n",
       "    \n",
       "    \n",
       "            var marker_c986b52a2f0971326558ab3c0d0723a6 = L.marker(\n",
       "                [-22.916378, -43.177797],\n",
       "                {}\n",
       "            ).addTo(map_900dda01fa72939e606b7416647eceb0);\n",
       "        \n",
       "    \n",
       "        var popup_8a415d3653884ec986e53e6030f2be3d = L.popup({&quot;maxWidth&quot;: &quot;100%&quot;});\n",
       "\n",
       "        \n",
       "            \n",
       "                var html_4a7ac6964938b9f4b1e84cf3c689d631 = $(`&lt;div id=&quot;html_4a7ac6964938b9f4b1e84cf3c689d631&quot; style=&quot;width: 100.0%; height: 100.0%;&quot;&gt;[&#x27;Lapa &lt;br&gt; &#x27;, &#x27;2 &lt;br&gt;&#x27;]&lt;/div&gt;`)[0];\n",
       "                popup_8a415d3653884ec986e53e6030f2be3d.setContent(html_4a7ac6964938b9f4b1e84cf3c689d631);\n",
       "            \n",
       "        \n",
       "\n",
       "        marker_c986b52a2f0971326558ab3c0d0723a6.bindPopup(popup_8a415d3653884ec986e53e6030f2be3d)\n",
       "        ;\n",
       "\n",
       "        \n",
       "    \n",
       "    \n",
       "            var marker_1cf2cf23bcdebe9376fde8a0e302dd3a = L.marker(\n",
       "                [-22.8461518, -43.376672],\n",
       "                {}\n",
       "            ).addTo(map_900dda01fa72939e606b7416647eceb0);\n",
       "        \n",
       "    \n",
       "        var popup_9ca587e764d9d687f6098f2d6ba21930 = L.popup({&quot;maxWidth&quot;: &quot;100%&quot;});\n",
       "\n",
       "        \n",
       "            \n",
       "                var html_a652e95d91f20ee33a8dbb88303b29b6 = $(`&lt;div id=&quot;html_a652e95d91f20ee33a8dbb88303b29b6&quot; style=&quot;width: 100.0%; height: 100.0%;&quot;&gt;[&#x27;Guadalupe &lt;br&gt; &#x27;, &#x27;1 &lt;br&gt;&#x27;]&lt;/div&gt;`)[0];\n",
       "                popup_9ca587e764d9d687f6098f2d6ba21930.setContent(html_a652e95d91f20ee33a8dbb88303b29b6);\n",
       "            \n",
       "        \n",
       "\n",
       "        marker_1cf2cf23bcdebe9376fde8a0e302dd3a.bindPopup(popup_9ca587e764d9d687f6098f2d6ba21930)\n",
       "        ;\n",
       "\n",
       "        \n",
       "    \n",
       "    \n",
       "            var marker_c6cdddaf939abfafd5131f1dc4e3b417 = L.marker(\n",
       "                [-22.9563607, -43.1817727],\n",
       "                {}\n",
       "            ).addTo(map_900dda01fa72939e606b7416647eceb0);\n",
       "        \n",
       "    \n",
       "        var popup_8d6746b6d28a358aea58b29630ca7c36 = L.popup({&quot;maxWidth&quot;: &quot;100%&quot;});\n",
       "\n",
       "        \n",
       "            \n",
       "                var html_df0af46ef45381d38b1583e6f7a32dd0 = $(`&lt;div id=&quot;html_df0af46ef45381d38b1583e6f7a32dd0&quot; style=&quot;width: 100.0%; height: 100.0%;&quot;&gt;[&#x27;Botafogo &lt;br&gt; &#x27;, &#x27;1 &lt;br&gt;&#x27;]&lt;/div&gt;`)[0];\n",
       "                popup_8d6746b6d28a358aea58b29630ca7c36.setContent(html_df0af46ef45381d38b1583e6f7a32dd0);\n",
       "            \n",
       "        \n",
       "\n",
       "        marker_c6cdddaf939abfafd5131f1dc4e3b417.bindPopup(popup_8d6746b6d28a358aea58b29630ca7c36)\n",
       "        ;\n",
       "\n",
       "        \n",
       "    \n",
       "    \n",
       "            var marker_f1633dc69b5a6234341cac5518f56202 = L.marker(\n",
       "                [-22.881842, -43.321864],\n",
       "                {}\n",
       "            ).addTo(map_900dda01fa72939e606b7416647eceb0);\n",
       "        \n",
       "    \n",
       "        var popup_155b94eae0503d2af0f497bfa684c01e = L.popup({&quot;maxWidth&quot;: &quot;100%&quot;});\n",
       "\n",
       "        \n",
       "            \n",
       "                var html_977e65358c3301ad859d16396156e4b9 = $(`&lt;div id=&quot;html_977e65358c3301ad859d16396156e4b9&quot; style=&quot;width: 100.0%; height: 100.0%;&quot;&gt;[&#x27;Cascadura &lt;br&gt; &#x27;, &#x27;1 &lt;br&gt;&#x27;]&lt;/div&gt;`)[0];\n",
       "                popup_155b94eae0503d2af0f497bfa684c01e.setContent(html_977e65358c3301ad859d16396156e4b9);\n",
       "            \n",
       "        \n",
       "\n",
       "        marker_f1633dc69b5a6234341cac5518f56202.bindPopup(popup_155b94eae0503d2af0f497bfa684c01e)\n",
       "        ;\n",
       "\n",
       "        \n",
       "    \n",
       "    \n",
       "            var marker_484c3b492daab7135040bd693fe8cb40 = L.marker(\n",
       "                [-22.9243085, -43.3714843],\n",
       "                {}\n",
       "            ).addTo(map_900dda01fa72939e606b7416647eceb0);\n",
       "        \n",
       "    \n",
       "        var popup_1adcde6d2fd60d2fa402dae0a44a4e05 = L.popup({&quot;maxWidth&quot;: &quot;100%&quot;});\n",
       "\n",
       "        \n",
       "            \n",
       "                var html_d79fe9c330fab8017c21828315ac68d9 = $(`&lt;div id=&quot;html_d79fe9c330fab8017c21828315ac68d9&quot; style=&quot;width: 100.0%; height: 100.0%;&quot;&gt;[&#x27;Taquara &lt;br&gt; &#x27;, &#x27;1 &lt;br&gt;&#x27;]&lt;/div&gt;`)[0];\n",
       "                popup_1adcde6d2fd60d2fa402dae0a44a4e05.setContent(html_d79fe9c330fab8017c21828315ac68d9);\n",
       "            \n",
       "        \n",
       "\n",
       "        marker_484c3b492daab7135040bd693fe8cb40.bindPopup(popup_1adcde6d2fd60d2fa402dae0a44a4e05)\n",
       "        ;\n",
       "\n",
       "        \n",
       "    \n",
       "    \n",
       "            var marker_9443dffbf12a9d4b1792dc9e80dc097c = L.marker(\n",
       "                [-22.9173627, -43.3614333],\n",
       "                {}\n",
       "            ).addTo(map_900dda01fa72939e606b7416647eceb0);\n",
       "        \n",
       "    \n",
       "        var popup_deb720ab5c295ea458f9a1f9ac498282 = L.popup({&quot;maxWidth&quot;: &quot;100%&quot;});\n",
       "\n",
       "        \n",
       "            \n",
       "                var html_9fcbc34708746ec737a4e49162af6da2 = $(`&lt;div id=&quot;html_9fcbc34708746ec737a4e49162af6da2&quot; style=&quot;width: 100.0%; height: 100.0%;&quot;&gt;[&#x27;Tanque &lt;br&gt; &#x27;, &#x27;1 &lt;br&gt;&#x27;]&lt;/div&gt;`)[0];\n",
       "                popup_deb720ab5c295ea458f9a1f9ac498282.setContent(html_9fcbc34708746ec737a4e49162af6da2);\n",
       "            \n",
       "        \n",
       "\n",
       "        marker_9443dffbf12a9d4b1792dc9e80dc097c.bindPopup(popup_deb720ab5c295ea458f9a1f9ac498282)\n",
       "        ;\n",
       "\n",
       "        \n",
       "    \n",
       "    \n",
       "            var marker_a8c21ee46b4684a191de60e6f4ab36df = L.marker(\n",
       "                [-22.891154, -43.537462],\n",
       "                {}\n",
       "            ).addTo(map_900dda01fa72939e606b7416647eceb0);\n",
       "        \n",
       "    \n",
       "        var popup_43527a475b61ee19a33a87dae5bf35f7 = L.popup({&quot;maxWidth&quot;: &quot;100%&quot;});\n",
       "\n",
       "        \n",
       "            \n",
       "                var html_9cfc1fafb2fcc8215d3b54e855c50fcc = $(`&lt;div id=&quot;html_9cfc1fafb2fcc8215d3b54e855c50fcc&quot; style=&quot;width: 100.0%; height: 100.0%;&quot;&gt;[&#x27;Senador Vasconcelos &lt;br&gt; &#x27;, &#x27;1 &lt;br&gt;&#x27;]&lt;/div&gt;`)[0];\n",
       "                popup_43527a475b61ee19a33a87dae5bf35f7.setContent(html_9cfc1fafb2fcc8215d3b54e855c50fcc);\n",
       "            \n",
       "        \n",
       "\n",
       "        marker_a8c21ee46b4684a191de60e6f4ab36df.bindPopup(popup_43527a475b61ee19a33a87dae5bf35f7)\n",
       "        ;\n",
       "\n",
       "        \n",
       "    \n",
       "    \n",
       "            var marker_e60f760656c3e091e6518805937d2dde = L.marker(\n",
       "                [-22.9250817, -43.1781994],\n",
       "                {}\n",
       "            ).addTo(map_900dda01fa72939e606b7416647eceb0);\n",
       "        \n",
       "    \n",
       "        var popup_30937738ca2ab5219e7d3594e1af15d9 = L.popup({&quot;maxWidth&quot;: &quot;100%&quot;});\n",
       "\n",
       "        \n",
       "            \n",
       "                var html_a1d638414ce5eb84111144b6fc9c6cfa = $(`&lt;div id=&quot;html_a1d638414ce5eb84111144b6fc9c6cfa&quot; style=&quot;width: 100.0%; height: 100.0%;&quot;&gt;[&#x27;Catete &lt;br&gt; &#x27;, &#x27;1 &lt;br&gt;&#x27;]&lt;/div&gt;`)[0];\n",
       "                popup_30937738ca2ab5219e7d3594e1af15d9.setContent(html_a1d638414ce5eb84111144b6fc9c6cfa);\n",
       "            \n",
       "        \n",
       "\n",
       "        marker_e60f760656c3e091e6518805937d2dde.bindPopup(popup_30937738ca2ab5219e7d3594e1af15d9)\n",
       "        ;\n",
       "\n",
       "        \n",
       "    \n",
       "    \n",
       "            var marker_86cac4647a0ec46061777d754c4e0394 = L.marker(\n",
       "                [-22.838978, -43.400704000000005],\n",
       "                {}\n",
       "            ).addTo(map_900dda01fa72939e606b7416647eceb0);\n",
       "        \n",
       "    \n",
       "        var popup_a926d108362ffff36d9e807839968e4a = L.popup({&quot;maxWidth&quot;: &quot;100%&quot;});\n",
       "\n",
       "        \n",
       "            \n",
       "                var html_ae658093fe305f3de5f59289929c3cd3 = $(`&lt;div id=&quot;html_ae658093fe305f3de5f59289929c3cd3&quot; style=&quot;width: 100.0%; height: 100.0%;&quot;&gt;[&#x27;Ricardo de Albuquerque &lt;br&gt; &#x27;, &#x27;1 &lt;br&gt;&#x27;]&lt;/div&gt;`)[0];\n",
       "                popup_a926d108362ffff36d9e807839968e4a.setContent(html_ae658093fe305f3de5f59289929c3cd3);\n",
       "            \n",
       "        \n",
       "\n",
       "        marker_86cac4647a0ec46061777d754c4e0394.bindPopup(popup_a926d108362ffff36d9e807839968e4a)\n",
       "        ;\n",
       "\n",
       "        \n",
       "    \n",
       "    \n",
       "            var marker_f883a8614032a624f208c0dee037f6c7 = L.marker(\n",
       "                [-22.887766199999998, -43.417526699999996],\n",
       "                {}\n",
       "            ).addTo(map_900dda01fa72939e606b7416647eceb0);\n",
       "        \n",
       "    \n",
       "        var popup_0d1e78b38df47ba0762afe6bdd390f8f = L.popup({&quot;maxWidth&quot;: &quot;100%&quot;});\n",
       "\n",
       "        \n",
       "            \n",
       "                var html_b4bace0a1ba23bbacf2b1d393646556b = $(`&lt;div id=&quot;html_b4bace0a1ba23bbacf2b1d393646556b&quot; style=&quot;width: 100.0%; height: 100.0%;&quot;&gt;[&#x27;Realengo &lt;br&gt; &#x27;, &#x27;1 &lt;br&gt;&#x27;]&lt;/div&gt;`)[0];\n",
       "                popup_0d1e78b38df47ba0762afe6bdd390f8f.setContent(html_b4bace0a1ba23bbacf2b1d393646556b);\n",
       "            \n",
       "        \n",
       "\n",
       "        marker_f883a8614032a624f208c0dee037f6c7.bindPopup(popup_0d1e78b38df47ba0762afe6bdd390f8f)\n",
       "        ;\n",
       "\n",
       "        \n",
       "    \n",
       "    \n",
       "            var marker_99634917c6e7314c745c29c187afb4b2 = L.marker(\n",
       "                [-22.8339043, -43.2759555],\n",
       "                {}\n",
       "            ).addTo(map_900dda01fa72939e606b7416647eceb0);\n",
       "        \n",
       "    \n",
       "        var popup_bd2e0325d9afbd0393b82c7845d927cc = L.popup({&quot;maxWidth&quot;: &quot;100%&quot;});\n",
       "\n",
       "        \n",
       "            \n",
       "                var html_2423ac1f65e0c4f58cc52af7fd4f2e10 = $(`&lt;div id=&quot;html_2423ac1f65e0c4f58cc52af7fd4f2e10&quot; style=&quot;width: 100.0%; height: 100.0%;&quot;&gt;[&#x27;Penha &lt;br&gt; &#x27;, &#x27;1 &lt;br&gt;&#x27;]&lt;/div&gt;`)[0];\n",
       "                popup_bd2e0325d9afbd0393b82c7845d927cc.setContent(html_2423ac1f65e0c4f58cc52af7fd4f2e10);\n",
       "            \n",
       "        \n",
       "\n",
       "        marker_99634917c6e7314c745c29c187afb4b2.bindPopup(popup_bd2e0325d9afbd0393b82c7845d927cc)\n",
       "        ;\n",
       "\n",
       "        \n",
       "    \n",
       "    \n",
       "            var marker_8a8265d2c3f7230a1b23fb30664cba93 = L.marker(\n",
       "                [-22.9311496, -43.3487962],\n",
       "                {}\n",
       "            ).addTo(map_900dda01fa72939e606b7416647eceb0);\n",
       "        \n",
       "    \n",
       "        var popup_bc5837c0d84af8d9d83d5e3f0f257064 = L.popup({&quot;maxWidth&quot;: &quot;100%&quot;});\n",
       "\n",
       "        \n",
       "            \n",
       "                var html_873a5e12d13ed72d753bdab85c831a28 = $(`&lt;div id=&quot;html_873a5e12d13ed72d753bdab85c831a28&quot; style=&quot;width: 100.0%; height: 100.0%;&quot;&gt;[&#x27;Pechincha &lt;br&gt; &#x27;, &#x27;1 &lt;br&gt;&#x27;]&lt;/div&gt;`)[0];\n",
       "                popup_bc5837c0d84af8d9d83d5e3f0f257064.setContent(html_873a5e12d13ed72d753bdab85c831a28);\n",
       "            \n",
       "        \n",
       "\n",
       "        marker_8a8265d2c3f7230a1b23fb30664cba93.bindPopup(popup_bc5837c0d84af8d9d83d5e3f0f257064)\n",
       "        ;\n",
       "\n",
       "        \n",
       "    \n",
       "    \n",
       "            var marker_70135a5e667ce06f4f6a8bc4fcfd6c6b = L.marker(\n",
       "                [-22.8735091, -43.3178639],\n",
       "                {}\n",
       "            ).addTo(map_900dda01fa72939e606b7416647eceb0);\n",
       "        \n",
       "    \n",
       "        var popup_b7cbba3044d6032ee00b7370b58896db = L.popup({&quot;maxWidth&quot;: &quot;100%&quot;});\n",
       "\n",
       "        \n",
       "            \n",
       "                var html_9db3c91f537790cd89a2cb1617dd1f3b = $(`&lt;div id=&quot;html_9db3c91f537790cd89a2cb1617dd1f3b&quot; style=&quot;width: 100.0%; height: 100.0%;&quot;&gt;[&#x27;Cavalcanti &lt;br&gt; &#x27;, &#x27;1 &lt;br&gt;&#x27;]&lt;/div&gt;`)[0];\n",
       "                popup_b7cbba3044d6032ee00b7370b58896db.setContent(html_9db3c91f537790cd89a2cb1617dd1f3b);\n",
       "            \n",
       "        \n",
       "\n",
       "        marker_70135a5e667ce06f4f6a8bc4fcfd6c6b.bindPopup(popup_b7cbba3044d6032ee00b7370b58896db)\n",
       "        ;\n",
       "\n",
       "        \n",
       "    \n",
       "    \n",
       "            var marker_769d75504d08f805147ceb2a7b530fea = L.marker(\n",
       "                [-22.8446599, -43.2637481],\n",
       "                {}\n",
       "            ).addTo(map_900dda01fa72939e606b7416647eceb0);\n",
       "        \n",
       "    \n",
       "        var popup_f72c6ffdaf5e0a39370c1e04f3c4f4c3 = L.popup({&quot;maxWidth&quot;: &quot;100%&quot;});\n",
       "\n",
       "        \n",
       "            \n",
       "                var html_5c1fcdd796df5c9f11adaf937404abfa = $(`&lt;div id=&quot;html_5c1fcdd796df5c9f11adaf937404abfa&quot; style=&quot;width: 100.0%; height: 100.0%;&quot;&gt;[&#x27;Olaria &lt;br&gt; &#x27;, &#x27;1 &lt;br&gt;&#x27;]&lt;/div&gt;`)[0];\n",
       "                popup_f72c6ffdaf5e0a39370c1e04f3c4f4c3.setContent(html_5c1fcdd796df5c9f11adaf937404abfa);\n",
       "            \n",
       "        \n",
       "\n",
       "        marker_769d75504d08f805147ceb2a7b530fea.bindPopup(popup_f72c6ffdaf5e0a39370c1e04f3c4f4c3)\n",
       "        ;\n",
       "\n",
       "        \n",
       "    \n",
       "    \n",
       "            var marker_99d93c4f14ffbb18fde630e99837cf24 = L.marker(\n",
       "                [-22.9122295, -43.1882526],\n",
       "                {}\n",
       "            ).addTo(map_900dda01fa72939e606b7416647eceb0);\n",
       "        \n",
       "    \n",
       "        var popup_6c8c2f3c527ad19b4a188d5ee6a388bd = L.popup({&quot;maxWidth&quot;: &quot;100%&quot;});\n",
       "\n",
       "        \n",
       "            \n",
       "                var html_4b8448d32207ea0c8019172ef08e7e7a = $(`&lt;div id=&quot;html_4b8448d32207ea0c8019172ef08e7e7a&quot; style=&quot;width: 100.0%; height: 100.0%;&quot;&gt;[&#x27;Centro &lt;br&gt; &#x27;, &#x27;1 &lt;br&gt;&#x27;]&lt;/div&gt;`)[0];\n",
       "                popup_6c8c2f3c527ad19b4a188d5ee6a388bd.setContent(html_4b8448d32207ea0c8019172ef08e7e7a);\n",
       "            \n",
       "        \n",
       "\n",
       "        marker_99d93c4f14ffbb18fde630e99837cf24.bindPopup(popup_6c8c2f3c527ad19b4a188d5ee6a388bd)\n",
       "        ;\n",
       "\n",
       "        \n",
       "    \n",
       "    \n",
       "            var marker_f4f0afca69211ffb2c00a8225a06a922 = L.marker(\n",
       "                [-22.9337607, -43.1799996],\n",
       "                {}\n",
       "            ).addTo(map_900dda01fa72939e606b7416647eceb0);\n",
       "        \n",
       "    \n",
       "        var popup_e3cac19df36531c5ebc27cb32470de86 = L.popup({&quot;maxWidth&quot;: &quot;100%&quot;});\n",
       "\n",
       "        \n",
       "            \n",
       "                var html_ca3d1bd712d6f8eccdaa0b3e416fcfba = $(`&lt;div id=&quot;html_ca3d1bd712d6f8eccdaa0b3e416fcfba&quot; style=&quot;width: 100.0%; height: 100.0%;&quot;&gt;[&#x27;Laranjeiras &lt;br&gt; &#x27;, &#x27;1 &lt;br&gt;&#x27;]&lt;/div&gt;`)[0];\n",
       "                popup_e3cac19df36531c5ebc27cb32470de86.setContent(html_ca3d1bd712d6f8eccdaa0b3e416fcfba);\n",
       "            \n",
       "        \n",
       "\n",
       "        marker_f4f0afca69211ffb2c00a8225a06a922.bindPopup(popup_e3cac19df36531c5ebc27cb32470de86)\n",
       "        ;\n",
       "\n",
       "        \n",
       "    \n",
       "    \n",
       "            var marker_63e54ebb18f362ae94a6e10d8d495c14 = L.marker(\n",
       "                [-22.9312377, -43.1759738],\n",
       "                {}\n",
       "            ).addTo(map_900dda01fa72939e606b7416647eceb0);\n",
       "        \n",
       "    \n",
       "        var popup_9597e4b0e8ad567e552ab6a655531287 = L.popup({&quot;maxWidth&quot;: &quot;100%&quot;});\n",
       "\n",
       "        \n",
       "            \n",
       "                var html_7e702e417f75d279d6fe54836bd2f38d = $(`&lt;div id=&quot;html_7e702e417f75d279d6fe54836bd2f38d&quot; style=&quot;width: 100.0%; height: 100.0%;&quot;&gt;[&#x27;Flamengo &lt;br&gt; &#x27;, &#x27;1 &lt;br&gt;&#x27;]&lt;/div&gt;`)[0];\n",
       "                popup_9597e4b0e8ad567e552ab6a655531287.setContent(html_7e702e417f75d279d6fe54836bd2f38d);\n",
       "            \n",
       "        \n",
       "\n",
       "        marker_63e54ebb18f362ae94a6e10d8d495c14.bindPopup(popup_9597e4b0e8ad567e552ab6a655531287)\n",
       "        ;\n",
       "\n",
       "        \n",
       "    \n",
       "    \n",
       "            var marker_8fd78257e3b3ae3487994583b81bc49c = L.marker(\n",
       "                [-22.9786046, -43.3336748],\n",
       "                {}\n",
       "            ).addTo(map_900dda01fa72939e606b7416647eceb0);\n",
       "        \n",
       "    \n",
       "        var popup_e4ff602f25623a676f2b49413e1f5275 = L.popup({&quot;maxWidth&quot;: &quot;100%&quot;});\n",
       "\n",
       "        \n",
       "            \n",
       "                var html_f3b7fc5e68bc42137c6ffc3113a402db = $(`&lt;div id=&quot;html_f3b7fc5e68bc42137c6ffc3113a402db&quot; style=&quot;width: 100.0%; height: 100.0%;&quot;&gt;[&#x27;Itanhangá &lt;br&gt; &#x27;, &#x27;1 &lt;br&gt;&#x27;]&lt;/div&gt;`)[0];\n",
       "                popup_e4ff602f25623a676f2b49413e1f5275.setContent(html_f3b7fc5e68bc42137c6ffc3113a402db);\n",
       "            \n",
       "        \n",
       "\n",
       "        marker_8fd78257e3b3ae3487994583b81bc49c.bindPopup(popup_e4ff602f25623a676f2b49413e1f5275)\n",
       "        ;\n",
       "\n",
       "        \n",
       "    \n",
       "    \n",
       "            var marker_ecc7abb2d50d1ec97565dcd8192cad1c = L.marker(\n",
       "                [-22.8289747, -43.31917],\n",
       "                {}\n",
       "            ).addTo(map_900dda01fa72939e606b7416647eceb0);\n",
       "        \n",
       "    \n",
       "        var popup_3fb24c01a5c06592dd5d205d3f90ec9c = L.popup({&quot;maxWidth&quot;: &quot;100%&quot;});\n",
       "\n",
       "        \n",
       "            \n",
       "                var html_966fee72e1269f492700bc33b6370c2e = $(`&lt;div id=&quot;html_966fee72e1269f492700bc33b6370c2e&quot; style=&quot;width: 100.0%; height: 100.0%;&quot;&gt;[&#x27;Vista Alegre &lt;br&gt; &#x27;, &#x27;1 &lt;br&gt;&#x27;]&lt;/div&gt;`)[0];\n",
       "                popup_3fb24c01a5c06592dd5d205d3f90ec9c.setContent(html_966fee72e1269f492700bc33b6370c2e);\n",
       "            \n",
       "        \n",
       "\n",
       "        marker_ecc7abb2d50d1ec97565dcd8192cad1c.bindPopup(popup_3fb24c01a5c06592dd5d205d3f90ec9c)\n",
       "        ;\n",
       "\n",
       "        \n",
       "    \n",
       "&lt;/script&gt;\n",
       "&lt;/html&gt;\" style=\"position:absolute;width:100%;height:100%;left:0;top:0;border:none !important;\" allowfullscreen webkitallowfullscreen mozallowfullscreen></iframe></div></div>"
      ],
      "text/plain": [
       "<folium.folium.Map at 0x263056cf370>"
      ]
     },
     "execution_count": 68,
     "metadata": {},
     "output_type": "execute_result"
    }
   ],
   "source": [
    "maioresBairrosMap = maioresBairros.dropna()\n",
    "# MAKER POP'UPS DAS ESTAÇÕES\n",
    "for _, r in maioresBairrosMap.iterrows():\n",
    "    lat = r['latitude']\n",
    "    lon = r['longitude']\n",
    "    folium.Marker(location=[lat, lon],\n",
    "                  popup=['{} <br> '.format(r['bairro']), '{} <br>'.format(r['tipo'])]).add_to(mapa)\n",
    "\n",
    "mapa"
   ]
  },
  {
   "cell_type": "markdown",
   "metadata": {},
   "source": [
    "### Extração dos dados com BigQuery e a Lib BasedosDados"
   ]
  },
  {
   "cell_type": "code",
   "execution_count": 150,
   "metadata": {},
   "outputs": [
    {
     "name": "stderr",
     "output_type": "stream",
     "text": [
      "Downloading: 100%|██████████| 1212/1212 [00:00<00:00, 2740.70rows/s]\n"
     ]
    }
   ],
   "source": [
    "df2 = bd.read_sql(\n",
    "    '''\n",
    "    SELECT chmd.id_chamado, chmd.tipo, chmd.subtipo, htl.evento, htl.data_inicial, htl.data_final\n",
    "    FROM datario.turismo_fluxo_visitantes.rede_hoteleira_ocupacao_eventos htl\n",
    "    INNER JOIN datario.administracao_servicos_publicos.chamado_1746 chmd ON DATE(chmd.data_inicio) >= DATE(htl.data_inicial) AND DATE(chmd.data_inicio) <= DATE(htl.data_final) \n",
    "    WHERE chmd.subtipo = 'Perturbação do sossego' AND chmd.data_inicio BETWEEN '2022-01-01' AND '2023-12-31'\n",
    "    ''',\n",
    "    billing_project_id='case-escritorio-de-dados'\n",
    ")"
   ]
  },
  {
   "cell_type": "markdown",
   "metadata": {},
   "source": [
    "### 6) Quantos chamados com o subtipo \"Perturbação do sossego\" foram abertos desde 01/01/2022 até 31/12/2023 (incluindo extremidades)?"
   ]
  },
  {
   "cell_type": "code",
   "execution_count": 71,
   "metadata": {},
   "outputs": [
    {
     "name": "stdout",
     "output_type": "stream",
     "text": [
      "Os numeros de chamados abertos com o subtipo \"Perturbação do sossego\" foram abertos desde 01/01/2022 até 31/12/2023 foram 1212 casos\n"
     ]
    }
   ],
   "source": [
    "print('Os numeros de chamados abertos com o subtipo \"Perturbação do sossego\" foram abertos desde 01/01/2022 até 31/12/2023 foram {} casos'.format(df2['id_chamado'].count()))"
   ]
  },
  {
   "cell_type": "markdown",
   "metadata": {},
   "source": [
    "### 7) Selecione os chamados com esse subtipo que foram abertos durante os eventos contidos na tabela de eventos (Reveillon, Carnaval e Rock in Rio)."
   ]
  },
  {
   "cell_type": "code",
   "execution_count": 96,
   "metadata": {},
   "outputs": [
    {
     "data": {
      "text/html": [
       "<div>\n",
       "<style scoped>\n",
       "    .dataframe tbody tr th:only-of-type {\n",
       "        vertical-align: middle;\n",
       "    }\n",
       "\n",
       "    .dataframe tbody tr th {\n",
       "        vertical-align: top;\n",
       "    }\n",
       "\n",
       "    .dataframe thead th {\n",
       "        text-align: right;\n",
       "    }\n",
       "</style>\n",
       "<table border=\"1\" class=\"dataframe\">\n",
       "  <thead>\n",
       "    <tr style=\"text-align: right;\">\n",
       "      <th></th>\n",
       "      <th></th>\n",
       "      <th>evento</th>\n",
       "      <th>tipo</th>\n",
       "      <th>subtipo</th>\n",
       "    </tr>\n",
       "    <tr>\n",
       "      <th>subtipo</th>\n",
       "      <th>evento</th>\n",
       "      <th></th>\n",
       "      <th></th>\n",
       "      <th></th>\n",
       "    </tr>\n",
       "  </thead>\n",
       "  <tbody>\n",
       "    <tr>\n",
       "      <th rowspan=\"3\" valign=\"top\">Perturbação do sossego</th>\n",
       "      <th>Carnaval</th>\n",
       "      <td>Carnaval</td>\n",
       "      <td>Poluição sonora</td>\n",
       "      <td>241</td>\n",
       "    </tr>\n",
       "    <tr>\n",
       "      <th>Reveillon</th>\n",
       "      <td>Reveillon</td>\n",
       "      <td>Poluição sonora</td>\n",
       "      <td>137</td>\n",
       "    </tr>\n",
       "    <tr>\n",
       "      <th>Rock in Rio</th>\n",
       "      <td>Rock in Rio</td>\n",
       "      <td>Poluição sonora</td>\n",
       "      <td>834</td>\n",
       "    </tr>\n",
       "  </tbody>\n",
       "</table>\n",
       "</div>"
      ],
      "text/plain": [
       "                                         evento             tipo  subtipo\n",
       "subtipo                evento                                            \n",
       "Perturbação do sossego Carnaval        Carnaval  Poluição sonora      241\n",
       "                       Reveillon      Reveillon  Poluição sonora      137\n",
       "                       Rock in Rio  Rock in Rio  Poluição sonora      834"
      ]
     },
     "execution_count": 96,
     "metadata": {},
     "output_type": "execute_result"
    }
   ],
   "source": [
    "numero_chamados = df2.groupby(['subtipo','evento']).agg({\n",
    "    'evento': 'first',\n",
    "    'tipo' :'first',\n",
    "    'subtipo':'count'\n",
    "    }).sort_values(by='tipo',ascending=False)\n",
    "\n",
    "numero_chamados"
   ]
  },
  {
   "cell_type": "markdown",
   "metadata": {},
   "source": [
    "### 8) Quantos chamados desse subtipo foram abertos em cada evento?"
   ]
  },
  {
   "cell_type": "code",
   "execution_count": 84,
   "metadata": {},
   "outputs": [
    {
     "data": {
      "application/vnd.plotly.v1+json": {
       "config": {
        "plotlyServerURL": "https://plot.ly"
       },
       "data": [
        {
         "alignmentgroup": "True",
         "bingroup": "x",
         "histfunc": "sum",
         "hovertemplate": "evento=%{x}<br>sum of tipo=%{y}<extra></extra>",
         "legendgroup": "",
         "marker": {
          "color": "#636efa",
          "pattern": {
           "shape": ""
          }
         },
         "name": "",
         "offsetgroup": "",
         "orientation": "v",
         "showlegend": false,
         "texttemplate": "%{value}",
         "type": "histogram",
         "x": [
          "Rock in Rio",
          "Carnaval",
          "Reveillon"
         ],
         "xaxis": "x",
         "y": [
          834,
          241,
          137
         ],
         "yaxis": "y"
        }
       ],
       "layout": {
        "bargap": 0.2,
        "barmode": "group",
        "legend": {
         "tracegroupgap": 0
        },
        "margin": {
         "t": 60
        },
        "template": {
         "data": {
          "bar": [
           {
            "error_x": {
             "color": "#2a3f5f"
            },
            "error_y": {
             "color": "#2a3f5f"
            },
            "marker": {
             "line": {
              "color": "#E5ECF6",
              "width": 0.5
             },
             "pattern": {
              "fillmode": "overlay",
              "size": 10,
              "solidity": 0.2
             }
            },
            "type": "bar"
           }
          ],
          "barpolar": [
           {
            "marker": {
             "line": {
              "color": "#E5ECF6",
              "width": 0.5
             },
             "pattern": {
              "fillmode": "overlay",
              "size": 10,
              "solidity": 0.2
             }
            },
            "type": "barpolar"
           }
          ],
          "carpet": [
           {
            "aaxis": {
             "endlinecolor": "#2a3f5f",
             "gridcolor": "white",
             "linecolor": "white",
             "minorgridcolor": "white",
             "startlinecolor": "#2a3f5f"
            },
            "baxis": {
             "endlinecolor": "#2a3f5f",
             "gridcolor": "white",
             "linecolor": "white",
             "minorgridcolor": "white",
             "startlinecolor": "#2a3f5f"
            },
            "type": "carpet"
           }
          ],
          "choropleth": [
           {
            "colorbar": {
             "outlinewidth": 0,
             "ticks": ""
            },
            "type": "choropleth"
           }
          ],
          "contour": [
           {
            "colorbar": {
             "outlinewidth": 0,
             "ticks": ""
            },
            "colorscale": [
             [
              0,
              "#0d0887"
             ],
             [
              0.1111111111111111,
              "#46039f"
             ],
             [
              0.2222222222222222,
              "#7201a8"
             ],
             [
              0.3333333333333333,
              "#9c179e"
             ],
             [
              0.4444444444444444,
              "#bd3786"
             ],
             [
              0.5555555555555556,
              "#d8576b"
             ],
             [
              0.6666666666666666,
              "#ed7953"
             ],
             [
              0.7777777777777778,
              "#fb9f3a"
             ],
             [
              0.8888888888888888,
              "#fdca26"
             ],
             [
              1,
              "#f0f921"
             ]
            ],
            "type": "contour"
           }
          ],
          "contourcarpet": [
           {
            "colorbar": {
             "outlinewidth": 0,
             "ticks": ""
            },
            "type": "contourcarpet"
           }
          ],
          "heatmap": [
           {
            "colorbar": {
             "outlinewidth": 0,
             "ticks": ""
            },
            "colorscale": [
             [
              0,
              "#0d0887"
             ],
             [
              0.1111111111111111,
              "#46039f"
             ],
             [
              0.2222222222222222,
              "#7201a8"
             ],
             [
              0.3333333333333333,
              "#9c179e"
             ],
             [
              0.4444444444444444,
              "#bd3786"
             ],
             [
              0.5555555555555556,
              "#d8576b"
             ],
             [
              0.6666666666666666,
              "#ed7953"
             ],
             [
              0.7777777777777778,
              "#fb9f3a"
             ],
             [
              0.8888888888888888,
              "#fdca26"
             ],
             [
              1,
              "#f0f921"
             ]
            ],
            "type": "heatmap"
           }
          ],
          "heatmapgl": [
           {
            "colorbar": {
             "outlinewidth": 0,
             "ticks": ""
            },
            "colorscale": [
             [
              0,
              "#0d0887"
             ],
             [
              0.1111111111111111,
              "#46039f"
             ],
             [
              0.2222222222222222,
              "#7201a8"
             ],
             [
              0.3333333333333333,
              "#9c179e"
             ],
             [
              0.4444444444444444,
              "#bd3786"
             ],
             [
              0.5555555555555556,
              "#d8576b"
             ],
             [
              0.6666666666666666,
              "#ed7953"
             ],
             [
              0.7777777777777778,
              "#fb9f3a"
             ],
             [
              0.8888888888888888,
              "#fdca26"
             ],
             [
              1,
              "#f0f921"
             ]
            ],
            "type": "heatmapgl"
           }
          ],
          "histogram": [
           {
            "marker": {
             "pattern": {
              "fillmode": "overlay",
              "size": 10,
              "solidity": 0.2
             }
            },
            "type": "histogram"
           }
          ],
          "histogram2d": [
           {
            "colorbar": {
             "outlinewidth": 0,
             "ticks": ""
            },
            "colorscale": [
             [
              0,
              "#0d0887"
             ],
             [
              0.1111111111111111,
              "#46039f"
             ],
             [
              0.2222222222222222,
              "#7201a8"
             ],
             [
              0.3333333333333333,
              "#9c179e"
             ],
             [
              0.4444444444444444,
              "#bd3786"
             ],
             [
              0.5555555555555556,
              "#d8576b"
             ],
             [
              0.6666666666666666,
              "#ed7953"
             ],
             [
              0.7777777777777778,
              "#fb9f3a"
             ],
             [
              0.8888888888888888,
              "#fdca26"
             ],
             [
              1,
              "#f0f921"
             ]
            ],
            "type": "histogram2d"
           }
          ],
          "histogram2dcontour": [
           {
            "colorbar": {
             "outlinewidth": 0,
             "ticks": ""
            },
            "colorscale": [
             [
              0,
              "#0d0887"
             ],
             [
              0.1111111111111111,
              "#46039f"
             ],
             [
              0.2222222222222222,
              "#7201a8"
             ],
             [
              0.3333333333333333,
              "#9c179e"
             ],
             [
              0.4444444444444444,
              "#bd3786"
             ],
             [
              0.5555555555555556,
              "#d8576b"
             ],
             [
              0.6666666666666666,
              "#ed7953"
             ],
             [
              0.7777777777777778,
              "#fb9f3a"
             ],
             [
              0.8888888888888888,
              "#fdca26"
             ],
             [
              1,
              "#f0f921"
             ]
            ],
            "type": "histogram2dcontour"
           }
          ],
          "mesh3d": [
           {
            "colorbar": {
             "outlinewidth": 0,
             "ticks": ""
            },
            "type": "mesh3d"
           }
          ],
          "parcoords": [
           {
            "line": {
             "colorbar": {
              "outlinewidth": 0,
              "ticks": ""
             }
            },
            "type": "parcoords"
           }
          ],
          "pie": [
           {
            "automargin": true,
            "type": "pie"
           }
          ],
          "scatter": [
           {
            "fillpattern": {
             "fillmode": "overlay",
             "size": 10,
             "solidity": 0.2
            },
            "type": "scatter"
           }
          ],
          "scatter3d": [
           {
            "line": {
             "colorbar": {
              "outlinewidth": 0,
              "ticks": ""
             }
            },
            "marker": {
             "colorbar": {
              "outlinewidth": 0,
              "ticks": ""
             }
            },
            "type": "scatter3d"
           }
          ],
          "scattercarpet": [
           {
            "marker": {
             "colorbar": {
              "outlinewidth": 0,
              "ticks": ""
             }
            },
            "type": "scattercarpet"
           }
          ],
          "scattergeo": [
           {
            "marker": {
             "colorbar": {
              "outlinewidth": 0,
              "ticks": ""
             }
            },
            "type": "scattergeo"
           }
          ],
          "scattergl": [
           {
            "marker": {
             "colorbar": {
              "outlinewidth": 0,
              "ticks": ""
             }
            },
            "type": "scattergl"
           }
          ],
          "scattermapbox": [
           {
            "marker": {
             "colorbar": {
              "outlinewidth": 0,
              "ticks": ""
             }
            },
            "type": "scattermapbox"
           }
          ],
          "scatterpolar": [
           {
            "marker": {
             "colorbar": {
              "outlinewidth": 0,
              "ticks": ""
             }
            },
            "type": "scatterpolar"
           }
          ],
          "scatterpolargl": [
           {
            "marker": {
             "colorbar": {
              "outlinewidth": 0,
              "ticks": ""
             }
            },
            "type": "scatterpolargl"
           }
          ],
          "scatterternary": [
           {
            "marker": {
             "colorbar": {
              "outlinewidth": 0,
              "ticks": ""
             }
            },
            "type": "scatterternary"
           }
          ],
          "surface": [
           {
            "colorbar": {
             "outlinewidth": 0,
             "ticks": ""
            },
            "colorscale": [
             [
              0,
              "#0d0887"
             ],
             [
              0.1111111111111111,
              "#46039f"
             ],
             [
              0.2222222222222222,
              "#7201a8"
             ],
             [
              0.3333333333333333,
              "#9c179e"
             ],
             [
              0.4444444444444444,
              "#bd3786"
             ],
             [
              0.5555555555555556,
              "#d8576b"
             ],
             [
              0.6666666666666666,
              "#ed7953"
             ],
             [
              0.7777777777777778,
              "#fb9f3a"
             ],
             [
              0.8888888888888888,
              "#fdca26"
             ],
             [
              1,
              "#f0f921"
             ]
            ],
            "type": "surface"
           }
          ],
          "table": [
           {
            "cells": {
             "fill": {
              "color": "#EBF0F8"
             },
             "line": {
              "color": "white"
             }
            },
            "header": {
             "fill": {
              "color": "#C8D4E3"
             },
             "line": {
              "color": "white"
             }
            },
            "type": "table"
           }
          ]
         },
         "layout": {
          "annotationdefaults": {
           "arrowcolor": "#2a3f5f",
           "arrowhead": 0,
           "arrowwidth": 1
          },
          "autotypenumbers": "strict",
          "coloraxis": {
           "colorbar": {
            "outlinewidth": 0,
            "ticks": ""
           }
          },
          "colorscale": {
           "diverging": [
            [
             0,
             "#8e0152"
            ],
            [
             0.1,
             "#c51b7d"
            ],
            [
             0.2,
             "#de77ae"
            ],
            [
             0.3,
             "#f1b6da"
            ],
            [
             0.4,
             "#fde0ef"
            ],
            [
             0.5,
             "#f7f7f7"
            ],
            [
             0.6,
             "#e6f5d0"
            ],
            [
             0.7,
             "#b8e186"
            ],
            [
             0.8,
             "#7fbc41"
            ],
            [
             0.9,
             "#4d9221"
            ],
            [
             1,
             "#276419"
            ]
           ],
           "sequential": [
            [
             0,
             "#0d0887"
            ],
            [
             0.1111111111111111,
             "#46039f"
            ],
            [
             0.2222222222222222,
             "#7201a8"
            ],
            [
             0.3333333333333333,
             "#9c179e"
            ],
            [
             0.4444444444444444,
             "#bd3786"
            ],
            [
             0.5555555555555556,
             "#d8576b"
            ],
            [
             0.6666666666666666,
             "#ed7953"
            ],
            [
             0.7777777777777778,
             "#fb9f3a"
            ],
            [
             0.8888888888888888,
             "#fdca26"
            ],
            [
             1,
             "#f0f921"
            ]
           ],
           "sequentialminus": [
            [
             0,
             "#0d0887"
            ],
            [
             0.1111111111111111,
             "#46039f"
            ],
            [
             0.2222222222222222,
             "#7201a8"
            ],
            [
             0.3333333333333333,
             "#9c179e"
            ],
            [
             0.4444444444444444,
             "#bd3786"
            ],
            [
             0.5555555555555556,
             "#d8576b"
            ],
            [
             0.6666666666666666,
             "#ed7953"
            ],
            [
             0.7777777777777778,
             "#fb9f3a"
            ],
            [
             0.8888888888888888,
             "#fdca26"
            ],
            [
             1,
             "#f0f921"
            ]
           ]
          },
          "colorway": [
           "#636efa",
           "#EF553B",
           "#00cc96",
           "#ab63fa",
           "#FFA15A",
           "#19d3f3",
           "#FF6692",
           "#B6E880",
           "#FF97FF",
           "#FECB52"
          ],
          "font": {
           "color": "#2a3f5f"
          },
          "geo": {
           "bgcolor": "white",
           "lakecolor": "white",
           "landcolor": "#E5ECF6",
           "showlakes": true,
           "showland": true,
           "subunitcolor": "white"
          },
          "hoverlabel": {
           "align": "left"
          },
          "hovermode": "closest",
          "mapbox": {
           "style": "light"
          },
          "paper_bgcolor": "white",
          "plot_bgcolor": "#E5ECF6",
          "polar": {
           "angularaxis": {
            "gridcolor": "white",
            "linecolor": "white",
            "ticks": ""
           },
           "bgcolor": "#E5ECF6",
           "radialaxis": {
            "gridcolor": "white",
            "linecolor": "white",
            "ticks": ""
           }
          },
          "scene": {
           "xaxis": {
            "backgroundcolor": "#E5ECF6",
            "gridcolor": "white",
            "gridwidth": 2,
            "linecolor": "white",
            "showbackground": true,
            "ticks": "",
            "zerolinecolor": "white"
           },
           "yaxis": {
            "backgroundcolor": "#E5ECF6",
            "gridcolor": "white",
            "gridwidth": 2,
            "linecolor": "white",
            "showbackground": true,
            "ticks": "",
            "zerolinecolor": "white"
           },
           "zaxis": {
            "backgroundcolor": "#E5ECF6",
            "gridcolor": "white",
            "gridwidth": 2,
            "linecolor": "white",
            "showbackground": true,
            "ticks": "",
            "zerolinecolor": "white"
           }
          },
          "shapedefaults": {
           "line": {
            "color": "#2a3f5f"
           }
          },
          "ternary": {
           "aaxis": {
            "gridcolor": "white",
            "linecolor": "white",
            "ticks": ""
           },
           "baxis": {
            "gridcolor": "white",
            "linecolor": "white",
            "ticks": ""
           },
           "bgcolor": "#E5ECF6",
           "caxis": {
            "gridcolor": "white",
            "linecolor": "white",
            "ticks": ""
           }
          },
          "title": {
           "x": 0.05
          },
          "xaxis": {
           "automargin": true,
           "gridcolor": "white",
           "linecolor": "white",
           "ticks": "",
           "title": {
            "standoff": 15
           },
           "zerolinecolor": "white",
           "zerolinewidth": 2
          },
          "yaxis": {
           "automargin": true,
           "gridcolor": "white",
           "linecolor": "white",
           "ticks": "",
           "title": {
            "standoff": 15
           },
           "zerolinecolor": "white",
           "zerolinewidth": 2
          }
         }
        },
        "xaxis": {
         "anchor": "y",
         "domain": [
          0,
          1
         ],
         "title": {
          "text": "evento"
         }
        },
        "yaxis": {
         "anchor": "x",
         "domain": [
          0,
          1
         ],
         "title": {
          "text": "sum of tipo"
         }
        }
       }
      },
      "text/html": [
       "<div>                            <div id=\"d3d66a86-9cf8-4d60-83fd-9d3d3bbd0aaa\" class=\"plotly-graph-div\" style=\"height:525px; width:100%;\"></div>            <script type=\"text/javascript\">                require([\"plotly\"], function(Plotly) {                    window.PLOTLYENV=window.PLOTLYENV || {};                                    if (document.getElementById(\"d3d66a86-9cf8-4d60-83fd-9d3d3bbd0aaa\")) {                    Plotly.newPlot(                        \"d3d66a86-9cf8-4d60-83fd-9d3d3bbd0aaa\",                        [{\"alignmentgroup\":\"True\",\"bingroup\":\"x\",\"histfunc\":\"sum\",\"hovertemplate\":\"evento=%{x}<br>sum of tipo=%{y}<extra></extra>\",\"legendgroup\":\"\",\"marker\":{\"color\":\"#636efa\",\"pattern\":{\"shape\":\"\"}},\"name\":\"\",\"offsetgroup\":\"\",\"orientation\":\"v\",\"showlegend\":false,\"texttemplate\":\"%{value}\",\"x\":[\"Rock in Rio\",\"Carnaval\",\"Reveillon\"],\"xaxis\":\"x\",\"y\":[834,241,137],\"yaxis\":\"y\",\"type\":\"histogram\"}],                        {\"template\":{\"data\":{\"histogram2dcontour\":[{\"type\":\"histogram2dcontour\",\"colorbar\":{\"outlinewidth\":0,\"ticks\":\"\"},\"colorscale\":[[0.0,\"#0d0887\"],[0.1111111111111111,\"#46039f\"],[0.2222222222222222,\"#7201a8\"],[0.3333333333333333,\"#9c179e\"],[0.4444444444444444,\"#bd3786\"],[0.5555555555555556,\"#d8576b\"],[0.6666666666666666,\"#ed7953\"],[0.7777777777777778,\"#fb9f3a\"],[0.8888888888888888,\"#fdca26\"],[1.0,\"#f0f921\"]]}],\"choropleth\":[{\"type\":\"choropleth\",\"colorbar\":{\"outlinewidth\":0,\"ticks\":\"\"}}],\"histogram2d\":[{\"type\":\"histogram2d\",\"colorbar\":{\"outlinewidth\":0,\"ticks\":\"\"},\"colorscale\":[[0.0,\"#0d0887\"],[0.1111111111111111,\"#46039f\"],[0.2222222222222222,\"#7201a8\"],[0.3333333333333333,\"#9c179e\"],[0.4444444444444444,\"#bd3786\"],[0.5555555555555556,\"#d8576b\"],[0.6666666666666666,\"#ed7953\"],[0.7777777777777778,\"#fb9f3a\"],[0.8888888888888888,\"#fdca26\"],[1.0,\"#f0f921\"]]}],\"heatmap\":[{\"type\":\"heatmap\",\"colorbar\":{\"outlinewidth\":0,\"ticks\":\"\"},\"colorscale\":[[0.0,\"#0d0887\"],[0.1111111111111111,\"#46039f\"],[0.2222222222222222,\"#7201a8\"],[0.3333333333333333,\"#9c179e\"],[0.4444444444444444,\"#bd3786\"],[0.5555555555555556,\"#d8576b\"],[0.6666666666666666,\"#ed7953\"],[0.7777777777777778,\"#fb9f3a\"],[0.8888888888888888,\"#fdca26\"],[1.0,\"#f0f921\"]]}],\"heatmapgl\":[{\"type\":\"heatmapgl\",\"colorbar\":{\"outlinewidth\":0,\"ticks\":\"\"},\"colorscale\":[[0.0,\"#0d0887\"],[0.1111111111111111,\"#46039f\"],[0.2222222222222222,\"#7201a8\"],[0.3333333333333333,\"#9c179e\"],[0.4444444444444444,\"#bd3786\"],[0.5555555555555556,\"#d8576b\"],[0.6666666666666666,\"#ed7953\"],[0.7777777777777778,\"#fb9f3a\"],[0.8888888888888888,\"#fdca26\"],[1.0,\"#f0f921\"]]}],\"contourcarpet\":[{\"type\":\"contourcarpet\",\"colorbar\":{\"outlinewidth\":0,\"ticks\":\"\"}}],\"contour\":[{\"type\":\"contour\",\"colorbar\":{\"outlinewidth\":0,\"ticks\":\"\"},\"colorscale\":[[0.0,\"#0d0887\"],[0.1111111111111111,\"#46039f\"],[0.2222222222222222,\"#7201a8\"],[0.3333333333333333,\"#9c179e\"],[0.4444444444444444,\"#bd3786\"],[0.5555555555555556,\"#d8576b\"],[0.6666666666666666,\"#ed7953\"],[0.7777777777777778,\"#fb9f3a\"],[0.8888888888888888,\"#fdca26\"],[1.0,\"#f0f921\"]]}],\"surface\":[{\"type\":\"surface\",\"colorbar\":{\"outlinewidth\":0,\"ticks\":\"\"},\"colorscale\":[[0.0,\"#0d0887\"],[0.1111111111111111,\"#46039f\"],[0.2222222222222222,\"#7201a8\"],[0.3333333333333333,\"#9c179e\"],[0.4444444444444444,\"#bd3786\"],[0.5555555555555556,\"#d8576b\"],[0.6666666666666666,\"#ed7953\"],[0.7777777777777778,\"#fb9f3a\"],[0.8888888888888888,\"#fdca26\"],[1.0,\"#f0f921\"]]}],\"mesh3d\":[{\"type\":\"mesh3d\",\"colorbar\":{\"outlinewidth\":0,\"ticks\":\"\"}}],\"scatter\":[{\"fillpattern\":{\"fillmode\":\"overlay\",\"size\":10,\"solidity\":0.2},\"type\":\"scatter\"}],\"parcoords\":[{\"type\":\"parcoords\",\"line\":{\"colorbar\":{\"outlinewidth\":0,\"ticks\":\"\"}}}],\"scatterpolargl\":[{\"type\":\"scatterpolargl\",\"marker\":{\"colorbar\":{\"outlinewidth\":0,\"ticks\":\"\"}}}],\"bar\":[{\"error_x\":{\"color\":\"#2a3f5f\"},\"error_y\":{\"color\":\"#2a3f5f\"},\"marker\":{\"line\":{\"color\":\"#E5ECF6\",\"width\":0.5},\"pattern\":{\"fillmode\":\"overlay\",\"size\":10,\"solidity\":0.2}},\"type\":\"bar\"}],\"scattergeo\":[{\"type\":\"scattergeo\",\"marker\":{\"colorbar\":{\"outlinewidth\":0,\"ticks\":\"\"}}}],\"scatterpolar\":[{\"type\":\"scatterpolar\",\"marker\":{\"colorbar\":{\"outlinewidth\":0,\"ticks\":\"\"}}}],\"histogram\":[{\"marker\":{\"pattern\":{\"fillmode\":\"overlay\",\"size\":10,\"solidity\":0.2}},\"type\":\"histogram\"}],\"scattergl\":[{\"type\":\"scattergl\",\"marker\":{\"colorbar\":{\"outlinewidth\":0,\"ticks\":\"\"}}}],\"scatter3d\":[{\"type\":\"scatter3d\",\"line\":{\"colorbar\":{\"outlinewidth\":0,\"ticks\":\"\"}},\"marker\":{\"colorbar\":{\"outlinewidth\":0,\"ticks\":\"\"}}}],\"scattermapbox\":[{\"type\":\"scattermapbox\",\"marker\":{\"colorbar\":{\"outlinewidth\":0,\"ticks\":\"\"}}}],\"scatterternary\":[{\"type\":\"scatterternary\",\"marker\":{\"colorbar\":{\"outlinewidth\":0,\"ticks\":\"\"}}}],\"scattercarpet\":[{\"type\":\"scattercarpet\",\"marker\":{\"colorbar\":{\"outlinewidth\":0,\"ticks\":\"\"}}}],\"carpet\":[{\"aaxis\":{\"endlinecolor\":\"#2a3f5f\",\"gridcolor\":\"white\",\"linecolor\":\"white\",\"minorgridcolor\":\"white\",\"startlinecolor\":\"#2a3f5f\"},\"baxis\":{\"endlinecolor\":\"#2a3f5f\",\"gridcolor\":\"white\",\"linecolor\":\"white\",\"minorgridcolor\":\"white\",\"startlinecolor\":\"#2a3f5f\"},\"type\":\"carpet\"}],\"table\":[{\"cells\":{\"fill\":{\"color\":\"#EBF0F8\"},\"line\":{\"color\":\"white\"}},\"header\":{\"fill\":{\"color\":\"#C8D4E3\"},\"line\":{\"color\":\"white\"}},\"type\":\"table\"}],\"barpolar\":[{\"marker\":{\"line\":{\"color\":\"#E5ECF6\",\"width\":0.5},\"pattern\":{\"fillmode\":\"overlay\",\"size\":10,\"solidity\":0.2}},\"type\":\"barpolar\"}],\"pie\":[{\"automargin\":true,\"type\":\"pie\"}]},\"layout\":{\"autotypenumbers\":\"strict\",\"colorway\":[\"#636efa\",\"#EF553B\",\"#00cc96\",\"#ab63fa\",\"#FFA15A\",\"#19d3f3\",\"#FF6692\",\"#B6E880\",\"#FF97FF\",\"#FECB52\"],\"font\":{\"color\":\"#2a3f5f\"},\"hovermode\":\"closest\",\"hoverlabel\":{\"align\":\"left\"},\"paper_bgcolor\":\"white\",\"plot_bgcolor\":\"#E5ECF6\",\"polar\":{\"bgcolor\":\"#E5ECF6\",\"angularaxis\":{\"gridcolor\":\"white\",\"linecolor\":\"white\",\"ticks\":\"\"},\"radialaxis\":{\"gridcolor\":\"white\",\"linecolor\":\"white\",\"ticks\":\"\"}},\"ternary\":{\"bgcolor\":\"#E5ECF6\",\"aaxis\":{\"gridcolor\":\"white\",\"linecolor\":\"white\",\"ticks\":\"\"},\"baxis\":{\"gridcolor\":\"white\",\"linecolor\":\"white\",\"ticks\":\"\"},\"caxis\":{\"gridcolor\":\"white\",\"linecolor\":\"white\",\"ticks\":\"\"}},\"coloraxis\":{\"colorbar\":{\"outlinewidth\":0,\"ticks\":\"\"}},\"colorscale\":{\"sequential\":[[0.0,\"#0d0887\"],[0.1111111111111111,\"#46039f\"],[0.2222222222222222,\"#7201a8\"],[0.3333333333333333,\"#9c179e\"],[0.4444444444444444,\"#bd3786\"],[0.5555555555555556,\"#d8576b\"],[0.6666666666666666,\"#ed7953\"],[0.7777777777777778,\"#fb9f3a\"],[0.8888888888888888,\"#fdca26\"],[1.0,\"#f0f921\"]],\"sequentialminus\":[[0.0,\"#0d0887\"],[0.1111111111111111,\"#46039f\"],[0.2222222222222222,\"#7201a8\"],[0.3333333333333333,\"#9c179e\"],[0.4444444444444444,\"#bd3786\"],[0.5555555555555556,\"#d8576b\"],[0.6666666666666666,\"#ed7953\"],[0.7777777777777778,\"#fb9f3a\"],[0.8888888888888888,\"#fdca26\"],[1.0,\"#f0f921\"]],\"diverging\":[[0,\"#8e0152\"],[0.1,\"#c51b7d\"],[0.2,\"#de77ae\"],[0.3,\"#f1b6da\"],[0.4,\"#fde0ef\"],[0.5,\"#f7f7f7\"],[0.6,\"#e6f5d0\"],[0.7,\"#b8e186\"],[0.8,\"#7fbc41\"],[0.9,\"#4d9221\"],[1,\"#276419\"]]},\"xaxis\":{\"gridcolor\":\"white\",\"linecolor\":\"white\",\"ticks\":\"\",\"title\":{\"standoff\":15},\"zerolinecolor\":\"white\",\"automargin\":true,\"zerolinewidth\":2},\"yaxis\":{\"gridcolor\":\"white\",\"linecolor\":\"white\",\"ticks\":\"\",\"title\":{\"standoff\":15},\"zerolinecolor\":\"white\",\"automargin\":true,\"zerolinewidth\":2},\"scene\":{\"xaxis\":{\"backgroundcolor\":\"#E5ECF6\",\"gridcolor\":\"white\",\"linecolor\":\"white\",\"showbackground\":true,\"ticks\":\"\",\"zerolinecolor\":\"white\",\"gridwidth\":2},\"yaxis\":{\"backgroundcolor\":\"#E5ECF6\",\"gridcolor\":\"white\",\"linecolor\":\"white\",\"showbackground\":true,\"ticks\":\"\",\"zerolinecolor\":\"white\",\"gridwidth\":2},\"zaxis\":{\"backgroundcolor\":\"#E5ECF6\",\"gridcolor\":\"white\",\"linecolor\":\"white\",\"showbackground\":true,\"ticks\":\"\",\"zerolinecolor\":\"white\",\"gridwidth\":2}},\"shapedefaults\":{\"line\":{\"color\":\"#2a3f5f\"}},\"annotationdefaults\":{\"arrowcolor\":\"#2a3f5f\",\"arrowhead\":0,\"arrowwidth\":1},\"geo\":{\"bgcolor\":\"white\",\"landcolor\":\"#E5ECF6\",\"subunitcolor\":\"white\",\"showland\":true,\"showlakes\":true,\"lakecolor\":\"white\"},\"title\":{\"x\":0.05},\"mapbox\":{\"style\":\"light\"}}},\"xaxis\":{\"anchor\":\"y\",\"domain\":[0.0,1.0],\"title\":{\"text\":\"evento\"}},\"yaxis\":{\"anchor\":\"x\",\"domain\":[0.0,1.0],\"title\":{\"text\":\"sum of tipo\"}},\"legend\":{\"tracegroupgap\":0},\"margin\":{\"t\":60},\"barmode\":\"group\",\"bargap\":0.2},                        {\"responsive\": true}                    ).then(function(){\n",
       "                            \n",
       "var gd = document.getElementById('d3d66a86-9cf8-4d60-83fd-9d3d3bbd0aaa');\n",
       "var x = new MutationObserver(function (mutations, observer) {{\n",
       "        var display = window.getComputedStyle(gd).display;\n",
       "        if (!display || display === 'none') {{\n",
       "            console.log([gd, 'removed!']);\n",
       "            Plotly.purge(gd);\n",
       "            observer.disconnect();\n",
       "        }}\n",
       "}});\n",
       "\n",
       "// Listen for the removal of the full notebook cells\n",
       "var notebookContainer = gd.closest('#notebook-container');\n",
       "if (notebookContainer) {{\n",
       "    x.observe(notebookContainer, {childList: true});\n",
       "}}\n",
       "\n",
       "// Listen for the clearing of the current output cell\n",
       "var outputEl = gd.closest('.output');\n",
       "if (outputEl) {{\n",
       "    x.observe(outputEl, {childList: true});\n",
       "}}\n",
       "\n",
       "                        })                };                });            </script>        </div>"
      ]
     },
     "metadata": {},
     "output_type": "display_data"
    }
   ],
   "source": [
    "fig = px.histogram(numero_chamados, x=\"evento\", y='subtipo', barmode='group', text_auto= True)\n",
    "fig.update_layout(bargap=0.2)\n",
    "fig.show()"
   ]
  },
  {
   "cell_type": "markdown",
   "metadata": {},
   "source": [
    "### 9) Qual evento teve a maior média diária de chamados abertos desse subtipo?"
   ]
  },
  {
   "cell_type": "code",
   "execution_count": 193,
   "metadata": {},
   "outputs": [],
   "source": [
    "numero_chamados['media'] = round(numero_chamados['subtipo']/numero_chamados['subtipo'].sum()*100,2)"
   ]
  },
  {
   "cell_type": "code",
   "execution_count": 194,
   "metadata": {},
   "outputs": [
    {
     "data": {
      "application/vnd.plotly.v1+json": {
       "config": {
        "plotlyServerURL": "https://plot.ly"
       },
       "data": [
        {
         "alignmentgroup": "True",
         "bingroup": "x",
         "histfunc": "sum",
         "hovertemplate": "evento=%{x}<br>sum of media=%{y}<extra></extra>",
         "legendgroup": "",
         "marker": {
          "color": "#636efa",
          "pattern": {
           "shape": ""
          }
         },
         "name": "",
         "offsetgroup": "",
         "orientation": "v",
         "showlegend": false,
         "texttemplate": "%{value}",
         "type": "histogram",
         "x": [
          "Carnaval",
          "Reveillon",
          "Rock in Rio"
         ],
         "xaxis": "x",
         "y": [
          19.88,
          11.3,
          68.81
         ],
         "yaxis": "y"
        }
       ],
       "layout": {
        "bargap": 0.2,
        "barmode": "group",
        "legend": {
         "tracegroupgap": 0
        },
        "margin": {
         "t": 60
        },
        "template": {
         "data": {
          "bar": [
           {
            "error_x": {
             "color": "#2a3f5f"
            },
            "error_y": {
             "color": "#2a3f5f"
            },
            "marker": {
             "line": {
              "color": "#E5ECF6",
              "width": 0.5
             },
             "pattern": {
              "fillmode": "overlay",
              "size": 10,
              "solidity": 0.2
             }
            },
            "type": "bar"
           }
          ],
          "barpolar": [
           {
            "marker": {
             "line": {
              "color": "#E5ECF6",
              "width": 0.5
             },
             "pattern": {
              "fillmode": "overlay",
              "size": 10,
              "solidity": 0.2
             }
            },
            "type": "barpolar"
           }
          ],
          "carpet": [
           {
            "aaxis": {
             "endlinecolor": "#2a3f5f",
             "gridcolor": "white",
             "linecolor": "white",
             "minorgridcolor": "white",
             "startlinecolor": "#2a3f5f"
            },
            "baxis": {
             "endlinecolor": "#2a3f5f",
             "gridcolor": "white",
             "linecolor": "white",
             "minorgridcolor": "white",
             "startlinecolor": "#2a3f5f"
            },
            "type": "carpet"
           }
          ],
          "choropleth": [
           {
            "colorbar": {
             "outlinewidth": 0,
             "ticks": ""
            },
            "type": "choropleth"
           }
          ],
          "contour": [
           {
            "colorbar": {
             "outlinewidth": 0,
             "ticks": ""
            },
            "colorscale": [
             [
              0,
              "#0d0887"
             ],
             [
              0.1111111111111111,
              "#46039f"
             ],
             [
              0.2222222222222222,
              "#7201a8"
             ],
             [
              0.3333333333333333,
              "#9c179e"
             ],
             [
              0.4444444444444444,
              "#bd3786"
             ],
             [
              0.5555555555555556,
              "#d8576b"
             ],
             [
              0.6666666666666666,
              "#ed7953"
             ],
             [
              0.7777777777777778,
              "#fb9f3a"
             ],
             [
              0.8888888888888888,
              "#fdca26"
             ],
             [
              1,
              "#f0f921"
             ]
            ],
            "type": "contour"
           }
          ],
          "contourcarpet": [
           {
            "colorbar": {
             "outlinewidth": 0,
             "ticks": ""
            },
            "type": "contourcarpet"
           }
          ],
          "heatmap": [
           {
            "colorbar": {
             "outlinewidth": 0,
             "ticks": ""
            },
            "colorscale": [
             [
              0,
              "#0d0887"
             ],
             [
              0.1111111111111111,
              "#46039f"
             ],
             [
              0.2222222222222222,
              "#7201a8"
             ],
             [
              0.3333333333333333,
              "#9c179e"
             ],
             [
              0.4444444444444444,
              "#bd3786"
             ],
             [
              0.5555555555555556,
              "#d8576b"
             ],
             [
              0.6666666666666666,
              "#ed7953"
             ],
             [
              0.7777777777777778,
              "#fb9f3a"
             ],
             [
              0.8888888888888888,
              "#fdca26"
             ],
             [
              1,
              "#f0f921"
             ]
            ],
            "type": "heatmap"
           }
          ],
          "heatmapgl": [
           {
            "colorbar": {
             "outlinewidth": 0,
             "ticks": ""
            },
            "colorscale": [
             [
              0,
              "#0d0887"
             ],
             [
              0.1111111111111111,
              "#46039f"
             ],
             [
              0.2222222222222222,
              "#7201a8"
             ],
             [
              0.3333333333333333,
              "#9c179e"
             ],
             [
              0.4444444444444444,
              "#bd3786"
             ],
             [
              0.5555555555555556,
              "#d8576b"
             ],
             [
              0.6666666666666666,
              "#ed7953"
             ],
             [
              0.7777777777777778,
              "#fb9f3a"
             ],
             [
              0.8888888888888888,
              "#fdca26"
             ],
             [
              1,
              "#f0f921"
             ]
            ],
            "type": "heatmapgl"
           }
          ],
          "histogram": [
           {
            "marker": {
             "pattern": {
              "fillmode": "overlay",
              "size": 10,
              "solidity": 0.2
             }
            },
            "type": "histogram"
           }
          ],
          "histogram2d": [
           {
            "colorbar": {
             "outlinewidth": 0,
             "ticks": ""
            },
            "colorscale": [
             [
              0,
              "#0d0887"
             ],
             [
              0.1111111111111111,
              "#46039f"
             ],
             [
              0.2222222222222222,
              "#7201a8"
             ],
             [
              0.3333333333333333,
              "#9c179e"
             ],
             [
              0.4444444444444444,
              "#bd3786"
             ],
             [
              0.5555555555555556,
              "#d8576b"
             ],
             [
              0.6666666666666666,
              "#ed7953"
             ],
             [
              0.7777777777777778,
              "#fb9f3a"
             ],
             [
              0.8888888888888888,
              "#fdca26"
             ],
             [
              1,
              "#f0f921"
             ]
            ],
            "type": "histogram2d"
           }
          ],
          "histogram2dcontour": [
           {
            "colorbar": {
             "outlinewidth": 0,
             "ticks": ""
            },
            "colorscale": [
             [
              0,
              "#0d0887"
             ],
             [
              0.1111111111111111,
              "#46039f"
             ],
             [
              0.2222222222222222,
              "#7201a8"
             ],
             [
              0.3333333333333333,
              "#9c179e"
             ],
             [
              0.4444444444444444,
              "#bd3786"
             ],
             [
              0.5555555555555556,
              "#d8576b"
             ],
             [
              0.6666666666666666,
              "#ed7953"
             ],
             [
              0.7777777777777778,
              "#fb9f3a"
             ],
             [
              0.8888888888888888,
              "#fdca26"
             ],
             [
              1,
              "#f0f921"
             ]
            ],
            "type": "histogram2dcontour"
           }
          ],
          "mesh3d": [
           {
            "colorbar": {
             "outlinewidth": 0,
             "ticks": ""
            },
            "type": "mesh3d"
           }
          ],
          "parcoords": [
           {
            "line": {
             "colorbar": {
              "outlinewidth": 0,
              "ticks": ""
             }
            },
            "type": "parcoords"
           }
          ],
          "pie": [
           {
            "automargin": true,
            "type": "pie"
           }
          ],
          "scatter": [
           {
            "fillpattern": {
             "fillmode": "overlay",
             "size": 10,
             "solidity": 0.2
            },
            "type": "scatter"
           }
          ],
          "scatter3d": [
           {
            "line": {
             "colorbar": {
              "outlinewidth": 0,
              "ticks": ""
             }
            },
            "marker": {
             "colorbar": {
              "outlinewidth": 0,
              "ticks": ""
             }
            },
            "type": "scatter3d"
           }
          ],
          "scattercarpet": [
           {
            "marker": {
             "colorbar": {
              "outlinewidth": 0,
              "ticks": ""
             }
            },
            "type": "scattercarpet"
           }
          ],
          "scattergeo": [
           {
            "marker": {
             "colorbar": {
              "outlinewidth": 0,
              "ticks": ""
             }
            },
            "type": "scattergeo"
           }
          ],
          "scattergl": [
           {
            "marker": {
             "colorbar": {
              "outlinewidth": 0,
              "ticks": ""
             }
            },
            "type": "scattergl"
           }
          ],
          "scattermapbox": [
           {
            "marker": {
             "colorbar": {
              "outlinewidth": 0,
              "ticks": ""
             }
            },
            "type": "scattermapbox"
           }
          ],
          "scatterpolar": [
           {
            "marker": {
             "colorbar": {
              "outlinewidth": 0,
              "ticks": ""
             }
            },
            "type": "scatterpolar"
           }
          ],
          "scatterpolargl": [
           {
            "marker": {
             "colorbar": {
              "outlinewidth": 0,
              "ticks": ""
             }
            },
            "type": "scatterpolargl"
           }
          ],
          "scatterternary": [
           {
            "marker": {
             "colorbar": {
              "outlinewidth": 0,
              "ticks": ""
             }
            },
            "type": "scatterternary"
           }
          ],
          "surface": [
           {
            "colorbar": {
             "outlinewidth": 0,
             "ticks": ""
            },
            "colorscale": [
             [
              0,
              "#0d0887"
             ],
             [
              0.1111111111111111,
              "#46039f"
             ],
             [
              0.2222222222222222,
              "#7201a8"
             ],
             [
              0.3333333333333333,
              "#9c179e"
             ],
             [
              0.4444444444444444,
              "#bd3786"
             ],
             [
              0.5555555555555556,
              "#d8576b"
             ],
             [
              0.6666666666666666,
              "#ed7953"
             ],
             [
              0.7777777777777778,
              "#fb9f3a"
             ],
             [
              0.8888888888888888,
              "#fdca26"
             ],
             [
              1,
              "#f0f921"
             ]
            ],
            "type": "surface"
           }
          ],
          "table": [
           {
            "cells": {
             "fill": {
              "color": "#EBF0F8"
             },
             "line": {
              "color": "white"
             }
            },
            "header": {
             "fill": {
              "color": "#C8D4E3"
             },
             "line": {
              "color": "white"
             }
            },
            "type": "table"
           }
          ]
         },
         "layout": {
          "annotationdefaults": {
           "arrowcolor": "#2a3f5f",
           "arrowhead": 0,
           "arrowwidth": 1
          },
          "autotypenumbers": "strict",
          "coloraxis": {
           "colorbar": {
            "outlinewidth": 0,
            "ticks": ""
           }
          },
          "colorscale": {
           "diverging": [
            [
             0,
             "#8e0152"
            ],
            [
             0.1,
             "#c51b7d"
            ],
            [
             0.2,
             "#de77ae"
            ],
            [
             0.3,
             "#f1b6da"
            ],
            [
             0.4,
             "#fde0ef"
            ],
            [
             0.5,
             "#f7f7f7"
            ],
            [
             0.6,
             "#e6f5d0"
            ],
            [
             0.7,
             "#b8e186"
            ],
            [
             0.8,
             "#7fbc41"
            ],
            [
             0.9,
             "#4d9221"
            ],
            [
             1,
             "#276419"
            ]
           ],
           "sequential": [
            [
             0,
             "#0d0887"
            ],
            [
             0.1111111111111111,
             "#46039f"
            ],
            [
             0.2222222222222222,
             "#7201a8"
            ],
            [
             0.3333333333333333,
             "#9c179e"
            ],
            [
             0.4444444444444444,
             "#bd3786"
            ],
            [
             0.5555555555555556,
             "#d8576b"
            ],
            [
             0.6666666666666666,
             "#ed7953"
            ],
            [
             0.7777777777777778,
             "#fb9f3a"
            ],
            [
             0.8888888888888888,
             "#fdca26"
            ],
            [
             1,
             "#f0f921"
            ]
           ],
           "sequentialminus": [
            [
             0,
             "#0d0887"
            ],
            [
             0.1111111111111111,
             "#46039f"
            ],
            [
             0.2222222222222222,
             "#7201a8"
            ],
            [
             0.3333333333333333,
             "#9c179e"
            ],
            [
             0.4444444444444444,
             "#bd3786"
            ],
            [
             0.5555555555555556,
             "#d8576b"
            ],
            [
             0.6666666666666666,
             "#ed7953"
            ],
            [
             0.7777777777777778,
             "#fb9f3a"
            ],
            [
             0.8888888888888888,
             "#fdca26"
            ],
            [
             1,
             "#f0f921"
            ]
           ]
          },
          "colorway": [
           "#636efa",
           "#EF553B",
           "#00cc96",
           "#ab63fa",
           "#FFA15A",
           "#19d3f3",
           "#FF6692",
           "#B6E880",
           "#FF97FF",
           "#FECB52"
          ],
          "font": {
           "color": "#2a3f5f"
          },
          "geo": {
           "bgcolor": "white",
           "lakecolor": "white",
           "landcolor": "#E5ECF6",
           "showlakes": true,
           "showland": true,
           "subunitcolor": "white"
          },
          "hoverlabel": {
           "align": "left"
          },
          "hovermode": "closest",
          "mapbox": {
           "style": "light"
          },
          "paper_bgcolor": "white",
          "plot_bgcolor": "#E5ECF6",
          "polar": {
           "angularaxis": {
            "gridcolor": "white",
            "linecolor": "white",
            "ticks": ""
           },
           "bgcolor": "#E5ECF6",
           "radialaxis": {
            "gridcolor": "white",
            "linecolor": "white",
            "ticks": ""
           }
          },
          "scene": {
           "xaxis": {
            "backgroundcolor": "#E5ECF6",
            "gridcolor": "white",
            "gridwidth": 2,
            "linecolor": "white",
            "showbackground": true,
            "ticks": "",
            "zerolinecolor": "white"
           },
           "yaxis": {
            "backgroundcolor": "#E5ECF6",
            "gridcolor": "white",
            "gridwidth": 2,
            "linecolor": "white",
            "showbackground": true,
            "ticks": "",
            "zerolinecolor": "white"
           },
           "zaxis": {
            "backgroundcolor": "#E5ECF6",
            "gridcolor": "white",
            "gridwidth": 2,
            "linecolor": "white",
            "showbackground": true,
            "ticks": "",
            "zerolinecolor": "white"
           }
          },
          "shapedefaults": {
           "line": {
            "color": "#2a3f5f"
           }
          },
          "ternary": {
           "aaxis": {
            "gridcolor": "white",
            "linecolor": "white",
            "ticks": ""
           },
           "baxis": {
            "gridcolor": "white",
            "linecolor": "white",
            "ticks": ""
           },
           "bgcolor": "#E5ECF6",
           "caxis": {
            "gridcolor": "white",
            "linecolor": "white",
            "ticks": ""
           }
          },
          "title": {
           "x": 0.05
          },
          "xaxis": {
           "automargin": true,
           "gridcolor": "white",
           "linecolor": "white",
           "ticks": "",
           "title": {
            "standoff": 15
           },
           "zerolinecolor": "white",
           "zerolinewidth": 2
          },
          "yaxis": {
           "automargin": true,
           "gridcolor": "white",
           "linecolor": "white",
           "ticks": "",
           "title": {
            "standoff": 15
           },
           "zerolinecolor": "white",
           "zerolinewidth": 2
          }
         }
        },
        "xaxis": {
         "anchor": "y",
         "domain": [
          0,
          1
         ],
         "title": {
          "text": "evento"
         }
        },
        "yaxis": {
         "anchor": "x",
         "domain": [
          0,
          1
         ],
         "title": {
          "text": "sum of media"
         }
        }
       }
      },
      "text/html": [
       "<div>                            <div id=\"75ffd185-20da-43f1-a471-200714659a89\" class=\"plotly-graph-div\" style=\"height:525px; width:100%;\"></div>            <script type=\"text/javascript\">                require([\"plotly\"], function(Plotly) {                    window.PLOTLYENV=window.PLOTLYENV || {};                                    if (document.getElementById(\"75ffd185-20da-43f1-a471-200714659a89\")) {                    Plotly.newPlot(                        \"75ffd185-20da-43f1-a471-200714659a89\",                        [{\"alignmentgroup\":\"True\",\"bingroup\":\"x\",\"histfunc\":\"sum\",\"hovertemplate\":\"evento=%{x}<br>sum of media=%{y}<extra></extra>\",\"legendgroup\":\"\",\"marker\":{\"color\":\"#636efa\",\"pattern\":{\"shape\":\"\"}},\"name\":\"\",\"offsetgroup\":\"\",\"orientation\":\"v\",\"showlegend\":false,\"texttemplate\":\"%{value}\",\"x\":[\"Carnaval\",\"Reveillon\",\"Rock in Rio\"],\"xaxis\":\"x\",\"y\":[19.88,11.3,68.81],\"yaxis\":\"y\",\"type\":\"histogram\"}],                        {\"template\":{\"data\":{\"histogram2dcontour\":[{\"type\":\"histogram2dcontour\",\"colorbar\":{\"outlinewidth\":0,\"ticks\":\"\"},\"colorscale\":[[0.0,\"#0d0887\"],[0.1111111111111111,\"#46039f\"],[0.2222222222222222,\"#7201a8\"],[0.3333333333333333,\"#9c179e\"],[0.4444444444444444,\"#bd3786\"],[0.5555555555555556,\"#d8576b\"],[0.6666666666666666,\"#ed7953\"],[0.7777777777777778,\"#fb9f3a\"],[0.8888888888888888,\"#fdca26\"],[1.0,\"#f0f921\"]]}],\"choropleth\":[{\"type\":\"choropleth\",\"colorbar\":{\"outlinewidth\":0,\"ticks\":\"\"}}],\"histogram2d\":[{\"type\":\"histogram2d\",\"colorbar\":{\"outlinewidth\":0,\"ticks\":\"\"},\"colorscale\":[[0.0,\"#0d0887\"],[0.1111111111111111,\"#46039f\"],[0.2222222222222222,\"#7201a8\"],[0.3333333333333333,\"#9c179e\"],[0.4444444444444444,\"#bd3786\"],[0.5555555555555556,\"#d8576b\"],[0.6666666666666666,\"#ed7953\"],[0.7777777777777778,\"#fb9f3a\"],[0.8888888888888888,\"#fdca26\"],[1.0,\"#f0f921\"]]}],\"heatmap\":[{\"type\":\"heatmap\",\"colorbar\":{\"outlinewidth\":0,\"ticks\":\"\"},\"colorscale\":[[0.0,\"#0d0887\"],[0.1111111111111111,\"#46039f\"],[0.2222222222222222,\"#7201a8\"],[0.3333333333333333,\"#9c179e\"],[0.4444444444444444,\"#bd3786\"],[0.5555555555555556,\"#d8576b\"],[0.6666666666666666,\"#ed7953\"],[0.7777777777777778,\"#fb9f3a\"],[0.8888888888888888,\"#fdca26\"],[1.0,\"#f0f921\"]]}],\"heatmapgl\":[{\"type\":\"heatmapgl\",\"colorbar\":{\"outlinewidth\":0,\"ticks\":\"\"},\"colorscale\":[[0.0,\"#0d0887\"],[0.1111111111111111,\"#46039f\"],[0.2222222222222222,\"#7201a8\"],[0.3333333333333333,\"#9c179e\"],[0.4444444444444444,\"#bd3786\"],[0.5555555555555556,\"#d8576b\"],[0.6666666666666666,\"#ed7953\"],[0.7777777777777778,\"#fb9f3a\"],[0.8888888888888888,\"#fdca26\"],[1.0,\"#f0f921\"]]}],\"contourcarpet\":[{\"type\":\"contourcarpet\",\"colorbar\":{\"outlinewidth\":0,\"ticks\":\"\"}}],\"contour\":[{\"type\":\"contour\",\"colorbar\":{\"outlinewidth\":0,\"ticks\":\"\"},\"colorscale\":[[0.0,\"#0d0887\"],[0.1111111111111111,\"#46039f\"],[0.2222222222222222,\"#7201a8\"],[0.3333333333333333,\"#9c179e\"],[0.4444444444444444,\"#bd3786\"],[0.5555555555555556,\"#d8576b\"],[0.6666666666666666,\"#ed7953\"],[0.7777777777777778,\"#fb9f3a\"],[0.8888888888888888,\"#fdca26\"],[1.0,\"#f0f921\"]]}],\"surface\":[{\"type\":\"surface\",\"colorbar\":{\"outlinewidth\":0,\"ticks\":\"\"},\"colorscale\":[[0.0,\"#0d0887\"],[0.1111111111111111,\"#46039f\"],[0.2222222222222222,\"#7201a8\"],[0.3333333333333333,\"#9c179e\"],[0.4444444444444444,\"#bd3786\"],[0.5555555555555556,\"#d8576b\"],[0.6666666666666666,\"#ed7953\"],[0.7777777777777778,\"#fb9f3a\"],[0.8888888888888888,\"#fdca26\"],[1.0,\"#f0f921\"]]}],\"mesh3d\":[{\"type\":\"mesh3d\",\"colorbar\":{\"outlinewidth\":0,\"ticks\":\"\"}}],\"scatter\":[{\"fillpattern\":{\"fillmode\":\"overlay\",\"size\":10,\"solidity\":0.2},\"type\":\"scatter\"}],\"parcoords\":[{\"type\":\"parcoords\",\"line\":{\"colorbar\":{\"outlinewidth\":0,\"ticks\":\"\"}}}],\"scatterpolargl\":[{\"type\":\"scatterpolargl\",\"marker\":{\"colorbar\":{\"outlinewidth\":0,\"ticks\":\"\"}}}],\"bar\":[{\"error_x\":{\"color\":\"#2a3f5f\"},\"error_y\":{\"color\":\"#2a3f5f\"},\"marker\":{\"line\":{\"color\":\"#E5ECF6\",\"width\":0.5},\"pattern\":{\"fillmode\":\"overlay\",\"size\":10,\"solidity\":0.2}},\"type\":\"bar\"}],\"scattergeo\":[{\"type\":\"scattergeo\",\"marker\":{\"colorbar\":{\"outlinewidth\":0,\"ticks\":\"\"}}}],\"scatterpolar\":[{\"type\":\"scatterpolar\",\"marker\":{\"colorbar\":{\"outlinewidth\":0,\"ticks\":\"\"}}}],\"histogram\":[{\"marker\":{\"pattern\":{\"fillmode\":\"overlay\",\"size\":10,\"solidity\":0.2}},\"type\":\"histogram\"}],\"scattergl\":[{\"type\":\"scattergl\",\"marker\":{\"colorbar\":{\"outlinewidth\":0,\"ticks\":\"\"}}}],\"scatter3d\":[{\"type\":\"scatter3d\",\"line\":{\"colorbar\":{\"outlinewidth\":0,\"ticks\":\"\"}},\"marker\":{\"colorbar\":{\"outlinewidth\":0,\"ticks\":\"\"}}}],\"scattermapbox\":[{\"type\":\"scattermapbox\",\"marker\":{\"colorbar\":{\"outlinewidth\":0,\"ticks\":\"\"}}}],\"scatterternary\":[{\"type\":\"scatterternary\",\"marker\":{\"colorbar\":{\"outlinewidth\":0,\"ticks\":\"\"}}}],\"scattercarpet\":[{\"type\":\"scattercarpet\",\"marker\":{\"colorbar\":{\"outlinewidth\":0,\"ticks\":\"\"}}}],\"carpet\":[{\"aaxis\":{\"endlinecolor\":\"#2a3f5f\",\"gridcolor\":\"white\",\"linecolor\":\"white\",\"minorgridcolor\":\"white\",\"startlinecolor\":\"#2a3f5f\"},\"baxis\":{\"endlinecolor\":\"#2a3f5f\",\"gridcolor\":\"white\",\"linecolor\":\"white\",\"minorgridcolor\":\"white\",\"startlinecolor\":\"#2a3f5f\"},\"type\":\"carpet\"}],\"table\":[{\"cells\":{\"fill\":{\"color\":\"#EBF0F8\"},\"line\":{\"color\":\"white\"}},\"header\":{\"fill\":{\"color\":\"#C8D4E3\"},\"line\":{\"color\":\"white\"}},\"type\":\"table\"}],\"barpolar\":[{\"marker\":{\"line\":{\"color\":\"#E5ECF6\",\"width\":0.5},\"pattern\":{\"fillmode\":\"overlay\",\"size\":10,\"solidity\":0.2}},\"type\":\"barpolar\"}],\"pie\":[{\"automargin\":true,\"type\":\"pie\"}]},\"layout\":{\"autotypenumbers\":\"strict\",\"colorway\":[\"#636efa\",\"#EF553B\",\"#00cc96\",\"#ab63fa\",\"#FFA15A\",\"#19d3f3\",\"#FF6692\",\"#B6E880\",\"#FF97FF\",\"#FECB52\"],\"font\":{\"color\":\"#2a3f5f\"},\"hovermode\":\"closest\",\"hoverlabel\":{\"align\":\"left\"},\"paper_bgcolor\":\"white\",\"plot_bgcolor\":\"#E5ECF6\",\"polar\":{\"bgcolor\":\"#E5ECF6\",\"angularaxis\":{\"gridcolor\":\"white\",\"linecolor\":\"white\",\"ticks\":\"\"},\"radialaxis\":{\"gridcolor\":\"white\",\"linecolor\":\"white\",\"ticks\":\"\"}},\"ternary\":{\"bgcolor\":\"#E5ECF6\",\"aaxis\":{\"gridcolor\":\"white\",\"linecolor\":\"white\",\"ticks\":\"\"},\"baxis\":{\"gridcolor\":\"white\",\"linecolor\":\"white\",\"ticks\":\"\"},\"caxis\":{\"gridcolor\":\"white\",\"linecolor\":\"white\",\"ticks\":\"\"}},\"coloraxis\":{\"colorbar\":{\"outlinewidth\":0,\"ticks\":\"\"}},\"colorscale\":{\"sequential\":[[0.0,\"#0d0887\"],[0.1111111111111111,\"#46039f\"],[0.2222222222222222,\"#7201a8\"],[0.3333333333333333,\"#9c179e\"],[0.4444444444444444,\"#bd3786\"],[0.5555555555555556,\"#d8576b\"],[0.6666666666666666,\"#ed7953\"],[0.7777777777777778,\"#fb9f3a\"],[0.8888888888888888,\"#fdca26\"],[1.0,\"#f0f921\"]],\"sequentialminus\":[[0.0,\"#0d0887\"],[0.1111111111111111,\"#46039f\"],[0.2222222222222222,\"#7201a8\"],[0.3333333333333333,\"#9c179e\"],[0.4444444444444444,\"#bd3786\"],[0.5555555555555556,\"#d8576b\"],[0.6666666666666666,\"#ed7953\"],[0.7777777777777778,\"#fb9f3a\"],[0.8888888888888888,\"#fdca26\"],[1.0,\"#f0f921\"]],\"diverging\":[[0,\"#8e0152\"],[0.1,\"#c51b7d\"],[0.2,\"#de77ae\"],[0.3,\"#f1b6da\"],[0.4,\"#fde0ef\"],[0.5,\"#f7f7f7\"],[0.6,\"#e6f5d0\"],[0.7,\"#b8e186\"],[0.8,\"#7fbc41\"],[0.9,\"#4d9221\"],[1,\"#276419\"]]},\"xaxis\":{\"gridcolor\":\"white\",\"linecolor\":\"white\",\"ticks\":\"\",\"title\":{\"standoff\":15},\"zerolinecolor\":\"white\",\"automargin\":true,\"zerolinewidth\":2},\"yaxis\":{\"gridcolor\":\"white\",\"linecolor\":\"white\",\"ticks\":\"\",\"title\":{\"standoff\":15},\"zerolinecolor\":\"white\",\"automargin\":true,\"zerolinewidth\":2},\"scene\":{\"xaxis\":{\"backgroundcolor\":\"#E5ECF6\",\"gridcolor\":\"white\",\"linecolor\":\"white\",\"showbackground\":true,\"ticks\":\"\",\"zerolinecolor\":\"white\",\"gridwidth\":2},\"yaxis\":{\"backgroundcolor\":\"#E5ECF6\",\"gridcolor\":\"white\",\"linecolor\":\"white\",\"showbackground\":true,\"ticks\":\"\",\"zerolinecolor\":\"white\",\"gridwidth\":2},\"zaxis\":{\"backgroundcolor\":\"#E5ECF6\",\"gridcolor\":\"white\",\"linecolor\":\"white\",\"showbackground\":true,\"ticks\":\"\",\"zerolinecolor\":\"white\",\"gridwidth\":2}},\"shapedefaults\":{\"line\":{\"color\":\"#2a3f5f\"}},\"annotationdefaults\":{\"arrowcolor\":\"#2a3f5f\",\"arrowhead\":0,\"arrowwidth\":1},\"geo\":{\"bgcolor\":\"white\",\"landcolor\":\"#E5ECF6\",\"subunitcolor\":\"white\",\"showland\":true,\"showlakes\":true,\"lakecolor\":\"white\"},\"title\":{\"x\":0.05},\"mapbox\":{\"style\":\"light\"}}},\"xaxis\":{\"anchor\":\"y\",\"domain\":[0.0,1.0],\"title\":{\"text\":\"evento\"}},\"yaxis\":{\"anchor\":\"x\",\"domain\":[0.0,1.0],\"title\":{\"text\":\"sum of media\"}},\"legend\":{\"tracegroupgap\":0},\"margin\":{\"t\":60},\"barmode\":\"group\",\"bargap\":0.2},                        {\"responsive\": true}                    ).then(function(){\n",
       "                            \n",
       "var gd = document.getElementById('75ffd185-20da-43f1-a471-200714659a89');\n",
       "var x = new MutationObserver(function (mutations, observer) {{\n",
       "        var display = window.getComputedStyle(gd).display;\n",
       "        if (!display || display === 'none') {{\n",
       "            console.log([gd, 'removed!']);\n",
       "            Plotly.purge(gd);\n",
       "            observer.disconnect();\n",
       "        }}\n",
       "}});\n",
       "\n",
       "// Listen for the removal of the full notebook cells\n",
       "var notebookContainer = gd.closest('#notebook-container');\n",
       "if (notebookContainer) {{\n",
       "    x.observe(notebookContainer, {childList: true});\n",
       "}}\n",
       "\n",
       "// Listen for the clearing of the current output cell\n",
       "var outputEl = gd.closest('.output');\n",
       "if (outputEl) {{\n",
       "    x.observe(outputEl, {childList: true});\n",
       "}}\n",
       "\n",
       "                        })                };                });            </script>        </div>"
      ]
     },
     "metadata": {},
     "output_type": "display_data"
    }
   ],
   "source": [
    "fig = px.histogram(numero_chamados, x=\"evento\", y='media', barmode='group', text_auto= True)\n",
    "fig.update_layout(bargap=0.2)\n",
    "fig.show()"
   ]
  },
  {
   "cell_type": "markdown",
   "metadata": {},
   "source": [
    "### 10) Compare as médias diárias de chamados abertos desse subtipo durante os eventos específicos (Reveillon, Carnaval e Rock in Rio) e a média diária de chamados abertos desse subtipo considerando todo o período de 01/01/2022 até 31/12/2023."
   ]
  },
  {
   "cell_type": "code",
   "execution_count": 196,
   "metadata": {},
   "outputs": [],
   "source": [
    "media_carnaval = numero_chamados.iloc[0, 3]\n",
    "media_reveillon = numero_chamados.iloc[1, 3]\n",
    "media_rock_in_rio = numero_chamados.iloc[2, 3]\n",
    "media_Total = round(len(df2) / ((pd.to_datetime('2023-12-31') - pd.to_datetime('2022-01-01')).days)*100,2)"
   ]
  },
  {
   "cell_type": "code",
   "execution_count": 199,
   "metadata": {},
   "outputs": [
    {
     "data": {
      "text/html": [
       "<div>\n",
       "<style scoped>\n",
       "    .dataframe tbody tr th:only-of-type {\n",
       "        vertical-align: middle;\n",
       "    }\n",
       "\n",
       "    .dataframe tbody tr th {\n",
       "        vertical-align: top;\n",
       "    }\n",
       "\n",
       "    .dataframe thead th {\n",
       "        text-align: right;\n",
       "    }\n",
       "</style>\n",
       "<table border=\"1\" class=\"dataframe\">\n",
       "  <thead>\n",
       "    <tr style=\"text-align: right;\">\n",
       "      <th></th>\n",
       "      <th>Chamados</th>\n",
       "      <th>Médias</th>\n",
       "    </tr>\n",
       "  </thead>\n",
       "  <tbody>\n",
       "    <tr>\n",
       "      <th>3</th>\n",
       "      <td>Média Total</td>\n",
       "      <td>166.26</td>\n",
       "    </tr>\n",
       "    <tr>\n",
       "      <th>1</th>\n",
       "      <td>Rock in Rio</td>\n",
       "      <td>68.81</td>\n",
       "    </tr>\n",
       "    <tr>\n",
       "      <th>0</th>\n",
       "      <td>Carnaval</td>\n",
       "      <td>19.88</td>\n",
       "    </tr>\n",
       "    <tr>\n",
       "      <th>2</th>\n",
       "      <td>Reveillon</td>\n",
       "      <td>11.30</td>\n",
       "    </tr>\n",
       "  </tbody>\n",
       "</table>\n",
       "</div>"
      ],
      "text/plain": [
       "      Chamados  Médias\n",
       "3  Média Total  166.26\n",
       "1  Rock in Rio   68.81\n",
       "0     Carnaval   19.88\n",
       "2    Reveillon   11.30"
      ]
     },
     "execution_count": 199,
     "metadata": {},
     "output_type": "execute_result"
    }
   ],
   "source": [
    "medias_gerais = pd.DataFrame({\n",
    "    'Chamados': ['Carnaval', 'Rock in Rio', \n",
    "              'Reveillon', 'Média Total'],\n",
    "    'Médias': [media_carnaval, media_rock_in_rio,media_reveillon, media_Total]})\n",
    "\n",
    "medias_gerais.sort_values(by='Médias', ascending=False)"
   ]
  }
 ],
 "metadata": {
  "kernelspec": {
   "display_name": "base",
   "language": "python",
   "name": "python3"
  },
  "language_info": {
   "codemirror_mode": {
    "name": "ipython",
    "version": 3
   },
   "file_extension": ".py",
   "mimetype": "text/x-python",
   "name": "python",
   "nbconvert_exporter": "python",
   "pygments_lexer": "ipython3",
   "version": "3.9.13"
  }
 },
 "nbformat": 4,
 "nbformat_minor": 2
}
