{
 "cells": [
  {
   "cell_type": "code",
   "execution_count": 2,
   "metadata": {},
   "outputs": [],
   "source": [
    "# IMPORTAÇÃO DA LIBS PARA ETL \n",
    "import basedosdados as bd\n",
    "import pandas as pd \n",
    "import numpy as np "
   ]
  },
  {
   "cell_type": "code",
   "execution_count": 3,
   "metadata": {},
   "outputs": [
    {
     "data": {
      "text/html": [
       "        <script type=\"text/javascript\">\n",
       "        window.PlotlyConfig = {MathJaxConfig: 'local'};\n",
       "        if (window.MathJax && window.MathJax.Hub && window.MathJax.Hub.Config) {window.MathJax.Hub.Config({SVG: {font: \"STIX-Web\"}});}\n",
       "        if (typeof require !== 'undefined') {\n",
       "        require.undef(\"plotly\");\n",
       "        requirejs.config({\n",
       "            paths: {\n",
       "                'plotly': ['https://cdn.plot.ly/plotly-2.12.1.min']\n",
       "            }\n",
       "        });\n",
       "        require(['plotly'], function(Plotly) {\n",
       "            window._Plotly = Plotly;\n",
       "        });\n",
       "        }\n",
       "        </script>\n",
       "        "
      ]
     },
     "metadata": {},
     "output_type": "display_data"
    }
   ],
   "source": [
    "## IMPORTAÇÃO PARA A ANALISE GRAFICA DOS DADOS\n",
    "import matplotlib.pyplot as plt\n",
    "import plotly.graph_objects as go\n",
    "import plotly.express as px\n",
    "import plotly.offline as py\n",
    "py.init_notebook_mode(connected=True)\n",
    "import seaborn as sns\n",
    "from pandas_profiling import ProfileReport\n",
    "import folium \n",
    "import seaborn as sbn\n",
    "from folium.plugins import HeatMap\n",
    "from folium import plugins"
   ]
  },
  {
   "cell_type": "code",
   "execution_count": 4,
   "metadata": {},
   "outputs": [
    {
     "name": "stderr",
     "output_type": "stream",
     "text": [
      "Downloading: 100%|██████████| 73/73 [00:00<00:00, 208.27rows/s]\n"
     ]
    }
   ],
   "source": [
    "df = bd.read_sql(\n",
    "    '''\n",
    "    SELECT chmd.id_chamado, chmd.data_inicio, chmd.situacao,chmd.id_bairro, chmd.tipo, chmd.subtipo, br.nome as bairro, br.subprefeitura, chmd.latitude,chmd.longitude\n",
    "    FROM datario.administracao_servicos_publicos.chamado_1746 chmd \n",
    "    LEFT JOIN datario.dados_mestres.bairro br ON br.id_bairro = chmd.id_bairro\n",
    "    WHERE DATE(data_inicio) = DATE('2023-04-01');\n",
    "    ''',\n",
    "    billing_project_id='case-escritorio-de-dados'\n",
    ")"
   ]
  },
  {
   "cell_type": "code",
   "execution_count": 5,
   "metadata": {},
   "outputs": [
    {
     "data": {
      "text/html": [
       "<div>\n",
       "<style scoped>\n",
       "    .dataframe tbody tr th:only-of-type {\n",
       "        vertical-align: middle;\n",
       "    }\n",
       "\n",
       "    .dataframe tbody tr th {\n",
       "        vertical-align: top;\n",
       "    }\n",
       "\n",
       "    .dataframe thead th {\n",
       "        text-align: right;\n",
       "    }\n",
       "</style>\n",
       "<table border=\"1\" class=\"dataframe\">\n",
       "  <thead>\n",
       "    <tr style=\"text-align: right;\">\n",
       "      <th></th>\n",
       "      <th>id_chamado</th>\n",
       "      <th>data_inicio</th>\n",
       "      <th>situacao</th>\n",
       "      <th>id_bairro</th>\n",
       "      <th>tipo</th>\n",
       "      <th>subtipo</th>\n",
       "      <th>bairro</th>\n",
       "      <th>subprefeitura</th>\n",
       "      <th>latitude</th>\n",
       "      <th>longitude</th>\n",
       "    </tr>\n",
       "  </thead>\n",
       "  <tbody>\n",
       "    <tr>\n",
       "      <th>0</th>\n",
       "      <td>18516246</td>\n",
       "      <td>2023-04-01 00:55:38</td>\n",
       "      <td>Encerrado</td>\n",
       "      <td>None</td>\n",
       "      <td>Ônibus</td>\n",
       "      <td>Verificação de ar condicionado inoperante no ô...</td>\n",
       "      <td>None</td>\n",
       "      <td>None</td>\n",
       "      <td>NaN</td>\n",
       "      <td>NaN</td>\n",
       "    </tr>\n",
       "  </tbody>\n",
       "</table>\n",
       "</div>"
      ],
      "text/plain": [
       "  id_chamado         data_inicio   situacao id_bairro    tipo  \\\n",
       "0   18516246 2023-04-01 00:55:38  Encerrado      None  Ônibus   \n",
       "\n",
       "                                             subtipo bairro subprefeitura  \\\n",
       "0  Verificação de ar condicionado inoperante no ô...   None          None   \n",
       "\n",
       "   latitude  longitude  \n",
       "0       NaN        NaN  "
      ]
     },
     "execution_count": 5,
     "metadata": {},
     "output_type": "execute_result"
    }
   ],
   "source": [
    "df.head(1)"
   ]
  },
  {
   "cell_type": "markdown",
   "metadata": {},
   "source": [
    "### 1) Quantos chamados foram abertos no dia 01/04/2023?"
   ]
  },
  {
   "cell_type": "code",
   "execution_count": 7,
   "metadata": {},
   "outputs": [
    {
     "name": "stdout",
     "output_type": "stream",
     "text": [
      "Os numeros de chamados abertos no dia 01-04-2023 foram 73 casos\n"
     ]
    }
   ],
   "source": [
    "print('Os numeros de chamados abertos no dia 01-04-2023 foram {} casos'.format(df['id_chamado'].count()))"
   ]
  },
  {
   "cell_type": "markdown",
   "metadata": {},
   "source": [
    "### 2) Qual o tipo de chamado que teve mais teve chamados abertos no dia 01/04/2023?"
   ]
  },
  {
   "cell_type": "code",
   "execution_count": 8,
   "metadata": {},
   "outputs": [
    {
     "name": "stdout",
     "output_type": "stream",
     "text": [
      "                       tipo  quantity\n",
      "0           Poluição sonora        24\n",
      "1  Estacionamento Irregular         9\n",
      "2        Iluminação Pública         8\n",
      "3          Remoção Gratuita         5\n",
      "4                   Limpeza         5\n"
     ]
    }
   ],
   "source": [
    "com_mais_chamadas = df.groupby('tipo').size().sort_values(ascending=False).reset_index(name='quantity')\n",
    "\n",
    "print(com_mais_chamadas.head(5))"
   ]
  },
  {
   "cell_type": "code",
   "execution_count": 13,
   "metadata": {},
   "outputs": [
    {
     "data": {
      "application/vnd.plotly.v1+json": {
       "config": {
        "plotlyServerURL": "https://plot.ly"
       },
       "data": [
        {
         "alignmentgroup": "True",
         "bingroup": "x",
         "hovertemplate": "tipo=%{x}<br>count=%{y}<extra></extra>",
         "legendgroup": "",
         "marker": {
          "color": "#636efa",
          "pattern": {
           "shape": ""
          }
         },
         "name": "",
         "offsetgroup": "",
         "orientation": "v",
         "showlegend": false,
         "texttemplate": "%{value}",
         "type": "histogram",
         "x": [
          "Estacionamento Irregular",
          "Comércio ambulante",
          "Feiras",
          "Ocupação de área pública",
          "Poluição sonora",
          "Poluição sonora",
          "Poluição sonora",
          "Iluminação Pública",
          "Limpeza",
          "Remoção Gratuita",
          "Estacionamento Irregular",
          "Poluição sonora",
          "Poluição sonora",
          "Poluição sonora",
          "Poluição sonora",
          "Poluição sonora",
          "Poluição sonora",
          "Poluição sonora",
          "Poluição sonora",
          "Poluição sonora",
          "Poluição sonora",
          "Pavimentação",
          "Remoção Gratuita",
          "Postura Municipal",
          "Postura Municipal",
          "Iluminação Pública",
          "Pavimentação",
          "Limpeza",
          "Manejo Arbóreo",
          "Remoção Gratuita",
          "Remoção Gratuita",
          "Remoção Gratuita",
          "Estacionamento Irregular",
          "Estacionamento Irregular",
          "Poluição sonora",
          "Poluição sonora",
          "Poluição sonora",
          "Poluição sonora",
          "Poluição sonora",
          "Postura Municipal",
          "Postura Municipal",
          "Drenagem e Saneamento",
          "Comlurb - Vetores",
          "Comlurb - Vetores",
          "Fiscalização de obras",
          "Fiscalização de obras",
          "Poluição sonora",
          "Iluminação Pública",
          "Estacionamento Irregular",
          "Estacionamento Irregular",
          "Estacionamento Irregular",
          "Iluminação Pública",
          "Iluminação Pública",
          "Pavimentação",
          "Limpeza",
          "Programa Cegonha Carioca",
          "Poluição sonora",
          "Poluição sonora",
          "Iluminação Pública",
          "Estacionamento Irregular",
          "Estacionamento Irregular",
          "Iluminação Pública",
          "Semáforo",
          "Ocupação de área pública",
          "Ocupação de área pública",
          "Limpeza",
          "Limpeza",
          "Poluição sonora",
          "Poluição sonora",
          "Manejo Arbóreo",
          "Poluição sonora",
          "Iluminação Pública"
         ],
         "xaxis": "x",
         "yaxis": "y"
        }
       ],
       "layout": {
        "bargap": 0.2,
        "barmode": "group",
        "legend": {
         "tracegroupgap": 0
        },
        "margin": {
         "t": 60
        },
        "template": {
         "data": {
          "bar": [
           {
            "error_x": {
             "color": "#2a3f5f"
            },
            "error_y": {
             "color": "#2a3f5f"
            },
            "marker": {
             "line": {
              "color": "#E5ECF6",
              "width": 0.5
             },
             "pattern": {
              "fillmode": "overlay",
              "size": 10,
              "solidity": 0.2
             }
            },
            "type": "bar"
           }
          ],
          "barpolar": [
           {
            "marker": {
             "line": {
              "color": "#E5ECF6",
              "width": 0.5
             },
             "pattern": {
              "fillmode": "overlay",
              "size": 10,
              "solidity": 0.2
             }
            },
            "type": "barpolar"
           }
          ],
          "carpet": [
           {
            "aaxis": {
             "endlinecolor": "#2a3f5f",
             "gridcolor": "white",
             "linecolor": "white",
             "minorgridcolor": "white",
             "startlinecolor": "#2a3f5f"
            },
            "baxis": {
             "endlinecolor": "#2a3f5f",
             "gridcolor": "white",
             "linecolor": "white",
             "minorgridcolor": "white",
             "startlinecolor": "#2a3f5f"
            },
            "type": "carpet"
           }
          ],
          "choropleth": [
           {
            "colorbar": {
             "outlinewidth": 0,
             "ticks": ""
            },
            "type": "choropleth"
           }
          ],
          "contour": [
           {
            "colorbar": {
             "outlinewidth": 0,
             "ticks": ""
            },
            "colorscale": [
             [
              0,
              "#0d0887"
             ],
             [
              0.1111111111111111,
              "#46039f"
             ],
             [
              0.2222222222222222,
              "#7201a8"
             ],
             [
              0.3333333333333333,
              "#9c179e"
             ],
             [
              0.4444444444444444,
              "#bd3786"
             ],
             [
              0.5555555555555556,
              "#d8576b"
             ],
             [
              0.6666666666666666,
              "#ed7953"
             ],
             [
              0.7777777777777778,
              "#fb9f3a"
             ],
             [
              0.8888888888888888,
              "#fdca26"
             ],
             [
              1,
              "#f0f921"
             ]
            ],
            "type": "contour"
           }
          ],
          "contourcarpet": [
           {
            "colorbar": {
             "outlinewidth": 0,
             "ticks": ""
            },
            "type": "contourcarpet"
           }
          ],
          "heatmap": [
           {
            "colorbar": {
             "outlinewidth": 0,
             "ticks": ""
            },
            "colorscale": [
             [
              0,
              "#0d0887"
             ],
             [
              0.1111111111111111,
              "#46039f"
             ],
             [
              0.2222222222222222,
              "#7201a8"
             ],
             [
              0.3333333333333333,
              "#9c179e"
             ],
             [
              0.4444444444444444,
              "#bd3786"
             ],
             [
              0.5555555555555556,
              "#d8576b"
             ],
             [
              0.6666666666666666,
              "#ed7953"
             ],
             [
              0.7777777777777778,
              "#fb9f3a"
             ],
             [
              0.8888888888888888,
              "#fdca26"
             ],
             [
              1,
              "#f0f921"
             ]
            ],
            "type": "heatmap"
           }
          ],
          "heatmapgl": [
           {
            "colorbar": {
             "outlinewidth": 0,
             "ticks": ""
            },
            "colorscale": [
             [
              0,
              "#0d0887"
             ],
             [
              0.1111111111111111,
              "#46039f"
             ],
             [
              0.2222222222222222,
              "#7201a8"
             ],
             [
              0.3333333333333333,
              "#9c179e"
             ],
             [
              0.4444444444444444,
              "#bd3786"
             ],
             [
              0.5555555555555556,
              "#d8576b"
             ],
             [
              0.6666666666666666,
              "#ed7953"
             ],
             [
              0.7777777777777778,
              "#fb9f3a"
             ],
             [
              0.8888888888888888,
              "#fdca26"
             ],
             [
              1,
              "#f0f921"
             ]
            ],
            "type": "heatmapgl"
           }
          ],
          "histogram": [
           {
            "marker": {
             "pattern": {
              "fillmode": "overlay",
              "size": 10,
              "solidity": 0.2
             }
            },
            "type": "histogram"
           }
          ],
          "histogram2d": [
           {
            "colorbar": {
             "outlinewidth": 0,
             "ticks": ""
            },
            "colorscale": [
             [
              0,
              "#0d0887"
             ],
             [
              0.1111111111111111,
              "#46039f"
             ],
             [
              0.2222222222222222,
              "#7201a8"
             ],
             [
              0.3333333333333333,
              "#9c179e"
             ],
             [
              0.4444444444444444,
              "#bd3786"
             ],
             [
              0.5555555555555556,
              "#d8576b"
             ],
             [
              0.6666666666666666,
              "#ed7953"
             ],
             [
              0.7777777777777778,
              "#fb9f3a"
             ],
             [
              0.8888888888888888,
              "#fdca26"
             ],
             [
              1,
              "#f0f921"
             ]
            ],
            "type": "histogram2d"
           }
          ],
          "histogram2dcontour": [
           {
            "colorbar": {
             "outlinewidth": 0,
             "ticks": ""
            },
            "colorscale": [
             [
              0,
              "#0d0887"
             ],
             [
              0.1111111111111111,
              "#46039f"
             ],
             [
              0.2222222222222222,
              "#7201a8"
             ],
             [
              0.3333333333333333,
              "#9c179e"
             ],
             [
              0.4444444444444444,
              "#bd3786"
             ],
             [
              0.5555555555555556,
              "#d8576b"
             ],
             [
              0.6666666666666666,
              "#ed7953"
             ],
             [
              0.7777777777777778,
              "#fb9f3a"
             ],
             [
              0.8888888888888888,
              "#fdca26"
             ],
             [
              1,
              "#f0f921"
             ]
            ],
            "type": "histogram2dcontour"
           }
          ],
          "mesh3d": [
           {
            "colorbar": {
             "outlinewidth": 0,
             "ticks": ""
            },
            "type": "mesh3d"
           }
          ],
          "parcoords": [
           {
            "line": {
             "colorbar": {
              "outlinewidth": 0,
              "ticks": ""
             }
            },
            "type": "parcoords"
           }
          ],
          "pie": [
           {
            "automargin": true,
            "type": "pie"
           }
          ],
          "scatter": [
           {
            "fillpattern": {
             "fillmode": "overlay",
             "size": 10,
             "solidity": 0.2
            },
            "type": "scatter"
           }
          ],
          "scatter3d": [
           {
            "line": {
             "colorbar": {
              "outlinewidth": 0,
              "ticks": ""
             }
            },
            "marker": {
             "colorbar": {
              "outlinewidth": 0,
              "ticks": ""
             }
            },
            "type": "scatter3d"
           }
          ],
          "scattercarpet": [
           {
            "marker": {
             "colorbar": {
              "outlinewidth": 0,
              "ticks": ""
             }
            },
            "type": "scattercarpet"
           }
          ],
          "scattergeo": [
           {
            "marker": {
             "colorbar": {
              "outlinewidth": 0,
              "ticks": ""
             }
            },
            "type": "scattergeo"
           }
          ],
          "scattergl": [
           {
            "marker": {
             "colorbar": {
              "outlinewidth": 0,
              "ticks": ""
             }
            },
            "type": "scattergl"
           }
          ],
          "scattermapbox": [
           {
            "marker": {
             "colorbar": {
              "outlinewidth": 0,
              "ticks": ""
             }
            },
            "type": "scattermapbox"
           }
          ],
          "scatterpolar": [
           {
            "marker": {
             "colorbar": {
              "outlinewidth": 0,
              "ticks": ""
             }
            },
            "type": "scatterpolar"
           }
          ],
          "scatterpolargl": [
           {
            "marker": {
             "colorbar": {
              "outlinewidth": 0,
              "ticks": ""
             }
            },
            "type": "scatterpolargl"
           }
          ],
          "scatterternary": [
           {
            "marker": {
             "colorbar": {
              "outlinewidth": 0,
              "ticks": ""
             }
            },
            "type": "scatterternary"
           }
          ],
          "surface": [
           {
            "colorbar": {
             "outlinewidth": 0,
             "ticks": ""
            },
            "colorscale": [
             [
              0,
              "#0d0887"
             ],
             [
              0.1111111111111111,
              "#46039f"
             ],
             [
              0.2222222222222222,
              "#7201a8"
             ],
             [
              0.3333333333333333,
              "#9c179e"
             ],
             [
              0.4444444444444444,
              "#bd3786"
             ],
             [
              0.5555555555555556,
              "#d8576b"
             ],
             [
              0.6666666666666666,
              "#ed7953"
             ],
             [
              0.7777777777777778,
              "#fb9f3a"
             ],
             [
              0.8888888888888888,
              "#fdca26"
             ],
             [
              1,
              "#f0f921"
             ]
            ],
            "type": "surface"
           }
          ],
          "table": [
           {
            "cells": {
             "fill": {
              "color": "#EBF0F8"
             },
             "line": {
              "color": "white"
             }
            },
            "header": {
             "fill": {
              "color": "#C8D4E3"
             },
             "line": {
              "color": "white"
             }
            },
            "type": "table"
           }
          ]
         },
         "layout": {
          "annotationdefaults": {
           "arrowcolor": "#2a3f5f",
           "arrowhead": 0,
           "arrowwidth": 1
          },
          "autotypenumbers": "strict",
          "coloraxis": {
           "colorbar": {
            "outlinewidth": 0,
            "ticks": ""
           }
          },
          "colorscale": {
           "diverging": [
            [
             0,
             "#8e0152"
            ],
            [
             0.1,
             "#c51b7d"
            ],
            [
             0.2,
             "#de77ae"
            ],
            [
             0.3,
             "#f1b6da"
            ],
            [
             0.4,
             "#fde0ef"
            ],
            [
             0.5,
             "#f7f7f7"
            ],
            [
             0.6,
             "#e6f5d0"
            ],
            [
             0.7,
             "#b8e186"
            ],
            [
             0.8,
             "#7fbc41"
            ],
            [
             0.9,
             "#4d9221"
            ],
            [
             1,
             "#276419"
            ]
           ],
           "sequential": [
            [
             0,
             "#0d0887"
            ],
            [
             0.1111111111111111,
             "#46039f"
            ],
            [
             0.2222222222222222,
             "#7201a8"
            ],
            [
             0.3333333333333333,
             "#9c179e"
            ],
            [
             0.4444444444444444,
             "#bd3786"
            ],
            [
             0.5555555555555556,
             "#d8576b"
            ],
            [
             0.6666666666666666,
             "#ed7953"
            ],
            [
             0.7777777777777778,
             "#fb9f3a"
            ],
            [
             0.8888888888888888,
             "#fdca26"
            ],
            [
             1,
             "#f0f921"
            ]
           ],
           "sequentialminus": [
            [
             0,
             "#0d0887"
            ],
            [
             0.1111111111111111,
             "#46039f"
            ],
            [
             0.2222222222222222,
             "#7201a8"
            ],
            [
             0.3333333333333333,
             "#9c179e"
            ],
            [
             0.4444444444444444,
             "#bd3786"
            ],
            [
             0.5555555555555556,
             "#d8576b"
            ],
            [
             0.6666666666666666,
             "#ed7953"
            ],
            [
             0.7777777777777778,
             "#fb9f3a"
            ],
            [
             0.8888888888888888,
             "#fdca26"
            ],
            [
             1,
             "#f0f921"
            ]
           ]
          },
          "colorway": [
           "#636efa",
           "#EF553B",
           "#00cc96",
           "#ab63fa",
           "#FFA15A",
           "#19d3f3",
           "#FF6692",
           "#B6E880",
           "#FF97FF",
           "#FECB52"
          ],
          "font": {
           "color": "#2a3f5f"
          },
          "geo": {
           "bgcolor": "white",
           "lakecolor": "white",
           "landcolor": "#E5ECF6",
           "showlakes": true,
           "showland": true,
           "subunitcolor": "white"
          },
          "hoverlabel": {
           "align": "left"
          },
          "hovermode": "closest",
          "mapbox": {
           "style": "light"
          },
          "paper_bgcolor": "white",
          "plot_bgcolor": "#E5ECF6",
          "polar": {
           "angularaxis": {
            "gridcolor": "white",
            "linecolor": "white",
            "ticks": ""
           },
           "bgcolor": "#E5ECF6",
           "radialaxis": {
            "gridcolor": "white",
            "linecolor": "white",
            "ticks": ""
           }
          },
          "scene": {
           "xaxis": {
            "backgroundcolor": "#E5ECF6",
            "gridcolor": "white",
            "gridwidth": 2,
            "linecolor": "white",
            "showbackground": true,
            "ticks": "",
            "zerolinecolor": "white"
           },
           "yaxis": {
            "backgroundcolor": "#E5ECF6",
            "gridcolor": "white",
            "gridwidth": 2,
            "linecolor": "white",
            "showbackground": true,
            "ticks": "",
            "zerolinecolor": "white"
           },
           "zaxis": {
            "backgroundcolor": "#E5ECF6",
            "gridcolor": "white",
            "gridwidth": 2,
            "linecolor": "white",
            "showbackground": true,
            "ticks": "",
            "zerolinecolor": "white"
           }
          },
          "shapedefaults": {
           "line": {
            "color": "#2a3f5f"
           }
          },
          "ternary": {
           "aaxis": {
            "gridcolor": "white",
            "linecolor": "white",
            "ticks": ""
           },
           "baxis": {
            "gridcolor": "white",
            "linecolor": "white",
            "ticks": ""
           },
           "bgcolor": "#E5ECF6",
           "caxis": {
            "gridcolor": "white",
            "linecolor": "white",
            "ticks": ""
           }
          },
          "title": {
           "x": 0.05
          },
          "xaxis": {
           "automargin": true,
           "gridcolor": "white",
           "linecolor": "white",
           "ticks": "",
           "title": {
            "standoff": 15
           },
           "zerolinecolor": "white",
           "zerolinewidth": 2
          },
          "yaxis": {
           "automargin": true,
           "gridcolor": "white",
           "linecolor": "white",
           "ticks": "",
           "title": {
            "standoff": 15
           },
           "zerolinecolor": "white",
           "zerolinewidth": 2
          }
         }
        },
        "xaxis": {
         "anchor": "y",
         "domain": [
          0,
          1
         ],
         "title": {
          "text": "tipo"
         }
        },
        "yaxis": {
         "anchor": "x",
         "domain": [
          0,
          1
         ],
         "title": {
          "text": "count"
         }
        }
       }
      },
      "text/html": [
       "<div>                            <div id=\"4f404cbe-1275-4b9a-be44-0e4831e11f0d\" class=\"plotly-graph-div\" style=\"height:525px; width:100%;\"></div>            <script type=\"text/javascript\">                require([\"plotly\"], function(Plotly) {                    window.PLOTLYENV=window.PLOTLYENV || {};                                    if (document.getElementById(\"4f404cbe-1275-4b9a-be44-0e4831e11f0d\")) {                    Plotly.newPlot(                        \"4f404cbe-1275-4b9a-be44-0e4831e11f0d\",                        [{\"alignmentgroup\":\"True\",\"bingroup\":\"x\",\"hovertemplate\":\"tipo=%{x}<br>count=%{y}<extra></extra>\",\"legendgroup\":\"\",\"marker\":{\"color\":\"#636efa\",\"pattern\":{\"shape\":\"\"}},\"name\":\"\",\"offsetgroup\":\"\",\"orientation\":\"v\",\"showlegend\":false,\"texttemplate\":\"%{value}\",\"x\":[\"Estacionamento Irregular\",\"Com\\u00e9rcio ambulante\",\"Feiras\",\"Ocupa\\u00e7\\u00e3o de \\u00e1rea p\\u00fablica\",\"Polui\\u00e7\\u00e3o sonora\",\"Polui\\u00e7\\u00e3o sonora\",\"Polui\\u00e7\\u00e3o sonora\",\"Ilumina\\u00e7\\u00e3o P\\u00fablica\",\"Limpeza\",\"Remo\\u00e7\\u00e3o Gratuita\",\"Estacionamento Irregular\",\"Polui\\u00e7\\u00e3o sonora\",\"Polui\\u00e7\\u00e3o sonora\",\"Polui\\u00e7\\u00e3o sonora\",\"Polui\\u00e7\\u00e3o sonora\",\"Polui\\u00e7\\u00e3o sonora\",\"Polui\\u00e7\\u00e3o sonora\",\"Polui\\u00e7\\u00e3o sonora\",\"Polui\\u00e7\\u00e3o sonora\",\"Polui\\u00e7\\u00e3o sonora\",\"Polui\\u00e7\\u00e3o sonora\",\"Pavimenta\\u00e7\\u00e3o\",\"Remo\\u00e7\\u00e3o Gratuita\",\"Postura Municipal\",\"Postura Municipal\",\"Ilumina\\u00e7\\u00e3o P\\u00fablica\",\"Pavimenta\\u00e7\\u00e3o\",\"Limpeza\",\"Manejo Arb\\u00f3reo\",\"Remo\\u00e7\\u00e3o Gratuita\",\"Remo\\u00e7\\u00e3o Gratuita\",\"Remo\\u00e7\\u00e3o Gratuita\",\"Estacionamento Irregular\",\"Estacionamento Irregular\",\"Polui\\u00e7\\u00e3o sonora\",\"Polui\\u00e7\\u00e3o sonora\",\"Polui\\u00e7\\u00e3o sonora\",\"Polui\\u00e7\\u00e3o sonora\",\"Polui\\u00e7\\u00e3o sonora\",\"Postura Municipal\",\"Postura Municipal\",\"Drenagem e Saneamento\",\"Comlurb - Vetores\",\"Comlurb - Vetores\",\"Fiscaliza\\u00e7\\u00e3o de obras\",\"Fiscaliza\\u00e7\\u00e3o de obras\",\"Polui\\u00e7\\u00e3o sonora\",\"Ilumina\\u00e7\\u00e3o P\\u00fablica\",\"Estacionamento Irregular\",\"Estacionamento Irregular\",\"Estacionamento Irregular\",\"Ilumina\\u00e7\\u00e3o P\\u00fablica\",\"Ilumina\\u00e7\\u00e3o P\\u00fablica\",\"Pavimenta\\u00e7\\u00e3o\",\"Limpeza\",\"Programa Cegonha Carioca\",\"Polui\\u00e7\\u00e3o sonora\",\"Polui\\u00e7\\u00e3o sonora\",\"Ilumina\\u00e7\\u00e3o P\\u00fablica\",\"Estacionamento Irregular\",\"Estacionamento Irregular\",\"Ilumina\\u00e7\\u00e3o P\\u00fablica\",\"Sem\\u00e1foro\",\"Ocupa\\u00e7\\u00e3o de \\u00e1rea p\\u00fablica\",\"Ocupa\\u00e7\\u00e3o de \\u00e1rea p\\u00fablica\",\"Limpeza\",\"Limpeza\",\"Polui\\u00e7\\u00e3o sonora\",\"Polui\\u00e7\\u00e3o sonora\",\"Manejo Arb\\u00f3reo\",\"Polui\\u00e7\\u00e3o sonora\",\"Ilumina\\u00e7\\u00e3o P\\u00fablica\"],\"xaxis\":\"x\",\"yaxis\":\"y\",\"type\":\"histogram\"}],                        {\"template\":{\"data\":{\"histogram2dcontour\":[{\"type\":\"histogram2dcontour\",\"colorbar\":{\"outlinewidth\":0,\"ticks\":\"\"},\"colorscale\":[[0.0,\"#0d0887\"],[0.1111111111111111,\"#46039f\"],[0.2222222222222222,\"#7201a8\"],[0.3333333333333333,\"#9c179e\"],[0.4444444444444444,\"#bd3786\"],[0.5555555555555556,\"#d8576b\"],[0.6666666666666666,\"#ed7953\"],[0.7777777777777778,\"#fb9f3a\"],[0.8888888888888888,\"#fdca26\"],[1.0,\"#f0f921\"]]}],\"choropleth\":[{\"type\":\"choropleth\",\"colorbar\":{\"outlinewidth\":0,\"ticks\":\"\"}}],\"histogram2d\":[{\"type\":\"histogram2d\",\"colorbar\":{\"outlinewidth\":0,\"ticks\":\"\"},\"colorscale\":[[0.0,\"#0d0887\"],[0.1111111111111111,\"#46039f\"],[0.2222222222222222,\"#7201a8\"],[0.3333333333333333,\"#9c179e\"],[0.4444444444444444,\"#bd3786\"],[0.5555555555555556,\"#d8576b\"],[0.6666666666666666,\"#ed7953\"],[0.7777777777777778,\"#fb9f3a\"],[0.8888888888888888,\"#fdca26\"],[1.0,\"#f0f921\"]]}],\"heatmap\":[{\"type\":\"heatmap\",\"colorbar\":{\"outlinewidth\":0,\"ticks\":\"\"},\"colorscale\":[[0.0,\"#0d0887\"],[0.1111111111111111,\"#46039f\"],[0.2222222222222222,\"#7201a8\"],[0.3333333333333333,\"#9c179e\"],[0.4444444444444444,\"#bd3786\"],[0.5555555555555556,\"#d8576b\"],[0.6666666666666666,\"#ed7953\"],[0.7777777777777778,\"#fb9f3a\"],[0.8888888888888888,\"#fdca26\"],[1.0,\"#f0f921\"]]}],\"heatmapgl\":[{\"type\":\"heatmapgl\",\"colorbar\":{\"outlinewidth\":0,\"ticks\":\"\"},\"colorscale\":[[0.0,\"#0d0887\"],[0.1111111111111111,\"#46039f\"],[0.2222222222222222,\"#7201a8\"],[0.3333333333333333,\"#9c179e\"],[0.4444444444444444,\"#bd3786\"],[0.5555555555555556,\"#d8576b\"],[0.6666666666666666,\"#ed7953\"],[0.7777777777777778,\"#fb9f3a\"],[0.8888888888888888,\"#fdca26\"],[1.0,\"#f0f921\"]]}],\"contourcarpet\":[{\"type\":\"contourcarpet\",\"colorbar\":{\"outlinewidth\":0,\"ticks\":\"\"}}],\"contour\":[{\"type\":\"contour\",\"colorbar\":{\"outlinewidth\":0,\"ticks\":\"\"},\"colorscale\":[[0.0,\"#0d0887\"],[0.1111111111111111,\"#46039f\"],[0.2222222222222222,\"#7201a8\"],[0.3333333333333333,\"#9c179e\"],[0.4444444444444444,\"#bd3786\"],[0.5555555555555556,\"#d8576b\"],[0.6666666666666666,\"#ed7953\"],[0.7777777777777778,\"#fb9f3a\"],[0.8888888888888888,\"#fdca26\"],[1.0,\"#f0f921\"]]}],\"surface\":[{\"type\":\"surface\",\"colorbar\":{\"outlinewidth\":0,\"ticks\":\"\"},\"colorscale\":[[0.0,\"#0d0887\"],[0.1111111111111111,\"#46039f\"],[0.2222222222222222,\"#7201a8\"],[0.3333333333333333,\"#9c179e\"],[0.4444444444444444,\"#bd3786\"],[0.5555555555555556,\"#d8576b\"],[0.6666666666666666,\"#ed7953\"],[0.7777777777777778,\"#fb9f3a\"],[0.8888888888888888,\"#fdca26\"],[1.0,\"#f0f921\"]]}],\"mesh3d\":[{\"type\":\"mesh3d\",\"colorbar\":{\"outlinewidth\":0,\"ticks\":\"\"}}],\"scatter\":[{\"fillpattern\":{\"fillmode\":\"overlay\",\"size\":10,\"solidity\":0.2},\"type\":\"scatter\"}],\"parcoords\":[{\"type\":\"parcoords\",\"line\":{\"colorbar\":{\"outlinewidth\":0,\"ticks\":\"\"}}}],\"scatterpolargl\":[{\"type\":\"scatterpolargl\",\"marker\":{\"colorbar\":{\"outlinewidth\":0,\"ticks\":\"\"}}}],\"bar\":[{\"error_x\":{\"color\":\"#2a3f5f\"},\"error_y\":{\"color\":\"#2a3f5f\"},\"marker\":{\"line\":{\"color\":\"#E5ECF6\",\"width\":0.5},\"pattern\":{\"fillmode\":\"overlay\",\"size\":10,\"solidity\":0.2}},\"type\":\"bar\"}],\"scattergeo\":[{\"type\":\"scattergeo\",\"marker\":{\"colorbar\":{\"outlinewidth\":0,\"ticks\":\"\"}}}],\"scatterpolar\":[{\"type\":\"scatterpolar\",\"marker\":{\"colorbar\":{\"outlinewidth\":0,\"ticks\":\"\"}}}],\"histogram\":[{\"marker\":{\"pattern\":{\"fillmode\":\"overlay\",\"size\":10,\"solidity\":0.2}},\"type\":\"histogram\"}],\"scattergl\":[{\"type\":\"scattergl\",\"marker\":{\"colorbar\":{\"outlinewidth\":0,\"ticks\":\"\"}}}],\"scatter3d\":[{\"type\":\"scatter3d\",\"line\":{\"colorbar\":{\"outlinewidth\":0,\"ticks\":\"\"}},\"marker\":{\"colorbar\":{\"outlinewidth\":0,\"ticks\":\"\"}}}],\"scattermapbox\":[{\"type\":\"scattermapbox\",\"marker\":{\"colorbar\":{\"outlinewidth\":0,\"ticks\":\"\"}}}],\"scatterternary\":[{\"type\":\"scatterternary\",\"marker\":{\"colorbar\":{\"outlinewidth\":0,\"ticks\":\"\"}}}],\"scattercarpet\":[{\"type\":\"scattercarpet\",\"marker\":{\"colorbar\":{\"outlinewidth\":0,\"ticks\":\"\"}}}],\"carpet\":[{\"aaxis\":{\"endlinecolor\":\"#2a3f5f\",\"gridcolor\":\"white\",\"linecolor\":\"white\",\"minorgridcolor\":\"white\",\"startlinecolor\":\"#2a3f5f\"},\"baxis\":{\"endlinecolor\":\"#2a3f5f\",\"gridcolor\":\"white\",\"linecolor\":\"white\",\"minorgridcolor\":\"white\",\"startlinecolor\":\"#2a3f5f\"},\"type\":\"carpet\"}],\"table\":[{\"cells\":{\"fill\":{\"color\":\"#EBF0F8\"},\"line\":{\"color\":\"white\"}},\"header\":{\"fill\":{\"color\":\"#C8D4E3\"},\"line\":{\"color\":\"white\"}},\"type\":\"table\"}],\"barpolar\":[{\"marker\":{\"line\":{\"color\":\"#E5ECF6\",\"width\":0.5},\"pattern\":{\"fillmode\":\"overlay\",\"size\":10,\"solidity\":0.2}},\"type\":\"barpolar\"}],\"pie\":[{\"automargin\":true,\"type\":\"pie\"}]},\"layout\":{\"autotypenumbers\":\"strict\",\"colorway\":[\"#636efa\",\"#EF553B\",\"#00cc96\",\"#ab63fa\",\"#FFA15A\",\"#19d3f3\",\"#FF6692\",\"#B6E880\",\"#FF97FF\",\"#FECB52\"],\"font\":{\"color\":\"#2a3f5f\"},\"hovermode\":\"closest\",\"hoverlabel\":{\"align\":\"left\"},\"paper_bgcolor\":\"white\",\"plot_bgcolor\":\"#E5ECF6\",\"polar\":{\"bgcolor\":\"#E5ECF6\",\"angularaxis\":{\"gridcolor\":\"white\",\"linecolor\":\"white\",\"ticks\":\"\"},\"radialaxis\":{\"gridcolor\":\"white\",\"linecolor\":\"white\",\"ticks\":\"\"}},\"ternary\":{\"bgcolor\":\"#E5ECF6\",\"aaxis\":{\"gridcolor\":\"white\",\"linecolor\":\"white\",\"ticks\":\"\"},\"baxis\":{\"gridcolor\":\"white\",\"linecolor\":\"white\",\"ticks\":\"\"},\"caxis\":{\"gridcolor\":\"white\",\"linecolor\":\"white\",\"ticks\":\"\"}},\"coloraxis\":{\"colorbar\":{\"outlinewidth\":0,\"ticks\":\"\"}},\"colorscale\":{\"sequential\":[[0.0,\"#0d0887\"],[0.1111111111111111,\"#46039f\"],[0.2222222222222222,\"#7201a8\"],[0.3333333333333333,\"#9c179e\"],[0.4444444444444444,\"#bd3786\"],[0.5555555555555556,\"#d8576b\"],[0.6666666666666666,\"#ed7953\"],[0.7777777777777778,\"#fb9f3a\"],[0.8888888888888888,\"#fdca26\"],[1.0,\"#f0f921\"]],\"sequentialminus\":[[0.0,\"#0d0887\"],[0.1111111111111111,\"#46039f\"],[0.2222222222222222,\"#7201a8\"],[0.3333333333333333,\"#9c179e\"],[0.4444444444444444,\"#bd3786\"],[0.5555555555555556,\"#d8576b\"],[0.6666666666666666,\"#ed7953\"],[0.7777777777777778,\"#fb9f3a\"],[0.8888888888888888,\"#fdca26\"],[1.0,\"#f0f921\"]],\"diverging\":[[0,\"#8e0152\"],[0.1,\"#c51b7d\"],[0.2,\"#de77ae\"],[0.3,\"#f1b6da\"],[0.4,\"#fde0ef\"],[0.5,\"#f7f7f7\"],[0.6,\"#e6f5d0\"],[0.7,\"#b8e186\"],[0.8,\"#7fbc41\"],[0.9,\"#4d9221\"],[1,\"#276419\"]]},\"xaxis\":{\"gridcolor\":\"white\",\"linecolor\":\"white\",\"ticks\":\"\",\"title\":{\"standoff\":15},\"zerolinecolor\":\"white\",\"automargin\":true,\"zerolinewidth\":2},\"yaxis\":{\"gridcolor\":\"white\",\"linecolor\":\"white\",\"ticks\":\"\",\"title\":{\"standoff\":15},\"zerolinecolor\":\"white\",\"automargin\":true,\"zerolinewidth\":2},\"scene\":{\"xaxis\":{\"backgroundcolor\":\"#E5ECF6\",\"gridcolor\":\"white\",\"linecolor\":\"white\",\"showbackground\":true,\"ticks\":\"\",\"zerolinecolor\":\"white\",\"gridwidth\":2},\"yaxis\":{\"backgroundcolor\":\"#E5ECF6\",\"gridcolor\":\"white\",\"linecolor\":\"white\",\"showbackground\":true,\"ticks\":\"\",\"zerolinecolor\":\"white\",\"gridwidth\":2},\"zaxis\":{\"backgroundcolor\":\"#E5ECF6\",\"gridcolor\":\"white\",\"linecolor\":\"white\",\"showbackground\":true,\"ticks\":\"\",\"zerolinecolor\":\"white\",\"gridwidth\":2}},\"shapedefaults\":{\"line\":{\"color\":\"#2a3f5f\"}},\"annotationdefaults\":{\"arrowcolor\":\"#2a3f5f\",\"arrowhead\":0,\"arrowwidth\":1},\"geo\":{\"bgcolor\":\"white\",\"landcolor\":\"#E5ECF6\",\"subunitcolor\":\"white\",\"showland\":true,\"showlakes\":true,\"lakecolor\":\"white\"},\"title\":{\"x\":0.05},\"mapbox\":{\"style\":\"light\"}}},\"xaxis\":{\"anchor\":\"y\",\"domain\":[0.0,1.0],\"title\":{\"text\":\"tipo\"}},\"yaxis\":{\"anchor\":\"x\",\"domain\":[0.0,1.0],\"title\":{\"text\":\"count\"}},\"legend\":{\"tracegroupgap\":0},\"margin\":{\"t\":60},\"barmode\":\"group\",\"bargap\":0.2},                        {\"responsive\": true}                    ).then(function(){\n",
       "                            \n",
       "var gd = document.getElementById('4f404cbe-1275-4b9a-be44-0e4831e11f0d');\n",
       "var x = new MutationObserver(function (mutations, observer) {{\n",
       "        var display = window.getComputedStyle(gd).display;\n",
       "        if (!display || display === 'none') {{\n",
       "            console.log([gd, 'removed!']);\n",
       "            Plotly.purge(gd);\n",
       "            observer.disconnect();\n",
       "        }}\n",
       "}});\n",
       "\n",
       "// Listen for the removal of the full notebook cells\n",
       "var notebookContainer = gd.closest('#notebook-container');\n",
       "if (notebookContainer) {{\n",
       "    x.observe(notebookContainer, {childList: true});\n",
       "}}\n",
       "\n",
       "// Listen for the clearing of the current output cell\n",
       "var outputEl = gd.closest('.output');\n",
       "if (outputEl) {{\n",
       "    x.observe(outputEl, {childList: true});\n",
       "}}\n",
       "\n",
       "                        })                };                });            </script>        </div>"
      ]
     },
     "metadata": {},
     "output_type": "display_data"
    }
   ],
   "source": [
    "fig = px.histogram(df, x=\"tipo\", barmode='group', text_auto= True)\n",
    "fig.update_layout(bargap=0.2)\n",
    "fig.show()"
   ]
  },
  {
   "cell_type": "markdown",
   "metadata": {},
   "source": [
    "### 3) Quais os nomes dos 3 bairros que mais tiveram chamados abertos nesse dia?"
   ]
  },
  {
   "cell_type": "code",
   "execution_count": 9,
   "metadata": {},
   "outputs": [
    {
     "name": "stdout",
     "output_type": "stream",
     "text": [
      "              bairro  quantity\n",
      "0  Engenho de Dentro         8\n",
      "1       Campo Grande         6\n",
      "2             Leblon         6\n"
     ]
    }
   ],
   "source": [
    "bairro_com_mais_chamados = df.groupby('bairro')['tipo'].size().sort_values(ascending=False).reset_index(name='quantity')\n",
    "\n",
    "print(bairro_com_mais_chamados.head(3))"
   ]
  },
  {
   "cell_type": "code",
   "execution_count": 15,
   "metadata": {},
   "outputs": [
    {
     "data": {
      "application/vnd.plotly.v1+json": {
       "config": {
        "plotlyServerURL": "https://plot.ly"
       },
       "data": [
        {
         "alignmentgroup": "True",
         "bingroup": "x",
         "histfunc": "sum",
         "hovertemplate": "bairro=%{x}<br>sum of quantity=%{y}<extra></extra>",
         "legendgroup": "",
         "marker": {
          "color": "#636efa",
          "pattern": {
           "shape": ""
          }
         },
         "name": "",
         "offsetgroup": "",
         "orientation": "v",
         "showlegend": false,
         "texttemplate": "%{value}",
         "type": "histogram",
         "x": [
          "Engenho de Dentro",
          "Campo Grande",
          "Leblon"
         ],
         "xaxis": "x",
         "y": [
          8,
          6,
          6
         ],
         "yaxis": "y"
        }
       ],
       "layout": {
        "bargap": 0.2,
        "barmode": "group",
        "legend": {
         "tracegroupgap": 0
        },
        "margin": {
         "t": 60
        },
        "template": {
         "data": {
          "bar": [
           {
            "error_x": {
             "color": "#2a3f5f"
            },
            "error_y": {
             "color": "#2a3f5f"
            },
            "marker": {
             "line": {
              "color": "#E5ECF6",
              "width": 0.5
             },
             "pattern": {
              "fillmode": "overlay",
              "size": 10,
              "solidity": 0.2
             }
            },
            "type": "bar"
           }
          ],
          "barpolar": [
           {
            "marker": {
             "line": {
              "color": "#E5ECF6",
              "width": 0.5
             },
             "pattern": {
              "fillmode": "overlay",
              "size": 10,
              "solidity": 0.2
             }
            },
            "type": "barpolar"
           }
          ],
          "carpet": [
           {
            "aaxis": {
             "endlinecolor": "#2a3f5f",
             "gridcolor": "white",
             "linecolor": "white",
             "minorgridcolor": "white",
             "startlinecolor": "#2a3f5f"
            },
            "baxis": {
             "endlinecolor": "#2a3f5f",
             "gridcolor": "white",
             "linecolor": "white",
             "minorgridcolor": "white",
             "startlinecolor": "#2a3f5f"
            },
            "type": "carpet"
           }
          ],
          "choropleth": [
           {
            "colorbar": {
             "outlinewidth": 0,
             "ticks": ""
            },
            "type": "choropleth"
           }
          ],
          "contour": [
           {
            "colorbar": {
             "outlinewidth": 0,
             "ticks": ""
            },
            "colorscale": [
             [
              0,
              "#0d0887"
             ],
             [
              0.1111111111111111,
              "#46039f"
             ],
             [
              0.2222222222222222,
              "#7201a8"
             ],
             [
              0.3333333333333333,
              "#9c179e"
             ],
             [
              0.4444444444444444,
              "#bd3786"
             ],
             [
              0.5555555555555556,
              "#d8576b"
             ],
             [
              0.6666666666666666,
              "#ed7953"
             ],
             [
              0.7777777777777778,
              "#fb9f3a"
             ],
             [
              0.8888888888888888,
              "#fdca26"
             ],
             [
              1,
              "#f0f921"
             ]
            ],
            "type": "contour"
           }
          ],
          "contourcarpet": [
           {
            "colorbar": {
             "outlinewidth": 0,
             "ticks": ""
            },
            "type": "contourcarpet"
           }
          ],
          "heatmap": [
           {
            "colorbar": {
             "outlinewidth": 0,
             "ticks": ""
            },
            "colorscale": [
             [
              0,
              "#0d0887"
             ],
             [
              0.1111111111111111,
              "#46039f"
             ],
             [
              0.2222222222222222,
              "#7201a8"
             ],
             [
              0.3333333333333333,
              "#9c179e"
             ],
             [
              0.4444444444444444,
              "#bd3786"
             ],
             [
              0.5555555555555556,
              "#d8576b"
             ],
             [
              0.6666666666666666,
              "#ed7953"
             ],
             [
              0.7777777777777778,
              "#fb9f3a"
             ],
             [
              0.8888888888888888,
              "#fdca26"
             ],
             [
              1,
              "#f0f921"
             ]
            ],
            "type": "heatmap"
           }
          ],
          "heatmapgl": [
           {
            "colorbar": {
             "outlinewidth": 0,
             "ticks": ""
            },
            "colorscale": [
             [
              0,
              "#0d0887"
             ],
             [
              0.1111111111111111,
              "#46039f"
             ],
             [
              0.2222222222222222,
              "#7201a8"
             ],
             [
              0.3333333333333333,
              "#9c179e"
             ],
             [
              0.4444444444444444,
              "#bd3786"
             ],
             [
              0.5555555555555556,
              "#d8576b"
             ],
             [
              0.6666666666666666,
              "#ed7953"
             ],
             [
              0.7777777777777778,
              "#fb9f3a"
             ],
             [
              0.8888888888888888,
              "#fdca26"
             ],
             [
              1,
              "#f0f921"
             ]
            ],
            "type": "heatmapgl"
           }
          ],
          "histogram": [
           {
            "marker": {
             "pattern": {
              "fillmode": "overlay",
              "size": 10,
              "solidity": 0.2
             }
            },
            "type": "histogram"
           }
          ],
          "histogram2d": [
           {
            "colorbar": {
             "outlinewidth": 0,
             "ticks": ""
            },
            "colorscale": [
             [
              0,
              "#0d0887"
             ],
             [
              0.1111111111111111,
              "#46039f"
             ],
             [
              0.2222222222222222,
              "#7201a8"
             ],
             [
              0.3333333333333333,
              "#9c179e"
             ],
             [
              0.4444444444444444,
              "#bd3786"
             ],
             [
              0.5555555555555556,
              "#d8576b"
             ],
             [
              0.6666666666666666,
              "#ed7953"
             ],
             [
              0.7777777777777778,
              "#fb9f3a"
             ],
             [
              0.8888888888888888,
              "#fdca26"
             ],
             [
              1,
              "#f0f921"
             ]
            ],
            "type": "histogram2d"
           }
          ],
          "histogram2dcontour": [
           {
            "colorbar": {
             "outlinewidth": 0,
             "ticks": ""
            },
            "colorscale": [
             [
              0,
              "#0d0887"
             ],
             [
              0.1111111111111111,
              "#46039f"
             ],
             [
              0.2222222222222222,
              "#7201a8"
             ],
             [
              0.3333333333333333,
              "#9c179e"
             ],
             [
              0.4444444444444444,
              "#bd3786"
             ],
             [
              0.5555555555555556,
              "#d8576b"
             ],
             [
              0.6666666666666666,
              "#ed7953"
             ],
             [
              0.7777777777777778,
              "#fb9f3a"
             ],
             [
              0.8888888888888888,
              "#fdca26"
             ],
             [
              1,
              "#f0f921"
             ]
            ],
            "type": "histogram2dcontour"
           }
          ],
          "mesh3d": [
           {
            "colorbar": {
             "outlinewidth": 0,
             "ticks": ""
            },
            "type": "mesh3d"
           }
          ],
          "parcoords": [
           {
            "line": {
             "colorbar": {
              "outlinewidth": 0,
              "ticks": ""
             }
            },
            "type": "parcoords"
           }
          ],
          "pie": [
           {
            "automargin": true,
            "type": "pie"
           }
          ],
          "scatter": [
           {
            "fillpattern": {
             "fillmode": "overlay",
             "size": 10,
             "solidity": 0.2
            },
            "type": "scatter"
           }
          ],
          "scatter3d": [
           {
            "line": {
             "colorbar": {
              "outlinewidth": 0,
              "ticks": ""
             }
            },
            "marker": {
             "colorbar": {
              "outlinewidth": 0,
              "ticks": ""
             }
            },
            "type": "scatter3d"
           }
          ],
          "scattercarpet": [
           {
            "marker": {
             "colorbar": {
              "outlinewidth": 0,
              "ticks": ""
             }
            },
            "type": "scattercarpet"
           }
          ],
          "scattergeo": [
           {
            "marker": {
             "colorbar": {
              "outlinewidth": 0,
              "ticks": ""
             }
            },
            "type": "scattergeo"
           }
          ],
          "scattergl": [
           {
            "marker": {
             "colorbar": {
              "outlinewidth": 0,
              "ticks": ""
             }
            },
            "type": "scattergl"
           }
          ],
          "scattermapbox": [
           {
            "marker": {
             "colorbar": {
              "outlinewidth": 0,
              "ticks": ""
             }
            },
            "type": "scattermapbox"
           }
          ],
          "scatterpolar": [
           {
            "marker": {
             "colorbar": {
              "outlinewidth": 0,
              "ticks": ""
             }
            },
            "type": "scatterpolar"
           }
          ],
          "scatterpolargl": [
           {
            "marker": {
             "colorbar": {
              "outlinewidth": 0,
              "ticks": ""
             }
            },
            "type": "scatterpolargl"
           }
          ],
          "scatterternary": [
           {
            "marker": {
             "colorbar": {
              "outlinewidth": 0,
              "ticks": ""
             }
            },
            "type": "scatterternary"
           }
          ],
          "surface": [
           {
            "colorbar": {
             "outlinewidth": 0,
             "ticks": ""
            },
            "colorscale": [
             [
              0,
              "#0d0887"
             ],
             [
              0.1111111111111111,
              "#46039f"
             ],
             [
              0.2222222222222222,
              "#7201a8"
             ],
             [
              0.3333333333333333,
              "#9c179e"
             ],
             [
              0.4444444444444444,
              "#bd3786"
             ],
             [
              0.5555555555555556,
              "#d8576b"
             ],
             [
              0.6666666666666666,
              "#ed7953"
             ],
             [
              0.7777777777777778,
              "#fb9f3a"
             ],
             [
              0.8888888888888888,
              "#fdca26"
             ],
             [
              1,
              "#f0f921"
             ]
            ],
            "type": "surface"
           }
          ],
          "table": [
           {
            "cells": {
             "fill": {
              "color": "#EBF0F8"
             },
             "line": {
              "color": "white"
             }
            },
            "header": {
             "fill": {
              "color": "#C8D4E3"
             },
             "line": {
              "color": "white"
             }
            },
            "type": "table"
           }
          ]
         },
         "layout": {
          "annotationdefaults": {
           "arrowcolor": "#2a3f5f",
           "arrowhead": 0,
           "arrowwidth": 1
          },
          "autotypenumbers": "strict",
          "coloraxis": {
           "colorbar": {
            "outlinewidth": 0,
            "ticks": ""
           }
          },
          "colorscale": {
           "diverging": [
            [
             0,
             "#8e0152"
            ],
            [
             0.1,
             "#c51b7d"
            ],
            [
             0.2,
             "#de77ae"
            ],
            [
             0.3,
             "#f1b6da"
            ],
            [
             0.4,
             "#fde0ef"
            ],
            [
             0.5,
             "#f7f7f7"
            ],
            [
             0.6,
             "#e6f5d0"
            ],
            [
             0.7,
             "#b8e186"
            ],
            [
             0.8,
             "#7fbc41"
            ],
            [
             0.9,
             "#4d9221"
            ],
            [
             1,
             "#276419"
            ]
           ],
           "sequential": [
            [
             0,
             "#0d0887"
            ],
            [
             0.1111111111111111,
             "#46039f"
            ],
            [
             0.2222222222222222,
             "#7201a8"
            ],
            [
             0.3333333333333333,
             "#9c179e"
            ],
            [
             0.4444444444444444,
             "#bd3786"
            ],
            [
             0.5555555555555556,
             "#d8576b"
            ],
            [
             0.6666666666666666,
             "#ed7953"
            ],
            [
             0.7777777777777778,
             "#fb9f3a"
            ],
            [
             0.8888888888888888,
             "#fdca26"
            ],
            [
             1,
             "#f0f921"
            ]
           ],
           "sequentialminus": [
            [
             0,
             "#0d0887"
            ],
            [
             0.1111111111111111,
             "#46039f"
            ],
            [
             0.2222222222222222,
             "#7201a8"
            ],
            [
             0.3333333333333333,
             "#9c179e"
            ],
            [
             0.4444444444444444,
             "#bd3786"
            ],
            [
             0.5555555555555556,
             "#d8576b"
            ],
            [
             0.6666666666666666,
             "#ed7953"
            ],
            [
             0.7777777777777778,
             "#fb9f3a"
            ],
            [
             0.8888888888888888,
             "#fdca26"
            ],
            [
             1,
             "#f0f921"
            ]
           ]
          },
          "colorway": [
           "#636efa",
           "#EF553B",
           "#00cc96",
           "#ab63fa",
           "#FFA15A",
           "#19d3f3",
           "#FF6692",
           "#B6E880",
           "#FF97FF",
           "#FECB52"
          ],
          "font": {
           "color": "#2a3f5f"
          },
          "geo": {
           "bgcolor": "white",
           "lakecolor": "white",
           "landcolor": "#E5ECF6",
           "showlakes": true,
           "showland": true,
           "subunitcolor": "white"
          },
          "hoverlabel": {
           "align": "left"
          },
          "hovermode": "closest",
          "mapbox": {
           "style": "light"
          },
          "paper_bgcolor": "white",
          "plot_bgcolor": "#E5ECF6",
          "polar": {
           "angularaxis": {
            "gridcolor": "white",
            "linecolor": "white",
            "ticks": ""
           },
           "bgcolor": "#E5ECF6",
           "radialaxis": {
            "gridcolor": "white",
            "linecolor": "white",
            "ticks": ""
           }
          },
          "scene": {
           "xaxis": {
            "backgroundcolor": "#E5ECF6",
            "gridcolor": "white",
            "gridwidth": 2,
            "linecolor": "white",
            "showbackground": true,
            "ticks": "",
            "zerolinecolor": "white"
           },
           "yaxis": {
            "backgroundcolor": "#E5ECF6",
            "gridcolor": "white",
            "gridwidth": 2,
            "linecolor": "white",
            "showbackground": true,
            "ticks": "",
            "zerolinecolor": "white"
           },
           "zaxis": {
            "backgroundcolor": "#E5ECF6",
            "gridcolor": "white",
            "gridwidth": 2,
            "linecolor": "white",
            "showbackground": true,
            "ticks": "",
            "zerolinecolor": "white"
           }
          },
          "shapedefaults": {
           "line": {
            "color": "#2a3f5f"
           }
          },
          "ternary": {
           "aaxis": {
            "gridcolor": "white",
            "linecolor": "white",
            "ticks": ""
           },
           "baxis": {
            "gridcolor": "white",
            "linecolor": "white",
            "ticks": ""
           },
           "bgcolor": "#E5ECF6",
           "caxis": {
            "gridcolor": "white",
            "linecolor": "white",
            "ticks": ""
           }
          },
          "title": {
           "x": 0.05
          },
          "xaxis": {
           "automargin": true,
           "gridcolor": "white",
           "linecolor": "white",
           "ticks": "",
           "title": {
            "standoff": 15
           },
           "zerolinecolor": "white",
           "zerolinewidth": 2
          },
          "yaxis": {
           "automargin": true,
           "gridcolor": "white",
           "linecolor": "white",
           "ticks": "",
           "title": {
            "standoff": 15
           },
           "zerolinecolor": "white",
           "zerolinewidth": 2
          }
         }
        },
        "xaxis": {
         "anchor": "y",
         "domain": [
          0,
          1
         ],
         "title": {
          "text": "bairro"
         }
        },
        "yaxis": {
         "anchor": "x",
         "domain": [
          0,
          1
         ],
         "title": {
          "text": "sum of quantity"
         }
        }
       }
      },
      "text/html": [
       "<div>                            <div id=\"72865d0e-619d-4f85-93fe-266dd1ab83c5\" class=\"plotly-graph-div\" style=\"height:525px; width:100%;\"></div>            <script type=\"text/javascript\">                require([\"plotly\"], function(Plotly) {                    window.PLOTLYENV=window.PLOTLYENV || {};                                    if (document.getElementById(\"72865d0e-619d-4f85-93fe-266dd1ab83c5\")) {                    Plotly.newPlot(                        \"72865d0e-619d-4f85-93fe-266dd1ab83c5\",                        [{\"alignmentgroup\":\"True\",\"bingroup\":\"x\",\"histfunc\":\"sum\",\"hovertemplate\":\"bairro=%{x}<br>sum of quantity=%{y}<extra></extra>\",\"legendgroup\":\"\",\"marker\":{\"color\":\"#636efa\",\"pattern\":{\"shape\":\"\"}},\"name\":\"\",\"offsetgroup\":\"\",\"orientation\":\"v\",\"showlegend\":false,\"texttemplate\":\"%{value}\",\"x\":[\"Engenho de Dentro\",\"Campo Grande\",\"Leblon\"],\"xaxis\":\"x\",\"y\":[8,6,6],\"yaxis\":\"y\",\"type\":\"histogram\"}],                        {\"template\":{\"data\":{\"histogram2dcontour\":[{\"type\":\"histogram2dcontour\",\"colorbar\":{\"outlinewidth\":0,\"ticks\":\"\"},\"colorscale\":[[0.0,\"#0d0887\"],[0.1111111111111111,\"#46039f\"],[0.2222222222222222,\"#7201a8\"],[0.3333333333333333,\"#9c179e\"],[0.4444444444444444,\"#bd3786\"],[0.5555555555555556,\"#d8576b\"],[0.6666666666666666,\"#ed7953\"],[0.7777777777777778,\"#fb9f3a\"],[0.8888888888888888,\"#fdca26\"],[1.0,\"#f0f921\"]]}],\"choropleth\":[{\"type\":\"choropleth\",\"colorbar\":{\"outlinewidth\":0,\"ticks\":\"\"}}],\"histogram2d\":[{\"type\":\"histogram2d\",\"colorbar\":{\"outlinewidth\":0,\"ticks\":\"\"},\"colorscale\":[[0.0,\"#0d0887\"],[0.1111111111111111,\"#46039f\"],[0.2222222222222222,\"#7201a8\"],[0.3333333333333333,\"#9c179e\"],[0.4444444444444444,\"#bd3786\"],[0.5555555555555556,\"#d8576b\"],[0.6666666666666666,\"#ed7953\"],[0.7777777777777778,\"#fb9f3a\"],[0.8888888888888888,\"#fdca26\"],[1.0,\"#f0f921\"]]}],\"heatmap\":[{\"type\":\"heatmap\",\"colorbar\":{\"outlinewidth\":0,\"ticks\":\"\"},\"colorscale\":[[0.0,\"#0d0887\"],[0.1111111111111111,\"#46039f\"],[0.2222222222222222,\"#7201a8\"],[0.3333333333333333,\"#9c179e\"],[0.4444444444444444,\"#bd3786\"],[0.5555555555555556,\"#d8576b\"],[0.6666666666666666,\"#ed7953\"],[0.7777777777777778,\"#fb9f3a\"],[0.8888888888888888,\"#fdca26\"],[1.0,\"#f0f921\"]]}],\"heatmapgl\":[{\"type\":\"heatmapgl\",\"colorbar\":{\"outlinewidth\":0,\"ticks\":\"\"},\"colorscale\":[[0.0,\"#0d0887\"],[0.1111111111111111,\"#46039f\"],[0.2222222222222222,\"#7201a8\"],[0.3333333333333333,\"#9c179e\"],[0.4444444444444444,\"#bd3786\"],[0.5555555555555556,\"#d8576b\"],[0.6666666666666666,\"#ed7953\"],[0.7777777777777778,\"#fb9f3a\"],[0.8888888888888888,\"#fdca26\"],[1.0,\"#f0f921\"]]}],\"contourcarpet\":[{\"type\":\"contourcarpet\",\"colorbar\":{\"outlinewidth\":0,\"ticks\":\"\"}}],\"contour\":[{\"type\":\"contour\",\"colorbar\":{\"outlinewidth\":0,\"ticks\":\"\"},\"colorscale\":[[0.0,\"#0d0887\"],[0.1111111111111111,\"#46039f\"],[0.2222222222222222,\"#7201a8\"],[0.3333333333333333,\"#9c179e\"],[0.4444444444444444,\"#bd3786\"],[0.5555555555555556,\"#d8576b\"],[0.6666666666666666,\"#ed7953\"],[0.7777777777777778,\"#fb9f3a\"],[0.8888888888888888,\"#fdca26\"],[1.0,\"#f0f921\"]]}],\"surface\":[{\"type\":\"surface\",\"colorbar\":{\"outlinewidth\":0,\"ticks\":\"\"},\"colorscale\":[[0.0,\"#0d0887\"],[0.1111111111111111,\"#46039f\"],[0.2222222222222222,\"#7201a8\"],[0.3333333333333333,\"#9c179e\"],[0.4444444444444444,\"#bd3786\"],[0.5555555555555556,\"#d8576b\"],[0.6666666666666666,\"#ed7953\"],[0.7777777777777778,\"#fb9f3a\"],[0.8888888888888888,\"#fdca26\"],[1.0,\"#f0f921\"]]}],\"mesh3d\":[{\"type\":\"mesh3d\",\"colorbar\":{\"outlinewidth\":0,\"ticks\":\"\"}}],\"scatter\":[{\"fillpattern\":{\"fillmode\":\"overlay\",\"size\":10,\"solidity\":0.2},\"type\":\"scatter\"}],\"parcoords\":[{\"type\":\"parcoords\",\"line\":{\"colorbar\":{\"outlinewidth\":0,\"ticks\":\"\"}}}],\"scatterpolargl\":[{\"type\":\"scatterpolargl\",\"marker\":{\"colorbar\":{\"outlinewidth\":0,\"ticks\":\"\"}}}],\"bar\":[{\"error_x\":{\"color\":\"#2a3f5f\"},\"error_y\":{\"color\":\"#2a3f5f\"},\"marker\":{\"line\":{\"color\":\"#E5ECF6\",\"width\":0.5},\"pattern\":{\"fillmode\":\"overlay\",\"size\":10,\"solidity\":0.2}},\"type\":\"bar\"}],\"scattergeo\":[{\"type\":\"scattergeo\",\"marker\":{\"colorbar\":{\"outlinewidth\":0,\"ticks\":\"\"}}}],\"scatterpolar\":[{\"type\":\"scatterpolar\",\"marker\":{\"colorbar\":{\"outlinewidth\":0,\"ticks\":\"\"}}}],\"histogram\":[{\"marker\":{\"pattern\":{\"fillmode\":\"overlay\",\"size\":10,\"solidity\":0.2}},\"type\":\"histogram\"}],\"scattergl\":[{\"type\":\"scattergl\",\"marker\":{\"colorbar\":{\"outlinewidth\":0,\"ticks\":\"\"}}}],\"scatter3d\":[{\"type\":\"scatter3d\",\"line\":{\"colorbar\":{\"outlinewidth\":0,\"ticks\":\"\"}},\"marker\":{\"colorbar\":{\"outlinewidth\":0,\"ticks\":\"\"}}}],\"scattermapbox\":[{\"type\":\"scattermapbox\",\"marker\":{\"colorbar\":{\"outlinewidth\":0,\"ticks\":\"\"}}}],\"scatterternary\":[{\"type\":\"scatterternary\",\"marker\":{\"colorbar\":{\"outlinewidth\":0,\"ticks\":\"\"}}}],\"scattercarpet\":[{\"type\":\"scattercarpet\",\"marker\":{\"colorbar\":{\"outlinewidth\":0,\"ticks\":\"\"}}}],\"carpet\":[{\"aaxis\":{\"endlinecolor\":\"#2a3f5f\",\"gridcolor\":\"white\",\"linecolor\":\"white\",\"minorgridcolor\":\"white\",\"startlinecolor\":\"#2a3f5f\"},\"baxis\":{\"endlinecolor\":\"#2a3f5f\",\"gridcolor\":\"white\",\"linecolor\":\"white\",\"minorgridcolor\":\"white\",\"startlinecolor\":\"#2a3f5f\"},\"type\":\"carpet\"}],\"table\":[{\"cells\":{\"fill\":{\"color\":\"#EBF0F8\"},\"line\":{\"color\":\"white\"}},\"header\":{\"fill\":{\"color\":\"#C8D4E3\"},\"line\":{\"color\":\"white\"}},\"type\":\"table\"}],\"barpolar\":[{\"marker\":{\"line\":{\"color\":\"#E5ECF6\",\"width\":0.5},\"pattern\":{\"fillmode\":\"overlay\",\"size\":10,\"solidity\":0.2}},\"type\":\"barpolar\"}],\"pie\":[{\"automargin\":true,\"type\":\"pie\"}]},\"layout\":{\"autotypenumbers\":\"strict\",\"colorway\":[\"#636efa\",\"#EF553B\",\"#00cc96\",\"#ab63fa\",\"#FFA15A\",\"#19d3f3\",\"#FF6692\",\"#B6E880\",\"#FF97FF\",\"#FECB52\"],\"font\":{\"color\":\"#2a3f5f\"},\"hovermode\":\"closest\",\"hoverlabel\":{\"align\":\"left\"},\"paper_bgcolor\":\"white\",\"plot_bgcolor\":\"#E5ECF6\",\"polar\":{\"bgcolor\":\"#E5ECF6\",\"angularaxis\":{\"gridcolor\":\"white\",\"linecolor\":\"white\",\"ticks\":\"\"},\"radialaxis\":{\"gridcolor\":\"white\",\"linecolor\":\"white\",\"ticks\":\"\"}},\"ternary\":{\"bgcolor\":\"#E5ECF6\",\"aaxis\":{\"gridcolor\":\"white\",\"linecolor\":\"white\",\"ticks\":\"\"},\"baxis\":{\"gridcolor\":\"white\",\"linecolor\":\"white\",\"ticks\":\"\"},\"caxis\":{\"gridcolor\":\"white\",\"linecolor\":\"white\",\"ticks\":\"\"}},\"coloraxis\":{\"colorbar\":{\"outlinewidth\":0,\"ticks\":\"\"}},\"colorscale\":{\"sequential\":[[0.0,\"#0d0887\"],[0.1111111111111111,\"#46039f\"],[0.2222222222222222,\"#7201a8\"],[0.3333333333333333,\"#9c179e\"],[0.4444444444444444,\"#bd3786\"],[0.5555555555555556,\"#d8576b\"],[0.6666666666666666,\"#ed7953\"],[0.7777777777777778,\"#fb9f3a\"],[0.8888888888888888,\"#fdca26\"],[1.0,\"#f0f921\"]],\"sequentialminus\":[[0.0,\"#0d0887\"],[0.1111111111111111,\"#46039f\"],[0.2222222222222222,\"#7201a8\"],[0.3333333333333333,\"#9c179e\"],[0.4444444444444444,\"#bd3786\"],[0.5555555555555556,\"#d8576b\"],[0.6666666666666666,\"#ed7953\"],[0.7777777777777778,\"#fb9f3a\"],[0.8888888888888888,\"#fdca26\"],[1.0,\"#f0f921\"]],\"diverging\":[[0,\"#8e0152\"],[0.1,\"#c51b7d\"],[0.2,\"#de77ae\"],[0.3,\"#f1b6da\"],[0.4,\"#fde0ef\"],[0.5,\"#f7f7f7\"],[0.6,\"#e6f5d0\"],[0.7,\"#b8e186\"],[0.8,\"#7fbc41\"],[0.9,\"#4d9221\"],[1,\"#276419\"]]},\"xaxis\":{\"gridcolor\":\"white\",\"linecolor\":\"white\",\"ticks\":\"\",\"title\":{\"standoff\":15},\"zerolinecolor\":\"white\",\"automargin\":true,\"zerolinewidth\":2},\"yaxis\":{\"gridcolor\":\"white\",\"linecolor\":\"white\",\"ticks\":\"\",\"title\":{\"standoff\":15},\"zerolinecolor\":\"white\",\"automargin\":true,\"zerolinewidth\":2},\"scene\":{\"xaxis\":{\"backgroundcolor\":\"#E5ECF6\",\"gridcolor\":\"white\",\"linecolor\":\"white\",\"showbackground\":true,\"ticks\":\"\",\"zerolinecolor\":\"white\",\"gridwidth\":2},\"yaxis\":{\"backgroundcolor\":\"#E5ECF6\",\"gridcolor\":\"white\",\"linecolor\":\"white\",\"showbackground\":true,\"ticks\":\"\",\"zerolinecolor\":\"white\",\"gridwidth\":2},\"zaxis\":{\"backgroundcolor\":\"#E5ECF6\",\"gridcolor\":\"white\",\"linecolor\":\"white\",\"showbackground\":true,\"ticks\":\"\",\"zerolinecolor\":\"white\",\"gridwidth\":2}},\"shapedefaults\":{\"line\":{\"color\":\"#2a3f5f\"}},\"annotationdefaults\":{\"arrowcolor\":\"#2a3f5f\",\"arrowhead\":0,\"arrowwidth\":1},\"geo\":{\"bgcolor\":\"white\",\"landcolor\":\"#E5ECF6\",\"subunitcolor\":\"white\",\"showland\":true,\"showlakes\":true,\"lakecolor\":\"white\"},\"title\":{\"x\":0.05},\"mapbox\":{\"style\":\"light\"}}},\"xaxis\":{\"anchor\":\"y\",\"domain\":[0.0,1.0],\"title\":{\"text\":\"bairro\"}},\"yaxis\":{\"anchor\":\"x\",\"domain\":[0.0,1.0],\"title\":{\"text\":\"sum of quantity\"}},\"legend\":{\"tracegroupgap\":0},\"margin\":{\"t\":60},\"barmode\":\"group\",\"bargap\":0.2},                        {\"responsive\": true}                    ).then(function(){\n",
       "                            \n",
       "var gd = document.getElementById('72865d0e-619d-4f85-93fe-266dd1ab83c5');\n",
       "var x = new MutationObserver(function (mutations, observer) {{\n",
       "        var display = window.getComputedStyle(gd).display;\n",
       "        if (!display || display === 'none') {{\n",
       "            console.log([gd, 'removed!']);\n",
       "            Plotly.purge(gd);\n",
       "            observer.disconnect();\n",
       "        }}\n",
       "}});\n",
       "\n",
       "// Listen for the removal of the full notebook cells\n",
       "var notebookContainer = gd.closest('#notebook-container');\n",
       "if (notebookContainer) {{\n",
       "    x.observe(notebookContainer, {childList: true});\n",
       "}}\n",
       "\n",
       "// Listen for the clearing of the current output cell\n",
       "var outputEl = gd.closest('.output');\n",
       "if (outputEl) {{\n",
       "    x.observe(outputEl, {childList: true});\n",
       "}}\n",
       "\n",
       "                        })                };                });            </script>        </div>"
      ]
     },
     "metadata": {},
     "output_type": "display_data"
    }
   ],
   "source": [
    "fig = px.histogram(bairro_com_mais_chamados, x=\"bairro\", y='quantity', barmode='group', text_auto= True)\n",
    "fig.update_layout(bargap=0.2)\n",
    "fig.show()"
   ]
  },
  {
   "cell_type": "markdown",
   "metadata": {},
   "source": [
    "### 4) Qual o nome da subprefeitura com mais chamados abertos nesse dia?"
   ]
  },
  {
   "cell_type": "code",
   "execution_count": 10,
   "metadata": {},
   "outputs": [
    {
     "name": "stdout",
     "output_type": "stream",
     "text": [
      "     subprefeitura  quantity\n",
      "0       Zona Norte        25\n",
      "1         Zona Sul        12\n",
      "2       Zona Oeste        10\n",
      "3           Centro         7\n",
      "4  Barra da Tijuca         6\n"
     ]
    }
   ],
   "source": [
    "maioresSubprefeituras = df.groupby('subprefeitura')['tipo'].size().sort_values(ascending=False).reset_index(name='quantity')\n",
    "\n",
    "print(maioresSubprefeituras.head(5))"
   ]
  },
  {
   "cell_type": "code",
   "execution_count": 14,
   "metadata": {},
   "outputs": [
    {
     "data": {
      "application/vnd.plotly.v1+json": {
       "config": {
        "plotlyServerURL": "https://plot.ly"
       },
       "data": [
        {
         "alignmentgroup": "True",
         "bingroup": "x",
         "hovertemplate": "subprefeitura=%{x}<br>count=%{y}<extra></extra>",
         "legendgroup": "",
         "marker": {
          "color": "#636efa",
          "pattern": {
           "shape": ""
          }
         },
         "name": "",
         "offsetgroup": "",
         "orientation": "v",
         "showlegend": false,
         "texttemplate": "%{value}",
         "type": "histogram",
         "x": [
          "Centro",
          "Centro",
          "Centro",
          "Centro",
          "Centro",
          "Centro",
          "Centro",
          "Grande Tijuca",
          "Grande Tijuca",
          "Zona Sul",
          "Zona Sul",
          "Zona Sul",
          "Zona Sul",
          "Zona Sul",
          "Zona Sul",
          "Zona Sul",
          "Zona Sul",
          "Zona Sul",
          "Zona Sul",
          "Zona Sul",
          "Zona Sul",
          "Grande Tijuca",
          "Grande Tijuca",
          "Zona Norte",
          "Zona Norte",
          "Zona Norte",
          "Zona Norte",
          "Zona Norte",
          "Zona Norte",
          "Zona Norte",
          "Zona Norte",
          "Zona Norte",
          "Zona Norte",
          "Zona Norte",
          "Zona Norte",
          "Zona Norte",
          "Zona Norte",
          "Zona Norte",
          "Zona Norte",
          "Zona Norte",
          "Zona Norte",
          "Zona Norte",
          "Zona Norte",
          "Zona Norte",
          "Zona Norte",
          "Zona Norte",
          "Zona Norte",
          "Zona Norte",
          "Barra da Tijuca",
          "Barra da Tijuca",
          "Barra da Tijuca",
          "Jacarepaguá",
          "Jacarepaguá",
          "Jacarepaguá",
          "Jacarepaguá",
          "Barra da Tijuca",
          "Barra da Tijuca",
          "Barra da Tijuca",
          "Jacarepaguá",
          "Zona Oeste",
          "Zona Oeste",
          "Zona Oeste",
          "Grande Bangu",
          "Zona Oeste",
          "Grande Bangu",
          "Zona Oeste",
          "Grande Bangu",
          "Zona Oeste",
          "Zona Oeste",
          "Zona Oeste",
          "Zona Oeste",
          "Zona Oeste"
         ],
         "xaxis": "x",
         "yaxis": "y"
        }
       ],
       "layout": {
        "bargap": 0.2,
        "barmode": "group",
        "legend": {
         "tracegroupgap": 0
        },
        "margin": {
         "t": 60
        },
        "template": {
         "data": {
          "bar": [
           {
            "error_x": {
             "color": "#2a3f5f"
            },
            "error_y": {
             "color": "#2a3f5f"
            },
            "marker": {
             "line": {
              "color": "#E5ECF6",
              "width": 0.5
             },
             "pattern": {
              "fillmode": "overlay",
              "size": 10,
              "solidity": 0.2
             }
            },
            "type": "bar"
           }
          ],
          "barpolar": [
           {
            "marker": {
             "line": {
              "color": "#E5ECF6",
              "width": 0.5
             },
             "pattern": {
              "fillmode": "overlay",
              "size": 10,
              "solidity": 0.2
             }
            },
            "type": "barpolar"
           }
          ],
          "carpet": [
           {
            "aaxis": {
             "endlinecolor": "#2a3f5f",
             "gridcolor": "white",
             "linecolor": "white",
             "minorgridcolor": "white",
             "startlinecolor": "#2a3f5f"
            },
            "baxis": {
             "endlinecolor": "#2a3f5f",
             "gridcolor": "white",
             "linecolor": "white",
             "minorgridcolor": "white",
             "startlinecolor": "#2a3f5f"
            },
            "type": "carpet"
           }
          ],
          "choropleth": [
           {
            "colorbar": {
             "outlinewidth": 0,
             "ticks": ""
            },
            "type": "choropleth"
           }
          ],
          "contour": [
           {
            "colorbar": {
             "outlinewidth": 0,
             "ticks": ""
            },
            "colorscale": [
             [
              0,
              "#0d0887"
             ],
             [
              0.1111111111111111,
              "#46039f"
             ],
             [
              0.2222222222222222,
              "#7201a8"
             ],
             [
              0.3333333333333333,
              "#9c179e"
             ],
             [
              0.4444444444444444,
              "#bd3786"
             ],
             [
              0.5555555555555556,
              "#d8576b"
             ],
             [
              0.6666666666666666,
              "#ed7953"
             ],
             [
              0.7777777777777778,
              "#fb9f3a"
             ],
             [
              0.8888888888888888,
              "#fdca26"
             ],
             [
              1,
              "#f0f921"
             ]
            ],
            "type": "contour"
           }
          ],
          "contourcarpet": [
           {
            "colorbar": {
             "outlinewidth": 0,
             "ticks": ""
            },
            "type": "contourcarpet"
           }
          ],
          "heatmap": [
           {
            "colorbar": {
             "outlinewidth": 0,
             "ticks": ""
            },
            "colorscale": [
             [
              0,
              "#0d0887"
             ],
             [
              0.1111111111111111,
              "#46039f"
             ],
             [
              0.2222222222222222,
              "#7201a8"
             ],
             [
              0.3333333333333333,
              "#9c179e"
             ],
             [
              0.4444444444444444,
              "#bd3786"
             ],
             [
              0.5555555555555556,
              "#d8576b"
             ],
             [
              0.6666666666666666,
              "#ed7953"
             ],
             [
              0.7777777777777778,
              "#fb9f3a"
             ],
             [
              0.8888888888888888,
              "#fdca26"
             ],
             [
              1,
              "#f0f921"
             ]
            ],
            "type": "heatmap"
           }
          ],
          "heatmapgl": [
           {
            "colorbar": {
             "outlinewidth": 0,
             "ticks": ""
            },
            "colorscale": [
             [
              0,
              "#0d0887"
             ],
             [
              0.1111111111111111,
              "#46039f"
             ],
             [
              0.2222222222222222,
              "#7201a8"
             ],
             [
              0.3333333333333333,
              "#9c179e"
             ],
             [
              0.4444444444444444,
              "#bd3786"
             ],
             [
              0.5555555555555556,
              "#d8576b"
             ],
             [
              0.6666666666666666,
              "#ed7953"
             ],
             [
              0.7777777777777778,
              "#fb9f3a"
             ],
             [
              0.8888888888888888,
              "#fdca26"
             ],
             [
              1,
              "#f0f921"
             ]
            ],
            "type": "heatmapgl"
           }
          ],
          "histogram": [
           {
            "marker": {
             "pattern": {
              "fillmode": "overlay",
              "size": 10,
              "solidity": 0.2
             }
            },
            "type": "histogram"
           }
          ],
          "histogram2d": [
           {
            "colorbar": {
             "outlinewidth": 0,
             "ticks": ""
            },
            "colorscale": [
             [
              0,
              "#0d0887"
             ],
             [
              0.1111111111111111,
              "#46039f"
             ],
             [
              0.2222222222222222,
              "#7201a8"
             ],
             [
              0.3333333333333333,
              "#9c179e"
             ],
             [
              0.4444444444444444,
              "#bd3786"
             ],
             [
              0.5555555555555556,
              "#d8576b"
             ],
             [
              0.6666666666666666,
              "#ed7953"
             ],
             [
              0.7777777777777778,
              "#fb9f3a"
             ],
             [
              0.8888888888888888,
              "#fdca26"
             ],
             [
              1,
              "#f0f921"
             ]
            ],
            "type": "histogram2d"
           }
          ],
          "histogram2dcontour": [
           {
            "colorbar": {
             "outlinewidth": 0,
             "ticks": ""
            },
            "colorscale": [
             [
              0,
              "#0d0887"
             ],
             [
              0.1111111111111111,
              "#46039f"
             ],
             [
              0.2222222222222222,
              "#7201a8"
             ],
             [
              0.3333333333333333,
              "#9c179e"
             ],
             [
              0.4444444444444444,
              "#bd3786"
             ],
             [
              0.5555555555555556,
              "#d8576b"
             ],
             [
              0.6666666666666666,
              "#ed7953"
             ],
             [
              0.7777777777777778,
              "#fb9f3a"
             ],
             [
              0.8888888888888888,
              "#fdca26"
             ],
             [
              1,
              "#f0f921"
             ]
            ],
            "type": "histogram2dcontour"
           }
          ],
          "mesh3d": [
           {
            "colorbar": {
             "outlinewidth": 0,
             "ticks": ""
            },
            "type": "mesh3d"
           }
          ],
          "parcoords": [
           {
            "line": {
             "colorbar": {
              "outlinewidth": 0,
              "ticks": ""
             }
            },
            "type": "parcoords"
           }
          ],
          "pie": [
           {
            "automargin": true,
            "type": "pie"
           }
          ],
          "scatter": [
           {
            "fillpattern": {
             "fillmode": "overlay",
             "size": 10,
             "solidity": 0.2
            },
            "type": "scatter"
           }
          ],
          "scatter3d": [
           {
            "line": {
             "colorbar": {
              "outlinewidth": 0,
              "ticks": ""
             }
            },
            "marker": {
             "colorbar": {
              "outlinewidth": 0,
              "ticks": ""
             }
            },
            "type": "scatter3d"
           }
          ],
          "scattercarpet": [
           {
            "marker": {
             "colorbar": {
              "outlinewidth": 0,
              "ticks": ""
             }
            },
            "type": "scattercarpet"
           }
          ],
          "scattergeo": [
           {
            "marker": {
             "colorbar": {
              "outlinewidth": 0,
              "ticks": ""
             }
            },
            "type": "scattergeo"
           }
          ],
          "scattergl": [
           {
            "marker": {
             "colorbar": {
              "outlinewidth": 0,
              "ticks": ""
             }
            },
            "type": "scattergl"
           }
          ],
          "scattermapbox": [
           {
            "marker": {
             "colorbar": {
              "outlinewidth": 0,
              "ticks": ""
             }
            },
            "type": "scattermapbox"
           }
          ],
          "scatterpolar": [
           {
            "marker": {
             "colorbar": {
              "outlinewidth": 0,
              "ticks": ""
             }
            },
            "type": "scatterpolar"
           }
          ],
          "scatterpolargl": [
           {
            "marker": {
             "colorbar": {
              "outlinewidth": 0,
              "ticks": ""
             }
            },
            "type": "scatterpolargl"
           }
          ],
          "scatterternary": [
           {
            "marker": {
             "colorbar": {
              "outlinewidth": 0,
              "ticks": ""
             }
            },
            "type": "scatterternary"
           }
          ],
          "surface": [
           {
            "colorbar": {
             "outlinewidth": 0,
             "ticks": ""
            },
            "colorscale": [
             [
              0,
              "#0d0887"
             ],
             [
              0.1111111111111111,
              "#46039f"
             ],
             [
              0.2222222222222222,
              "#7201a8"
             ],
             [
              0.3333333333333333,
              "#9c179e"
             ],
             [
              0.4444444444444444,
              "#bd3786"
             ],
             [
              0.5555555555555556,
              "#d8576b"
             ],
             [
              0.6666666666666666,
              "#ed7953"
             ],
             [
              0.7777777777777778,
              "#fb9f3a"
             ],
             [
              0.8888888888888888,
              "#fdca26"
             ],
             [
              1,
              "#f0f921"
             ]
            ],
            "type": "surface"
           }
          ],
          "table": [
           {
            "cells": {
             "fill": {
              "color": "#EBF0F8"
             },
             "line": {
              "color": "white"
             }
            },
            "header": {
             "fill": {
              "color": "#C8D4E3"
             },
             "line": {
              "color": "white"
             }
            },
            "type": "table"
           }
          ]
         },
         "layout": {
          "annotationdefaults": {
           "arrowcolor": "#2a3f5f",
           "arrowhead": 0,
           "arrowwidth": 1
          },
          "autotypenumbers": "strict",
          "coloraxis": {
           "colorbar": {
            "outlinewidth": 0,
            "ticks": ""
           }
          },
          "colorscale": {
           "diverging": [
            [
             0,
             "#8e0152"
            ],
            [
             0.1,
             "#c51b7d"
            ],
            [
             0.2,
             "#de77ae"
            ],
            [
             0.3,
             "#f1b6da"
            ],
            [
             0.4,
             "#fde0ef"
            ],
            [
             0.5,
             "#f7f7f7"
            ],
            [
             0.6,
             "#e6f5d0"
            ],
            [
             0.7,
             "#b8e186"
            ],
            [
             0.8,
             "#7fbc41"
            ],
            [
             0.9,
             "#4d9221"
            ],
            [
             1,
             "#276419"
            ]
           ],
           "sequential": [
            [
             0,
             "#0d0887"
            ],
            [
             0.1111111111111111,
             "#46039f"
            ],
            [
             0.2222222222222222,
             "#7201a8"
            ],
            [
             0.3333333333333333,
             "#9c179e"
            ],
            [
             0.4444444444444444,
             "#bd3786"
            ],
            [
             0.5555555555555556,
             "#d8576b"
            ],
            [
             0.6666666666666666,
             "#ed7953"
            ],
            [
             0.7777777777777778,
             "#fb9f3a"
            ],
            [
             0.8888888888888888,
             "#fdca26"
            ],
            [
             1,
             "#f0f921"
            ]
           ],
           "sequentialminus": [
            [
             0,
             "#0d0887"
            ],
            [
             0.1111111111111111,
             "#46039f"
            ],
            [
             0.2222222222222222,
             "#7201a8"
            ],
            [
             0.3333333333333333,
             "#9c179e"
            ],
            [
             0.4444444444444444,
             "#bd3786"
            ],
            [
             0.5555555555555556,
             "#d8576b"
            ],
            [
             0.6666666666666666,
             "#ed7953"
            ],
            [
             0.7777777777777778,
             "#fb9f3a"
            ],
            [
             0.8888888888888888,
             "#fdca26"
            ],
            [
             1,
             "#f0f921"
            ]
           ]
          },
          "colorway": [
           "#636efa",
           "#EF553B",
           "#00cc96",
           "#ab63fa",
           "#FFA15A",
           "#19d3f3",
           "#FF6692",
           "#B6E880",
           "#FF97FF",
           "#FECB52"
          ],
          "font": {
           "color": "#2a3f5f"
          },
          "geo": {
           "bgcolor": "white",
           "lakecolor": "white",
           "landcolor": "#E5ECF6",
           "showlakes": true,
           "showland": true,
           "subunitcolor": "white"
          },
          "hoverlabel": {
           "align": "left"
          },
          "hovermode": "closest",
          "mapbox": {
           "style": "light"
          },
          "paper_bgcolor": "white",
          "plot_bgcolor": "#E5ECF6",
          "polar": {
           "angularaxis": {
            "gridcolor": "white",
            "linecolor": "white",
            "ticks": ""
           },
           "bgcolor": "#E5ECF6",
           "radialaxis": {
            "gridcolor": "white",
            "linecolor": "white",
            "ticks": ""
           }
          },
          "scene": {
           "xaxis": {
            "backgroundcolor": "#E5ECF6",
            "gridcolor": "white",
            "gridwidth": 2,
            "linecolor": "white",
            "showbackground": true,
            "ticks": "",
            "zerolinecolor": "white"
           },
           "yaxis": {
            "backgroundcolor": "#E5ECF6",
            "gridcolor": "white",
            "gridwidth": 2,
            "linecolor": "white",
            "showbackground": true,
            "ticks": "",
            "zerolinecolor": "white"
           },
           "zaxis": {
            "backgroundcolor": "#E5ECF6",
            "gridcolor": "white",
            "gridwidth": 2,
            "linecolor": "white",
            "showbackground": true,
            "ticks": "",
            "zerolinecolor": "white"
           }
          },
          "shapedefaults": {
           "line": {
            "color": "#2a3f5f"
           }
          },
          "ternary": {
           "aaxis": {
            "gridcolor": "white",
            "linecolor": "white",
            "ticks": ""
           },
           "baxis": {
            "gridcolor": "white",
            "linecolor": "white",
            "ticks": ""
           },
           "bgcolor": "#E5ECF6",
           "caxis": {
            "gridcolor": "white",
            "linecolor": "white",
            "ticks": ""
           }
          },
          "title": {
           "x": 0.05
          },
          "xaxis": {
           "automargin": true,
           "gridcolor": "white",
           "linecolor": "white",
           "ticks": "",
           "title": {
            "standoff": 15
           },
           "zerolinecolor": "white",
           "zerolinewidth": 2
          },
          "yaxis": {
           "automargin": true,
           "gridcolor": "white",
           "linecolor": "white",
           "ticks": "",
           "title": {
            "standoff": 15
           },
           "zerolinecolor": "white",
           "zerolinewidth": 2
          }
         }
        },
        "xaxis": {
         "anchor": "y",
         "domain": [
          0,
          1
         ],
         "title": {
          "text": "subprefeitura"
         }
        },
        "yaxis": {
         "anchor": "x",
         "domain": [
          0,
          1
         ],
         "title": {
          "text": "count"
         }
        }
       }
      },
      "text/html": [
       "<div>                            <div id=\"c1d30500-3429-4806-bc1e-ae7cfbedfcf5\" class=\"plotly-graph-div\" style=\"height:525px; width:100%;\"></div>            <script type=\"text/javascript\">                require([\"plotly\"], function(Plotly) {                    window.PLOTLYENV=window.PLOTLYENV || {};                                    if (document.getElementById(\"c1d30500-3429-4806-bc1e-ae7cfbedfcf5\")) {                    Plotly.newPlot(                        \"c1d30500-3429-4806-bc1e-ae7cfbedfcf5\",                        [{\"alignmentgroup\":\"True\",\"bingroup\":\"x\",\"hovertemplate\":\"subprefeitura=%{x}<br>count=%{y}<extra></extra>\",\"legendgroup\":\"\",\"marker\":{\"color\":\"#636efa\",\"pattern\":{\"shape\":\"\"}},\"name\":\"\",\"offsetgroup\":\"\",\"orientation\":\"v\",\"showlegend\":false,\"texttemplate\":\"%{value}\",\"x\":[\"Centro\",\"Centro\",\"Centro\",\"Centro\",\"Centro\",\"Centro\",\"Centro\",\"Grande Tijuca\",\"Grande Tijuca\",\"Zona Sul\",\"Zona Sul\",\"Zona Sul\",\"Zona Sul\",\"Zona Sul\",\"Zona Sul\",\"Zona Sul\",\"Zona Sul\",\"Zona Sul\",\"Zona Sul\",\"Zona Sul\",\"Zona Sul\",\"Grande Tijuca\",\"Grande Tijuca\",\"Zona Norte\",\"Zona Norte\",\"Zona Norte\",\"Zona Norte\",\"Zona Norte\",\"Zona Norte\",\"Zona Norte\",\"Zona Norte\",\"Zona Norte\",\"Zona Norte\",\"Zona Norte\",\"Zona Norte\",\"Zona Norte\",\"Zona Norte\",\"Zona Norte\",\"Zona Norte\",\"Zona Norte\",\"Zona Norte\",\"Zona Norte\",\"Zona Norte\",\"Zona Norte\",\"Zona Norte\",\"Zona Norte\",\"Zona Norte\",\"Zona Norte\",\"Barra da Tijuca\",\"Barra da Tijuca\",\"Barra da Tijuca\",\"Jacarepagu\\u00e1\",\"Jacarepagu\\u00e1\",\"Jacarepagu\\u00e1\",\"Jacarepagu\\u00e1\",\"Barra da Tijuca\",\"Barra da Tijuca\",\"Barra da Tijuca\",\"Jacarepagu\\u00e1\",\"Zona Oeste\",\"Zona Oeste\",\"Zona Oeste\",\"Grande Bangu\",\"Zona Oeste\",\"Grande Bangu\",\"Zona Oeste\",\"Grande Bangu\",\"Zona Oeste\",\"Zona Oeste\",\"Zona Oeste\",\"Zona Oeste\",\"Zona Oeste\"],\"xaxis\":\"x\",\"yaxis\":\"y\",\"type\":\"histogram\"}],                        {\"template\":{\"data\":{\"histogram2dcontour\":[{\"type\":\"histogram2dcontour\",\"colorbar\":{\"outlinewidth\":0,\"ticks\":\"\"},\"colorscale\":[[0.0,\"#0d0887\"],[0.1111111111111111,\"#46039f\"],[0.2222222222222222,\"#7201a8\"],[0.3333333333333333,\"#9c179e\"],[0.4444444444444444,\"#bd3786\"],[0.5555555555555556,\"#d8576b\"],[0.6666666666666666,\"#ed7953\"],[0.7777777777777778,\"#fb9f3a\"],[0.8888888888888888,\"#fdca26\"],[1.0,\"#f0f921\"]]}],\"choropleth\":[{\"type\":\"choropleth\",\"colorbar\":{\"outlinewidth\":0,\"ticks\":\"\"}}],\"histogram2d\":[{\"type\":\"histogram2d\",\"colorbar\":{\"outlinewidth\":0,\"ticks\":\"\"},\"colorscale\":[[0.0,\"#0d0887\"],[0.1111111111111111,\"#46039f\"],[0.2222222222222222,\"#7201a8\"],[0.3333333333333333,\"#9c179e\"],[0.4444444444444444,\"#bd3786\"],[0.5555555555555556,\"#d8576b\"],[0.6666666666666666,\"#ed7953\"],[0.7777777777777778,\"#fb9f3a\"],[0.8888888888888888,\"#fdca26\"],[1.0,\"#f0f921\"]]}],\"heatmap\":[{\"type\":\"heatmap\",\"colorbar\":{\"outlinewidth\":0,\"ticks\":\"\"},\"colorscale\":[[0.0,\"#0d0887\"],[0.1111111111111111,\"#46039f\"],[0.2222222222222222,\"#7201a8\"],[0.3333333333333333,\"#9c179e\"],[0.4444444444444444,\"#bd3786\"],[0.5555555555555556,\"#d8576b\"],[0.6666666666666666,\"#ed7953\"],[0.7777777777777778,\"#fb9f3a\"],[0.8888888888888888,\"#fdca26\"],[1.0,\"#f0f921\"]]}],\"heatmapgl\":[{\"type\":\"heatmapgl\",\"colorbar\":{\"outlinewidth\":0,\"ticks\":\"\"},\"colorscale\":[[0.0,\"#0d0887\"],[0.1111111111111111,\"#46039f\"],[0.2222222222222222,\"#7201a8\"],[0.3333333333333333,\"#9c179e\"],[0.4444444444444444,\"#bd3786\"],[0.5555555555555556,\"#d8576b\"],[0.6666666666666666,\"#ed7953\"],[0.7777777777777778,\"#fb9f3a\"],[0.8888888888888888,\"#fdca26\"],[1.0,\"#f0f921\"]]}],\"contourcarpet\":[{\"type\":\"contourcarpet\",\"colorbar\":{\"outlinewidth\":0,\"ticks\":\"\"}}],\"contour\":[{\"type\":\"contour\",\"colorbar\":{\"outlinewidth\":0,\"ticks\":\"\"},\"colorscale\":[[0.0,\"#0d0887\"],[0.1111111111111111,\"#46039f\"],[0.2222222222222222,\"#7201a8\"],[0.3333333333333333,\"#9c179e\"],[0.4444444444444444,\"#bd3786\"],[0.5555555555555556,\"#d8576b\"],[0.6666666666666666,\"#ed7953\"],[0.7777777777777778,\"#fb9f3a\"],[0.8888888888888888,\"#fdca26\"],[1.0,\"#f0f921\"]]}],\"surface\":[{\"type\":\"surface\",\"colorbar\":{\"outlinewidth\":0,\"ticks\":\"\"},\"colorscale\":[[0.0,\"#0d0887\"],[0.1111111111111111,\"#46039f\"],[0.2222222222222222,\"#7201a8\"],[0.3333333333333333,\"#9c179e\"],[0.4444444444444444,\"#bd3786\"],[0.5555555555555556,\"#d8576b\"],[0.6666666666666666,\"#ed7953\"],[0.7777777777777778,\"#fb9f3a\"],[0.8888888888888888,\"#fdca26\"],[1.0,\"#f0f921\"]]}],\"mesh3d\":[{\"type\":\"mesh3d\",\"colorbar\":{\"outlinewidth\":0,\"ticks\":\"\"}}],\"scatter\":[{\"fillpattern\":{\"fillmode\":\"overlay\",\"size\":10,\"solidity\":0.2},\"type\":\"scatter\"}],\"parcoords\":[{\"type\":\"parcoords\",\"line\":{\"colorbar\":{\"outlinewidth\":0,\"ticks\":\"\"}}}],\"scatterpolargl\":[{\"type\":\"scatterpolargl\",\"marker\":{\"colorbar\":{\"outlinewidth\":0,\"ticks\":\"\"}}}],\"bar\":[{\"error_x\":{\"color\":\"#2a3f5f\"},\"error_y\":{\"color\":\"#2a3f5f\"},\"marker\":{\"line\":{\"color\":\"#E5ECF6\",\"width\":0.5},\"pattern\":{\"fillmode\":\"overlay\",\"size\":10,\"solidity\":0.2}},\"type\":\"bar\"}],\"scattergeo\":[{\"type\":\"scattergeo\",\"marker\":{\"colorbar\":{\"outlinewidth\":0,\"ticks\":\"\"}}}],\"scatterpolar\":[{\"type\":\"scatterpolar\",\"marker\":{\"colorbar\":{\"outlinewidth\":0,\"ticks\":\"\"}}}],\"histogram\":[{\"marker\":{\"pattern\":{\"fillmode\":\"overlay\",\"size\":10,\"solidity\":0.2}},\"type\":\"histogram\"}],\"scattergl\":[{\"type\":\"scattergl\",\"marker\":{\"colorbar\":{\"outlinewidth\":0,\"ticks\":\"\"}}}],\"scatter3d\":[{\"type\":\"scatter3d\",\"line\":{\"colorbar\":{\"outlinewidth\":0,\"ticks\":\"\"}},\"marker\":{\"colorbar\":{\"outlinewidth\":0,\"ticks\":\"\"}}}],\"scattermapbox\":[{\"type\":\"scattermapbox\",\"marker\":{\"colorbar\":{\"outlinewidth\":0,\"ticks\":\"\"}}}],\"scatterternary\":[{\"type\":\"scatterternary\",\"marker\":{\"colorbar\":{\"outlinewidth\":0,\"ticks\":\"\"}}}],\"scattercarpet\":[{\"type\":\"scattercarpet\",\"marker\":{\"colorbar\":{\"outlinewidth\":0,\"ticks\":\"\"}}}],\"carpet\":[{\"aaxis\":{\"endlinecolor\":\"#2a3f5f\",\"gridcolor\":\"white\",\"linecolor\":\"white\",\"minorgridcolor\":\"white\",\"startlinecolor\":\"#2a3f5f\"},\"baxis\":{\"endlinecolor\":\"#2a3f5f\",\"gridcolor\":\"white\",\"linecolor\":\"white\",\"minorgridcolor\":\"white\",\"startlinecolor\":\"#2a3f5f\"},\"type\":\"carpet\"}],\"table\":[{\"cells\":{\"fill\":{\"color\":\"#EBF0F8\"},\"line\":{\"color\":\"white\"}},\"header\":{\"fill\":{\"color\":\"#C8D4E3\"},\"line\":{\"color\":\"white\"}},\"type\":\"table\"}],\"barpolar\":[{\"marker\":{\"line\":{\"color\":\"#E5ECF6\",\"width\":0.5},\"pattern\":{\"fillmode\":\"overlay\",\"size\":10,\"solidity\":0.2}},\"type\":\"barpolar\"}],\"pie\":[{\"automargin\":true,\"type\":\"pie\"}]},\"layout\":{\"autotypenumbers\":\"strict\",\"colorway\":[\"#636efa\",\"#EF553B\",\"#00cc96\",\"#ab63fa\",\"#FFA15A\",\"#19d3f3\",\"#FF6692\",\"#B6E880\",\"#FF97FF\",\"#FECB52\"],\"font\":{\"color\":\"#2a3f5f\"},\"hovermode\":\"closest\",\"hoverlabel\":{\"align\":\"left\"},\"paper_bgcolor\":\"white\",\"plot_bgcolor\":\"#E5ECF6\",\"polar\":{\"bgcolor\":\"#E5ECF6\",\"angularaxis\":{\"gridcolor\":\"white\",\"linecolor\":\"white\",\"ticks\":\"\"},\"radialaxis\":{\"gridcolor\":\"white\",\"linecolor\":\"white\",\"ticks\":\"\"}},\"ternary\":{\"bgcolor\":\"#E5ECF6\",\"aaxis\":{\"gridcolor\":\"white\",\"linecolor\":\"white\",\"ticks\":\"\"},\"baxis\":{\"gridcolor\":\"white\",\"linecolor\":\"white\",\"ticks\":\"\"},\"caxis\":{\"gridcolor\":\"white\",\"linecolor\":\"white\",\"ticks\":\"\"}},\"coloraxis\":{\"colorbar\":{\"outlinewidth\":0,\"ticks\":\"\"}},\"colorscale\":{\"sequential\":[[0.0,\"#0d0887\"],[0.1111111111111111,\"#46039f\"],[0.2222222222222222,\"#7201a8\"],[0.3333333333333333,\"#9c179e\"],[0.4444444444444444,\"#bd3786\"],[0.5555555555555556,\"#d8576b\"],[0.6666666666666666,\"#ed7953\"],[0.7777777777777778,\"#fb9f3a\"],[0.8888888888888888,\"#fdca26\"],[1.0,\"#f0f921\"]],\"sequentialminus\":[[0.0,\"#0d0887\"],[0.1111111111111111,\"#46039f\"],[0.2222222222222222,\"#7201a8\"],[0.3333333333333333,\"#9c179e\"],[0.4444444444444444,\"#bd3786\"],[0.5555555555555556,\"#d8576b\"],[0.6666666666666666,\"#ed7953\"],[0.7777777777777778,\"#fb9f3a\"],[0.8888888888888888,\"#fdca26\"],[1.0,\"#f0f921\"]],\"diverging\":[[0,\"#8e0152\"],[0.1,\"#c51b7d\"],[0.2,\"#de77ae\"],[0.3,\"#f1b6da\"],[0.4,\"#fde0ef\"],[0.5,\"#f7f7f7\"],[0.6,\"#e6f5d0\"],[0.7,\"#b8e186\"],[0.8,\"#7fbc41\"],[0.9,\"#4d9221\"],[1,\"#276419\"]]},\"xaxis\":{\"gridcolor\":\"white\",\"linecolor\":\"white\",\"ticks\":\"\",\"title\":{\"standoff\":15},\"zerolinecolor\":\"white\",\"automargin\":true,\"zerolinewidth\":2},\"yaxis\":{\"gridcolor\":\"white\",\"linecolor\":\"white\",\"ticks\":\"\",\"title\":{\"standoff\":15},\"zerolinecolor\":\"white\",\"automargin\":true,\"zerolinewidth\":2},\"scene\":{\"xaxis\":{\"backgroundcolor\":\"#E5ECF6\",\"gridcolor\":\"white\",\"linecolor\":\"white\",\"showbackground\":true,\"ticks\":\"\",\"zerolinecolor\":\"white\",\"gridwidth\":2},\"yaxis\":{\"backgroundcolor\":\"#E5ECF6\",\"gridcolor\":\"white\",\"linecolor\":\"white\",\"showbackground\":true,\"ticks\":\"\",\"zerolinecolor\":\"white\",\"gridwidth\":2},\"zaxis\":{\"backgroundcolor\":\"#E5ECF6\",\"gridcolor\":\"white\",\"linecolor\":\"white\",\"showbackground\":true,\"ticks\":\"\",\"zerolinecolor\":\"white\",\"gridwidth\":2}},\"shapedefaults\":{\"line\":{\"color\":\"#2a3f5f\"}},\"annotationdefaults\":{\"arrowcolor\":\"#2a3f5f\",\"arrowhead\":0,\"arrowwidth\":1},\"geo\":{\"bgcolor\":\"white\",\"landcolor\":\"#E5ECF6\",\"subunitcolor\":\"white\",\"showland\":true,\"showlakes\":true,\"lakecolor\":\"white\"},\"title\":{\"x\":0.05},\"mapbox\":{\"style\":\"light\"}}},\"xaxis\":{\"anchor\":\"y\",\"domain\":[0.0,1.0],\"title\":{\"text\":\"subprefeitura\"}},\"yaxis\":{\"anchor\":\"x\",\"domain\":[0.0,1.0],\"title\":{\"text\":\"count\"}},\"legend\":{\"tracegroupgap\":0},\"margin\":{\"t\":60},\"barmode\":\"group\",\"bargap\":0.2},                        {\"responsive\": true}                    ).then(function(){\n",
       "                            \n",
       "var gd = document.getElementById('c1d30500-3429-4806-bc1e-ae7cfbedfcf5');\n",
       "var x = new MutationObserver(function (mutations, observer) {{\n",
       "        var display = window.getComputedStyle(gd).display;\n",
       "        if (!display || display === 'none') {{\n",
       "            console.log([gd, 'removed!']);\n",
       "            Plotly.purge(gd);\n",
       "            observer.disconnect();\n",
       "        }}\n",
       "}});\n",
       "\n",
       "// Listen for the removal of the full notebook cells\n",
       "var notebookContainer = gd.closest('#notebook-container');\n",
       "if (notebookContainer) {{\n",
       "    x.observe(notebookContainer, {childList: true});\n",
       "}}\n",
       "\n",
       "// Listen for the clearing of the current output cell\n",
       "var outputEl = gd.closest('.output');\n",
       "if (outputEl) {{\n",
       "    x.observe(outputEl, {childList: true});\n",
       "}}\n",
       "\n",
       "                        })                };                });            </script>        </div>"
      ]
     },
     "metadata": {},
     "output_type": "display_data"
    }
   ],
   "source": [
    "fig = px.histogram(df, x=\"subprefeitura\", barmode='group', text_auto= True)\n",
    "fig.update_layout(bargap=0.2)\n",
    "fig.show()"
   ]
  },
  {
   "cell_type": "markdown",
   "metadata": {},
   "source": [
    "### 5) Existe algum chamado aberto nesse dia que não foi associado a um bairro ou subprefeitura na tabela de bairros? Se sim, por que isso acontece?\n",
    "- como se tratava de um problema de ar condicionado em um onibus, acredito que localização exata em si não ficou registrada"
   ]
  },
  {
   "cell_type": "code",
   "execution_count": 11,
   "metadata": {},
   "outputs": [
    {
     "data": {
      "text/html": [
       "<div>\n",
       "<style scoped>\n",
       "    .dataframe tbody tr th:only-of-type {\n",
       "        vertical-align: middle;\n",
       "    }\n",
       "\n",
       "    .dataframe tbody tr th {\n",
       "        vertical-align: top;\n",
       "    }\n",
       "\n",
       "    .dataframe thead th {\n",
       "        text-align: right;\n",
       "    }\n",
       "</style>\n",
       "<table border=\"1\" class=\"dataframe\">\n",
       "  <thead>\n",
       "    <tr style=\"text-align: right;\">\n",
       "      <th></th>\n",
       "      <th>id_chamado</th>\n",
       "      <th>data_inicio</th>\n",
       "      <th>situacao</th>\n",
       "      <th>id_bairro</th>\n",
       "      <th>tipo</th>\n",
       "      <th>subtipo</th>\n",
       "      <th>bairro</th>\n",
       "      <th>subprefeitura</th>\n",
       "      <th>latitude</th>\n",
       "      <th>longitude</th>\n",
       "    </tr>\n",
       "  </thead>\n",
       "  <tbody>\n",
       "    <tr>\n",
       "      <th>0</th>\n",
       "      <td>18516246</td>\n",
       "      <td>2023-04-01 00:55:38</td>\n",
       "      <td>Encerrado</td>\n",
       "      <td>None</td>\n",
       "      <td>Ônibus</td>\n",
       "      <td>Verificação de ar condicionado inoperante no ô...</td>\n",
       "      <td>None</td>\n",
       "      <td>None</td>\n",
       "      <td>NaN</td>\n",
       "      <td>NaN</td>\n",
       "    </tr>\n",
       "  </tbody>\n",
       "</table>\n",
       "</div>"
      ],
      "text/plain": [
       "  id_chamado         data_inicio   situacao id_bairro    tipo  \\\n",
       "0   18516246 2023-04-01 00:55:38  Encerrado      None  Ônibus   \n",
       "\n",
       "                                             subtipo bairro subprefeitura  \\\n",
       "0  Verificação de ar condicionado inoperante no ô...   None          None   \n",
       "\n",
       "   latitude  longitude  \n",
       "0       NaN        NaN  "
      ]
     },
     "execution_count": 11,
     "metadata": {},
     "output_type": "execute_result"
    }
   ],
   "source": [
    "df[df['id_bairro'].isna()]"
   ]
  },
  {
   "cell_type": "markdown",
   "metadata": {},
   "source": [
    "### (EXTRA) Distribuição dos pontos de Chamada no dia 01/04/2023"
   ]
  },
  {
   "cell_type": "code",
   "execution_count": 22,
   "metadata": {},
   "outputs": [],
   "source": [
    "mapa = folium.Map(location=[-22.9028, -43.2078],zoom_start=12.4)"
   ]
  },
  {
   "cell_type": "code",
   "execution_count": 23,
   "metadata": {},
   "outputs": [],
   "source": [
    "# Estações iniciais \n",
    "\n",
    "df_lat_long_start = df[['latitude', 'longitude']].dropna()\n",
    "\n",
    "dataStart = df_lat_long_start.values.tolist()\n",
    " \n",
    "hmStart = HeatMap(dataStart,gradient={0.1: 'blue', 0.3: 'lime', 0.5: 'yellow', 0.7: 'orange', 1: 'red'}, \n",
    "                min_opacity=0.05, \n",
    "                max_opacity=0.9, \n",
    "                radius=25,\n",
    "                use_local_extrema=False).add_to(mapa)"
   ]
  },
  {
   "cell_type": "code",
   "execution_count": 28,
   "metadata": {},
   "outputs": [],
   "source": [
    "Bairros = df.groupby(['bairro']).agg({\n",
    "    'tipo' :'first',\n",
    "    'bairro':'first',\n",
    "    'latitude':'first', \n",
    "    'longitude':'first',\n",
    "    'subtipo':'count'\n",
    "    }).sort_values(by='subtipo',ascending=False)"
   ]
  },
  {
   "cell_type": "code",
   "execution_count": 32,
   "metadata": {},
   "outputs": [
    {
     "data": {
      "text/html": [
       "<div style=\"width:100%;\"><div style=\"position:relative;width:100%;height:0;padding-bottom:60%;\"><span style=\"color:#565656\">Make this Notebook Trusted to load map: File -> Trust Notebook</span><iframe srcdoc=\"&lt;!DOCTYPE html&gt;\n",
       "&lt;html&gt;\n",
       "&lt;head&gt;\n",
       "    \n",
       "    &lt;meta http-equiv=&quot;content-type&quot; content=&quot;text/html; charset=UTF-8&quot; /&gt;\n",
       "    \n",
       "        &lt;script&gt;\n",
       "            L_NO_TOUCH = false;\n",
       "            L_DISABLE_3D = false;\n",
       "        &lt;/script&gt;\n",
       "    \n",
       "    &lt;style&gt;html, body {width: 100%;height: 100%;margin: 0;padding: 0;}&lt;/style&gt;\n",
       "    &lt;style&gt;#map {position:absolute;top:0;bottom:0;right:0;left:0;}&lt;/style&gt;\n",
       "    &lt;script src=&quot;https://cdn.jsdelivr.net/npm/leaflet@1.9.3/dist/leaflet.js&quot;&gt;&lt;/script&gt;\n",
       "    &lt;script src=&quot;https://code.jquery.com/jquery-1.12.4.min.js&quot;&gt;&lt;/script&gt;\n",
       "    &lt;script src=&quot;https://cdn.jsdelivr.net/npm/bootstrap@5.2.2/dist/js/bootstrap.bundle.min.js&quot;&gt;&lt;/script&gt;\n",
       "    &lt;script src=&quot;https://cdnjs.cloudflare.com/ajax/libs/Leaflet.awesome-markers/2.0.2/leaflet.awesome-markers.js&quot;&gt;&lt;/script&gt;\n",
       "    &lt;link rel=&quot;stylesheet&quot; href=&quot;https://cdn.jsdelivr.net/npm/leaflet@1.9.3/dist/leaflet.css&quot;/&gt;\n",
       "    &lt;link rel=&quot;stylesheet&quot; href=&quot;https://cdn.jsdelivr.net/npm/bootstrap@5.2.2/dist/css/bootstrap.min.css&quot;/&gt;\n",
       "    &lt;link rel=&quot;stylesheet&quot; href=&quot;https://netdna.bootstrapcdn.com/bootstrap/3.0.0/css/bootstrap.min.css&quot;/&gt;\n",
       "    &lt;link rel=&quot;stylesheet&quot; href=&quot;https://cdn.jsdelivr.net/npm/@fortawesome/fontawesome-free@6.2.0/css/all.min.css&quot;/&gt;\n",
       "    &lt;link rel=&quot;stylesheet&quot; href=&quot;https://cdnjs.cloudflare.com/ajax/libs/Leaflet.awesome-markers/2.0.2/leaflet.awesome-markers.css&quot;/&gt;\n",
       "    &lt;link rel=&quot;stylesheet&quot; href=&quot;https://cdn.jsdelivr.net/gh/python-visualization/folium/folium/templates/leaflet.awesome.rotate.min.css&quot;/&gt;\n",
       "    \n",
       "            &lt;meta name=&quot;viewport&quot; content=&quot;width=device-width,\n",
       "                initial-scale=1.0, maximum-scale=1.0, user-scalable=no&quot; /&gt;\n",
       "            &lt;style&gt;\n",
       "                #map_7a0de4b9ec45dc645810d1e0992cc3f9 {\n",
       "                    position: relative;\n",
       "                    width: 100.0%;\n",
       "                    height: 100.0%;\n",
       "                    left: 0.0%;\n",
       "                    top: 0.0%;\n",
       "                }\n",
       "                .leaflet-container { font-size: 1rem; }\n",
       "            &lt;/style&gt;\n",
       "        \n",
       "    &lt;script src=&quot;https://cdn.jsdelivr.net/gh/python-visualization/folium@main/folium/templates/leaflet_heat.min.js&quot;&gt;&lt;/script&gt;\n",
       "&lt;/head&gt;\n",
       "&lt;body&gt;\n",
       "    \n",
       "    \n",
       "            &lt;div class=&quot;folium-map&quot; id=&quot;map_7a0de4b9ec45dc645810d1e0992cc3f9&quot; &gt;&lt;/div&gt;\n",
       "        \n",
       "&lt;/body&gt;\n",
       "&lt;script&gt;\n",
       "    \n",
       "    \n",
       "            var map_7a0de4b9ec45dc645810d1e0992cc3f9 = L.map(\n",
       "                &quot;map_7a0de4b9ec45dc645810d1e0992cc3f9&quot;,\n",
       "                {\n",
       "                    center: [-22.9028, -43.2078],\n",
       "                    crs: L.CRS.EPSG3857,\n",
       "                    zoom: 12.4,\n",
       "                    zoomControl: true,\n",
       "                    preferCanvas: false,\n",
       "                }\n",
       "            );\n",
       "\n",
       "            \n",
       "\n",
       "        \n",
       "    \n",
       "            var tile_layer_24d8fb898eb0ee7cf903a8029ba87a82 = L.tileLayer(\n",
       "                &quot;https://{s}.tile.openstreetmap.org/{z}/{x}/{y}.png&quot;,\n",
       "                {&quot;attribution&quot;: &quot;Data by \\u0026copy; \\u003ca target=\\&quot;_blank\\&quot; href=\\&quot;http://openstreetmap.org\\&quot;\\u003eOpenStreetMap\\u003c/a\\u003e, under \\u003ca target=\\&quot;_blank\\&quot; href=\\&quot;http://www.openstreetmap.org/copyright\\&quot;\\u003eODbL\\u003c/a\\u003e.&quot;, &quot;detectRetina&quot;: false, &quot;maxNativeZoom&quot;: 18, &quot;maxZoom&quot;: 18, &quot;minZoom&quot;: 0, &quot;noWrap&quot;: false, &quot;opacity&quot;: 1, &quot;subdomains&quot;: &quot;abc&quot;, &quot;tms&quot;: false}\n",
       "            ).addTo(map_7a0de4b9ec45dc645810d1e0992cc3f9);\n",
       "        \n",
       "    \n",
       "            var heat_map_9f3aba0b6d04406a00fd0ff93e71a4da = L.heatLayer(\n",
       "                [[-22.921335, -43.186679], [-22.9122295, -43.1882526], [-22.9211226, -43.1872883], [-22.921276, -43.1863882], [-22.916378, -43.177797], [-22.9360903, -43.2370889], [-22.9360785, -43.2382077], [-22.9312377, -43.1759738], [-22.9839446, -43.2273731], [-22.9829683, -43.2223353], [-22.9820428, -43.2227213], [-22.9337607, -43.1799996], [-22.9824076, -43.2254738], [-22.9829683, -43.2223353], [-22.9250817, -43.1781994], [-22.9820428, -43.2227213], [-22.9563607, -43.1817727], [-22.9851666, -43.1988138], [-22.9844968, -43.1946673], [-22.9045871, -43.2882233], [-22.9045871, -43.2882233], [-22.8231775, -43.3196572], [-22.8735091, -43.3178639], [-22.8461518, -43.376672], [-22.848378600000004, -43.3347992], [-22.8432948, -43.3157977], [-22.881842, -43.321864], [-22.9088656, -43.2963876], [-22.9027989, -43.2982032], [-22.9028866, -43.2986105], [-22.8459998, -43.3103707], [-22.838978, -43.400704000000005], [-22.8339043, -43.2759555], [-22.8289747, -43.31917], [-22.8446599, -43.2637481], [-22.9045871, -43.2882233], [-22.9045871, -43.2882233], [-23.0091735, -43.3374538], [-23.0100851, -43.3376669], [-23.0101685, -43.3219], [-22.9746326, -43.3730297], [-22.9243085, -43.3714843], [-22.9173627, -43.3614333], [-22.9311496, -43.3487962], [-22.9786046, -43.3336748], [-23.0118117, -43.30504440000001], [-23.0114735, -43.3039235], [-22.916721400000004, -43.5625661], [-22.862619, -43.455509000000006], [-22.906498300000003, -43.5611465], [-22.8714502, -43.455952], [-22.9167715, -43.56262830000001], [-22.887766199999998, -43.417526699999996], [-22.8796648, -43.563247], [-22.891154, -43.537462]],\n",
       "                {&quot;blur&quot;: 15, &quot;gradient&quot;: {&quot;0.1&quot;: &quot;blue&quot;, &quot;0.3&quot;: &quot;lime&quot;, &quot;0.5&quot;: &quot;yellow&quot;, &quot;0.7&quot;: &quot;orange&quot;, &quot;1&quot;: &quot;red&quot;}, &quot;maxOpacity&quot;: 0.9, &quot;maxZoom&quot;: 18, &quot;minOpacity&quot;: 0.05, &quot;radius&quot;: 25, &quot;useLocalExtrema&quot;: false}\n",
       "            ).addTo(map_7a0de4b9ec45dc645810d1e0992cc3f9);\n",
       "        \n",
       "    \n",
       "            var marker_6c2082003bca68a2b295379694ee80ab = L.marker(\n",
       "                [-22.9045871, -43.2882233],\n",
       "                {}\n",
       "            ).addTo(map_7a0de4b9ec45dc645810d1e0992cc3f9);\n",
       "        \n",
       "    \n",
       "        var popup_c941da8c88fbc38a7786ddf441919598 = L.popup({&quot;maxWidth&quot;: &quot;100%&quot;});\n",
       "\n",
       "        \n",
       "            \n",
       "                var html_3e8f5a6afa323044fa77e61310112b5f = $(`&lt;div id=&quot;html_3e8f5a6afa323044fa77e61310112b5f&quot; style=&quot;width: 100.0%; height: 100.0%;&quot;&gt;[&#x27;Engenho de Dentro &lt;br&gt; &#x27;, &#x27;Postura Municipal &lt;br&gt;&#x27;]&lt;/div&gt;`)[0];\n",
       "                popup_c941da8c88fbc38a7786ddf441919598.setContent(html_3e8f5a6afa323044fa77e61310112b5f);\n",
       "            \n",
       "        \n",
       "\n",
       "        marker_6c2082003bca68a2b295379694ee80ab.bindPopup(popup_c941da8c88fbc38a7786ddf441919598)\n",
       "        ;\n",
       "\n",
       "        \n",
       "    \n",
       "    \n",
       "            var marker_00d4e18458992efa890a257c87c4c06f = L.marker(\n",
       "                [-22.916721400000004, -43.5625661],\n",
       "                {}\n",
       "            ).addTo(map_7a0de4b9ec45dc645810d1e0992cc3f9);\n",
       "        \n",
       "    \n",
       "        var popup_3063531a95b544bef987404bd6e356de = L.popup({&quot;maxWidth&quot;: &quot;100%&quot;});\n",
       "\n",
       "        \n",
       "            \n",
       "                var html_d0c1b01bc81279f07004f95a8ad25d78 = $(`&lt;div id=&quot;html_d0c1b01bc81279f07004f95a8ad25d78&quot; style=&quot;width: 100.0%; height: 100.0%;&quot;&gt;[&#x27;Campo Grande &lt;br&gt; &#x27;, &#x27;Estacionamento Irregular &lt;br&gt;&#x27;]&lt;/div&gt;`)[0];\n",
       "                popup_3063531a95b544bef987404bd6e356de.setContent(html_d0c1b01bc81279f07004f95a8ad25d78);\n",
       "            \n",
       "        \n",
       "\n",
       "        marker_00d4e18458992efa890a257c87c4c06f.bindPopup(popup_3063531a95b544bef987404bd6e356de)\n",
       "        ;\n",
       "\n",
       "        \n",
       "    \n",
       "    \n",
       "            var marker_773eb7cbfb36697eb93a118090ca5869 = L.marker(\n",
       "                [-22.9839446, -43.2273731],\n",
       "                {}\n",
       "            ).addTo(map_7a0de4b9ec45dc645810d1e0992cc3f9);\n",
       "        \n",
       "    \n",
       "        var popup_857a60006c1c3ee22c4e09243dd67d75 = L.popup({&quot;maxWidth&quot;: &quot;100%&quot;});\n",
       "\n",
       "        \n",
       "            \n",
       "                var html_6d4e882d87807226ca8c5a0ef4c302eb = $(`&lt;div id=&quot;html_6d4e882d87807226ca8c5a0ef4c302eb&quot; style=&quot;width: 100.0%; height: 100.0%;&quot;&gt;[&#x27;Leblon &lt;br&gt; &#x27;, &#x27;Estacionamento Irregular &lt;br&gt;&#x27;]&lt;/div&gt;`)[0];\n",
       "                popup_857a60006c1c3ee22c4e09243dd67d75.setContent(html_6d4e882d87807226ca8c5a0ef4c302eb);\n",
       "            \n",
       "        \n",
       "\n",
       "        marker_773eb7cbfb36697eb93a118090ca5869.bindPopup(popup_857a60006c1c3ee22c4e09243dd67d75)\n",
       "        ;\n",
       "\n",
       "        \n",
       "    \n",
       "    \n",
       "            var marker_2f0488333810363aa336b49c82e7f7a7 = L.marker(\n",
       "                [-23.0091735, -43.3374538],\n",
       "                {}\n",
       "            ).addTo(map_7a0de4b9ec45dc645810d1e0992cc3f9);\n",
       "        \n",
       "    \n",
       "        var popup_47934ab3c9c950f7e5b0e8eb55420015 = L.popup({&quot;maxWidth&quot;: &quot;100%&quot;});\n",
       "\n",
       "        \n",
       "            \n",
       "                var html_5f2ee3f7e363f49fbe15bf27477665e6 = $(`&lt;div id=&quot;html_5f2ee3f7e363f49fbe15bf27477665e6&quot; style=&quot;width: 100.0%; height: 100.0%;&quot;&gt;[&#x27;Barra da Tijuca &lt;br&gt; &#x27;, &#x27;Estacionamento Irregular &lt;br&gt;&#x27;]&lt;/div&gt;`)[0];\n",
       "                popup_47934ab3c9c950f7e5b0e8eb55420015.setContent(html_5f2ee3f7e363f49fbe15bf27477665e6);\n",
       "            \n",
       "        \n",
       "\n",
       "        marker_2f0488333810363aa336b49c82e7f7a7.bindPopup(popup_47934ab3c9c950f7e5b0e8eb55420015)\n",
       "        ;\n",
       "\n",
       "        \n",
       "    \n",
       "    \n",
       "            var marker_295476a1b113149f91bf17fb3cf29ec6 = L.marker(\n",
       "                [-22.9360903, -43.2370889],\n",
       "                {}\n",
       "            ).addTo(map_7a0de4b9ec45dc645810d1e0992cc3f9);\n",
       "        \n",
       "    \n",
       "        var popup_816247f2d4247c4fdd8a3c55af0726a0 = L.popup({&quot;maxWidth&quot;: &quot;100%&quot;});\n",
       "\n",
       "        \n",
       "            \n",
       "                var html_3ff88bc9b1bd47b7773f5cc822e7a713 = $(`&lt;div id=&quot;html_3ff88bc9b1bd47b7773f5cc822e7a713&quot; style=&quot;width: 100.0%; height: 100.0%;&quot;&gt;[&#x27;Tijuca &lt;br&gt; &#x27;, &#x27;Iluminação Pública &lt;br&gt;&#x27;]&lt;/div&gt;`)[0];\n",
       "                popup_816247f2d4247c4fdd8a3c55af0726a0.setContent(html_3ff88bc9b1bd47b7773f5cc822e7a713);\n",
       "            \n",
       "        \n",
       "\n",
       "        marker_295476a1b113149f91bf17fb3cf29ec6.bindPopup(popup_816247f2d4247c4fdd8a3c55af0726a0)\n",
       "        ;\n",
       "\n",
       "        \n",
       "    \n",
       "    \n",
       "            var marker_30ea031aa94bdd56504b4d6530677f98 = L.marker(\n",
       "                [-22.921335, -43.186679],\n",
       "                {}\n",
       "            ).addTo(map_7a0de4b9ec45dc645810d1e0992cc3f9);\n",
       "        \n",
       "    \n",
       "        var popup_61c6986e96dd6a2df8fea2041ba31580 = L.popup({&quot;maxWidth&quot;: &quot;100%&quot;});\n",
       "\n",
       "        \n",
       "            \n",
       "                var html_29cb113aab96f2eb56bacf9fbd5d7795 = $(`&lt;div id=&quot;html_29cb113aab96f2eb56bacf9fbd5d7795&quot; style=&quot;width: 100.0%; height: 100.0%;&quot;&gt;[&#x27;Santa Teresa &lt;br&gt; &#x27;, &#x27;Comércio ambulante &lt;br&gt;&#x27;]&lt;/div&gt;`)[0];\n",
       "                popup_61c6986e96dd6a2df8fea2041ba31580.setContent(html_29cb113aab96f2eb56bacf9fbd5d7795);\n",
       "            \n",
       "        \n",
       "\n",
       "        marker_30ea031aa94bdd56504b4d6530677f98.bindPopup(popup_61c6986e96dd6a2df8fea2041ba31580)\n",
       "        ;\n",
       "\n",
       "        \n",
       "    \n",
       "    \n",
       "            var marker_34aa3bb8ad2890bd1eaf6efa88a3ef3b = L.marker(\n",
       "                [-22.862619, -43.455509000000006],\n",
       "                {}\n",
       "            ).addTo(map_7a0de4b9ec45dc645810d1e0992cc3f9);\n",
       "        \n",
       "    \n",
       "        var popup_016a3afbabf34a648513a2c53852c613 = L.popup({&quot;maxWidth&quot;: &quot;100%&quot;});\n",
       "\n",
       "        \n",
       "            \n",
       "                var html_9c2db26d4ba862ed3ac26891ea17c94d = $(`&lt;div id=&quot;html_9c2db26d4ba862ed3ac26891ea17c94d&quot; style=&quot;width: 100.0%; height: 100.0%;&quot;&gt;[&#x27;Bangu &lt;br&gt; &#x27;, &#x27;Semáforo &lt;br&gt;&#x27;]&lt;/div&gt;`)[0];\n",
       "                popup_016a3afbabf34a648513a2c53852c613.setContent(html_9c2db26d4ba862ed3ac26891ea17c94d);\n",
       "            \n",
       "        \n",
       "\n",
       "        marker_34aa3bb8ad2890bd1eaf6efa88a3ef3b.bindPopup(popup_016a3afbabf34a648513a2c53852c613)\n",
       "        ;\n",
       "\n",
       "        \n",
       "    \n",
       "    \n",
       "            var marker_f5f156f8d1748cbaee1d0901aeaf3292 = L.marker(\n",
       "                [-22.9851666, -43.1988138],\n",
       "                {}\n",
       "            ).addTo(map_7a0de4b9ec45dc645810d1e0992cc3f9);\n",
       "        \n",
       "    \n",
       "        var popup_59620e1b45174c7ba6d19aa587a76adf = L.popup({&quot;maxWidth&quot;: &quot;100%&quot;});\n",
       "\n",
       "        \n",
       "            \n",
       "                var html_aa70e3282c1b803bf37817b999691bad = $(`&lt;div id=&quot;html_aa70e3282c1b803bf37817b999691bad&quot; style=&quot;width: 100.0%; height: 100.0%;&quot;&gt;[&#x27;Ipanema &lt;br&gt; &#x27;, &#x27;Poluição sonora &lt;br&gt;&#x27;]&lt;/div&gt;`)[0];\n",
       "                popup_59620e1b45174c7ba6d19aa587a76adf.setContent(html_aa70e3282c1b803bf37817b999691bad);\n",
       "            \n",
       "        \n",
       "\n",
       "        marker_f5f156f8d1748cbaee1d0901aeaf3292.bindPopup(popup_59620e1b45174c7ba6d19aa587a76adf)\n",
       "        ;\n",
       "\n",
       "        \n",
       "    \n",
       "    \n",
       "            var marker_3f0f5835f57024376cfe62680c0ff207 = L.marker(\n",
       "                [-22.8432948, -43.3157977],\n",
       "                {}\n",
       "            ).addTo(map_7a0de4b9ec45dc645810d1e0992cc3f9);\n",
       "        \n",
       "    \n",
       "        var popup_1aa4bf851ed857985b774643984ec23b = L.popup({&quot;maxWidth&quot;: &quot;100%&quot;});\n",
       "\n",
       "        \n",
       "            \n",
       "                var html_4c33c449a54bef253cc55177c07dd7a1 = $(`&lt;div id=&quot;html_4c33c449a54bef253cc55177c07dd7a1&quot; style=&quot;width: 100.0%; height: 100.0%;&quot;&gt;[&#x27;Vila da Penha &lt;br&gt; &#x27;, &#x27;Remoção Gratuita &lt;br&gt;&#x27;]&lt;/div&gt;`)[0];\n",
       "                popup_1aa4bf851ed857985b774643984ec23b.setContent(html_4c33c449a54bef253cc55177c07dd7a1);\n",
       "            \n",
       "        \n",
       "\n",
       "        marker_3f0f5835f57024376cfe62680c0ff207.bindPopup(popup_1aa4bf851ed857985b774643984ec23b)\n",
       "        ;\n",
       "\n",
       "        \n",
       "    \n",
       "    \n",
       "            var marker_b8c60a5decc973d876b1e378b8b0a9e8 = L.marker(\n",
       "                [-22.9746326, -43.3730297],\n",
       "                {}\n",
       "            ).addTo(map_7a0de4b9ec45dc645810d1e0992cc3f9);\n",
       "        \n",
       "    \n",
       "        var popup_a82c3fc92d324ed4ae9fcfcb2340694d = L.popup({&quot;maxWidth&quot;: &quot;100%&quot;});\n",
       "\n",
       "        \n",
       "            \n",
       "                var html_8540fef182b60e1853327f06dc3b9e28 = $(`&lt;div id=&quot;html_8540fef182b60e1853327f06dc3b9e28&quot; style=&quot;width: 100.0%; height: 100.0%;&quot;&gt;[&#x27;Jacarepaguá &lt;br&gt; &#x27;, &#x27;Iluminação Pública &lt;br&gt;&#x27;]&lt;/div&gt;`)[0];\n",
       "                popup_a82c3fc92d324ed4ae9fcfcb2340694d.setContent(html_8540fef182b60e1853327f06dc3b9e28);\n",
       "            \n",
       "        \n",
       "\n",
       "        marker_b8c60a5decc973d876b1e378b8b0a9e8.bindPopup(popup_a82c3fc92d324ed4ae9fcfcb2340694d)\n",
       "        ;\n",
       "\n",
       "        \n",
       "    \n",
       "    \n",
       "            var marker_78d22ba2717c5850dfbc30b74824fe48 = L.marker(\n",
       "                [-22.8231775, -43.3196572],\n",
       "                {}\n",
       "            ).addTo(map_7a0de4b9ec45dc645810d1e0992cc3f9);\n",
       "        \n",
       "    \n",
       "        var popup_203eab160139b518b2f09c8e45690205 = L.popup({&quot;maxWidth&quot;: &quot;100%&quot;});\n",
       "\n",
       "        \n",
       "            \n",
       "                var html_ff7c590f679b16566e21e86c047c2c54 = $(`&lt;div id=&quot;html_ff7c590f679b16566e21e86c047c2c54&quot; style=&quot;width: 100.0%; height: 100.0%;&quot;&gt;[&#x27;Irajá &lt;br&gt; &#x27;, &#x27;Iluminação Pública &lt;br&gt;&#x27;]&lt;/div&gt;`)[0];\n",
       "                popup_203eab160139b518b2f09c8e45690205.setContent(html_ff7c590f679b16566e21e86c047c2c54);\n",
       "            \n",
       "        \n",
       "\n",
       "        marker_78d22ba2717c5850dfbc30b74824fe48.bindPopup(popup_203eab160139b518b2f09c8e45690205)\n",
       "        ;\n",
       "\n",
       "        \n",
       "    \n",
       "    \n",
       "            var marker_9050669a508de22a8918638197e2a981 = L.marker(\n",
       "                [-22.916378, -43.177797],\n",
       "                {}\n",
       "            ).addTo(map_7a0de4b9ec45dc645810d1e0992cc3f9);\n",
       "        \n",
       "    \n",
       "        var popup_d7bfa36f9ee7ac73b3fe54f4802aa510 = L.popup({&quot;maxWidth&quot;: &quot;100%&quot;});\n",
       "\n",
       "        \n",
       "            \n",
       "                var html_c12ebd3ed277bb2ad70cad750dd2d3ec = $(`&lt;div id=&quot;html_c12ebd3ed277bb2ad70cad750dd2d3ec&quot; style=&quot;width: 100.0%; height: 100.0%;&quot;&gt;[&#x27;Lapa &lt;br&gt; &#x27;, &#x27;Poluição sonora &lt;br&gt;&#x27;]&lt;/div&gt;`)[0];\n",
       "                popup_d7bfa36f9ee7ac73b3fe54f4802aa510.setContent(html_c12ebd3ed277bb2ad70cad750dd2d3ec);\n",
       "            \n",
       "        \n",
       "\n",
       "        marker_9050669a508de22a8918638197e2a981.bindPopup(popup_d7bfa36f9ee7ac73b3fe54f4802aa510)\n",
       "        ;\n",
       "\n",
       "        \n",
       "    \n",
       "    \n",
       "            var marker_5c3920ccc082a314f14ac9fd872c1eee = L.marker(\n",
       "                [-22.8461518, -43.376672],\n",
       "                {}\n",
       "            ).addTo(map_7a0de4b9ec45dc645810d1e0992cc3f9);\n",
       "        \n",
       "    \n",
       "        var popup_cbe3a7e93ba54717f657e0ddb74b55b4 = L.popup({&quot;maxWidth&quot;: &quot;100%&quot;});\n",
       "\n",
       "        \n",
       "            \n",
       "                var html_8efbc63c1020d2cb26821d83f02d4450 = $(`&lt;div id=&quot;html_8efbc63c1020d2cb26821d83f02d4450&quot; style=&quot;width: 100.0%; height: 100.0%;&quot;&gt;[&#x27;Guadalupe &lt;br&gt; &#x27;, &#x27;Limpeza &lt;br&gt;&#x27;]&lt;/div&gt;`)[0];\n",
       "                popup_cbe3a7e93ba54717f657e0ddb74b55b4.setContent(html_8efbc63c1020d2cb26821d83f02d4450);\n",
       "            \n",
       "        \n",
       "\n",
       "        marker_5c3920ccc082a314f14ac9fd872c1eee.bindPopup(popup_cbe3a7e93ba54717f657e0ddb74b55b4)\n",
       "        ;\n",
       "\n",
       "        \n",
       "    \n",
       "    \n",
       "            var marker_3621ed6dd6ff9438fa5817546004c01a = L.marker(\n",
       "                [-22.9563607, -43.1817727],\n",
       "                {}\n",
       "            ).addTo(map_7a0de4b9ec45dc645810d1e0992cc3f9);\n",
       "        \n",
       "    \n",
       "        var popup_a47b7447d4780d01a20a26fd326345aa = L.popup({&quot;maxWidth&quot;: &quot;100%&quot;});\n",
       "\n",
       "        \n",
       "            \n",
       "                var html_92984afadf32df62b5d58af3d3b5536c = $(`&lt;div id=&quot;html_92984afadf32df62b5d58af3d3b5536c&quot; style=&quot;width: 100.0%; height: 100.0%;&quot;&gt;[&#x27;Botafogo &lt;br&gt; &#x27;, &#x27;Poluição sonora &lt;br&gt;&#x27;]&lt;/div&gt;`)[0];\n",
       "                popup_a47b7447d4780d01a20a26fd326345aa.setContent(html_92984afadf32df62b5d58af3d3b5536c);\n",
       "            \n",
       "        \n",
       "\n",
       "        marker_3621ed6dd6ff9438fa5817546004c01a.bindPopup(popup_a47b7447d4780d01a20a26fd326345aa)\n",
       "        ;\n",
       "\n",
       "        \n",
       "    \n",
       "    \n",
       "            var marker_f7272966406233994e2331afd57c42dc = L.marker(\n",
       "                [-22.881842, -43.321864],\n",
       "                {}\n",
       "            ).addTo(map_7a0de4b9ec45dc645810d1e0992cc3f9);\n",
       "        \n",
       "    \n",
       "        var popup_60774c72edd84f1655dba150b039f860 = L.popup({&quot;maxWidth&quot;: &quot;100%&quot;});\n",
       "\n",
       "        \n",
       "            \n",
       "                var html_807fa008a00d1e44f93bbef2d9800fd7 = $(`&lt;div id=&quot;html_807fa008a00d1e44f93bbef2d9800fd7&quot; style=&quot;width: 100.0%; height: 100.0%;&quot;&gt;[&#x27;Cascadura &lt;br&gt; &#x27;, &#x27;Remoção Gratuita &lt;br&gt;&#x27;]&lt;/div&gt;`)[0];\n",
       "                popup_60774c72edd84f1655dba150b039f860.setContent(html_807fa008a00d1e44f93bbef2d9800fd7);\n",
       "            \n",
       "        \n",
       "\n",
       "        marker_f7272966406233994e2331afd57c42dc.bindPopup(popup_60774c72edd84f1655dba150b039f860)\n",
       "        ;\n",
       "\n",
       "        \n",
       "    \n",
       "    \n",
       "            var marker_72ee7ed45305ce0becd54a1e577327a1 = L.marker(\n",
       "                [-22.9243085, -43.3714843],\n",
       "                {}\n",
       "            ).addTo(map_7a0de4b9ec45dc645810d1e0992cc3f9);\n",
       "        \n",
       "    \n",
       "        var popup_328a3cfce18a4cb820dac2869d7af741 = L.popup({&quot;maxWidth&quot;: &quot;100%&quot;});\n",
       "\n",
       "        \n",
       "            \n",
       "                var html_92e6039123ac2e04b9e8c869e77b2d19 = $(`&lt;div id=&quot;html_92e6039123ac2e04b9e8c869e77b2d19&quot; style=&quot;width: 100.0%; height: 100.0%;&quot;&gt;[&#x27;Taquara &lt;br&gt; &#x27;, &#x27;Iluminação Pública &lt;br&gt;&#x27;]&lt;/div&gt;`)[0];\n",
       "                popup_328a3cfce18a4cb820dac2869d7af741.setContent(html_92e6039123ac2e04b9e8c869e77b2d19);\n",
       "            \n",
       "        \n",
       "\n",
       "        marker_72ee7ed45305ce0becd54a1e577327a1.bindPopup(popup_328a3cfce18a4cb820dac2869d7af741)\n",
       "        ;\n",
       "\n",
       "        \n",
       "    \n",
       "    \n",
       "            var marker_5c88b4a2a4fd0f6c4ed40245126bcaea = L.marker(\n",
       "                [-22.9173627, -43.3614333],\n",
       "                {}\n",
       "            ).addTo(map_7a0de4b9ec45dc645810d1e0992cc3f9);\n",
       "        \n",
       "    \n",
       "        var popup_8282068d6ebf0657b107ff55a8ba9be4 = L.popup({&quot;maxWidth&quot;: &quot;100%&quot;});\n",
       "\n",
       "        \n",
       "            \n",
       "                var html_850ac6c3f7e3c9259a7a5341da7b7831 = $(`&lt;div id=&quot;html_850ac6c3f7e3c9259a7a5341da7b7831&quot; style=&quot;width: 100.0%; height: 100.0%;&quot;&gt;[&#x27;Tanque &lt;br&gt; &#x27;, &#x27;Pavimentação &lt;br&gt;&#x27;]&lt;/div&gt;`)[0];\n",
       "                popup_8282068d6ebf0657b107ff55a8ba9be4.setContent(html_850ac6c3f7e3c9259a7a5341da7b7831);\n",
       "            \n",
       "        \n",
       "\n",
       "        marker_5c88b4a2a4fd0f6c4ed40245126bcaea.bindPopup(popup_8282068d6ebf0657b107ff55a8ba9be4)\n",
       "        ;\n",
       "\n",
       "        \n",
       "    \n",
       "    \n",
       "            var marker_704aac9ef208673318ca646eed6c12a2 = L.marker(\n",
       "                [-22.891154, -43.537462],\n",
       "                {}\n",
       "            ).addTo(map_7a0de4b9ec45dc645810d1e0992cc3f9);\n",
       "        \n",
       "    \n",
       "        var popup_4847c71d69750adb2878deaf35b371b8 = L.popup({&quot;maxWidth&quot;: &quot;100%&quot;});\n",
       "\n",
       "        \n",
       "            \n",
       "                var html_f7a4a775bad5a1c67017bcffc43147aa = $(`&lt;div id=&quot;html_f7a4a775bad5a1c67017bcffc43147aa&quot; style=&quot;width: 100.0%; height: 100.0%;&quot;&gt;[&#x27;Senador Vasconcelos &lt;br&gt; &#x27;, &#x27;Poluição sonora &lt;br&gt;&#x27;]&lt;/div&gt;`)[0];\n",
       "                popup_4847c71d69750adb2878deaf35b371b8.setContent(html_f7a4a775bad5a1c67017bcffc43147aa);\n",
       "            \n",
       "        \n",
       "\n",
       "        marker_704aac9ef208673318ca646eed6c12a2.bindPopup(popup_4847c71d69750adb2878deaf35b371b8)\n",
       "        ;\n",
       "\n",
       "        \n",
       "    \n",
       "    \n",
       "            var marker_31196ba1faf7d1846703f035f4fd4358 = L.marker(\n",
       "                [-22.9250817, -43.1781994],\n",
       "                {}\n",
       "            ).addTo(map_7a0de4b9ec45dc645810d1e0992cc3f9);\n",
       "        \n",
       "    \n",
       "        var popup_dcb2f0598871338fb08f4136d85614b2 = L.popup({&quot;maxWidth&quot;: &quot;100%&quot;});\n",
       "\n",
       "        \n",
       "            \n",
       "                var html_b77aa6064d3ca279b9546e2c1252c759 = $(`&lt;div id=&quot;html_b77aa6064d3ca279b9546e2c1252c759&quot; style=&quot;width: 100.0%; height: 100.0%;&quot;&gt;[&#x27;Catete &lt;br&gt; &#x27;, &#x27;Poluição sonora &lt;br&gt;&#x27;]&lt;/div&gt;`)[0];\n",
       "                popup_dcb2f0598871338fb08f4136d85614b2.setContent(html_b77aa6064d3ca279b9546e2c1252c759);\n",
       "            \n",
       "        \n",
       "\n",
       "        marker_31196ba1faf7d1846703f035f4fd4358.bindPopup(popup_dcb2f0598871338fb08f4136d85614b2)\n",
       "        ;\n",
       "\n",
       "        \n",
       "    \n",
       "    \n",
       "            var marker_9a2ef59f74bd21c2ec634dfe310edbe4 = L.marker(\n",
       "                [-22.838978, -43.400704000000005],\n",
       "                {}\n",
       "            ).addTo(map_7a0de4b9ec45dc645810d1e0992cc3f9);\n",
       "        \n",
       "    \n",
       "        var popup_f5fe8f0d73356415752a290b97ed7c93 = L.popup({&quot;maxWidth&quot;: &quot;100%&quot;});\n",
       "\n",
       "        \n",
       "            \n",
       "                var html_7b909dbef8fb8125d834780db0e69f8a = $(`&lt;div id=&quot;html_7b909dbef8fb8125d834780db0e69f8a&quot; style=&quot;width: 100.0%; height: 100.0%;&quot;&gt;[&#x27;Ricardo de Albuquerque &lt;br&gt; &#x27;, &#x27;Poluição sonora &lt;br&gt;&#x27;]&lt;/div&gt;`)[0];\n",
       "                popup_f5fe8f0d73356415752a290b97ed7c93.setContent(html_7b909dbef8fb8125d834780db0e69f8a);\n",
       "            \n",
       "        \n",
       "\n",
       "        marker_9a2ef59f74bd21c2ec634dfe310edbe4.bindPopup(popup_f5fe8f0d73356415752a290b97ed7c93)\n",
       "        ;\n",
       "\n",
       "        \n",
       "    \n",
       "    \n",
       "            var marker_554dc18264aca9a8a26d016afbd8bebf = L.marker(\n",
       "                [-22.887766199999998, -43.417526699999996],\n",
       "                {}\n",
       "            ).addTo(map_7a0de4b9ec45dc645810d1e0992cc3f9);\n",
       "        \n",
       "    \n",
       "        var popup_a41926bf90707623430922df67318cd3 = L.popup({&quot;maxWidth&quot;: &quot;100%&quot;});\n",
       "\n",
       "        \n",
       "            \n",
       "                var html_118c9ec6c84fc8cdfbc10b2a5ae61080 = $(`&lt;div id=&quot;html_118c9ec6c84fc8cdfbc10b2a5ae61080&quot; style=&quot;width: 100.0%; height: 100.0%;&quot;&gt;[&#x27;Realengo &lt;br&gt; &#x27;, &#x27;Limpeza &lt;br&gt;&#x27;]&lt;/div&gt;`)[0];\n",
       "                popup_a41926bf90707623430922df67318cd3.setContent(html_118c9ec6c84fc8cdfbc10b2a5ae61080);\n",
       "            \n",
       "        \n",
       "\n",
       "        marker_554dc18264aca9a8a26d016afbd8bebf.bindPopup(popup_a41926bf90707623430922df67318cd3)\n",
       "        ;\n",
       "\n",
       "        \n",
       "    \n",
       "    \n",
       "            var marker_37fe9faf1b83b9b1505936417d834b5d = L.marker(\n",
       "                [-22.8339043, -43.2759555],\n",
       "                {}\n",
       "            ).addTo(map_7a0de4b9ec45dc645810d1e0992cc3f9);\n",
       "        \n",
       "    \n",
       "        var popup_81a90b56796a7fe89db83d5cab4359bf = L.popup({&quot;maxWidth&quot;: &quot;100%&quot;});\n",
       "\n",
       "        \n",
       "            \n",
       "                var html_af71f5f11bb8da43ad089dc1f120b409 = $(`&lt;div id=&quot;html_af71f5f11bb8da43ad089dc1f120b409&quot; style=&quot;width: 100.0%; height: 100.0%;&quot;&gt;[&#x27;Penha &lt;br&gt; &#x27;, &#x27;Poluição sonora &lt;br&gt;&#x27;]&lt;/div&gt;`)[0];\n",
       "                popup_81a90b56796a7fe89db83d5cab4359bf.setContent(html_af71f5f11bb8da43ad089dc1f120b409);\n",
       "            \n",
       "        \n",
       "\n",
       "        marker_37fe9faf1b83b9b1505936417d834b5d.bindPopup(popup_81a90b56796a7fe89db83d5cab4359bf)\n",
       "        ;\n",
       "\n",
       "        \n",
       "    \n",
       "    \n",
       "            var marker_d90bc449d1ec4a614a63021ae8c26fd6 = L.marker(\n",
       "                [-22.9311496, -43.3487962],\n",
       "                {}\n",
       "            ).addTo(map_7a0de4b9ec45dc645810d1e0992cc3f9);\n",
       "        \n",
       "    \n",
       "        var popup_2b5b8a63f7c9974fe0945ac5d17bd316 = L.popup({&quot;maxWidth&quot;: &quot;100%&quot;});\n",
       "\n",
       "        \n",
       "            \n",
       "                var html_bed5d13b7db4bcc921e7e5a1527b2007 = $(`&lt;div id=&quot;html_bed5d13b7db4bcc921e7e5a1527b2007&quot; style=&quot;width: 100.0%; height: 100.0%;&quot;&gt;[&#x27;Pechincha &lt;br&gt; &#x27;, &#x27;Limpeza &lt;br&gt;&#x27;]&lt;/div&gt;`)[0];\n",
       "                popup_2b5b8a63f7c9974fe0945ac5d17bd316.setContent(html_bed5d13b7db4bcc921e7e5a1527b2007);\n",
       "            \n",
       "        \n",
       "\n",
       "        marker_d90bc449d1ec4a614a63021ae8c26fd6.bindPopup(popup_2b5b8a63f7c9974fe0945ac5d17bd316)\n",
       "        ;\n",
       "\n",
       "        \n",
       "    \n",
       "    \n",
       "            var marker_b0b74a70d49021418d54d6dde09d655d = L.marker(\n",
       "                [-22.8735091, -43.3178639],\n",
       "                {}\n",
       "            ).addTo(map_7a0de4b9ec45dc645810d1e0992cc3f9);\n",
       "        \n",
       "    \n",
       "        var popup_9016abd7f70e012d350e7219ade41c32 = L.popup({&quot;maxWidth&quot;: &quot;100%&quot;});\n",
       "\n",
       "        \n",
       "            \n",
       "                var html_95ae6f12be328790e32b7ee6cc2bec83 = $(`&lt;div id=&quot;html_95ae6f12be328790e32b7ee6cc2bec83&quot; style=&quot;width: 100.0%; height: 100.0%;&quot;&gt;[&#x27;Cavalcanti &lt;br&gt; &#x27;, &#x27;Pavimentação &lt;br&gt;&#x27;]&lt;/div&gt;`)[0];\n",
       "                popup_9016abd7f70e012d350e7219ade41c32.setContent(html_95ae6f12be328790e32b7ee6cc2bec83);\n",
       "            \n",
       "        \n",
       "\n",
       "        marker_b0b74a70d49021418d54d6dde09d655d.bindPopup(popup_9016abd7f70e012d350e7219ade41c32)\n",
       "        ;\n",
       "\n",
       "        \n",
       "    \n",
       "    \n",
       "            var marker_f98ae637b960c1d8a988121a7217a9a4 = L.marker(\n",
       "                [-22.8446599, -43.2637481],\n",
       "                {}\n",
       "            ).addTo(map_7a0de4b9ec45dc645810d1e0992cc3f9);\n",
       "        \n",
       "    \n",
       "        var popup_d310ffc9511a43e464471da0252cb6f4 = L.popup({&quot;maxWidth&quot;: &quot;100%&quot;});\n",
       "\n",
       "        \n",
       "            \n",
       "                var html_21e624c50ab95ac42942cf041e5c937e = $(`&lt;div id=&quot;html_21e624c50ab95ac42942cf041e5c937e&quot; style=&quot;width: 100.0%; height: 100.0%;&quot;&gt;[&#x27;Olaria &lt;br&gt; &#x27;, &#x27;Poluição sonora &lt;br&gt;&#x27;]&lt;/div&gt;`)[0];\n",
       "                popup_d310ffc9511a43e464471da0252cb6f4.setContent(html_21e624c50ab95ac42942cf041e5c937e);\n",
       "            \n",
       "        \n",
       "\n",
       "        marker_f98ae637b960c1d8a988121a7217a9a4.bindPopup(popup_d310ffc9511a43e464471da0252cb6f4)\n",
       "        ;\n",
       "\n",
       "        \n",
       "    \n",
       "    \n",
       "            var marker_bf238244a1b959355eb82c15733c1f8a = L.marker(\n",
       "                [-22.9122295, -43.1882526],\n",
       "                {}\n",
       "            ).addTo(map_7a0de4b9ec45dc645810d1e0992cc3f9);\n",
       "        \n",
       "    \n",
       "        var popup_29b9cf3481a5ef6e0ba455aa6987ea8c = L.popup({&quot;maxWidth&quot;: &quot;100%&quot;});\n",
       "\n",
       "        \n",
       "            \n",
       "                var html_d0dcf20a3669c979005841ff1ac09266 = $(`&lt;div id=&quot;html_d0dcf20a3669c979005841ff1ac09266&quot; style=&quot;width: 100.0%; height: 100.0%;&quot;&gt;[&#x27;Centro &lt;br&gt; &#x27;, &#x27;Feiras &lt;br&gt;&#x27;]&lt;/div&gt;`)[0];\n",
       "                popup_29b9cf3481a5ef6e0ba455aa6987ea8c.setContent(html_d0dcf20a3669c979005841ff1ac09266);\n",
       "            \n",
       "        \n",
       "\n",
       "        marker_bf238244a1b959355eb82c15733c1f8a.bindPopup(popup_29b9cf3481a5ef6e0ba455aa6987ea8c)\n",
       "        ;\n",
       "\n",
       "        \n",
       "    \n",
       "    \n",
       "            var marker_23462a03fd0d2526518a277373ed81ee = L.marker(\n",
       "                [-22.9337607, -43.1799996],\n",
       "                {}\n",
       "            ).addTo(map_7a0de4b9ec45dc645810d1e0992cc3f9);\n",
       "        \n",
       "    \n",
       "        var popup_515a7ee29a138739ca9072f093bdd979 = L.popup({&quot;maxWidth&quot;: &quot;100%&quot;});\n",
       "\n",
       "        \n",
       "            \n",
       "                var html_f8ff7151fbe8faefb1b4e612265e69dd = $(`&lt;div id=&quot;html_f8ff7151fbe8faefb1b4e612265e69dd&quot; style=&quot;width: 100.0%; height: 100.0%;&quot;&gt;[&#x27;Laranjeiras &lt;br&gt; &#x27;, &#x27;Poluição sonora &lt;br&gt;&#x27;]&lt;/div&gt;`)[0];\n",
       "                popup_515a7ee29a138739ca9072f093bdd979.setContent(html_f8ff7151fbe8faefb1b4e612265e69dd);\n",
       "            \n",
       "        \n",
       "\n",
       "        marker_23462a03fd0d2526518a277373ed81ee.bindPopup(popup_515a7ee29a138739ca9072f093bdd979)\n",
       "        ;\n",
       "\n",
       "        \n",
       "    \n",
       "    \n",
       "            var marker_c088cc8b5fe5cb2bf77a19defbd0e165 = L.marker(\n",
       "                [-22.9312377, -43.1759738],\n",
       "                {}\n",
       "            ).addTo(map_7a0de4b9ec45dc645810d1e0992cc3f9);\n",
       "        \n",
       "    \n",
       "        var popup_1454910cd98ba86820190b7f5f544dfe = L.popup({&quot;maxWidth&quot;: &quot;100%&quot;});\n",
       "\n",
       "        \n",
       "            \n",
       "                var html_542ed9f2f719c418f4b2e42f3c2b870e = $(`&lt;div id=&quot;html_542ed9f2f719c418f4b2e42f3c2b870e&quot; style=&quot;width: 100.0%; height: 100.0%;&quot;&gt;[&#x27;Flamengo &lt;br&gt; &#x27;, &#x27;Remoção Gratuita &lt;br&gt;&#x27;]&lt;/div&gt;`)[0];\n",
       "                popup_1454910cd98ba86820190b7f5f544dfe.setContent(html_542ed9f2f719c418f4b2e42f3c2b870e);\n",
       "            \n",
       "        \n",
       "\n",
       "        marker_c088cc8b5fe5cb2bf77a19defbd0e165.bindPopup(popup_1454910cd98ba86820190b7f5f544dfe)\n",
       "        ;\n",
       "\n",
       "        \n",
       "    \n",
       "    \n",
       "            var marker_2ad6a3cc3c03e50a43fa8db58bdcdac7 = L.marker(\n",
       "                [-22.9786046, -43.3336748],\n",
       "                {}\n",
       "            ).addTo(map_7a0de4b9ec45dc645810d1e0992cc3f9);\n",
       "        \n",
       "    \n",
       "        var popup_7b9647fd7d5d494f643bc82daeaf320d = L.popup({&quot;maxWidth&quot;: &quot;100%&quot;});\n",
       "\n",
       "        \n",
       "            \n",
       "                var html_5426765e6c2de8ac55df15ee2aaf9934 = $(`&lt;div id=&quot;html_5426765e6c2de8ac55df15ee2aaf9934&quot; style=&quot;width: 100.0%; height: 100.0%;&quot;&gt;[&#x27;Itanhangá &lt;br&gt; &#x27;, &#x27;Programa Cegonha Carioca &lt;br&gt;&#x27;]&lt;/div&gt;`)[0];\n",
       "                popup_7b9647fd7d5d494f643bc82daeaf320d.setContent(html_5426765e6c2de8ac55df15ee2aaf9934);\n",
       "            \n",
       "        \n",
       "\n",
       "        marker_2ad6a3cc3c03e50a43fa8db58bdcdac7.bindPopup(popup_7b9647fd7d5d494f643bc82daeaf320d)\n",
       "        ;\n",
       "\n",
       "        \n",
       "    \n",
       "    \n",
       "            var marker_83e4a77883398aacabe04f9965d6f2e0 = L.marker(\n",
       "                [-22.8289747, -43.31917],\n",
       "                {}\n",
       "            ).addTo(map_7a0de4b9ec45dc645810d1e0992cc3f9);\n",
       "        \n",
       "    \n",
       "        var popup_dc05d73bf976c114d9fa6d024a43a9f1 = L.popup({&quot;maxWidth&quot;: &quot;100%&quot;});\n",
       "\n",
       "        \n",
       "            \n",
       "                var html_d866caf01aa85c29e331f3b6cb86fcee = $(`&lt;div id=&quot;html_d866caf01aa85c29e331f3b6cb86fcee&quot; style=&quot;width: 100.0%; height: 100.0%;&quot;&gt;[&#x27;Vista Alegre &lt;br&gt; &#x27;, &#x27;Poluição sonora &lt;br&gt;&#x27;]&lt;/div&gt;`)[0];\n",
       "                popup_dc05d73bf976c114d9fa6d024a43a9f1.setContent(html_d866caf01aa85c29e331f3b6cb86fcee);\n",
       "            \n",
       "        \n",
       "\n",
       "        marker_83e4a77883398aacabe04f9965d6f2e0.bindPopup(popup_dc05d73bf976c114d9fa6d024a43a9f1)\n",
       "        ;\n",
       "\n",
       "        \n",
       "    \n",
       "    \n",
       "            var marker_e1a154b8ea69a3df4c3588bdc1345a0e = L.marker(\n",
       "                [-22.9045871, -43.2882233],\n",
       "                {}\n",
       "            ).addTo(map_7a0de4b9ec45dc645810d1e0992cc3f9);\n",
       "        \n",
       "    \n",
       "        var popup_03f87d4f10bfb775dc40b1202388af66 = L.popup({&quot;maxWidth&quot;: &quot;100%&quot;});\n",
       "\n",
       "        \n",
       "            \n",
       "                var html_87e45cea8db67ebe5e39f96f42e0cc66 = $(`&lt;div id=&quot;html_87e45cea8db67ebe5e39f96f42e0cc66&quot; style=&quot;width: 100.0%; height: 100.0%;&quot;&gt;[&#x27;Engenho de Dentro &lt;br&gt; &#x27;, &#x27;8 &lt;br&gt;&#x27;]&lt;/div&gt;`)[0];\n",
       "                popup_03f87d4f10bfb775dc40b1202388af66.setContent(html_87e45cea8db67ebe5e39f96f42e0cc66);\n",
       "            \n",
       "        \n",
       "\n",
       "        marker_e1a154b8ea69a3df4c3588bdc1345a0e.bindPopup(popup_03f87d4f10bfb775dc40b1202388af66)\n",
       "        ;\n",
       "\n",
       "        \n",
       "    \n",
       "    \n",
       "            var marker_5e80b004ee97094433f5a37586d901fd = L.marker(\n",
       "                [-22.916721400000004, -43.5625661],\n",
       "                {}\n",
       "            ).addTo(map_7a0de4b9ec45dc645810d1e0992cc3f9);\n",
       "        \n",
       "    \n",
       "        var popup_eeb7ad75484622dd5f1cffbd4674bdda = L.popup({&quot;maxWidth&quot;: &quot;100%&quot;});\n",
       "\n",
       "        \n",
       "            \n",
       "                var html_7e6d3820c160d5896c21299a624f27d0 = $(`&lt;div id=&quot;html_7e6d3820c160d5896c21299a624f27d0&quot; style=&quot;width: 100.0%; height: 100.0%;&quot;&gt;[&#x27;Campo Grande &lt;br&gt; &#x27;, &#x27;6 &lt;br&gt;&#x27;]&lt;/div&gt;`)[0];\n",
       "                popup_eeb7ad75484622dd5f1cffbd4674bdda.setContent(html_7e6d3820c160d5896c21299a624f27d0);\n",
       "            \n",
       "        \n",
       "\n",
       "        marker_5e80b004ee97094433f5a37586d901fd.bindPopup(popup_eeb7ad75484622dd5f1cffbd4674bdda)\n",
       "        ;\n",
       "\n",
       "        \n",
       "    \n",
       "    \n",
       "            var marker_3508e90d834424163a24ee61535f9901 = L.marker(\n",
       "                [-22.9839446, -43.2273731],\n",
       "                {}\n",
       "            ).addTo(map_7a0de4b9ec45dc645810d1e0992cc3f9);\n",
       "        \n",
       "    \n",
       "        var popup_da35fc41e75a82cd5efdaa4d96c99ca8 = L.popup({&quot;maxWidth&quot;: &quot;100%&quot;});\n",
       "\n",
       "        \n",
       "            \n",
       "                var html_14f33ff9037b17b9af2dc9e933638635 = $(`&lt;div id=&quot;html_14f33ff9037b17b9af2dc9e933638635&quot; style=&quot;width: 100.0%; height: 100.0%;&quot;&gt;[&#x27;Leblon &lt;br&gt; &#x27;, &#x27;6 &lt;br&gt;&#x27;]&lt;/div&gt;`)[0];\n",
       "                popup_da35fc41e75a82cd5efdaa4d96c99ca8.setContent(html_14f33ff9037b17b9af2dc9e933638635);\n",
       "            \n",
       "        \n",
       "\n",
       "        marker_3508e90d834424163a24ee61535f9901.bindPopup(popup_da35fc41e75a82cd5efdaa4d96c99ca8)\n",
       "        ;\n",
       "\n",
       "        \n",
       "    \n",
       "    \n",
       "            var marker_7bbed509c07a2fc6dfcaaca7874e48fc = L.marker(\n",
       "                [-23.0091735, -43.3374538],\n",
       "                {}\n",
       "            ).addTo(map_7a0de4b9ec45dc645810d1e0992cc3f9);\n",
       "        \n",
       "    \n",
       "        var popup_5d8cce8b7ffbfdad5e04a8f0e099792b = L.popup({&quot;maxWidth&quot;: &quot;100%&quot;});\n",
       "\n",
       "        \n",
       "            \n",
       "                var html_bead1a4f11dba12a12b6f317cc8104a1 = $(`&lt;div id=&quot;html_bead1a4f11dba12a12b6f317cc8104a1&quot; style=&quot;width: 100.0%; height: 100.0%;&quot;&gt;[&#x27;Barra da Tijuca &lt;br&gt; &#x27;, &#x27;5 &lt;br&gt;&#x27;]&lt;/div&gt;`)[0];\n",
       "                popup_5d8cce8b7ffbfdad5e04a8f0e099792b.setContent(html_bead1a4f11dba12a12b6f317cc8104a1);\n",
       "            \n",
       "        \n",
       "\n",
       "        marker_7bbed509c07a2fc6dfcaaca7874e48fc.bindPopup(popup_5d8cce8b7ffbfdad5e04a8f0e099792b)\n",
       "        ;\n",
       "\n",
       "        \n",
       "    \n",
       "    \n",
       "            var marker_4401cc661d6b60f67b5bf3916dfa3c03 = L.marker(\n",
       "                [-22.9360903, -43.2370889],\n",
       "                {}\n",
       "            ).addTo(map_7a0de4b9ec45dc645810d1e0992cc3f9);\n",
       "        \n",
       "    \n",
       "        var popup_cfbde07dcaff949eb9f163e5c190a079 = L.popup({&quot;maxWidth&quot;: &quot;100%&quot;});\n",
       "\n",
       "        \n",
       "            \n",
       "                var html_22cf3ac86f5f326cb4fdd01a92429b05 = $(`&lt;div id=&quot;html_22cf3ac86f5f326cb4fdd01a92429b05&quot; style=&quot;width: 100.0%; height: 100.0%;&quot;&gt;[&#x27;Tijuca &lt;br&gt; &#x27;, &#x27;3 &lt;br&gt;&#x27;]&lt;/div&gt;`)[0];\n",
       "                popup_cfbde07dcaff949eb9f163e5c190a079.setContent(html_22cf3ac86f5f326cb4fdd01a92429b05);\n",
       "            \n",
       "        \n",
       "\n",
       "        marker_4401cc661d6b60f67b5bf3916dfa3c03.bindPopup(popup_cfbde07dcaff949eb9f163e5c190a079)\n",
       "        ;\n",
       "\n",
       "        \n",
       "    \n",
       "    \n",
       "            var marker_a4e0d89633a3c4bc83c4f33ba49cd574 = L.marker(\n",
       "                [-22.921335, -43.186679],\n",
       "                {}\n",
       "            ).addTo(map_7a0de4b9ec45dc645810d1e0992cc3f9);\n",
       "        \n",
       "    \n",
       "        var popup_8aebf860a81f4dbf9b0a63f5fc5b8710 = L.popup({&quot;maxWidth&quot;: &quot;100%&quot;});\n",
       "\n",
       "        \n",
       "            \n",
       "                var html_0090d611843ddd2f7f395b80119a6482 = $(`&lt;div id=&quot;html_0090d611843ddd2f7f395b80119a6482&quot; style=&quot;width: 100.0%; height: 100.0%;&quot;&gt;[&#x27;Santa Teresa &lt;br&gt; &#x27;, &#x27;3 &lt;br&gt;&#x27;]&lt;/div&gt;`)[0];\n",
       "                popup_8aebf860a81f4dbf9b0a63f5fc5b8710.setContent(html_0090d611843ddd2f7f395b80119a6482);\n",
       "            \n",
       "        \n",
       "\n",
       "        marker_a4e0d89633a3c4bc83c4f33ba49cd574.bindPopup(popup_8aebf860a81f4dbf9b0a63f5fc5b8710)\n",
       "        ;\n",
       "\n",
       "        \n",
       "    \n",
       "    \n",
       "            var marker_d00258b64a37882593abcefcba3a4c82 = L.marker(\n",
       "                [-22.862619, -43.455509000000006],\n",
       "                {}\n",
       "            ).addTo(map_7a0de4b9ec45dc645810d1e0992cc3f9);\n",
       "        \n",
       "    \n",
       "        var popup_3de70fb4d9e46c7b149487f5edbfa5fe = L.popup({&quot;maxWidth&quot;: &quot;100%&quot;});\n",
       "\n",
       "        \n",
       "            \n",
       "                var html_7bfc81894e3c1687e039d5cab110ce05 = $(`&lt;div id=&quot;html_7bfc81894e3c1687e039d5cab110ce05&quot; style=&quot;width: 100.0%; height: 100.0%;&quot;&gt;[&#x27;Bangu &lt;br&gt; &#x27;, &#x27;2 &lt;br&gt;&#x27;]&lt;/div&gt;`)[0];\n",
       "                popup_3de70fb4d9e46c7b149487f5edbfa5fe.setContent(html_7bfc81894e3c1687e039d5cab110ce05);\n",
       "            \n",
       "        \n",
       "\n",
       "        marker_d00258b64a37882593abcefcba3a4c82.bindPopup(popup_3de70fb4d9e46c7b149487f5edbfa5fe)\n",
       "        ;\n",
       "\n",
       "        \n",
       "    \n",
       "    \n",
       "            var marker_6e6dd0dc5dfb725e3c1bc1702dde7e5e = L.marker(\n",
       "                [-22.9851666, -43.1988138],\n",
       "                {}\n",
       "            ).addTo(map_7a0de4b9ec45dc645810d1e0992cc3f9);\n",
       "        \n",
       "    \n",
       "        var popup_5c36ada778887ca5ae550033c6c2a001 = L.popup({&quot;maxWidth&quot;: &quot;100%&quot;});\n",
       "\n",
       "        \n",
       "            \n",
       "                var html_f54b9b1d94b5bb0a68c2650b2561a61c = $(`&lt;div id=&quot;html_f54b9b1d94b5bb0a68c2650b2561a61c&quot; style=&quot;width: 100.0%; height: 100.0%;&quot;&gt;[&#x27;Ipanema &lt;br&gt; &#x27;, &#x27;2 &lt;br&gt;&#x27;]&lt;/div&gt;`)[0];\n",
       "                popup_5c36ada778887ca5ae550033c6c2a001.setContent(html_f54b9b1d94b5bb0a68c2650b2561a61c);\n",
       "            \n",
       "        \n",
       "\n",
       "        marker_6e6dd0dc5dfb725e3c1bc1702dde7e5e.bindPopup(popup_5c36ada778887ca5ae550033c6c2a001)\n",
       "        ;\n",
       "\n",
       "        \n",
       "    \n",
       "    \n",
       "            var marker_5ab48eec23d0cce8e698b42f65a5f034 = L.marker(\n",
       "                [-22.8432948, -43.3157977],\n",
       "                {}\n",
       "            ).addTo(map_7a0de4b9ec45dc645810d1e0992cc3f9);\n",
       "        \n",
       "    \n",
       "        var popup_afcc51556be0a506f76d4c8fef485940 = L.popup({&quot;maxWidth&quot;: &quot;100%&quot;});\n",
       "\n",
       "        \n",
       "            \n",
       "                var html_e927370c791f5cddd58efae5be0ff90e = $(`&lt;div id=&quot;html_e927370c791f5cddd58efae5be0ff90e&quot; style=&quot;width: 100.0%; height: 100.0%;&quot;&gt;[&#x27;Vila da Penha &lt;br&gt; &#x27;, &#x27;2 &lt;br&gt;&#x27;]&lt;/div&gt;`)[0];\n",
       "                popup_afcc51556be0a506f76d4c8fef485940.setContent(html_e927370c791f5cddd58efae5be0ff90e);\n",
       "            \n",
       "        \n",
       "\n",
       "        marker_5ab48eec23d0cce8e698b42f65a5f034.bindPopup(popup_afcc51556be0a506f76d4c8fef485940)\n",
       "        ;\n",
       "\n",
       "        \n",
       "    \n",
       "    \n",
       "            var marker_b1396998c967fd38be4dc13b2cad8f49 = L.marker(\n",
       "                [-22.9746326, -43.3730297],\n",
       "                {}\n",
       "            ).addTo(map_7a0de4b9ec45dc645810d1e0992cc3f9);\n",
       "        \n",
       "    \n",
       "        var popup_6f8cfb5eaad1831be422b69ccded2668 = L.popup({&quot;maxWidth&quot;: &quot;100%&quot;});\n",
       "\n",
       "        \n",
       "            \n",
       "                var html_79985622d1464f08eb8fc40f83577a24 = $(`&lt;div id=&quot;html_79985622d1464f08eb8fc40f83577a24&quot; style=&quot;width: 100.0%; height: 100.0%;&quot;&gt;[&#x27;Jacarepaguá &lt;br&gt; &#x27;, &#x27;2 &lt;br&gt;&#x27;]&lt;/div&gt;`)[0];\n",
       "                popup_6f8cfb5eaad1831be422b69ccded2668.setContent(html_79985622d1464f08eb8fc40f83577a24);\n",
       "            \n",
       "        \n",
       "\n",
       "        marker_b1396998c967fd38be4dc13b2cad8f49.bindPopup(popup_6f8cfb5eaad1831be422b69ccded2668)\n",
       "        ;\n",
       "\n",
       "        \n",
       "    \n",
       "    \n",
       "            var marker_57a0ed730f8ebf972db83491dd52151d = L.marker(\n",
       "                [-22.8231775, -43.3196572],\n",
       "                {}\n",
       "            ).addTo(map_7a0de4b9ec45dc645810d1e0992cc3f9);\n",
       "        \n",
       "    \n",
       "        var popup_840ebfdebff84bd41a4efd08c9305a3f = L.popup({&quot;maxWidth&quot;: &quot;100%&quot;});\n",
       "\n",
       "        \n",
       "            \n",
       "                var html_255b87acf56c2efeb85c1548b0703dbf = $(`&lt;div id=&quot;html_255b87acf56c2efeb85c1548b0703dbf&quot; style=&quot;width: 100.0%; height: 100.0%;&quot;&gt;[&#x27;Irajá &lt;br&gt; &#x27;, &#x27;2 &lt;br&gt;&#x27;]&lt;/div&gt;`)[0];\n",
       "                popup_840ebfdebff84bd41a4efd08c9305a3f.setContent(html_255b87acf56c2efeb85c1548b0703dbf);\n",
       "            \n",
       "        \n",
       "\n",
       "        marker_57a0ed730f8ebf972db83491dd52151d.bindPopup(popup_840ebfdebff84bd41a4efd08c9305a3f)\n",
       "        ;\n",
       "\n",
       "        \n",
       "    \n",
       "    \n",
       "            var marker_11f561497442b0ac5fdefe443d1da329 = L.marker(\n",
       "                [-22.916378, -43.177797],\n",
       "                {}\n",
       "            ).addTo(map_7a0de4b9ec45dc645810d1e0992cc3f9);\n",
       "        \n",
       "    \n",
       "        var popup_0fb6a2d5ab71d790cb93fcc1adebe6f9 = L.popup({&quot;maxWidth&quot;: &quot;100%&quot;});\n",
       "\n",
       "        \n",
       "            \n",
       "                var html_8940e0dade647416a14a4964030bbf70 = $(`&lt;div id=&quot;html_8940e0dade647416a14a4964030bbf70&quot; style=&quot;width: 100.0%; height: 100.0%;&quot;&gt;[&#x27;Lapa &lt;br&gt; &#x27;, &#x27;2 &lt;br&gt;&#x27;]&lt;/div&gt;`)[0];\n",
       "                popup_0fb6a2d5ab71d790cb93fcc1adebe6f9.setContent(html_8940e0dade647416a14a4964030bbf70);\n",
       "            \n",
       "        \n",
       "\n",
       "        marker_11f561497442b0ac5fdefe443d1da329.bindPopup(popup_0fb6a2d5ab71d790cb93fcc1adebe6f9)\n",
       "        ;\n",
       "\n",
       "        \n",
       "    \n",
       "    \n",
       "            var marker_3e2ac13f05f3d458d1c883ad25ebb64f = L.marker(\n",
       "                [-22.8461518, -43.376672],\n",
       "                {}\n",
       "            ).addTo(map_7a0de4b9ec45dc645810d1e0992cc3f9);\n",
       "        \n",
       "    \n",
       "        var popup_76a42c0e0fee4bb5cc870c751b41e293 = L.popup({&quot;maxWidth&quot;: &quot;100%&quot;});\n",
       "\n",
       "        \n",
       "            \n",
       "                var html_d9f30a73797c0ac58d1f6fb890450e12 = $(`&lt;div id=&quot;html_d9f30a73797c0ac58d1f6fb890450e12&quot; style=&quot;width: 100.0%; height: 100.0%;&quot;&gt;[&#x27;Guadalupe &lt;br&gt; &#x27;, &#x27;1 &lt;br&gt;&#x27;]&lt;/div&gt;`)[0];\n",
       "                popup_76a42c0e0fee4bb5cc870c751b41e293.setContent(html_d9f30a73797c0ac58d1f6fb890450e12);\n",
       "            \n",
       "        \n",
       "\n",
       "        marker_3e2ac13f05f3d458d1c883ad25ebb64f.bindPopup(popup_76a42c0e0fee4bb5cc870c751b41e293)\n",
       "        ;\n",
       "\n",
       "        \n",
       "    \n",
       "    \n",
       "            var marker_f174badb555fa036c74622717e7428fe = L.marker(\n",
       "                [-22.9563607, -43.1817727],\n",
       "                {}\n",
       "            ).addTo(map_7a0de4b9ec45dc645810d1e0992cc3f9);\n",
       "        \n",
       "    \n",
       "        var popup_5a0fe10c0a3bb9520da41249d2b34d2d = L.popup({&quot;maxWidth&quot;: &quot;100%&quot;});\n",
       "\n",
       "        \n",
       "            \n",
       "                var html_57cf2bfe16686be9976f1a943f61235a = $(`&lt;div id=&quot;html_57cf2bfe16686be9976f1a943f61235a&quot; style=&quot;width: 100.0%; height: 100.0%;&quot;&gt;[&#x27;Botafogo &lt;br&gt; &#x27;, &#x27;1 &lt;br&gt;&#x27;]&lt;/div&gt;`)[0];\n",
       "                popup_5a0fe10c0a3bb9520da41249d2b34d2d.setContent(html_57cf2bfe16686be9976f1a943f61235a);\n",
       "            \n",
       "        \n",
       "\n",
       "        marker_f174badb555fa036c74622717e7428fe.bindPopup(popup_5a0fe10c0a3bb9520da41249d2b34d2d)\n",
       "        ;\n",
       "\n",
       "        \n",
       "    \n",
       "    \n",
       "            var marker_c6d6addf29937816fb35a1349a20e7fd = L.marker(\n",
       "                [-22.881842, -43.321864],\n",
       "                {}\n",
       "            ).addTo(map_7a0de4b9ec45dc645810d1e0992cc3f9);\n",
       "        \n",
       "    \n",
       "        var popup_86ffa8d692b652173443b5974df6f0ae = L.popup({&quot;maxWidth&quot;: &quot;100%&quot;});\n",
       "\n",
       "        \n",
       "            \n",
       "                var html_0295e8263a0e230478ed0bb5ea22ed4f = $(`&lt;div id=&quot;html_0295e8263a0e230478ed0bb5ea22ed4f&quot; style=&quot;width: 100.0%; height: 100.0%;&quot;&gt;[&#x27;Cascadura &lt;br&gt; &#x27;, &#x27;1 &lt;br&gt;&#x27;]&lt;/div&gt;`)[0];\n",
       "                popup_86ffa8d692b652173443b5974df6f0ae.setContent(html_0295e8263a0e230478ed0bb5ea22ed4f);\n",
       "            \n",
       "        \n",
       "\n",
       "        marker_c6d6addf29937816fb35a1349a20e7fd.bindPopup(popup_86ffa8d692b652173443b5974df6f0ae)\n",
       "        ;\n",
       "\n",
       "        \n",
       "    \n",
       "    \n",
       "            var marker_47759cc19351e974976fbf3d4b8a844f = L.marker(\n",
       "                [-22.9243085, -43.3714843],\n",
       "                {}\n",
       "            ).addTo(map_7a0de4b9ec45dc645810d1e0992cc3f9);\n",
       "        \n",
       "    \n",
       "        var popup_0de53627beec35276fae2d558b4b6318 = L.popup({&quot;maxWidth&quot;: &quot;100%&quot;});\n",
       "\n",
       "        \n",
       "            \n",
       "                var html_75f0c811c84779e6dd08802c079ddfc9 = $(`&lt;div id=&quot;html_75f0c811c84779e6dd08802c079ddfc9&quot; style=&quot;width: 100.0%; height: 100.0%;&quot;&gt;[&#x27;Taquara &lt;br&gt; &#x27;, &#x27;1 &lt;br&gt;&#x27;]&lt;/div&gt;`)[0];\n",
       "                popup_0de53627beec35276fae2d558b4b6318.setContent(html_75f0c811c84779e6dd08802c079ddfc9);\n",
       "            \n",
       "        \n",
       "\n",
       "        marker_47759cc19351e974976fbf3d4b8a844f.bindPopup(popup_0de53627beec35276fae2d558b4b6318)\n",
       "        ;\n",
       "\n",
       "        \n",
       "    \n",
       "    \n",
       "            var marker_00a2a68ac07709885203406fefa09f58 = L.marker(\n",
       "                [-22.9173627, -43.3614333],\n",
       "                {}\n",
       "            ).addTo(map_7a0de4b9ec45dc645810d1e0992cc3f9);\n",
       "        \n",
       "    \n",
       "        var popup_babee3f190180ea6fec3cd9c438de1a4 = L.popup({&quot;maxWidth&quot;: &quot;100%&quot;});\n",
       "\n",
       "        \n",
       "            \n",
       "                var html_3929f40898831dabd63f29df6b739777 = $(`&lt;div id=&quot;html_3929f40898831dabd63f29df6b739777&quot; style=&quot;width: 100.0%; height: 100.0%;&quot;&gt;[&#x27;Tanque &lt;br&gt; &#x27;, &#x27;1 &lt;br&gt;&#x27;]&lt;/div&gt;`)[0];\n",
       "                popup_babee3f190180ea6fec3cd9c438de1a4.setContent(html_3929f40898831dabd63f29df6b739777);\n",
       "            \n",
       "        \n",
       "\n",
       "        marker_00a2a68ac07709885203406fefa09f58.bindPopup(popup_babee3f190180ea6fec3cd9c438de1a4)\n",
       "        ;\n",
       "\n",
       "        \n",
       "    \n",
       "    \n",
       "            var marker_67b79e88fcd1497f4dde254e3a97b215 = L.marker(\n",
       "                [-22.891154, -43.537462],\n",
       "                {}\n",
       "            ).addTo(map_7a0de4b9ec45dc645810d1e0992cc3f9);\n",
       "        \n",
       "    \n",
       "        var popup_307c519a93b92bb2d8f79dff9842595b = L.popup({&quot;maxWidth&quot;: &quot;100%&quot;});\n",
       "\n",
       "        \n",
       "            \n",
       "                var html_64367873806319ac9875b307b8c5a073 = $(`&lt;div id=&quot;html_64367873806319ac9875b307b8c5a073&quot; style=&quot;width: 100.0%; height: 100.0%;&quot;&gt;[&#x27;Senador Vasconcelos &lt;br&gt; &#x27;, &#x27;1 &lt;br&gt;&#x27;]&lt;/div&gt;`)[0];\n",
       "                popup_307c519a93b92bb2d8f79dff9842595b.setContent(html_64367873806319ac9875b307b8c5a073);\n",
       "            \n",
       "        \n",
       "\n",
       "        marker_67b79e88fcd1497f4dde254e3a97b215.bindPopup(popup_307c519a93b92bb2d8f79dff9842595b)\n",
       "        ;\n",
       "\n",
       "        \n",
       "    \n",
       "    \n",
       "            var marker_45040f5e8ede1b1d02bef7b39cc501ac = L.marker(\n",
       "                [-22.9250817, -43.1781994],\n",
       "                {}\n",
       "            ).addTo(map_7a0de4b9ec45dc645810d1e0992cc3f9);\n",
       "        \n",
       "    \n",
       "        var popup_ea1994573bdefd2563e8476337b5096c = L.popup({&quot;maxWidth&quot;: &quot;100%&quot;});\n",
       "\n",
       "        \n",
       "            \n",
       "                var html_513b0428915ac94a1ea6944cc3027346 = $(`&lt;div id=&quot;html_513b0428915ac94a1ea6944cc3027346&quot; style=&quot;width: 100.0%; height: 100.0%;&quot;&gt;[&#x27;Catete &lt;br&gt; &#x27;, &#x27;1 &lt;br&gt;&#x27;]&lt;/div&gt;`)[0];\n",
       "                popup_ea1994573bdefd2563e8476337b5096c.setContent(html_513b0428915ac94a1ea6944cc3027346);\n",
       "            \n",
       "        \n",
       "\n",
       "        marker_45040f5e8ede1b1d02bef7b39cc501ac.bindPopup(popup_ea1994573bdefd2563e8476337b5096c)\n",
       "        ;\n",
       "\n",
       "        \n",
       "    \n",
       "    \n",
       "            var marker_d3fbcd37a51783eaba68ea4950719c23 = L.marker(\n",
       "                [-22.838978, -43.400704000000005],\n",
       "                {}\n",
       "            ).addTo(map_7a0de4b9ec45dc645810d1e0992cc3f9);\n",
       "        \n",
       "    \n",
       "        var popup_050e20384d7c4c79c86a5271ef8a6b88 = L.popup({&quot;maxWidth&quot;: &quot;100%&quot;});\n",
       "\n",
       "        \n",
       "            \n",
       "                var html_75801607fafb5fa499ba19e30f64e0c4 = $(`&lt;div id=&quot;html_75801607fafb5fa499ba19e30f64e0c4&quot; style=&quot;width: 100.0%; height: 100.0%;&quot;&gt;[&#x27;Ricardo de Albuquerque &lt;br&gt; &#x27;, &#x27;1 &lt;br&gt;&#x27;]&lt;/div&gt;`)[0];\n",
       "                popup_050e20384d7c4c79c86a5271ef8a6b88.setContent(html_75801607fafb5fa499ba19e30f64e0c4);\n",
       "            \n",
       "        \n",
       "\n",
       "        marker_d3fbcd37a51783eaba68ea4950719c23.bindPopup(popup_050e20384d7c4c79c86a5271ef8a6b88)\n",
       "        ;\n",
       "\n",
       "        \n",
       "    \n",
       "    \n",
       "            var marker_c42ccb08e7fb45e9a22341fee92d5f83 = L.marker(\n",
       "                [-22.887766199999998, -43.417526699999996],\n",
       "                {}\n",
       "            ).addTo(map_7a0de4b9ec45dc645810d1e0992cc3f9);\n",
       "        \n",
       "    \n",
       "        var popup_770d10a95028d62b141b7e54f4a710c9 = L.popup({&quot;maxWidth&quot;: &quot;100%&quot;});\n",
       "\n",
       "        \n",
       "            \n",
       "                var html_47878272f755df827e785b083228d1f6 = $(`&lt;div id=&quot;html_47878272f755df827e785b083228d1f6&quot; style=&quot;width: 100.0%; height: 100.0%;&quot;&gt;[&#x27;Realengo &lt;br&gt; &#x27;, &#x27;1 &lt;br&gt;&#x27;]&lt;/div&gt;`)[0];\n",
       "                popup_770d10a95028d62b141b7e54f4a710c9.setContent(html_47878272f755df827e785b083228d1f6);\n",
       "            \n",
       "        \n",
       "\n",
       "        marker_c42ccb08e7fb45e9a22341fee92d5f83.bindPopup(popup_770d10a95028d62b141b7e54f4a710c9)\n",
       "        ;\n",
       "\n",
       "        \n",
       "    \n",
       "    \n",
       "            var marker_e38aa5da041f71304841486d5902319c = L.marker(\n",
       "                [-22.8339043, -43.2759555],\n",
       "                {}\n",
       "            ).addTo(map_7a0de4b9ec45dc645810d1e0992cc3f9);\n",
       "        \n",
       "    \n",
       "        var popup_96cfc9b28f14f1d28e884bb725fab808 = L.popup({&quot;maxWidth&quot;: &quot;100%&quot;});\n",
       "\n",
       "        \n",
       "            \n",
       "                var html_e7e7b7509dd955a0d0ef3f2352573b96 = $(`&lt;div id=&quot;html_e7e7b7509dd955a0d0ef3f2352573b96&quot; style=&quot;width: 100.0%; height: 100.0%;&quot;&gt;[&#x27;Penha &lt;br&gt; &#x27;, &#x27;1 &lt;br&gt;&#x27;]&lt;/div&gt;`)[0];\n",
       "                popup_96cfc9b28f14f1d28e884bb725fab808.setContent(html_e7e7b7509dd955a0d0ef3f2352573b96);\n",
       "            \n",
       "        \n",
       "\n",
       "        marker_e38aa5da041f71304841486d5902319c.bindPopup(popup_96cfc9b28f14f1d28e884bb725fab808)\n",
       "        ;\n",
       "\n",
       "        \n",
       "    \n",
       "    \n",
       "            var marker_05eae9430f554834633e2215d85eaa80 = L.marker(\n",
       "                [-22.9311496, -43.3487962],\n",
       "                {}\n",
       "            ).addTo(map_7a0de4b9ec45dc645810d1e0992cc3f9);\n",
       "        \n",
       "    \n",
       "        var popup_3c3da21e2048f662bb91b06e12e99ad3 = L.popup({&quot;maxWidth&quot;: &quot;100%&quot;});\n",
       "\n",
       "        \n",
       "            \n",
       "                var html_8658385a473f89e2cca65e79181b0e00 = $(`&lt;div id=&quot;html_8658385a473f89e2cca65e79181b0e00&quot; style=&quot;width: 100.0%; height: 100.0%;&quot;&gt;[&#x27;Pechincha &lt;br&gt; &#x27;, &#x27;1 &lt;br&gt;&#x27;]&lt;/div&gt;`)[0];\n",
       "                popup_3c3da21e2048f662bb91b06e12e99ad3.setContent(html_8658385a473f89e2cca65e79181b0e00);\n",
       "            \n",
       "        \n",
       "\n",
       "        marker_05eae9430f554834633e2215d85eaa80.bindPopup(popup_3c3da21e2048f662bb91b06e12e99ad3)\n",
       "        ;\n",
       "\n",
       "        \n",
       "    \n",
       "    \n",
       "            var marker_53b3b6517c4fbe16b2800a0c7e20916d = L.marker(\n",
       "                [-22.8735091, -43.3178639],\n",
       "                {}\n",
       "            ).addTo(map_7a0de4b9ec45dc645810d1e0992cc3f9);\n",
       "        \n",
       "    \n",
       "        var popup_e7c3d4155baad5f534cbcebd148f5039 = L.popup({&quot;maxWidth&quot;: &quot;100%&quot;});\n",
       "\n",
       "        \n",
       "            \n",
       "                var html_a66158c42f941a7bd8c691ce2a71d30f = $(`&lt;div id=&quot;html_a66158c42f941a7bd8c691ce2a71d30f&quot; style=&quot;width: 100.0%; height: 100.0%;&quot;&gt;[&#x27;Cavalcanti &lt;br&gt; &#x27;, &#x27;1 &lt;br&gt;&#x27;]&lt;/div&gt;`)[0];\n",
       "                popup_e7c3d4155baad5f534cbcebd148f5039.setContent(html_a66158c42f941a7bd8c691ce2a71d30f);\n",
       "            \n",
       "        \n",
       "\n",
       "        marker_53b3b6517c4fbe16b2800a0c7e20916d.bindPopup(popup_e7c3d4155baad5f534cbcebd148f5039)\n",
       "        ;\n",
       "\n",
       "        \n",
       "    \n",
       "    \n",
       "            var marker_b0d43df6b26505ebb903f02f70b68e2f = L.marker(\n",
       "                [-22.8446599, -43.2637481],\n",
       "                {}\n",
       "            ).addTo(map_7a0de4b9ec45dc645810d1e0992cc3f9);\n",
       "        \n",
       "    \n",
       "        var popup_5996a84888167c63eb69b7ac32eed8a4 = L.popup({&quot;maxWidth&quot;: &quot;100%&quot;});\n",
       "\n",
       "        \n",
       "            \n",
       "                var html_62d4c82ebcfc964edbb37542904b3656 = $(`&lt;div id=&quot;html_62d4c82ebcfc964edbb37542904b3656&quot; style=&quot;width: 100.0%; height: 100.0%;&quot;&gt;[&#x27;Olaria &lt;br&gt; &#x27;, &#x27;1 &lt;br&gt;&#x27;]&lt;/div&gt;`)[0];\n",
       "                popup_5996a84888167c63eb69b7ac32eed8a4.setContent(html_62d4c82ebcfc964edbb37542904b3656);\n",
       "            \n",
       "        \n",
       "\n",
       "        marker_b0d43df6b26505ebb903f02f70b68e2f.bindPopup(popup_5996a84888167c63eb69b7ac32eed8a4)\n",
       "        ;\n",
       "\n",
       "        \n",
       "    \n",
       "    \n",
       "            var marker_d753db7688bc3803ec07aa7fd6bfb5ba = L.marker(\n",
       "                [-22.9122295, -43.1882526],\n",
       "                {}\n",
       "            ).addTo(map_7a0de4b9ec45dc645810d1e0992cc3f9);\n",
       "        \n",
       "    \n",
       "        var popup_79e64dd0c45c88de2eec696b078bc2b5 = L.popup({&quot;maxWidth&quot;: &quot;100%&quot;});\n",
       "\n",
       "        \n",
       "            \n",
       "                var html_dcf5915a64fa639f188c9ec388353ec8 = $(`&lt;div id=&quot;html_dcf5915a64fa639f188c9ec388353ec8&quot; style=&quot;width: 100.0%; height: 100.0%;&quot;&gt;[&#x27;Centro &lt;br&gt; &#x27;, &#x27;1 &lt;br&gt;&#x27;]&lt;/div&gt;`)[0];\n",
       "                popup_79e64dd0c45c88de2eec696b078bc2b5.setContent(html_dcf5915a64fa639f188c9ec388353ec8);\n",
       "            \n",
       "        \n",
       "\n",
       "        marker_d753db7688bc3803ec07aa7fd6bfb5ba.bindPopup(popup_79e64dd0c45c88de2eec696b078bc2b5)\n",
       "        ;\n",
       "\n",
       "        \n",
       "    \n",
       "    \n",
       "            var marker_99de4709fddc8c98cffbda09c16d522d = L.marker(\n",
       "                [-22.9337607, -43.1799996],\n",
       "                {}\n",
       "            ).addTo(map_7a0de4b9ec45dc645810d1e0992cc3f9);\n",
       "        \n",
       "    \n",
       "        var popup_3dc64976135c9c7718769ea840029ba2 = L.popup({&quot;maxWidth&quot;: &quot;100%&quot;});\n",
       "\n",
       "        \n",
       "            \n",
       "                var html_2d79f1cc7b0d4b5122c6a2ae7ecccf43 = $(`&lt;div id=&quot;html_2d79f1cc7b0d4b5122c6a2ae7ecccf43&quot; style=&quot;width: 100.0%; height: 100.0%;&quot;&gt;[&#x27;Laranjeiras &lt;br&gt; &#x27;, &#x27;1 &lt;br&gt;&#x27;]&lt;/div&gt;`)[0];\n",
       "                popup_3dc64976135c9c7718769ea840029ba2.setContent(html_2d79f1cc7b0d4b5122c6a2ae7ecccf43);\n",
       "            \n",
       "        \n",
       "\n",
       "        marker_99de4709fddc8c98cffbda09c16d522d.bindPopup(popup_3dc64976135c9c7718769ea840029ba2)\n",
       "        ;\n",
       "\n",
       "        \n",
       "    \n",
       "    \n",
       "            var marker_888d28bb3936c1b3d71ca5fdc2a0d5d5 = L.marker(\n",
       "                [-22.9312377, -43.1759738],\n",
       "                {}\n",
       "            ).addTo(map_7a0de4b9ec45dc645810d1e0992cc3f9);\n",
       "        \n",
       "    \n",
       "        var popup_1ba6ccf1def2146c85871ed00a06d762 = L.popup({&quot;maxWidth&quot;: &quot;100%&quot;});\n",
       "\n",
       "        \n",
       "            \n",
       "                var html_0df6d6c27a083a60425038333b57a505 = $(`&lt;div id=&quot;html_0df6d6c27a083a60425038333b57a505&quot; style=&quot;width: 100.0%; height: 100.0%;&quot;&gt;[&#x27;Flamengo &lt;br&gt; &#x27;, &#x27;1 &lt;br&gt;&#x27;]&lt;/div&gt;`)[0];\n",
       "                popup_1ba6ccf1def2146c85871ed00a06d762.setContent(html_0df6d6c27a083a60425038333b57a505);\n",
       "            \n",
       "        \n",
       "\n",
       "        marker_888d28bb3936c1b3d71ca5fdc2a0d5d5.bindPopup(popup_1ba6ccf1def2146c85871ed00a06d762)\n",
       "        ;\n",
       "\n",
       "        \n",
       "    \n",
       "    \n",
       "            var marker_1fe76568ddfdaa8460dd61c4824478c4 = L.marker(\n",
       "                [-22.9786046, -43.3336748],\n",
       "                {}\n",
       "            ).addTo(map_7a0de4b9ec45dc645810d1e0992cc3f9);\n",
       "        \n",
       "    \n",
       "        var popup_db9f5a9490df9861fd096f776ff24048 = L.popup({&quot;maxWidth&quot;: &quot;100%&quot;});\n",
       "\n",
       "        \n",
       "            \n",
       "                var html_91f446d48e55d11d3c47193d1374a3cd = $(`&lt;div id=&quot;html_91f446d48e55d11d3c47193d1374a3cd&quot; style=&quot;width: 100.0%; height: 100.0%;&quot;&gt;[&#x27;Itanhangá &lt;br&gt; &#x27;, &#x27;1 &lt;br&gt;&#x27;]&lt;/div&gt;`)[0];\n",
       "                popup_db9f5a9490df9861fd096f776ff24048.setContent(html_91f446d48e55d11d3c47193d1374a3cd);\n",
       "            \n",
       "        \n",
       "\n",
       "        marker_1fe76568ddfdaa8460dd61c4824478c4.bindPopup(popup_db9f5a9490df9861fd096f776ff24048)\n",
       "        ;\n",
       "\n",
       "        \n",
       "    \n",
       "    \n",
       "            var marker_c91687645f883837aa05baa52e769501 = L.marker(\n",
       "                [-22.8289747, -43.31917],\n",
       "                {}\n",
       "            ).addTo(map_7a0de4b9ec45dc645810d1e0992cc3f9);\n",
       "        \n",
       "    \n",
       "        var popup_bcb8056883bc1bd86136cfe6d50218fc = L.popup({&quot;maxWidth&quot;: &quot;100%&quot;});\n",
       "\n",
       "        \n",
       "            \n",
       "                var html_cb6b65a9c3e32a1f6da2f769e2df1f50 = $(`&lt;div id=&quot;html_cb6b65a9c3e32a1f6da2f769e2df1f50&quot; style=&quot;width: 100.0%; height: 100.0%;&quot;&gt;[&#x27;Vista Alegre &lt;br&gt; &#x27;, &#x27;1 &lt;br&gt;&#x27;]&lt;/div&gt;`)[0];\n",
       "                popup_bcb8056883bc1bd86136cfe6d50218fc.setContent(html_cb6b65a9c3e32a1f6da2f769e2df1f50);\n",
       "            \n",
       "        \n",
       "\n",
       "        marker_c91687645f883837aa05baa52e769501.bindPopup(popup_bcb8056883bc1bd86136cfe6d50218fc)\n",
       "        ;\n",
       "\n",
       "        \n",
       "    \n",
       "&lt;/script&gt;\n",
       "&lt;/html&gt;\" style=\"position:absolute;width:100%;height:100%;left:0;top:0;border:none !important;\" allowfullscreen webkitallowfullscreen mozallowfullscreen></iframe></div></div>"
      ],
      "text/plain": [
       "<folium.folium.Map at 0x1abf8c33df0>"
      ]
     },
     "execution_count": 32,
     "metadata": {},
     "output_type": "execute_result"
    }
   ],
   "source": [
    "chamados_bairros = Bairros.dropna()\n",
    "# MAKER POP'UPS DAS ESTAÇÕES\n",
    "for _, r in chamados_bairros.iterrows():\n",
    "    lat = r['latitude']\n",
    "    lon = r['longitude']\n",
    "    folium.Marker(location=[lat, lon],\n",
    "                  popup=['{} <br> '.format(r['bairro']), '{} <br>'.format(r['subtipo'])]).add_to(mapa)\n",
    "\n",
    "mapa"
   ]
  },
  {
   "cell_type": "markdown",
   "metadata": {},
   "source": [
    "### Extração dos dados com BigQuery e a Lib BasedosDados"
   ]
  },
  {
   "cell_type": "markdown",
   "metadata": {},
   "source": [
    "### 6) Quantos chamados com o subtipo \"Perturbação do sossego\" foram abertos desde 01/01/2022 até 31/12/2023 (incluindo extremidades)?"
   ]
  },
  {
   "cell_type": "code",
   "execution_count": 54,
   "metadata": {},
   "outputs": [
    {
     "name": "stderr",
     "output_type": "stream",
     "text": [
      "Downloading: 100%|██████████| 42408/42408 [00:03<00:00, 11193.87rows/s]\n"
     ]
    }
   ],
   "source": [
    "df_query= bd.read_sql(\n",
    "    '''\n",
    "    SELECT chmd.id_chamado, chmd.tipo, chmd.subtipo, chmd.data_inicio\n",
    "    FROM datario.administracao_servicos_publicos.chamado_1746 chmd\n",
    "    WHERE chmd.subtipo = 'Perturbação do sossego' AND chmd.data_inicio BETWEEN '2022-01-01' AND '2023-12-31';\n",
    "    ''',\n",
    "    billing_project_id='case-escritorio-de-dados'\n",
    ")"
   ]
  },
  {
   "cell_type": "code",
   "execution_count": 69,
   "metadata": {},
   "outputs": [
    {
     "name": "stdout",
     "output_type": "stream",
     "text": [
      "Os numeros de chamados abertos com o subtipo \"Perturbação do sossego\" desde 01/01/2022 até 31/12/2023 foram de 42408 casos\n"
     ]
    }
   ],
   "source": [
    "print('Os numeros de chamados abertos com o subtipo \"Perturbação do sossego\" desde 01/01/2022 até 31/12/2023 foram de {} casos'.format(df_query['id_chamado'].count()))"
   ]
  },
  {
   "cell_type": "markdown",
   "metadata": {},
   "source": [
    "### 7) Selecione os chamados com esse subtipo que foram abertos durante os eventos contidos na tabela de eventos (Reveillon, Carnaval e Rock in Rio)."
   ]
  },
  {
   "cell_type": "code",
   "execution_count": 39,
   "metadata": {},
   "outputs": [
    {
     "name": "stderr",
     "output_type": "stream",
     "text": [
      "Downloading: 100%|██████████| 1212/1212 [00:00<00:00, 2796.95rows/s]\n"
     ]
    }
   ],
   "source": [
    "df2 = bd.read_sql(\n",
    "    '''\n",
    "    SELECT chmd.id_chamado, chmd.tipo, chmd.subtipo, htl.evento, chmd.data_inicio\n",
    "    FROM datario.turismo_fluxo_visitantes.rede_hoteleira_ocupacao_eventos htl\n",
    "    INNER JOIN datario.administracao_servicos_publicos.chamado_1746 chmd ON DATE(chmd.data_inicio) >= DATE(htl.data_inicial) AND DATE(chmd.data_inicio) <= DATE(htl.data_final) \n",
    "    WHERE chmd.subtipo = 'Perturbação do sossego' AND chmd.data_inicio BETWEEN '2022-01-01' AND '2023-12-31'\n",
    "    ''',\n",
    "    billing_project_id='case-escritorio-de-dados'\n",
    ")"
   ]
  },
  {
   "cell_type": "markdown",
   "metadata": {},
   "source": [
    "### 8) Quantos chamados desse subtipo foram abertos em cada evento?"
   ]
  },
  {
   "cell_type": "code",
   "execution_count": 66,
   "metadata": {},
   "outputs": [
    {
     "name": "stdout",
     "output_type": "stream",
     "text": [
      "        evento  quantity\n",
      "0  Rock in Rio       834\n",
      "1     Carnaval       241\n",
      "2    Reveillon       137\n"
     ]
    }
   ],
   "source": [
    "numero_chamados = df2.groupby('evento')['subtipo'].size().sort_values(ascending=False).reset_index(name='quantity')\n",
    "print(numero_chamados)"
   ]
  },
  {
   "cell_type": "code",
   "execution_count": 42,
   "metadata": {},
   "outputs": [
    {
     "data": {
      "application/vnd.plotly.v1+json": {
       "config": {
        "plotlyServerURL": "https://plot.ly"
       },
       "data": [
        {
         "alignmentgroup": "True",
         "bingroup": "x",
         "histfunc": "sum",
         "hovertemplate": "evento=%{x}<br>sum of quantity=%{y}<extra></extra>",
         "legendgroup": "",
         "marker": {
          "color": "#636efa",
          "pattern": {
           "shape": ""
          }
         },
         "name": "",
         "offsetgroup": "",
         "orientation": "v",
         "showlegend": false,
         "texttemplate": "%{value}",
         "type": "histogram",
         "x": [
          "Rock in Rio",
          "Carnaval",
          "Reveillon"
         ],
         "xaxis": "x",
         "y": [
          834,
          241,
          137
         ],
         "yaxis": "y"
        }
       ],
       "layout": {
        "bargap": 0.2,
        "barmode": "group",
        "legend": {
         "tracegroupgap": 0
        },
        "margin": {
         "t": 60
        },
        "template": {
         "data": {
          "bar": [
           {
            "error_x": {
             "color": "#2a3f5f"
            },
            "error_y": {
             "color": "#2a3f5f"
            },
            "marker": {
             "line": {
              "color": "#E5ECF6",
              "width": 0.5
             },
             "pattern": {
              "fillmode": "overlay",
              "size": 10,
              "solidity": 0.2
             }
            },
            "type": "bar"
           }
          ],
          "barpolar": [
           {
            "marker": {
             "line": {
              "color": "#E5ECF6",
              "width": 0.5
             },
             "pattern": {
              "fillmode": "overlay",
              "size": 10,
              "solidity": 0.2
             }
            },
            "type": "barpolar"
           }
          ],
          "carpet": [
           {
            "aaxis": {
             "endlinecolor": "#2a3f5f",
             "gridcolor": "white",
             "linecolor": "white",
             "minorgridcolor": "white",
             "startlinecolor": "#2a3f5f"
            },
            "baxis": {
             "endlinecolor": "#2a3f5f",
             "gridcolor": "white",
             "linecolor": "white",
             "minorgridcolor": "white",
             "startlinecolor": "#2a3f5f"
            },
            "type": "carpet"
           }
          ],
          "choropleth": [
           {
            "colorbar": {
             "outlinewidth": 0,
             "ticks": ""
            },
            "type": "choropleth"
           }
          ],
          "contour": [
           {
            "colorbar": {
             "outlinewidth": 0,
             "ticks": ""
            },
            "colorscale": [
             [
              0,
              "#0d0887"
             ],
             [
              0.1111111111111111,
              "#46039f"
             ],
             [
              0.2222222222222222,
              "#7201a8"
             ],
             [
              0.3333333333333333,
              "#9c179e"
             ],
             [
              0.4444444444444444,
              "#bd3786"
             ],
             [
              0.5555555555555556,
              "#d8576b"
             ],
             [
              0.6666666666666666,
              "#ed7953"
             ],
             [
              0.7777777777777778,
              "#fb9f3a"
             ],
             [
              0.8888888888888888,
              "#fdca26"
             ],
             [
              1,
              "#f0f921"
             ]
            ],
            "type": "contour"
           }
          ],
          "contourcarpet": [
           {
            "colorbar": {
             "outlinewidth": 0,
             "ticks": ""
            },
            "type": "contourcarpet"
           }
          ],
          "heatmap": [
           {
            "colorbar": {
             "outlinewidth": 0,
             "ticks": ""
            },
            "colorscale": [
             [
              0,
              "#0d0887"
             ],
             [
              0.1111111111111111,
              "#46039f"
             ],
             [
              0.2222222222222222,
              "#7201a8"
             ],
             [
              0.3333333333333333,
              "#9c179e"
             ],
             [
              0.4444444444444444,
              "#bd3786"
             ],
             [
              0.5555555555555556,
              "#d8576b"
             ],
             [
              0.6666666666666666,
              "#ed7953"
             ],
             [
              0.7777777777777778,
              "#fb9f3a"
             ],
             [
              0.8888888888888888,
              "#fdca26"
             ],
             [
              1,
              "#f0f921"
             ]
            ],
            "type": "heatmap"
           }
          ],
          "heatmapgl": [
           {
            "colorbar": {
             "outlinewidth": 0,
             "ticks": ""
            },
            "colorscale": [
             [
              0,
              "#0d0887"
             ],
             [
              0.1111111111111111,
              "#46039f"
             ],
             [
              0.2222222222222222,
              "#7201a8"
             ],
             [
              0.3333333333333333,
              "#9c179e"
             ],
             [
              0.4444444444444444,
              "#bd3786"
             ],
             [
              0.5555555555555556,
              "#d8576b"
             ],
             [
              0.6666666666666666,
              "#ed7953"
             ],
             [
              0.7777777777777778,
              "#fb9f3a"
             ],
             [
              0.8888888888888888,
              "#fdca26"
             ],
             [
              1,
              "#f0f921"
             ]
            ],
            "type": "heatmapgl"
           }
          ],
          "histogram": [
           {
            "marker": {
             "pattern": {
              "fillmode": "overlay",
              "size": 10,
              "solidity": 0.2
             }
            },
            "type": "histogram"
           }
          ],
          "histogram2d": [
           {
            "colorbar": {
             "outlinewidth": 0,
             "ticks": ""
            },
            "colorscale": [
             [
              0,
              "#0d0887"
             ],
             [
              0.1111111111111111,
              "#46039f"
             ],
             [
              0.2222222222222222,
              "#7201a8"
             ],
             [
              0.3333333333333333,
              "#9c179e"
             ],
             [
              0.4444444444444444,
              "#bd3786"
             ],
             [
              0.5555555555555556,
              "#d8576b"
             ],
             [
              0.6666666666666666,
              "#ed7953"
             ],
             [
              0.7777777777777778,
              "#fb9f3a"
             ],
             [
              0.8888888888888888,
              "#fdca26"
             ],
             [
              1,
              "#f0f921"
             ]
            ],
            "type": "histogram2d"
           }
          ],
          "histogram2dcontour": [
           {
            "colorbar": {
             "outlinewidth": 0,
             "ticks": ""
            },
            "colorscale": [
             [
              0,
              "#0d0887"
             ],
             [
              0.1111111111111111,
              "#46039f"
             ],
             [
              0.2222222222222222,
              "#7201a8"
             ],
             [
              0.3333333333333333,
              "#9c179e"
             ],
             [
              0.4444444444444444,
              "#bd3786"
             ],
             [
              0.5555555555555556,
              "#d8576b"
             ],
             [
              0.6666666666666666,
              "#ed7953"
             ],
             [
              0.7777777777777778,
              "#fb9f3a"
             ],
             [
              0.8888888888888888,
              "#fdca26"
             ],
             [
              1,
              "#f0f921"
             ]
            ],
            "type": "histogram2dcontour"
           }
          ],
          "mesh3d": [
           {
            "colorbar": {
             "outlinewidth": 0,
             "ticks": ""
            },
            "type": "mesh3d"
           }
          ],
          "parcoords": [
           {
            "line": {
             "colorbar": {
              "outlinewidth": 0,
              "ticks": ""
             }
            },
            "type": "parcoords"
           }
          ],
          "pie": [
           {
            "automargin": true,
            "type": "pie"
           }
          ],
          "scatter": [
           {
            "fillpattern": {
             "fillmode": "overlay",
             "size": 10,
             "solidity": 0.2
            },
            "type": "scatter"
           }
          ],
          "scatter3d": [
           {
            "line": {
             "colorbar": {
              "outlinewidth": 0,
              "ticks": ""
             }
            },
            "marker": {
             "colorbar": {
              "outlinewidth": 0,
              "ticks": ""
             }
            },
            "type": "scatter3d"
           }
          ],
          "scattercarpet": [
           {
            "marker": {
             "colorbar": {
              "outlinewidth": 0,
              "ticks": ""
             }
            },
            "type": "scattercarpet"
           }
          ],
          "scattergeo": [
           {
            "marker": {
             "colorbar": {
              "outlinewidth": 0,
              "ticks": ""
             }
            },
            "type": "scattergeo"
           }
          ],
          "scattergl": [
           {
            "marker": {
             "colorbar": {
              "outlinewidth": 0,
              "ticks": ""
             }
            },
            "type": "scattergl"
           }
          ],
          "scattermapbox": [
           {
            "marker": {
             "colorbar": {
              "outlinewidth": 0,
              "ticks": ""
             }
            },
            "type": "scattermapbox"
           }
          ],
          "scatterpolar": [
           {
            "marker": {
             "colorbar": {
              "outlinewidth": 0,
              "ticks": ""
             }
            },
            "type": "scatterpolar"
           }
          ],
          "scatterpolargl": [
           {
            "marker": {
             "colorbar": {
              "outlinewidth": 0,
              "ticks": ""
             }
            },
            "type": "scatterpolargl"
           }
          ],
          "scatterternary": [
           {
            "marker": {
             "colorbar": {
              "outlinewidth": 0,
              "ticks": ""
             }
            },
            "type": "scatterternary"
           }
          ],
          "surface": [
           {
            "colorbar": {
             "outlinewidth": 0,
             "ticks": ""
            },
            "colorscale": [
             [
              0,
              "#0d0887"
             ],
             [
              0.1111111111111111,
              "#46039f"
             ],
             [
              0.2222222222222222,
              "#7201a8"
             ],
             [
              0.3333333333333333,
              "#9c179e"
             ],
             [
              0.4444444444444444,
              "#bd3786"
             ],
             [
              0.5555555555555556,
              "#d8576b"
             ],
             [
              0.6666666666666666,
              "#ed7953"
             ],
             [
              0.7777777777777778,
              "#fb9f3a"
             ],
             [
              0.8888888888888888,
              "#fdca26"
             ],
             [
              1,
              "#f0f921"
             ]
            ],
            "type": "surface"
           }
          ],
          "table": [
           {
            "cells": {
             "fill": {
              "color": "#EBF0F8"
             },
             "line": {
              "color": "white"
             }
            },
            "header": {
             "fill": {
              "color": "#C8D4E3"
             },
             "line": {
              "color": "white"
             }
            },
            "type": "table"
           }
          ]
         },
         "layout": {
          "annotationdefaults": {
           "arrowcolor": "#2a3f5f",
           "arrowhead": 0,
           "arrowwidth": 1
          },
          "autotypenumbers": "strict",
          "coloraxis": {
           "colorbar": {
            "outlinewidth": 0,
            "ticks": ""
           }
          },
          "colorscale": {
           "diverging": [
            [
             0,
             "#8e0152"
            ],
            [
             0.1,
             "#c51b7d"
            ],
            [
             0.2,
             "#de77ae"
            ],
            [
             0.3,
             "#f1b6da"
            ],
            [
             0.4,
             "#fde0ef"
            ],
            [
             0.5,
             "#f7f7f7"
            ],
            [
             0.6,
             "#e6f5d0"
            ],
            [
             0.7,
             "#b8e186"
            ],
            [
             0.8,
             "#7fbc41"
            ],
            [
             0.9,
             "#4d9221"
            ],
            [
             1,
             "#276419"
            ]
           ],
           "sequential": [
            [
             0,
             "#0d0887"
            ],
            [
             0.1111111111111111,
             "#46039f"
            ],
            [
             0.2222222222222222,
             "#7201a8"
            ],
            [
             0.3333333333333333,
             "#9c179e"
            ],
            [
             0.4444444444444444,
             "#bd3786"
            ],
            [
             0.5555555555555556,
             "#d8576b"
            ],
            [
             0.6666666666666666,
             "#ed7953"
            ],
            [
             0.7777777777777778,
             "#fb9f3a"
            ],
            [
             0.8888888888888888,
             "#fdca26"
            ],
            [
             1,
             "#f0f921"
            ]
           ],
           "sequentialminus": [
            [
             0,
             "#0d0887"
            ],
            [
             0.1111111111111111,
             "#46039f"
            ],
            [
             0.2222222222222222,
             "#7201a8"
            ],
            [
             0.3333333333333333,
             "#9c179e"
            ],
            [
             0.4444444444444444,
             "#bd3786"
            ],
            [
             0.5555555555555556,
             "#d8576b"
            ],
            [
             0.6666666666666666,
             "#ed7953"
            ],
            [
             0.7777777777777778,
             "#fb9f3a"
            ],
            [
             0.8888888888888888,
             "#fdca26"
            ],
            [
             1,
             "#f0f921"
            ]
           ]
          },
          "colorway": [
           "#636efa",
           "#EF553B",
           "#00cc96",
           "#ab63fa",
           "#FFA15A",
           "#19d3f3",
           "#FF6692",
           "#B6E880",
           "#FF97FF",
           "#FECB52"
          ],
          "font": {
           "color": "#2a3f5f"
          },
          "geo": {
           "bgcolor": "white",
           "lakecolor": "white",
           "landcolor": "#E5ECF6",
           "showlakes": true,
           "showland": true,
           "subunitcolor": "white"
          },
          "hoverlabel": {
           "align": "left"
          },
          "hovermode": "closest",
          "mapbox": {
           "style": "light"
          },
          "paper_bgcolor": "white",
          "plot_bgcolor": "#E5ECF6",
          "polar": {
           "angularaxis": {
            "gridcolor": "white",
            "linecolor": "white",
            "ticks": ""
           },
           "bgcolor": "#E5ECF6",
           "radialaxis": {
            "gridcolor": "white",
            "linecolor": "white",
            "ticks": ""
           }
          },
          "scene": {
           "xaxis": {
            "backgroundcolor": "#E5ECF6",
            "gridcolor": "white",
            "gridwidth": 2,
            "linecolor": "white",
            "showbackground": true,
            "ticks": "",
            "zerolinecolor": "white"
           },
           "yaxis": {
            "backgroundcolor": "#E5ECF6",
            "gridcolor": "white",
            "gridwidth": 2,
            "linecolor": "white",
            "showbackground": true,
            "ticks": "",
            "zerolinecolor": "white"
           },
           "zaxis": {
            "backgroundcolor": "#E5ECF6",
            "gridcolor": "white",
            "gridwidth": 2,
            "linecolor": "white",
            "showbackground": true,
            "ticks": "",
            "zerolinecolor": "white"
           }
          },
          "shapedefaults": {
           "line": {
            "color": "#2a3f5f"
           }
          },
          "ternary": {
           "aaxis": {
            "gridcolor": "white",
            "linecolor": "white",
            "ticks": ""
           },
           "baxis": {
            "gridcolor": "white",
            "linecolor": "white",
            "ticks": ""
           },
           "bgcolor": "#E5ECF6",
           "caxis": {
            "gridcolor": "white",
            "linecolor": "white",
            "ticks": ""
           }
          },
          "title": {
           "x": 0.05
          },
          "xaxis": {
           "automargin": true,
           "gridcolor": "white",
           "linecolor": "white",
           "ticks": "",
           "title": {
            "standoff": 15
           },
           "zerolinecolor": "white",
           "zerolinewidth": 2
          },
          "yaxis": {
           "automargin": true,
           "gridcolor": "white",
           "linecolor": "white",
           "ticks": "",
           "title": {
            "standoff": 15
           },
           "zerolinecolor": "white",
           "zerolinewidth": 2
          }
         }
        },
        "xaxis": {
         "anchor": "y",
         "domain": [
          0,
          1
         ],
         "title": {
          "text": "evento"
         }
        },
        "yaxis": {
         "anchor": "x",
         "domain": [
          0,
          1
         ],
         "title": {
          "text": "sum of quantity"
         }
        }
       }
      },
      "text/html": [
       "<div>                            <div id=\"fab78368-24d2-4e46-9c9b-a196595f123a\" class=\"plotly-graph-div\" style=\"height:525px; width:100%;\"></div>            <script type=\"text/javascript\">                require([\"plotly\"], function(Plotly) {                    window.PLOTLYENV=window.PLOTLYENV || {};                                    if (document.getElementById(\"fab78368-24d2-4e46-9c9b-a196595f123a\")) {                    Plotly.newPlot(                        \"fab78368-24d2-4e46-9c9b-a196595f123a\",                        [{\"alignmentgroup\":\"True\",\"bingroup\":\"x\",\"histfunc\":\"sum\",\"hovertemplate\":\"evento=%{x}<br>sum of quantity=%{y}<extra></extra>\",\"legendgroup\":\"\",\"marker\":{\"color\":\"#636efa\",\"pattern\":{\"shape\":\"\"}},\"name\":\"\",\"offsetgroup\":\"\",\"orientation\":\"v\",\"showlegend\":false,\"texttemplate\":\"%{value}\",\"x\":[\"Rock in Rio\",\"Carnaval\",\"Reveillon\"],\"xaxis\":\"x\",\"y\":[834,241,137],\"yaxis\":\"y\",\"type\":\"histogram\"}],                        {\"template\":{\"data\":{\"histogram2dcontour\":[{\"type\":\"histogram2dcontour\",\"colorbar\":{\"outlinewidth\":0,\"ticks\":\"\"},\"colorscale\":[[0.0,\"#0d0887\"],[0.1111111111111111,\"#46039f\"],[0.2222222222222222,\"#7201a8\"],[0.3333333333333333,\"#9c179e\"],[0.4444444444444444,\"#bd3786\"],[0.5555555555555556,\"#d8576b\"],[0.6666666666666666,\"#ed7953\"],[0.7777777777777778,\"#fb9f3a\"],[0.8888888888888888,\"#fdca26\"],[1.0,\"#f0f921\"]]}],\"choropleth\":[{\"type\":\"choropleth\",\"colorbar\":{\"outlinewidth\":0,\"ticks\":\"\"}}],\"histogram2d\":[{\"type\":\"histogram2d\",\"colorbar\":{\"outlinewidth\":0,\"ticks\":\"\"},\"colorscale\":[[0.0,\"#0d0887\"],[0.1111111111111111,\"#46039f\"],[0.2222222222222222,\"#7201a8\"],[0.3333333333333333,\"#9c179e\"],[0.4444444444444444,\"#bd3786\"],[0.5555555555555556,\"#d8576b\"],[0.6666666666666666,\"#ed7953\"],[0.7777777777777778,\"#fb9f3a\"],[0.8888888888888888,\"#fdca26\"],[1.0,\"#f0f921\"]]}],\"heatmap\":[{\"type\":\"heatmap\",\"colorbar\":{\"outlinewidth\":0,\"ticks\":\"\"},\"colorscale\":[[0.0,\"#0d0887\"],[0.1111111111111111,\"#46039f\"],[0.2222222222222222,\"#7201a8\"],[0.3333333333333333,\"#9c179e\"],[0.4444444444444444,\"#bd3786\"],[0.5555555555555556,\"#d8576b\"],[0.6666666666666666,\"#ed7953\"],[0.7777777777777778,\"#fb9f3a\"],[0.8888888888888888,\"#fdca26\"],[1.0,\"#f0f921\"]]}],\"heatmapgl\":[{\"type\":\"heatmapgl\",\"colorbar\":{\"outlinewidth\":0,\"ticks\":\"\"},\"colorscale\":[[0.0,\"#0d0887\"],[0.1111111111111111,\"#46039f\"],[0.2222222222222222,\"#7201a8\"],[0.3333333333333333,\"#9c179e\"],[0.4444444444444444,\"#bd3786\"],[0.5555555555555556,\"#d8576b\"],[0.6666666666666666,\"#ed7953\"],[0.7777777777777778,\"#fb9f3a\"],[0.8888888888888888,\"#fdca26\"],[1.0,\"#f0f921\"]]}],\"contourcarpet\":[{\"type\":\"contourcarpet\",\"colorbar\":{\"outlinewidth\":0,\"ticks\":\"\"}}],\"contour\":[{\"type\":\"contour\",\"colorbar\":{\"outlinewidth\":0,\"ticks\":\"\"},\"colorscale\":[[0.0,\"#0d0887\"],[0.1111111111111111,\"#46039f\"],[0.2222222222222222,\"#7201a8\"],[0.3333333333333333,\"#9c179e\"],[0.4444444444444444,\"#bd3786\"],[0.5555555555555556,\"#d8576b\"],[0.6666666666666666,\"#ed7953\"],[0.7777777777777778,\"#fb9f3a\"],[0.8888888888888888,\"#fdca26\"],[1.0,\"#f0f921\"]]}],\"surface\":[{\"type\":\"surface\",\"colorbar\":{\"outlinewidth\":0,\"ticks\":\"\"},\"colorscale\":[[0.0,\"#0d0887\"],[0.1111111111111111,\"#46039f\"],[0.2222222222222222,\"#7201a8\"],[0.3333333333333333,\"#9c179e\"],[0.4444444444444444,\"#bd3786\"],[0.5555555555555556,\"#d8576b\"],[0.6666666666666666,\"#ed7953\"],[0.7777777777777778,\"#fb9f3a\"],[0.8888888888888888,\"#fdca26\"],[1.0,\"#f0f921\"]]}],\"mesh3d\":[{\"type\":\"mesh3d\",\"colorbar\":{\"outlinewidth\":0,\"ticks\":\"\"}}],\"scatter\":[{\"fillpattern\":{\"fillmode\":\"overlay\",\"size\":10,\"solidity\":0.2},\"type\":\"scatter\"}],\"parcoords\":[{\"type\":\"parcoords\",\"line\":{\"colorbar\":{\"outlinewidth\":0,\"ticks\":\"\"}}}],\"scatterpolargl\":[{\"type\":\"scatterpolargl\",\"marker\":{\"colorbar\":{\"outlinewidth\":0,\"ticks\":\"\"}}}],\"bar\":[{\"error_x\":{\"color\":\"#2a3f5f\"},\"error_y\":{\"color\":\"#2a3f5f\"},\"marker\":{\"line\":{\"color\":\"#E5ECF6\",\"width\":0.5},\"pattern\":{\"fillmode\":\"overlay\",\"size\":10,\"solidity\":0.2}},\"type\":\"bar\"}],\"scattergeo\":[{\"type\":\"scattergeo\",\"marker\":{\"colorbar\":{\"outlinewidth\":0,\"ticks\":\"\"}}}],\"scatterpolar\":[{\"type\":\"scatterpolar\",\"marker\":{\"colorbar\":{\"outlinewidth\":0,\"ticks\":\"\"}}}],\"histogram\":[{\"marker\":{\"pattern\":{\"fillmode\":\"overlay\",\"size\":10,\"solidity\":0.2}},\"type\":\"histogram\"}],\"scattergl\":[{\"type\":\"scattergl\",\"marker\":{\"colorbar\":{\"outlinewidth\":0,\"ticks\":\"\"}}}],\"scatter3d\":[{\"type\":\"scatter3d\",\"line\":{\"colorbar\":{\"outlinewidth\":0,\"ticks\":\"\"}},\"marker\":{\"colorbar\":{\"outlinewidth\":0,\"ticks\":\"\"}}}],\"scattermapbox\":[{\"type\":\"scattermapbox\",\"marker\":{\"colorbar\":{\"outlinewidth\":0,\"ticks\":\"\"}}}],\"scatterternary\":[{\"type\":\"scatterternary\",\"marker\":{\"colorbar\":{\"outlinewidth\":0,\"ticks\":\"\"}}}],\"scattercarpet\":[{\"type\":\"scattercarpet\",\"marker\":{\"colorbar\":{\"outlinewidth\":0,\"ticks\":\"\"}}}],\"carpet\":[{\"aaxis\":{\"endlinecolor\":\"#2a3f5f\",\"gridcolor\":\"white\",\"linecolor\":\"white\",\"minorgridcolor\":\"white\",\"startlinecolor\":\"#2a3f5f\"},\"baxis\":{\"endlinecolor\":\"#2a3f5f\",\"gridcolor\":\"white\",\"linecolor\":\"white\",\"minorgridcolor\":\"white\",\"startlinecolor\":\"#2a3f5f\"},\"type\":\"carpet\"}],\"table\":[{\"cells\":{\"fill\":{\"color\":\"#EBF0F8\"},\"line\":{\"color\":\"white\"}},\"header\":{\"fill\":{\"color\":\"#C8D4E3\"},\"line\":{\"color\":\"white\"}},\"type\":\"table\"}],\"barpolar\":[{\"marker\":{\"line\":{\"color\":\"#E5ECF6\",\"width\":0.5},\"pattern\":{\"fillmode\":\"overlay\",\"size\":10,\"solidity\":0.2}},\"type\":\"barpolar\"}],\"pie\":[{\"automargin\":true,\"type\":\"pie\"}]},\"layout\":{\"autotypenumbers\":\"strict\",\"colorway\":[\"#636efa\",\"#EF553B\",\"#00cc96\",\"#ab63fa\",\"#FFA15A\",\"#19d3f3\",\"#FF6692\",\"#B6E880\",\"#FF97FF\",\"#FECB52\"],\"font\":{\"color\":\"#2a3f5f\"},\"hovermode\":\"closest\",\"hoverlabel\":{\"align\":\"left\"},\"paper_bgcolor\":\"white\",\"plot_bgcolor\":\"#E5ECF6\",\"polar\":{\"bgcolor\":\"#E5ECF6\",\"angularaxis\":{\"gridcolor\":\"white\",\"linecolor\":\"white\",\"ticks\":\"\"},\"radialaxis\":{\"gridcolor\":\"white\",\"linecolor\":\"white\",\"ticks\":\"\"}},\"ternary\":{\"bgcolor\":\"#E5ECF6\",\"aaxis\":{\"gridcolor\":\"white\",\"linecolor\":\"white\",\"ticks\":\"\"},\"baxis\":{\"gridcolor\":\"white\",\"linecolor\":\"white\",\"ticks\":\"\"},\"caxis\":{\"gridcolor\":\"white\",\"linecolor\":\"white\",\"ticks\":\"\"}},\"coloraxis\":{\"colorbar\":{\"outlinewidth\":0,\"ticks\":\"\"}},\"colorscale\":{\"sequential\":[[0.0,\"#0d0887\"],[0.1111111111111111,\"#46039f\"],[0.2222222222222222,\"#7201a8\"],[0.3333333333333333,\"#9c179e\"],[0.4444444444444444,\"#bd3786\"],[0.5555555555555556,\"#d8576b\"],[0.6666666666666666,\"#ed7953\"],[0.7777777777777778,\"#fb9f3a\"],[0.8888888888888888,\"#fdca26\"],[1.0,\"#f0f921\"]],\"sequentialminus\":[[0.0,\"#0d0887\"],[0.1111111111111111,\"#46039f\"],[0.2222222222222222,\"#7201a8\"],[0.3333333333333333,\"#9c179e\"],[0.4444444444444444,\"#bd3786\"],[0.5555555555555556,\"#d8576b\"],[0.6666666666666666,\"#ed7953\"],[0.7777777777777778,\"#fb9f3a\"],[0.8888888888888888,\"#fdca26\"],[1.0,\"#f0f921\"]],\"diverging\":[[0,\"#8e0152\"],[0.1,\"#c51b7d\"],[0.2,\"#de77ae\"],[0.3,\"#f1b6da\"],[0.4,\"#fde0ef\"],[0.5,\"#f7f7f7\"],[0.6,\"#e6f5d0\"],[0.7,\"#b8e186\"],[0.8,\"#7fbc41\"],[0.9,\"#4d9221\"],[1,\"#276419\"]]},\"xaxis\":{\"gridcolor\":\"white\",\"linecolor\":\"white\",\"ticks\":\"\",\"title\":{\"standoff\":15},\"zerolinecolor\":\"white\",\"automargin\":true,\"zerolinewidth\":2},\"yaxis\":{\"gridcolor\":\"white\",\"linecolor\":\"white\",\"ticks\":\"\",\"title\":{\"standoff\":15},\"zerolinecolor\":\"white\",\"automargin\":true,\"zerolinewidth\":2},\"scene\":{\"xaxis\":{\"backgroundcolor\":\"#E5ECF6\",\"gridcolor\":\"white\",\"linecolor\":\"white\",\"showbackground\":true,\"ticks\":\"\",\"zerolinecolor\":\"white\",\"gridwidth\":2},\"yaxis\":{\"backgroundcolor\":\"#E5ECF6\",\"gridcolor\":\"white\",\"linecolor\":\"white\",\"showbackground\":true,\"ticks\":\"\",\"zerolinecolor\":\"white\",\"gridwidth\":2},\"zaxis\":{\"backgroundcolor\":\"#E5ECF6\",\"gridcolor\":\"white\",\"linecolor\":\"white\",\"showbackground\":true,\"ticks\":\"\",\"zerolinecolor\":\"white\",\"gridwidth\":2}},\"shapedefaults\":{\"line\":{\"color\":\"#2a3f5f\"}},\"annotationdefaults\":{\"arrowcolor\":\"#2a3f5f\",\"arrowhead\":0,\"arrowwidth\":1},\"geo\":{\"bgcolor\":\"white\",\"landcolor\":\"#E5ECF6\",\"subunitcolor\":\"white\",\"showland\":true,\"showlakes\":true,\"lakecolor\":\"white\"},\"title\":{\"x\":0.05},\"mapbox\":{\"style\":\"light\"}}},\"xaxis\":{\"anchor\":\"y\",\"domain\":[0.0,1.0],\"title\":{\"text\":\"evento\"}},\"yaxis\":{\"anchor\":\"x\",\"domain\":[0.0,1.0],\"title\":{\"text\":\"sum of quantity\"}},\"legend\":{\"tracegroupgap\":0},\"margin\":{\"t\":60},\"barmode\":\"group\",\"bargap\":0.2},                        {\"responsive\": true}                    ).then(function(){\n",
       "                            \n",
       "var gd = document.getElementById('fab78368-24d2-4e46-9c9b-a196595f123a');\n",
       "var x = new MutationObserver(function (mutations, observer) {{\n",
       "        var display = window.getComputedStyle(gd).display;\n",
       "        if (!display || display === 'none') {{\n",
       "            console.log([gd, 'removed!']);\n",
       "            Plotly.purge(gd);\n",
       "            observer.disconnect();\n",
       "        }}\n",
       "}});\n",
       "\n",
       "// Listen for the removal of the full notebook cells\n",
       "var notebookContainer = gd.closest('#notebook-container');\n",
       "if (notebookContainer) {{\n",
       "    x.observe(notebookContainer, {childList: true});\n",
       "}}\n",
       "\n",
       "// Listen for the clearing of the current output cell\n",
       "var outputEl = gd.closest('.output');\n",
       "if (outputEl) {{\n",
       "    x.observe(outputEl, {childList: true});\n",
       "}}\n",
       "\n",
       "                        })                };                });            </script>        </div>"
      ]
     },
     "metadata": {},
     "output_type": "display_data"
    }
   ],
   "source": [
    "fig = px.histogram(numero_chamados, x=\"evento\", y='quantity', barmode='group', text_auto= True)\n",
    "fig.update_layout(bargap=0.2)\n",
    "fig.show()"
   ]
  },
  {
   "cell_type": "markdown",
   "metadata": {},
   "source": [
    "### 9) Qual evento teve a maior média diária de chamados abertos desse subtipo?"
   ]
  },
  {
   "cell_type": "code",
   "execution_count": 70,
   "metadata": {},
   "outputs": [
    {
     "name": "stdout",
     "output_type": "stream",
     "text": [
      "evento\n",
      "Carnaval        60.25\n",
      "Reveillon       45.67\n",
      "Rock in Rio    119.14\n",
      "dtype: float64\n"
     ]
    }
   ],
   "source": [
    "media = round(df2.groupby(['evento', pd.Grouper(key='data_inicio', freq='D')]).size().groupby('evento').mean(),2)\n",
    "print(media)"
   ]
  },
  {
   "cell_type": "code",
   "execution_count": 51,
   "metadata": {},
   "outputs": [
    {
     "data": {
      "application/vnd.plotly.v1+json": {
       "config": {
        "plotlyServerURL": "https://plot.ly"
       },
       "data": [
        {
         "alignmentgroup": "True",
         "bingroup": "x",
         "histfunc": "sum",
         "hovertemplate": "evento=%{x}<br>sum of y=%{y}<extra></extra>",
         "legendgroup": "",
         "marker": {
          "color": "#636efa",
          "pattern": {
           "shape": ""
          }
         },
         "name": "",
         "offsetgroup": "",
         "orientation": "v",
         "showlegend": false,
         "texttemplate": "%{value}",
         "type": "histogram",
         "x": [
          "Rock in Rio",
          "Carnaval",
          "Reveillon"
         ],
         "xaxis": "x",
         "y": [
          60.25,
          45.67,
          119.14
         ],
         "yaxis": "y"
        }
       ],
       "layout": {
        "bargap": 0.2,
        "barmode": "group",
        "legend": {
         "tracegroupgap": 0
        },
        "margin": {
         "t": 60
        },
        "template": {
         "data": {
          "bar": [
           {
            "error_x": {
             "color": "#2a3f5f"
            },
            "error_y": {
             "color": "#2a3f5f"
            },
            "marker": {
             "line": {
              "color": "#E5ECF6",
              "width": 0.5
             },
             "pattern": {
              "fillmode": "overlay",
              "size": 10,
              "solidity": 0.2
             }
            },
            "type": "bar"
           }
          ],
          "barpolar": [
           {
            "marker": {
             "line": {
              "color": "#E5ECF6",
              "width": 0.5
             },
             "pattern": {
              "fillmode": "overlay",
              "size": 10,
              "solidity": 0.2
             }
            },
            "type": "barpolar"
           }
          ],
          "carpet": [
           {
            "aaxis": {
             "endlinecolor": "#2a3f5f",
             "gridcolor": "white",
             "linecolor": "white",
             "minorgridcolor": "white",
             "startlinecolor": "#2a3f5f"
            },
            "baxis": {
             "endlinecolor": "#2a3f5f",
             "gridcolor": "white",
             "linecolor": "white",
             "minorgridcolor": "white",
             "startlinecolor": "#2a3f5f"
            },
            "type": "carpet"
           }
          ],
          "choropleth": [
           {
            "colorbar": {
             "outlinewidth": 0,
             "ticks": ""
            },
            "type": "choropleth"
           }
          ],
          "contour": [
           {
            "colorbar": {
             "outlinewidth": 0,
             "ticks": ""
            },
            "colorscale": [
             [
              0,
              "#0d0887"
             ],
             [
              0.1111111111111111,
              "#46039f"
             ],
             [
              0.2222222222222222,
              "#7201a8"
             ],
             [
              0.3333333333333333,
              "#9c179e"
             ],
             [
              0.4444444444444444,
              "#bd3786"
             ],
             [
              0.5555555555555556,
              "#d8576b"
             ],
             [
              0.6666666666666666,
              "#ed7953"
             ],
             [
              0.7777777777777778,
              "#fb9f3a"
             ],
             [
              0.8888888888888888,
              "#fdca26"
             ],
             [
              1,
              "#f0f921"
             ]
            ],
            "type": "contour"
           }
          ],
          "contourcarpet": [
           {
            "colorbar": {
             "outlinewidth": 0,
             "ticks": ""
            },
            "type": "contourcarpet"
           }
          ],
          "heatmap": [
           {
            "colorbar": {
             "outlinewidth": 0,
             "ticks": ""
            },
            "colorscale": [
             [
              0,
              "#0d0887"
             ],
             [
              0.1111111111111111,
              "#46039f"
             ],
             [
              0.2222222222222222,
              "#7201a8"
             ],
             [
              0.3333333333333333,
              "#9c179e"
             ],
             [
              0.4444444444444444,
              "#bd3786"
             ],
             [
              0.5555555555555556,
              "#d8576b"
             ],
             [
              0.6666666666666666,
              "#ed7953"
             ],
             [
              0.7777777777777778,
              "#fb9f3a"
             ],
             [
              0.8888888888888888,
              "#fdca26"
             ],
             [
              1,
              "#f0f921"
             ]
            ],
            "type": "heatmap"
           }
          ],
          "heatmapgl": [
           {
            "colorbar": {
             "outlinewidth": 0,
             "ticks": ""
            },
            "colorscale": [
             [
              0,
              "#0d0887"
             ],
             [
              0.1111111111111111,
              "#46039f"
             ],
             [
              0.2222222222222222,
              "#7201a8"
             ],
             [
              0.3333333333333333,
              "#9c179e"
             ],
             [
              0.4444444444444444,
              "#bd3786"
             ],
             [
              0.5555555555555556,
              "#d8576b"
             ],
             [
              0.6666666666666666,
              "#ed7953"
             ],
             [
              0.7777777777777778,
              "#fb9f3a"
             ],
             [
              0.8888888888888888,
              "#fdca26"
             ],
             [
              1,
              "#f0f921"
             ]
            ],
            "type": "heatmapgl"
           }
          ],
          "histogram": [
           {
            "marker": {
             "pattern": {
              "fillmode": "overlay",
              "size": 10,
              "solidity": 0.2
             }
            },
            "type": "histogram"
           }
          ],
          "histogram2d": [
           {
            "colorbar": {
             "outlinewidth": 0,
             "ticks": ""
            },
            "colorscale": [
             [
              0,
              "#0d0887"
             ],
             [
              0.1111111111111111,
              "#46039f"
             ],
             [
              0.2222222222222222,
              "#7201a8"
             ],
             [
              0.3333333333333333,
              "#9c179e"
             ],
             [
              0.4444444444444444,
              "#bd3786"
             ],
             [
              0.5555555555555556,
              "#d8576b"
             ],
             [
              0.6666666666666666,
              "#ed7953"
             ],
             [
              0.7777777777777778,
              "#fb9f3a"
             ],
             [
              0.8888888888888888,
              "#fdca26"
             ],
             [
              1,
              "#f0f921"
             ]
            ],
            "type": "histogram2d"
           }
          ],
          "histogram2dcontour": [
           {
            "colorbar": {
             "outlinewidth": 0,
             "ticks": ""
            },
            "colorscale": [
             [
              0,
              "#0d0887"
             ],
             [
              0.1111111111111111,
              "#46039f"
             ],
             [
              0.2222222222222222,
              "#7201a8"
             ],
             [
              0.3333333333333333,
              "#9c179e"
             ],
             [
              0.4444444444444444,
              "#bd3786"
             ],
             [
              0.5555555555555556,
              "#d8576b"
             ],
             [
              0.6666666666666666,
              "#ed7953"
             ],
             [
              0.7777777777777778,
              "#fb9f3a"
             ],
             [
              0.8888888888888888,
              "#fdca26"
             ],
             [
              1,
              "#f0f921"
             ]
            ],
            "type": "histogram2dcontour"
           }
          ],
          "mesh3d": [
           {
            "colorbar": {
             "outlinewidth": 0,
             "ticks": ""
            },
            "type": "mesh3d"
           }
          ],
          "parcoords": [
           {
            "line": {
             "colorbar": {
              "outlinewidth": 0,
              "ticks": ""
             }
            },
            "type": "parcoords"
           }
          ],
          "pie": [
           {
            "automargin": true,
            "type": "pie"
           }
          ],
          "scatter": [
           {
            "fillpattern": {
             "fillmode": "overlay",
             "size": 10,
             "solidity": 0.2
            },
            "type": "scatter"
           }
          ],
          "scatter3d": [
           {
            "line": {
             "colorbar": {
              "outlinewidth": 0,
              "ticks": ""
             }
            },
            "marker": {
             "colorbar": {
              "outlinewidth": 0,
              "ticks": ""
             }
            },
            "type": "scatter3d"
           }
          ],
          "scattercarpet": [
           {
            "marker": {
             "colorbar": {
              "outlinewidth": 0,
              "ticks": ""
             }
            },
            "type": "scattercarpet"
           }
          ],
          "scattergeo": [
           {
            "marker": {
             "colorbar": {
              "outlinewidth": 0,
              "ticks": ""
             }
            },
            "type": "scattergeo"
           }
          ],
          "scattergl": [
           {
            "marker": {
             "colorbar": {
              "outlinewidth": 0,
              "ticks": ""
             }
            },
            "type": "scattergl"
           }
          ],
          "scattermapbox": [
           {
            "marker": {
             "colorbar": {
              "outlinewidth": 0,
              "ticks": ""
             }
            },
            "type": "scattermapbox"
           }
          ],
          "scatterpolar": [
           {
            "marker": {
             "colorbar": {
              "outlinewidth": 0,
              "ticks": ""
             }
            },
            "type": "scatterpolar"
           }
          ],
          "scatterpolargl": [
           {
            "marker": {
             "colorbar": {
              "outlinewidth": 0,
              "ticks": ""
             }
            },
            "type": "scatterpolargl"
           }
          ],
          "scatterternary": [
           {
            "marker": {
             "colorbar": {
              "outlinewidth": 0,
              "ticks": ""
             }
            },
            "type": "scatterternary"
           }
          ],
          "surface": [
           {
            "colorbar": {
             "outlinewidth": 0,
             "ticks": ""
            },
            "colorscale": [
             [
              0,
              "#0d0887"
             ],
             [
              0.1111111111111111,
              "#46039f"
             ],
             [
              0.2222222222222222,
              "#7201a8"
             ],
             [
              0.3333333333333333,
              "#9c179e"
             ],
             [
              0.4444444444444444,
              "#bd3786"
             ],
             [
              0.5555555555555556,
              "#d8576b"
             ],
             [
              0.6666666666666666,
              "#ed7953"
             ],
             [
              0.7777777777777778,
              "#fb9f3a"
             ],
             [
              0.8888888888888888,
              "#fdca26"
             ],
             [
              1,
              "#f0f921"
             ]
            ],
            "type": "surface"
           }
          ],
          "table": [
           {
            "cells": {
             "fill": {
              "color": "#EBF0F8"
             },
             "line": {
              "color": "white"
             }
            },
            "header": {
             "fill": {
              "color": "#C8D4E3"
             },
             "line": {
              "color": "white"
             }
            },
            "type": "table"
           }
          ]
         },
         "layout": {
          "annotationdefaults": {
           "arrowcolor": "#2a3f5f",
           "arrowhead": 0,
           "arrowwidth": 1
          },
          "autotypenumbers": "strict",
          "coloraxis": {
           "colorbar": {
            "outlinewidth": 0,
            "ticks": ""
           }
          },
          "colorscale": {
           "diverging": [
            [
             0,
             "#8e0152"
            ],
            [
             0.1,
             "#c51b7d"
            ],
            [
             0.2,
             "#de77ae"
            ],
            [
             0.3,
             "#f1b6da"
            ],
            [
             0.4,
             "#fde0ef"
            ],
            [
             0.5,
             "#f7f7f7"
            ],
            [
             0.6,
             "#e6f5d0"
            ],
            [
             0.7,
             "#b8e186"
            ],
            [
             0.8,
             "#7fbc41"
            ],
            [
             0.9,
             "#4d9221"
            ],
            [
             1,
             "#276419"
            ]
           ],
           "sequential": [
            [
             0,
             "#0d0887"
            ],
            [
             0.1111111111111111,
             "#46039f"
            ],
            [
             0.2222222222222222,
             "#7201a8"
            ],
            [
             0.3333333333333333,
             "#9c179e"
            ],
            [
             0.4444444444444444,
             "#bd3786"
            ],
            [
             0.5555555555555556,
             "#d8576b"
            ],
            [
             0.6666666666666666,
             "#ed7953"
            ],
            [
             0.7777777777777778,
             "#fb9f3a"
            ],
            [
             0.8888888888888888,
             "#fdca26"
            ],
            [
             1,
             "#f0f921"
            ]
           ],
           "sequentialminus": [
            [
             0,
             "#0d0887"
            ],
            [
             0.1111111111111111,
             "#46039f"
            ],
            [
             0.2222222222222222,
             "#7201a8"
            ],
            [
             0.3333333333333333,
             "#9c179e"
            ],
            [
             0.4444444444444444,
             "#bd3786"
            ],
            [
             0.5555555555555556,
             "#d8576b"
            ],
            [
             0.6666666666666666,
             "#ed7953"
            ],
            [
             0.7777777777777778,
             "#fb9f3a"
            ],
            [
             0.8888888888888888,
             "#fdca26"
            ],
            [
             1,
             "#f0f921"
            ]
           ]
          },
          "colorway": [
           "#636efa",
           "#EF553B",
           "#00cc96",
           "#ab63fa",
           "#FFA15A",
           "#19d3f3",
           "#FF6692",
           "#B6E880",
           "#FF97FF",
           "#FECB52"
          ],
          "font": {
           "color": "#2a3f5f"
          },
          "geo": {
           "bgcolor": "white",
           "lakecolor": "white",
           "landcolor": "#E5ECF6",
           "showlakes": true,
           "showland": true,
           "subunitcolor": "white"
          },
          "hoverlabel": {
           "align": "left"
          },
          "hovermode": "closest",
          "mapbox": {
           "style": "light"
          },
          "paper_bgcolor": "white",
          "plot_bgcolor": "#E5ECF6",
          "polar": {
           "angularaxis": {
            "gridcolor": "white",
            "linecolor": "white",
            "ticks": ""
           },
           "bgcolor": "#E5ECF6",
           "radialaxis": {
            "gridcolor": "white",
            "linecolor": "white",
            "ticks": ""
           }
          },
          "scene": {
           "xaxis": {
            "backgroundcolor": "#E5ECF6",
            "gridcolor": "white",
            "gridwidth": 2,
            "linecolor": "white",
            "showbackground": true,
            "ticks": "",
            "zerolinecolor": "white"
           },
           "yaxis": {
            "backgroundcolor": "#E5ECF6",
            "gridcolor": "white",
            "gridwidth": 2,
            "linecolor": "white",
            "showbackground": true,
            "ticks": "",
            "zerolinecolor": "white"
           },
           "zaxis": {
            "backgroundcolor": "#E5ECF6",
            "gridcolor": "white",
            "gridwidth": 2,
            "linecolor": "white",
            "showbackground": true,
            "ticks": "",
            "zerolinecolor": "white"
           }
          },
          "shapedefaults": {
           "line": {
            "color": "#2a3f5f"
           }
          },
          "ternary": {
           "aaxis": {
            "gridcolor": "white",
            "linecolor": "white",
            "ticks": ""
           },
           "baxis": {
            "gridcolor": "white",
            "linecolor": "white",
            "ticks": ""
           },
           "bgcolor": "#E5ECF6",
           "caxis": {
            "gridcolor": "white",
            "linecolor": "white",
            "ticks": ""
           }
          },
          "title": {
           "x": 0.05
          },
          "xaxis": {
           "automargin": true,
           "gridcolor": "white",
           "linecolor": "white",
           "ticks": "",
           "title": {
            "standoff": 15
           },
           "zerolinecolor": "white",
           "zerolinewidth": 2
          },
          "yaxis": {
           "automargin": true,
           "gridcolor": "white",
           "linecolor": "white",
           "ticks": "",
           "title": {
            "standoff": 15
           },
           "zerolinecolor": "white",
           "zerolinewidth": 2
          }
         }
        },
        "xaxis": {
         "anchor": "y",
         "domain": [
          0,
          1
         ],
         "title": {
          "text": "evento"
         }
        },
        "yaxis": {
         "anchor": "x",
         "domain": [
          0,
          1
         ],
         "title": {
          "text": "sum of y"
         }
        }
       }
      },
      "text/html": [
       "<div>                            <div id=\"00dbc4e7-8ed6-4ae8-977f-67714ffc9a6c\" class=\"plotly-graph-div\" style=\"height:525px; width:100%;\"></div>            <script type=\"text/javascript\">                require([\"plotly\"], function(Plotly) {                    window.PLOTLYENV=window.PLOTLYENV || {};                                    if (document.getElementById(\"00dbc4e7-8ed6-4ae8-977f-67714ffc9a6c\")) {                    Plotly.newPlot(                        \"00dbc4e7-8ed6-4ae8-977f-67714ffc9a6c\",                        [{\"alignmentgroup\":\"True\",\"bingroup\":\"x\",\"histfunc\":\"sum\",\"hovertemplate\":\"evento=%{x}<br>sum of y=%{y}<extra></extra>\",\"legendgroup\":\"\",\"marker\":{\"color\":\"#636efa\",\"pattern\":{\"shape\":\"\"}},\"name\":\"\",\"offsetgroup\":\"\",\"orientation\":\"v\",\"showlegend\":false,\"texttemplate\":\"%{value}\",\"x\":[\"Rock in Rio\",\"Carnaval\",\"Reveillon\"],\"xaxis\":\"x\",\"y\":[60.25,45.67,119.14],\"yaxis\":\"y\",\"type\":\"histogram\"}],                        {\"template\":{\"data\":{\"histogram2dcontour\":[{\"type\":\"histogram2dcontour\",\"colorbar\":{\"outlinewidth\":0,\"ticks\":\"\"},\"colorscale\":[[0.0,\"#0d0887\"],[0.1111111111111111,\"#46039f\"],[0.2222222222222222,\"#7201a8\"],[0.3333333333333333,\"#9c179e\"],[0.4444444444444444,\"#bd3786\"],[0.5555555555555556,\"#d8576b\"],[0.6666666666666666,\"#ed7953\"],[0.7777777777777778,\"#fb9f3a\"],[0.8888888888888888,\"#fdca26\"],[1.0,\"#f0f921\"]]}],\"choropleth\":[{\"type\":\"choropleth\",\"colorbar\":{\"outlinewidth\":0,\"ticks\":\"\"}}],\"histogram2d\":[{\"type\":\"histogram2d\",\"colorbar\":{\"outlinewidth\":0,\"ticks\":\"\"},\"colorscale\":[[0.0,\"#0d0887\"],[0.1111111111111111,\"#46039f\"],[0.2222222222222222,\"#7201a8\"],[0.3333333333333333,\"#9c179e\"],[0.4444444444444444,\"#bd3786\"],[0.5555555555555556,\"#d8576b\"],[0.6666666666666666,\"#ed7953\"],[0.7777777777777778,\"#fb9f3a\"],[0.8888888888888888,\"#fdca26\"],[1.0,\"#f0f921\"]]}],\"heatmap\":[{\"type\":\"heatmap\",\"colorbar\":{\"outlinewidth\":0,\"ticks\":\"\"},\"colorscale\":[[0.0,\"#0d0887\"],[0.1111111111111111,\"#46039f\"],[0.2222222222222222,\"#7201a8\"],[0.3333333333333333,\"#9c179e\"],[0.4444444444444444,\"#bd3786\"],[0.5555555555555556,\"#d8576b\"],[0.6666666666666666,\"#ed7953\"],[0.7777777777777778,\"#fb9f3a\"],[0.8888888888888888,\"#fdca26\"],[1.0,\"#f0f921\"]]}],\"heatmapgl\":[{\"type\":\"heatmapgl\",\"colorbar\":{\"outlinewidth\":0,\"ticks\":\"\"},\"colorscale\":[[0.0,\"#0d0887\"],[0.1111111111111111,\"#46039f\"],[0.2222222222222222,\"#7201a8\"],[0.3333333333333333,\"#9c179e\"],[0.4444444444444444,\"#bd3786\"],[0.5555555555555556,\"#d8576b\"],[0.6666666666666666,\"#ed7953\"],[0.7777777777777778,\"#fb9f3a\"],[0.8888888888888888,\"#fdca26\"],[1.0,\"#f0f921\"]]}],\"contourcarpet\":[{\"type\":\"contourcarpet\",\"colorbar\":{\"outlinewidth\":0,\"ticks\":\"\"}}],\"contour\":[{\"type\":\"contour\",\"colorbar\":{\"outlinewidth\":0,\"ticks\":\"\"},\"colorscale\":[[0.0,\"#0d0887\"],[0.1111111111111111,\"#46039f\"],[0.2222222222222222,\"#7201a8\"],[0.3333333333333333,\"#9c179e\"],[0.4444444444444444,\"#bd3786\"],[0.5555555555555556,\"#d8576b\"],[0.6666666666666666,\"#ed7953\"],[0.7777777777777778,\"#fb9f3a\"],[0.8888888888888888,\"#fdca26\"],[1.0,\"#f0f921\"]]}],\"surface\":[{\"type\":\"surface\",\"colorbar\":{\"outlinewidth\":0,\"ticks\":\"\"},\"colorscale\":[[0.0,\"#0d0887\"],[0.1111111111111111,\"#46039f\"],[0.2222222222222222,\"#7201a8\"],[0.3333333333333333,\"#9c179e\"],[0.4444444444444444,\"#bd3786\"],[0.5555555555555556,\"#d8576b\"],[0.6666666666666666,\"#ed7953\"],[0.7777777777777778,\"#fb9f3a\"],[0.8888888888888888,\"#fdca26\"],[1.0,\"#f0f921\"]]}],\"mesh3d\":[{\"type\":\"mesh3d\",\"colorbar\":{\"outlinewidth\":0,\"ticks\":\"\"}}],\"scatter\":[{\"fillpattern\":{\"fillmode\":\"overlay\",\"size\":10,\"solidity\":0.2},\"type\":\"scatter\"}],\"parcoords\":[{\"type\":\"parcoords\",\"line\":{\"colorbar\":{\"outlinewidth\":0,\"ticks\":\"\"}}}],\"scatterpolargl\":[{\"type\":\"scatterpolargl\",\"marker\":{\"colorbar\":{\"outlinewidth\":0,\"ticks\":\"\"}}}],\"bar\":[{\"error_x\":{\"color\":\"#2a3f5f\"},\"error_y\":{\"color\":\"#2a3f5f\"},\"marker\":{\"line\":{\"color\":\"#E5ECF6\",\"width\":0.5},\"pattern\":{\"fillmode\":\"overlay\",\"size\":10,\"solidity\":0.2}},\"type\":\"bar\"}],\"scattergeo\":[{\"type\":\"scattergeo\",\"marker\":{\"colorbar\":{\"outlinewidth\":0,\"ticks\":\"\"}}}],\"scatterpolar\":[{\"type\":\"scatterpolar\",\"marker\":{\"colorbar\":{\"outlinewidth\":0,\"ticks\":\"\"}}}],\"histogram\":[{\"marker\":{\"pattern\":{\"fillmode\":\"overlay\",\"size\":10,\"solidity\":0.2}},\"type\":\"histogram\"}],\"scattergl\":[{\"type\":\"scattergl\",\"marker\":{\"colorbar\":{\"outlinewidth\":0,\"ticks\":\"\"}}}],\"scatter3d\":[{\"type\":\"scatter3d\",\"line\":{\"colorbar\":{\"outlinewidth\":0,\"ticks\":\"\"}},\"marker\":{\"colorbar\":{\"outlinewidth\":0,\"ticks\":\"\"}}}],\"scattermapbox\":[{\"type\":\"scattermapbox\",\"marker\":{\"colorbar\":{\"outlinewidth\":0,\"ticks\":\"\"}}}],\"scatterternary\":[{\"type\":\"scatterternary\",\"marker\":{\"colorbar\":{\"outlinewidth\":0,\"ticks\":\"\"}}}],\"scattercarpet\":[{\"type\":\"scattercarpet\",\"marker\":{\"colorbar\":{\"outlinewidth\":0,\"ticks\":\"\"}}}],\"carpet\":[{\"aaxis\":{\"endlinecolor\":\"#2a3f5f\",\"gridcolor\":\"white\",\"linecolor\":\"white\",\"minorgridcolor\":\"white\",\"startlinecolor\":\"#2a3f5f\"},\"baxis\":{\"endlinecolor\":\"#2a3f5f\",\"gridcolor\":\"white\",\"linecolor\":\"white\",\"minorgridcolor\":\"white\",\"startlinecolor\":\"#2a3f5f\"},\"type\":\"carpet\"}],\"table\":[{\"cells\":{\"fill\":{\"color\":\"#EBF0F8\"},\"line\":{\"color\":\"white\"}},\"header\":{\"fill\":{\"color\":\"#C8D4E3\"},\"line\":{\"color\":\"white\"}},\"type\":\"table\"}],\"barpolar\":[{\"marker\":{\"line\":{\"color\":\"#E5ECF6\",\"width\":0.5},\"pattern\":{\"fillmode\":\"overlay\",\"size\":10,\"solidity\":0.2}},\"type\":\"barpolar\"}],\"pie\":[{\"automargin\":true,\"type\":\"pie\"}]},\"layout\":{\"autotypenumbers\":\"strict\",\"colorway\":[\"#636efa\",\"#EF553B\",\"#00cc96\",\"#ab63fa\",\"#FFA15A\",\"#19d3f3\",\"#FF6692\",\"#B6E880\",\"#FF97FF\",\"#FECB52\"],\"font\":{\"color\":\"#2a3f5f\"},\"hovermode\":\"closest\",\"hoverlabel\":{\"align\":\"left\"},\"paper_bgcolor\":\"white\",\"plot_bgcolor\":\"#E5ECF6\",\"polar\":{\"bgcolor\":\"#E5ECF6\",\"angularaxis\":{\"gridcolor\":\"white\",\"linecolor\":\"white\",\"ticks\":\"\"},\"radialaxis\":{\"gridcolor\":\"white\",\"linecolor\":\"white\",\"ticks\":\"\"}},\"ternary\":{\"bgcolor\":\"#E5ECF6\",\"aaxis\":{\"gridcolor\":\"white\",\"linecolor\":\"white\",\"ticks\":\"\"},\"baxis\":{\"gridcolor\":\"white\",\"linecolor\":\"white\",\"ticks\":\"\"},\"caxis\":{\"gridcolor\":\"white\",\"linecolor\":\"white\",\"ticks\":\"\"}},\"coloraxis\":{\"colorbar\":{\"outlinewidth\":0,\"ticks\":\"\"}},\"colorscale\":{\"sequential\":[[0.0,\"#0d0887\"],[0.1111111111111111,\"#46039f\"],[0.2222222222222222,\"#7201a8\"],[0.3333333333333333,\"#9c179e\"],[0.4444444444444444,\"#bd3786\"],[0.5555555555555556,\"#d8576b\"],[0.6666666666666666,\"#ed7953\"],[0.7777777777777778,\"#fb9f3a\"],[0.8888888888888888,\"#fdca26\"],[1.0,\"#f0f921\"]],\"sequentialminus\":[[0.0,\"#0d0887\"],[0.1111111111111111,\"#46039f\"],[0.2222222222222222,\"#7201a8\"],[0.3333333333333333,\"#9c179e\"],[0.4444444444444444,\"#bd3786\"],[0.5555555555555556,\"#d8576b\"],[0.6666666666666666,\"#ed7953\"],[0.7777777777777778,\"#fb9f3a\"],[0.8888888888888888,\"#fdca26\"],[1.0,\"#f0f921\"]],\"diverging\":[[0,\"#8e0152\"],[0.1,\"#c51b7d\"],[0.2,\"#de77ae\"],[0.3,\"#f1b6da\"],[0.4,\"#fde0ef\"],[0.5,\"#f7f7f7\"],[0.6,\"#e6f5d0\"],[0.7,\"#b8e186\"],[0.8,\"#7fbc41\"],[0.9,\"#4d9221\"],[1,\"#276419\"]]},\"xaxis\":{\"gridcolor\":\"white\",\"linecolor\":\"white\",\"ticks\":\"\",\"title\":{\"standoff\":15},\"zerolinecolor\":\"white\",\"automargin\":true,\"zerolinewidth\":2},\"yaxis\":{\"gridcolor\":\"white\",\"linecolor\":\"white\",\"ticks\":\"\",\"title\":{\"standoff\":15},\"zerolinecolor\":\"white\",\"automargin\":true,\"zerolinewidth\":2},\"scene\":{\"xaxis\":{\"backgroundcolor\":\"#E5ECF6\",\"gridcolor\":\"white\",\"linecolor\":\"white\",\"showbackground\":true,\"ticks\":\"\",\"zerolinecolor\":\"white\",\"gridwidth\":2},\"yaxis\":{\"backgroundcolor\":\"#E5ECF6\",\"gridcolor\":\"white\",\"linecolor\":\"white\",\"showbackground\":true,\"ticks\":\"\",\"zerolinecolor\":\"white\",\"gridwidth\":2},\"zaxis\":{\"backgroundcolor\":\"#E5ECF6\",\"gridcolor\":\"white\",\"linecolor\":\"white\",\"showbackground\":true,\"ticks\":\"\",\"zerolinecolor\":\"white\",\"gridwidth\":2}},\"shapedefaults\":{\"line\":{\"color\":\"#2a3f5f\"}},\"annotationdefaults\":{\"arrowcolor\":\"#2a3f5f\",\"arrowhead\":0,\"arrowwidth\":1},\"geo\":{\"bgcolor\":\"white\",\"landcolor\":\"#E5ECF6\",\"subunitcolor\":\"white\",\"showland\":true,\"showlakes\":true,\"lakecolor\":\"white\"},\"title\":{\"x\":0.05},\"mapbox\":{\"style\":\"light\"}}},\"xaxis\":{\"anchor\":\"y\",\"domain\":[0.0,1.0],\"title\":{\"text\":\"evento\"}},\"yaxis\":{\"anchor\":\"x\",\"domain\":[0.0,1.0],\"title\":{\"text\":\"sum of y\"}},\"legend\":{\"tracegroupgap\":0},\"margin\":{\"t\":60},\"barmode\":\"group\",\"bargap\":0.2},                        {\"responsive\": true}                    ).then(function(){\n",
       "                            \n",
       "var gd = document.getElementById('00dbc4e7-8ed6-4ae8-977f-67714ffc9a6c');\n",
       "var x = new MutationObserver(function (mutations, observer) {{\n",
       "        var display = window.getComputedStyle(gd).display;\n",
       "        if (!display || display === 'none') {{\n",
       "            console.log([gd, 'removed!']);\n",
       "            Plotly.purge(gd);\n",
       "            observer.disconnect();\n",
       "        }}\n",
       "}});\n",
       "\n",
       "// Listen for the removal of the full notebook cells\n",
       "var notebookContainer = gd.closest('#notebook-container');\n",
       "if (notebookContainer) {{\n",
       "    x.observe(notebookContainer, {childList: true});\n",
       "}}\n",
       "\n",
       "// Listen for the clearing of the current output cell\n",
       "var outputEl = gd.closest('.output');\n",
       "if (outputEl) {{\n",
       "    x.observe(outputEl, {childList: true});\n",
       "}}\n",
       "\n",
       "                        })                };                });            </script>        </div>"
      ]
     },
     "metadata": {},
     "output_type": "display_data"
    }
   ],
   "source": [
    "fig = px.histogram(numero_chamados, x=\"evento\", y= media, barmode='group', text_auto= True)\n",
    "fig.update_layout(bargap=0.2)\n",
    "fig.show()"
   ]
  },
  {
   "cell_type": "markdown",
   "metadata": {},
   "source": [
    "### 10) Compare as médias diárias de chamados abertos desse subtipo durante os eventos específicos (Reveillon, Carnaval e Rock in Rio) e a média diária de chamados abertos desse subtipo considerando todo o período de 01/01/2022 até 31/12/2023."
   ]
  },
  {
   "cell_type": "code",
   "execution_count": 61,
   "metadata": {},
   "outputs": [],
   "source": [
    "media_Total = round(len(df_query) / ((pd.to_datetime('2023-12-31') - pd.to_datetime('2022-01-01')).days),2)"
   ]
  },
  {
   "cell_type": "code",
   "execution_count": 71,
   "metadata": {},
   "outputs": [
    {
     "name": "stdout",
     "output_type": "stream",
     "text": [
      "             Média dos Eventos  Média do período (22/23)\n",
      "evento                                                  \n",
      "Carnaval                 60.25                     58.17\n",
      "Reveillon                45.67                     58.17\n",
      "Rock in Rio             119.14                     58.17\n"
     ]
    }
   ],
   "source": [
    "tabela = pd.DataFrame({\n",
    "    'Média dos Eventos': media,\n",
    "    'Média do período (22/23)': media_Total\n",
    "})\n",
    "\n",
    "print(tabela)"
   ]
  }
 ],
 "metadata": {
  "kernelspec": {
   "display_name": "base",
   "language": "python",
   "name": "python3"
  },
  "language_info": {
   "codemirror_mode": {
    "name": "ipython",
    "version": 3
   },
   "file_extension": ".py",
   "mimetype": "text/x-python",
   "name": "python",
   "nbconvert_exporter": "python",
   "pygments_lexer": "ipython3",
   "version": "3.9.13"
  }
 },
 "nbformat": 4,
 "nbformat_minor": 2
}
